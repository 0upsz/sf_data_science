{
 "cells": [
  {
   "cell_type": "markdown",
   "id": "4e55e733",
   "metadata": {},
   "source": [
    "# ФУНКЦИИ"
   ]
  },
  {
   "cell_type": "markdown",
   "id": "08807ae9",
   "metadata": {},
   "source": [
    "# ОБРАБОТКА НЕИЗВЕСТНОГО ЗАРАНЕЕ ЧИСЛА АРГУМЕНТОВ В PYTHON"
   ]
  },
  {
   "cell_type": "markdown",
   "id": "f41495ff",
   "metadata": {},
   "source": [
    "# *args - оператор распаковки"
   ]
  },
  {
   "cell_type": "code",
   "execution_count": 2,
   "id": "fe447b63",
   "metadata": {},
   "outputs": [
    {
     "name": "stdout",
     "output_type": "stream",
     "text": [
      "4.0\n"
     ]
    }
   ],
   "source": [
    "# *args. Здесь * — это не символ умножения, а оператор распаковки. Все порядковые аргументы будут записаны в переменную args. \n",
    "# Args — это принятое в Python обозначение для порядковых аргументов, однако можно называть эту переменную любым другим \n",
    "# подходящим образом. Например, конкретно для функции mean логично переименовать переменную args в numbers (от англ. «числа»):\n",
    "\n",
    "def mean(*numbers):\n",
    "    result = sum(numbers) / len(numbers)\n",
    "    return result\n",
    " \n",
    "print(mean(5,4,4,3))"
   ]
  },
  {
   "cell_type": "code",
   "execution_count": 3,
   "id": "073dc670",
   "metadata": {},
   "outputs": [
    {
     "name": "stdout",
     "output_type": "stream",
     "text": [
      "True\n",
      "(5, 4, 4, 3)\n",
      "4.0\n"
     ]
    }
   ],
   "source": [
    "#Какой же тип данных скрывается за объектом numbers в теле функции?\n",
    "\n",
    "#Это кортеж (tuple):\n",
    "\n",
    "def mean(*numbers):\n",
    "    # С помощью встроенной функции isinstance\n",
    "    # проверим, что numbers — это tuple\n",
    "    print(isinstance(numbers, tuple))\n",
    "    # Напечатаем содержимое объекта numbers\n",
    "    print(numbers)\n",
    "    result = sum(numbers) / len(numbers)\n",
    "    return result\n",
    " \n",
    "print(mean(5,4,4,3))"
   ]
  },
  {
   "cell_type": "code",
   "execution_count": null,
   "id": "fa513283",
   "metadata": {},
   "outputs": [],
   "source": [
    "После аргументов, записанных через *args, не могут идти другие порядковые аргументы:\n",
    "Bсе аргументы, следующие за конструкцией с оператором *, считаются именованными."
   ]
  },
  {
   "cell_type": "code",
   "execution_count": 9,
   "id": "5fb91630",
   "metadata": {},
   "outputs": [
    {
     "name": "stdout",
     "output_type": "stream",
     "text": [
      "150\n"
     ]
    }
   ],
   "source": [
    "# Напишите функцию mult, которая считает произведение переданных в неё чисел через запятую.\n",
    "\n",
    "#Особое указание: посчитайте результат с использованием цикла for.\n",
    "\n",
    "#После создания функции воспользуйтесь следующим кодом для самопроверки:\n",
    "\n",
    "    \n",
    "def mult(*numbers):\n",
    "    proizv=1\n",
    "    for i in numbers:\n",
    "        proizv=proizv*i\n",
    "        \n",
    "    return proizv\n",
    "\n",
    "print(mult(3,5,10))\n",
    "# Должно быть напечатано:\n",
    "# 150"
   ]
  },
  {
   "cell_type": "code",
   "execution_count": null,
   "id": "f65c3067",
   "metadata": {},
   "outputs": [],
   "source": [
    "Оператор распаковки * можно использовать и для передачи значений из списка в функцию\n",
    "langs = ['Python', 'SQL', 'Machine Learning', 'Statistics']\n",
    "\n",
    "print(*langs)\n",
    "# Будет напечатано:\n",
    "# Python SQL Machine Learning Statistics\n",
    "\n",
    "print(langs)\n",
    "# Будет напечатано:\n",
    "# ['Python', 'SQL', 'Machine Learning', 'Statistics']\n",
    "\n",
    "Получается, что теперь функция print получила аргументы уже не в виде списка, а в виде перечисленных в функции \n",
    "нескольких порядковых аргументов.\n",
    "\n",
    "Оператор * удобно использовать для печати списков в более читабельном виде."
   ]
  },
  {
   "cell_type": "code",
   "execution_count": 11,
   "id": "2b677f08",
   "metadata": {},
   "outputs": [
    {
     "name": "stdout",
     "output_type": "stream",
     "text": [
      "Python, SQL, Machine Learning, Statistics\n"
     ]
    }
   ],
   "source": [
    "# Напечатайте список langs с использованием *, как в примере выше, но через запятую с пробелом.\n",
    "langs = ['Python', 'SQL', 'Machine Learning', 'Statistics']\n",
    "print(*langs, sep=', ')\n",
    "# Должно быть напечатано:\n",
    "# Python, SQL, Machine Learning, Statistics"
   ]
  },
  {
   "cell_type": "code",
   "execution_count": 18,
   "id": "d87d4d99",
   "metadata": {},
   "outputs": [
    {
     "name": "stdout",
     "output_type": "stream",
     "text": [
      "Kuza: 4.454545454545454\n"
     ]
    }
   ],
   "source": [
    "marks = [4,5,5,5,5,3,4,4,5,4,5]\n",
    "#Передайте в функцию mean_mark, которая была создана в начале данного подраздела юнита, этот список, а также\n",
    "#фамилию студента Kuznetsov с помощью оператора распаковки.\n",
    "\n",
    "#Функция mean_mark продублирована:\n",
    "\n",
    "def mean_mark(name, *marks):\n",
    "    result = sum(marks) / len(marks)\n",
    "    # Не возвращаем результат, а печатаем его\n",
    "    print(name+':', result)\n",
    "\n",
    "mean_mark(\"Kuza\", *marks)\n",
    "# Должно быть напечатано:\n",
    "# Kuznetsov: 4.454545454545454"
   ]
  },
  {
   "cell_type": "markdown",
   "id": "281a2899",
   "metadata": {},
   "source": [
    "# **kwargs -передавать разное число именованных аргументов"
   ]
  },
  {
   "cell_type": "code",
   "execution_count": null,
   "id": "ec18c369",
   "metadata": {},
   "outputs": [],
   "source": [
    " с помощью ещё одного оператора распаковки — двух звёздочек подряд (**).\n",
    "\n",
    "Переменная kwargs — стандартное название для совокупности именованных аргументов в Python \n",
    "(сокр. от англ. keyword arguments — «именованные аргументы»).\n",
    "\n",
    "Однако вместо kwargs можно использовать любое другое адекватное название переменной."
   ]
  },
  {
   "cell_type": "code",
   "execution_count": 19,
   "id": "49012afd",
   "metadata": {},
   "outputs": [
    {
     "name": "stdout",
     "output_type": "stream",
     "text": [
      "True\n",
      "{'monday': 'Python', 'tuesday': 'SQL', 'friday': 'ML'}\n"
     ]
    }
   ],
   "source": [
    "def schedule(**kwargs):\n",
    "    # kwargs — это словарь, проверим это с помощью isinstance:\n",
    "    print(isinstance(kwargs, dict))\n",
    "    # Напечатаем объект kwargs\n",
    "    print(kwargs)\n",
    " \n",
    "schedule(monday='Python', tuesday='SQL', friday='ML')"
   ]
  },
  {
   "cell_type": "code",
   "execution_count": null,
   "id": "a176a67e",
   "metadata": {},
   "outputs": [],
   "source": [
    "С помощью оператора ** можно передавать в функцию нескольких аргументов. Он используется для передачи именованных аргументов \n",
    "с помощью словаря, который в дальнейшем будет распакован. Кроме того, оператор ** является оператором распаковки, только для\n",
    "словарей. Ключами словаря выступают названия аргументов, а значениями — те значения аргументов, которые должны быть им присвоены"
   ]
  },
  {
   "cell_type": "code",
   "execution_count": null,
   "id": "a95dcbdc",
   "metadata": {},
   "outputs": [],
   "source": [
    "Напечатаем три списка с помощью print: значения внутри списка разделим запятой, а сами списки — точкой с запятой. \n",
    "    Для этого один раз создадим словарь how, в котором будут храниться значения, присваиваемые в дальнейшем аргументам \n",
    "    sep и end.\n",
    "\n",
    "Когда мы распакуем словарь в print, поведение функции будет аналогично тому, что мы бы получили при использовании функции\n",
    "print в виде:\n",
    "\n",
    "print(*list1, sep=', ', end='; ')\n",
    "\n",
    "list1 = [1,4,6,8]\n",
    "list2 = [12, 45, 56, 190, 111]\n",
    "list3 = ['Python', 'Functions']\n",
    " \n",
    "# Один раз запишем в словарь параметры для печати\n",
    "# через print: разделитель — запятая,\n",
    "# окончание строки — точка с запятой\n",
    "how = {'sep': ', ', 'end': '; '}\n",
    " \n",
    "# Распаковываем и список, и словарь how\n",
    "print(*list1, **how)\n",
    "print(*list2, **how)\n",
    "print(*list3, **how)"
   ]
  },
  {
   "cell_type": "markdown",
   "id": "e41019c6",
   "metadata": {},
   "source": [
    "# lambda"
   ]
  },
  {
   "cell_type": "code",
   "execution_count": null,
   "id": "c89e42e0",
   "metadata": {},
   "outputs": [],
   "source": [
    "names.sort(key=lambda name: len(name))\n",
    "print(names)\n",
    "# Будет напечатано:\n",
    "# ['Kim', 'Ivan', 'Simon', 'German', 'Margarita']\n"
   ]
  },
  {
   "cell_type": "code",
   "execution_count": null,
   "id": "224ac3c3",
   "metadata": {},
   "outputs": [],
   "source": [
    "В качестве упражнения попробуйте переписать использованную lambda-функцию в классический вид (с def). Назовите её get_length.\n",
    "\n",
    "Затем воспользуйтесь полученной функцией для сортировки списка:\n",
    "\n",
    "new_list = ['bbb', 'ababa','aaa', 'aaaaa',  'cc']\n",
    "new_list.sort(key=get_length)\n",
    "print(new_list)\n",
    "# Должно быть напечатано:\n",
    "# ['cc', 'bbb', 'aaa', 'ababa', 'aaaaa']"
   ]
  },
  {
   "cell_type": "code",
   "execution_count": 21,
   "id": "b5403b91",
   "metadata": {},
   "outputs": [
    {
     "name": "stdout",
     "output_type": "stream",
     "text": [
      "['cc', 'bbb', 'aaa', 'ababa', 'aaaaa']\n"
     ]
    }
   ],
   "source": [
    "def name(a):\n",
    "    return len(a)\n",
    "\n",
    "\n",
    "new_list = ['bbb', 'ababa','aaa', 'aaaaa',  'cc']\n",
    "new_list.sort(key=name)\n",
    "print(new_list)"
   ]
  },
  {
   "cell_type": "code",
   "execution_count": 163,
   "id": "0e76b2b9",
   "metadata": {},
   "outputs": [
    {
     "name": "stdout",
     "output_type": "stream",
     "text": [
      "['cc', 'bbb', 'aaa', 'ababa', 'aaaaa']\n"
     ]
    }
   ],
   "source": [
    "new_list = ['bbb', 'ababa','aaa', 'aaaaa',  'cc']\n",
    "def get_lenght(word):\n",
    "    return len(word)\n",
    "new_list.sort(key=get_lenght)\n",
    "print(new_list)\n"
   ]
  },
  {
   "cell_type": "code",
   "execution_count": 23,
   "id": "d63e2748",
   "metadata": {},
   "outputs": [
    {
     "data": {
      "text/plain": [
       "['cc', 'bbb', 'aaa', 'ababa', 'aaaaa']"
      ]
     },
     "execution_count": 23,
     "metadata": {},
     "output_type": "execute_result"
    }
   ],
   "source": [
    "new_list"
   ]
  },
  {
   "cell_type": "code",
   "execution_count": 164,
   "id": "84d91c9c",
   "metadata": {},
   "outputs": [
    {
     "data": {
      "text/plain": [
       "5"
      ]
     },
     "execution_count": 164,
     "metadata": {},
     "output_type": "execute_result"
    }
   ],
   "source": [
    "len(new_list)"
   ]
  },
  {
   "cell_type": "code",
   "execution_count": 30,
   "id": "5cd8fb93",
   "metadata": {},
   "outputs": [
    {
     "data": {
      "text/plain": [
       "['cc', 'aaa', 'bbb', 'aaaaa', 'ababa']"
      ]
     },
     "execution_count": 30,
     "metadata": {},
     "output_type": "execute_result"
    }
   ],
   "source": [
    "new_list.sort(key=lambda word: (len(word), word))\n",
    "new_list\n",
    "    "
   ]
  },
  {
   "cell_type": "code",
   "execution_count": null,
   "id": "ab6e14d2",
   "metadata": {},
   "outputs": [],
   "source": [
    "Напишите lambda-функцию для расчёта гипотенузы прямоугольного треугольника: она принимает на вход длины двух катетов\n",
    "и возвращает длину гипотенузы (третьей, самой длинной стороны прямоугольного треугольника).\n",
    "\n",
    "Формула: , где  и  — длины катетов,  — длина гипотенузы. Сохраните эту функцию в переменную hyp.\n",
    "\n",
    "Пример работы функции:\n",
    "\n",
    "print(hyp(3,4))\n",
    "print(hyp(1,9))\n",
    "# 5.0\n",
    "# 9.055385138137417"
   ]
  },
  {
   "cell_type": "code",
   "execution_count": 33,
   "id": "cb01e810",
   "metadata": {},
   "outputs": [],
   "source": [
    "hyp=lambda a,b: ((a**2)+(b**2))**(1/2)"
   ]
  },
  {
   "cell_type": "code",
   "execution_count": null,
   "id": "3d19fd86",
   "metadata": {},
   "outputs": [],
   "source": []
  },
  {
   "cell_type": "code",
   "execution_count": null,
   "id": "784ff178",
   "metadata": {},
   "outputs": [],
   "source": [
    "Напишите функцию sort_sides, которая сортирует переданный в неё список.\n",
    "\n",
    "Входной список состоит из кортежей с парами чисел — длинами катетов прямоугольных треугольников.\n",
    "\n",
    "Функция должна возвращать список, отсортированный по возрастанию длин гипотенуз треугольников.\n",
    "\n",
    "Примечание: вам пригодится lambda-функция из предыдущего задания. При этом вам потребуется заменить lambda от 2 аргументов\n",
    "    на lambda от одного аргумента и обращаться к элементам кортежа уже при вычислении гипотенузы.\n",
    "\n",
    "Пример работы функции:\n",
    "\n",
    "print(sort_sides([(3,4), (1,2), (10,10)]))\n",
    "# [(1, 2), (3, 4), (10, 10)]"
   ]
  },
  {
   "cell_type": "code",
   "execution_count": 51,
   "id": "6a2b85f3",
   "metadata": {},
   "outputs": [
    {
     "name": "stdout",
     "output_type": "stream",
     "text": [
      "[(1, 2), (3, 4), (10, 10)]\n"
     ]
    }
   ],
   "source": [
    "sides=[(3,4), (1,2), (10,10)]\n",
    "\n",
    "sides.sort(key=hyp)\n",
    "print(sides)"
   ]
  },
  {
   "cell_type": "code",
   "execution_count": null,
   "id": "f43408b7",
   "metadata": {},
   "outputs": [],
   "source": []
  },
  {
   "cell_type": "code",
   "execution_count": 48,
   "id": "bbdb9e74",
   "metadata": {},
   "outputs": [],
   "source": [
    "def hyp(x):\n",
    "    return ((x[0]**2)+(x[1]**2))**(1/2)\n",
    "    "
   ]
  },
  {
   "cell_type": "code",
   "execution_count": null,
   "id": "956ca327",
   "metadata": {},
   "outputs": [],
   "source": [
    "Напишите функцию get_less, которая принимает на вход через запятую список, состоящий из чисел, и ещё одно число. \n",
    "\n",
    "Функция должна вернуть первое найденное число из списка, которое меньше переданного во втором аргументе. Если такого ч\n",
    "исла нет, необходимо вернуть None.\n",
    "\n",
    "Пример:\n",
    "\n",
    "l = [1, 5, 8,  10]\n",
    "print(get_less(l, 8))\n",
    "# 1\n",
    " \n",
    "print(get_less(l, 0))\n",
    "# None"
   ]
  },
  {
   "cell_type": "code",
   "execution_count": 72,
   "id": "9c7fb052",
   "metadata": {},
   "outputs": [],
   "source": [
    "def get_less(l, numer):\n",
    "    for i in l:\n",
    "        if i<numer:\n",
    "            return i\n",
    "        else:\n",
    "            return None"
   ]
  },
  {
   "cell_type": "code",
   "execution_count": 74,
   "id": "02bc5598",
   "metadata": {},
   "outputs": [
    {
     "name": "stdout",
     "output_type": "stream",
     "text": [
      "None\n"
     ]
    }
   ],
   "source": [
    "l = [1, 5, 8,  10]\n",
    "print(get_less(l, 1))"
   ]
  },
  {
   "cell_type": "code",
   "execution_count": null,
   "id": "cd2c0ae1",
   "metadata": {},
   "outputs": [],
   "source": [
    "Напишите функцию split_date(date), которая принимает на вход строку, задающую дату, в формате ддммгггг без \n",
    "разделителей. Функция должна вернуть кортеж из чисел (int): день, месяц, год.\n",
    "\n",
    "Примечание. Здесь вам пригодятся срезы строк.\n",
    "\n",
    "Пример:\n",
    "\n",
    "print(split_date(\"31012019\"))\n",
    "# (31, 1, 2019)"
   ]
  },
  {
   "cell_type": "code",
   "execution_count": 77,
   "id": "040f30d9",
   "metadata": {},
   "outputs": [
    {
     "name": "stdout",
     "output_type": "stream",
     "text": [
      "(31, 1, 2019)\n"
     ]
    }
   ],
   "source": [
    "def split_date(date):\n",
    "    a=date[0:2]\n",
    "    b=date[2:4]\n",
    "    c=date[4:]\n",
    "    return (int(a),int(b),int(c))\n",
    "print(split_date(\"31012019\"))"
   ]
  },
  {
   "cell_type": "code",
   "execution_count": null,
   "id": "5307b269",
   "metadata": {},
   "outputs": [],
   "source": [
    "Напишите функцию is_prime(num), которая проверяет, является ли число простым.\n",
    "\n",
    "Функция должна вернуть True, если число простое, иначе — False.\n",
    "\n",
    "Примечание. Простым называют число, которое делится только на 1 или на само себя. Число 1 простым не является.\n",
    "\n",
    "Пример:\n",
    "\n",
    "print(is_prime(1))\n",
    "print(is_prime(10))\n",
    "print(is_prime(13))"
   ]
  },
  {
   "cell_type": "code",
   "execution_count": 78,
   "id": "bec8d849",
   "metadata": {},
   "outputs": [],
   "source": [
    "def is_prime(num):\n",
    "    if num==1:\n",
    "        return False\n",
    "    if num%2==0 or num%3==0 or num%5==0 or num%7==0:\n",
    "        return False\n",
    "    else:\n",
    "        return True"
   ]
  },
  {
   "cell_type": "code",
   "execution_count": 79,
   "id": "ea86cf57",
   "metadata": {},
   "outputs": [
    {
     "name": "stdout",
     "output_type": "stream",
     "text": [
      "False\n",
      "False\n",
      "True\n"
     ]
    }
   ],
   "source": [
    "print(is_prime(1))\n",
    "print(is_prime(10))\n",
    "print(is_prime(13))"
   ]
  },
  {
   "cell_type": "code",
   "execution_count": null,
   "id": "514274b9",
   "metadata": {},
   "outputs": [],
   "source": [
    "Напишите функцию between_min_max(...), которая принимает на вход числа через запятую.\n",
    "\n",
    "Функция возвращает среднее арифметическое между максимальным и минимальным значением этих чисел, то есть (max + min)/2.\n",
    "\n",
    "Пример:\n",
    "\n",
    "print(between_min_max(10))\n",
    "print(between_min_max(1,2,3,4,5))\n",
    "# 10.0\n",
    "# 3.0\n"
   ]
  },
  {
   "cell_type": "code",
   "execution_count": 94,
   "id": "ae367f68",
   "metadata": {},
   "outputs": [
    {
     "name": "stdout",
     "output_type": "stream",
     "text": [
      "10.0\n",
      "3.0\n"
     ]
    }
   ],
   "source": [
    "def between_min_max(*arg):\n",
    "    \n",
    "    return (max(arg) + min(arg))/2\n",
    "print(between_min_max(10))\n",
    "print(between_min_max(1,2,3,4,5))"
   ]
  },
  {
   "cell_type": "code",
   "execution_count": 144,
   "id": "85fab976",
   "metadata": {},
   "outputs": [
    {
     "data": {
      "text/plain": [
       "3.0"
      ]
     },
     "execution_count": 144,
     "metadata": {},
     "output_type": "execute_result"
    }
   ],
   "source": [
    "between_min_max=lambda *args: (max(args)+min(args))/2\n",
    "between_min_max(1,2,3,4,5)"
   ]
  },
  {
   "cell_type": "markdown",
   "id": "2c3364b7",
   "metadata": {},
   "source": [
    "# dict.items() Возвращает пары (ключ, значение) для каждого элемента словаря."
   ]
  },
  {
   "cell_type": "code",
   "execution_count": null,
   "id": "ab689ad6",
   "metadata": {},
   "outputs": [],
   "source": [
    "Напишите функцию best_student(...), которая принимает на вход в виде именованных аргументов фамилии студентов и их\n",
    "номера в рейтинге (нагляднее в примере).\n",
    "\n",
    "Необходимо вернуть фамилию студента с минимальным номером по рейтингу.\n",
    "\n",
    "Пример:\n",
    "\n",
    "print(best_student(Tom=12, Mike=3))\n",
    "print(best_student(Tom=12))\n",
    "print(best_student(Tom=12, Jerry=1, Jane=2))"
   ]
  },
  {
   "cell_type": "code",
   "execution_count": 132,
   "id": "ba79cfa5",
   "metadata": {},
   "outputs": [
    {
     "name": "stdout",
     "output_type": "stream",
     "text": [
      "Mike\n",
      "Tom\n",
      "Jerry\n"
     ]
    }
   ],
   "source": [
    "def best_student(**kwarg):\n",
    "    best_stud=None\n",
    "    best_rating=None\n",
    "    for (stud, rating) in kwarg.items():\n",
    "        if best_stud==None:\n",
    "            best_stud=stud\n",
    "            best_rating=rating\n",
    "        if rating<best_rating:\n",
    "            best_rating=rating\n",
    "            best_stud=stud\n",
    "    return best_stud\n",
    "print(best_student(Tom=12, Mike=3))\n",
    "print(best_student(Tom=12))\n",
    "print(best_student(Tom=12, Jerry=1, Jane=2))"
   ]
  },
  {
   "cell_type": "markdown",
   "id": "7870ca2e",
   "metadata": {},
   "source": [
    " my_dict = {'a': 1, 'b': 2, 'c': 3}\n",
    "my_dict.items()  # dict_items([('a', 1), ('b', 2), ('c', 3)])\n",
    "#my_dict.items()[1]  # 'dict_items' object does not support indexing\n",
    "list(my_dict.items())[0]  # ('a', 1)"
   ]
  },
  {
   "cell_type": "code",
   "execution_count": null,
   "id": "507d0cd2",
   "metadata": {},
   "outputs": [],
   "source": []
  },
  {
   "cell_type": "code",
   "execution_count": 209,
   "id": "6dac40a2",
   "metadata": {},
   "outputs": [
    {
     "ename": "SyntaxError",
     "evalue": "invalid syntax (Temp/ipykernel_12636/4194881565.py, line 1)",
     "output_type": "error",
     "traceback": [
      "\u001b[1;36m  File \u001b[1;32m\"C:\\Users\\tanya\\AppData\\Local\\Temp/ipykernel_12636/4194881565.py\"\u001b[1;36m, line \u001b[1;32m1\u001b[0m\n\u001b[1;33m    Напишите lambda-функцию is_palindrom, которая принимает на вход одну строку и проверяет, является ли она палиндромом, то есть читается ли она слева-направо и справа-налево одинаково.\u001b[0m\n\u001b[1;37m             ^\u001b[0m\n\u001b[1;31mSyntaxError\u001b[0m\u001b[1;31m:\u001b[0m invalid syntax\n"
     ]
    }
   ],
   "source": [
    "Напишите lambda-функцию is_palindrom, которая принимает на вход одну строку и проверяет, является ли она палиндромом, то есть читается ли она слева-направо и справа-налево одинаково.\n",
    "\n",
    "Функция возвращает 'yes', если строка является палиндромом, иначе — 'no'.\n",
    "\n",
    "Примечание. Не пытайтесь схитрить — в тест включена проверка на то, что функция действительно является lambda.\n",
    "\n",
    "Пример:\n",
    "\n",
    "print(is_palindrom('1234'))\n",
    "print(is_palindrom('12321'))"
   ]
  },
  {
   "cell_type": "code",
   "execution_count": 141,
   "id": "edf0ce4b",
   "metadata": {},
   "outputs": [
    {
     "data": {
      "text/plain": [
       "'yes'"
      ]
     },
     "execution_count": 141,
     "metadata": {},
     "output_type": "execute_result"
    }
   ],
   "source": [
    "is_palindrom=lambda stroka: 'yes' if stroka==stroka[::-1] else 'no'\n",
    "is_palindrom('asdsa')"
   ]
  },
  {
   "cell_type": "code",
   "execution_count": null,
   "id": "af46d900",
   "metadata": {},
   "outputs": [],
   "source": [
    "Напишите lambda-функцию area, которая принимает на вход два числа — стороны прямоугольника — через запятую и возвращает\n",
    "площадь прямоугольника.\n",
    "\n",
    "Пример:\n",
    "\n",
    "print(area(12,5))"
   ]
  },
  {
   "cell_type": "code",
   "execution_count": 142,
   "id": "8e1b0c72",
   "metadata": {},
   "outputs": [
    {
     "data": {
      "text/plain": [
       "60"
      ]
     },
     "execution_count": 142,
     "metadata": {},
     "output_type": "execute_result"
    }
   ],
   "source": [
    "area=lambda x,y: x*y\n",
    "area(12,5)"
   ]
  },
  {
   "cell_type": "code",
   "execution_count": null,
   "id": "e35d8531",
   "metadata": {},
   "outputs": [],
   "source": [
    "Перепишите функцию between_min_max из задания 7.12 в lambda-функцию. Функция принимает на вход числа через запятую и возвращает одно число — среднее между максимумом и минимумом этих чисел.\n",
    "\n",
    "Пример:\n",
    "\n",
    "print(between_min_max(1,2,3,4,5))"
   ]
  },
  {
   "cell_type": "code",
   "execution_count": null,
   "id": "1ac47e50",
   "metadata": {},
   "outputs": [],
   "source": [
    "Напишите функцию sort_ignore_case, которая принимает на вход список и сортирует его без учёта регистра по алфавиту.\n",
    "\n",
    "Функция возвращает отсортированный список.\n",
    "\n",
    "Пример:\n",
    "\n",
    "print(sort_ignore_case(['Acc', 'abc']))\n",
    "# ['abc', 'Acc']"
   ]
  },
  {
   "cell_type": "code",
   "execution_count": 205,
   "id": "b8ff81f9",
   "metadata": {},
   "outputs": [],
   "source": [
    "def sort_ignore_case(a):\n",
    "    a.sort(key=lambda x: x.lower())\n",
    "    return a"
   ]
  },
  {
   "cell_type": "code",
   "execution_count": 206,
   "id": "63d9bf09",
   "metadata": {},
   "outputs": [
    {
     "name": "stdout",
     "output_type": "stream",
     "text": [
      "['abc', 'Acc']\n"
     ]
    }
   ],
   "source": [
    "print(sort_ignore_case(['Acc', 'abc']))"
   ]
  },
  {
   "cell_type": "code",
   "execution_count": null,
   "id": "b6b031c3",
   "metadata": {},
   "outputs": [],
   "source": [
    "\n",
    "Напишите функцию exchange(usd, rub, rate), которая может принимать на вход сумму в долларах (usd), сумму в рублях (rub) и\n",
    "обменный курс (rate). Обменный курс показывает, сколько стоит один доллар. Например, курс 85.46 означает, что один доллар\n",
    "стоит 85 рублей и 46 копеек.\n",
    "\n",
    "В функцию должно одновременно передавать два аргумента. Если передано менее двух аргументов, должна возникнуть ошибка\n",
    "ValueError('Not enough arguments'). Если же передано три аргумента, должна возникнуть ошибка: ValueError('Too many arguments').\n",
    "    \n",
    "\n",
    "Функция должна находить третий аргумент по двум переданным. Например, если переданы суммы в разных валютах, должен возвращаться\n",
    "обменный курс. Если известны сумма в рублях и курс, должна быть получена эквивалентная сумма в долларах, аналогично — если \n",
    "передана сумма в долларах и обменный курс.\n",
    "\n",
    "Пример:\n",
    "\n",
    "print(exchange(usd=100, rub=8500))\n",
    "print(exchange(usd=100, rate=85))\n",
    "print(exchange(rub=1000, rate=85))\n",
    "# 85.0\n",
    "# 8500\n",
    "# 11.764705882352942\n",
    "print(exchange(rub=1000, rate=85, usd=90))\n",
    "# ValueError: Too many arguments\n",
    "print(exchange(rub=1000))\n",
    "# ValueError: Not enough arguments"
   ]
  },
  {
   "cell_type": "code",
   "execution_count": null,
   "id": "1ecfc88d",
   "metadata": {},
   "outputs": [],
   "source": [
    "def exchange(usd=0, rub, rate):\n",
    "    rate=rub/usd\n",
    "    usd=rate/rub\n",
    "    rub=usd*rate\n",
    "    "
   ]
  },
  {
   "cell_type": "code",
   "execution_count": 303,
   "id": "2cc87e43",
   "metadata": {},
   "outputs": [],
   "source": [
    "def exchange(usd=None, rub=None, rate=None):\n",
    "    if usd!=None and rub!=None and rate!=None:\n",
    "        raise ValueError('Too many arguments')\n",
    "    if usd==None and rub==None and rate!=None: \n",
    "         raise ValueError('Not enough arguments')\n",
    "    if (rub==None and rate==None and usd!=None):\n",
    "         raise ValueError('Not enough arguments')\n",
    "    if (usd==None and rub!=None and rate==None):\n",
    "        raise ValueError('Not enough arguments')\n",
    "    if rub!=None and usd!=None and rate==None:\n",
    "        rate=rub/usd\n",
    "        return rate\n",
    "    if rub!=None and usd==None and rate!=None:\n",
    "            usd=rub/rate\n",
    "            return usd\n",
    "    if rub==None and usd!=None and rate!=None:\n",
    "        rub=usd*rate\n",
    "        return rub\n",
    "    \n",
    "    "
   ]
  },
  {
   "cell_type": "code",
   "execution_count": 304,
   "id": "595712ac",
   "metadata": {},
   "outputs": [
    {
     "name": "stdout",
     "output_type": "stream",
     "text": [
      "85.0\n",
      "8500\n",
      "11.764705882352942\n"
     ]
    },
    {
     "ename": "ValueError",
     "evalue": "Too many arguments",
     "output_type": "error",
     "traceback": [
      "\u001b[1;31m---------------------------------------------------------------------------\u001b[0m",
      "\u001b[1;31mValueError\u001b[0m                                Traceback (most recent call last)",
      "\u001b[1;32m~\\AppData\\Local\\Temp/ipykernel_12636/3208668290.py\u001b[0m in \u001b[0;36m<module>\u001b[1;34m\u001b[0m\n\u001b[0;32m      2\u001b[0m \u001b[0mprint\u001b[0m\u001b[1;33m(\u001b[0m\u001b[0mexchange\u001b[0m\u001b[1;33m(\u001b[0m\u001b[0musd\u001b[0m\u001b[1;33m=\u001b[0m\u001b[1;36m100\u001b[0m\u001b[1;33m,\u001b[0m \u001b[0mrate\u001b[0m\u001b[1;33m=\u001b[0m\u001b[1;36m85\u001b[0m\u001b[1;33m)\u001b[0m\u001b[1;33m)\u001b[0m\u001b[1;33m\u001b[0m\u001b[1;33m\u001b[0m\u001b[0m\n\u001b[0;32m      3\u001b[0m \u001b[0mprint\u001b[0m\u001b[1;33m(\u001b[0m\u001b[0mexchange\u001b[0m\u001b[1;33m(\u001b[0m\u001b[0mrub\u001b[0m\u001b[1;33m=\u001b[0m\u001b[1;36m1000\u001b[0m\u001b[1;33m,\u001b[0m \u001b[0mrate\u001b[0m\u001b[1;33m=\u001b[0m\u001b[1;36m85\u001b[0m\u001b[1;33m)\u001b[0m\u001b[1;33m)\u001b[0m\u001b[1;33m\u001b[0m\u001b[1;33m\u001b[0m\u001b[0m\n\u001b[1;32m----> 4\u001b[1;33m \u001b[0mprint\u001b[0m\u001b[1;33m(\u001b[0m\u001b[0mexchange\u001b[0m\u001b[1;33m(\u001b[0m\u001b[0mrub\u001b[0m\u001b[1;33m=\u001b[0m\u001b[1;36m1000\u001b[0m\u001b[1;33m,\u001b[0m \u001b[0mrate\u001b[0m\u001b[1;33m=\u001b[0m\u001b[1;36m85\u001b[0m\u001b[1;33m,\u001b[0m \u001b[0musd\u001b[0m\u001b[1;33m=\u001b[0m\u001b[1;36m90\u001b[0m\u001b[1;33m)\u001b[0m\u001b[1;33m)\u001b[0m\u001b[1;33m\u001b[0m\u001b[1;33m\u001b[0m\u001b[0m\n\u001b[0m\u001b[0;32m      5\u001b[0m \u001b[0mprint\u001b[0m\u001b[1;33m(\u001b[0m\u001b[0mexchange\u001b[0m\u001b[1;33m(\u001b[0m\u001b[0mrub\u001b[0m\u001b[1;33m=\u001b[0m\u001b[1;36m1000\u001b[0m\u001b[1;33m)\u001b[0m\u001b[1;33m)\u001b[0m\u001b[1;33m\u001b[0m\u001b[1;33m\u001b[0m\u001b[0m\n",
      "\u001b[1;32m~\\AppData\\Local\\Temp/ipykernel_12636/360332212.py\u001b[0m in \u001b[0;36mexchange\u001b[1;34m(usd, rub, rate)\u001b[0m\n\u001b[0;32m      1\u001b[0m \u001b[1;32mdef\u001b[0m \u001b[0mexchange\u001b[0m\u001b[1;33m(\u001b[0m\u001b[0musd\u001b[0m\u001b[1;33m=\u001b[0m\u001b[1;32mNone\u001b[0m\u001b[1;33m,\u001b[0m \u001b[0mrub\u001b[0m\u001b[1;33m=\u001b[0m\u001b[1;32mNone\u001b[0m\u001b[1;33m,\u001b[0m \u001b[0mrate\u001b[0m\u001b[1;33m=\u001b[0m\u001b[1;32mNone\u001b[0m\u001b[1;33m)\u001b[0m\u001b[1;33m:\u001b[0m\u001b[1;33m\u001b[0m\u001b[1;33m\u001b[0m\u001b[0m\n\u001b[0;32m      2\u001b[0m     \u001b[1;32mif\u001b[0m \u001b[0musd\u001b[0m\u001b[1;33m!=\u001b[0m\u001b[1;32mNone\u001b[0m \u001b[1;32mand\u001b[0m \u001b[0mrub\u001b[0m\u001b[1;33m!=\u001b[0m\u001b[1;32mNone\u001b[0m \u001b[1;32mand\u001b[0m \u001b[0mrate\u001b[0m\u001b[1;33m!=\u001b[0m\u001b[1;32mNone\u001b[0m\u001b[1;33m:\u001b[0m\u001b[1;33m\u001b[0m\u001b[1;33m\u001b[0m\u001b[0m\n\u001b[1;32m----> 3\u001b[1;33m         \u001b[1;32mraise\u001b[0m \u001b[0mValueError\u001b[0m\u001b[1;33m(\u001b[0m\u001b[1;34m'Too many arguments'\u001b[0m\u001b[1;33m)\u001b[0m\u001b[1;33m\u001b[0m\u001b[1;33m\u001b[0m\u001b[0m\n\u001b[0m\u001b[0;32m      4\u001b[0m     \u001b[1;32mif\u001b[0m \u001b[0musd\u001b[0m\u001b[1;33m==\u001b[0m\u001b[1;32mNone\u001b[0m \u001b[1;32mand\u001b[0m \u001b[0mrub\u001b[0m\u001b[1;33m==\u001b[0m\u001b[1;32mNone\u001b[0m \u001b[1;32mand\u001b[0m \u001b[0mrate\u001b[0m\u001b[1;33m!=\u001b[0m\u001b[1;32mNone\u001b[0m\u001b[1;33m:\u001b[0m\u001b[1;33m\u001b[0m\u001b[1;33m\u001b[0m\u001b[0m\n\u001b[0;32m      5\u001b[0m          \u001b[1;32mraise\u001b[0m \u001b[0mValueError\u001b[0m\u001b[1;33m(\u001b[0m\u001b[1;34m'Not enough arguments'\u001b[0m\u001b[1;33m)\u001b[0m\u001b[1;33m\u001b[0m\u001b[1;33m\u001b[0m\u001b[0m\n",
      "\u001b[1;31mValueError\u001b[0m: Too many arguments"
     ]
    }
   ],
   "source": [
    "print(exchange(usd=100, rub=8500))\n",
    "print(exchange(usd=100, rate=85))\n",
    "print(exchange(rub=1000, rate=85))\n",
    "print(exchange(rub=1000, rate=85, usd=90))\n",
    "print(exchange(rub=1000))"
   ]
  },
  {
   "cell_type": "code",
   "execution_count": 305,
   "id": "a11ea79b",
   "metadata": {},
   "outputs": [
    {
     "ename": "ValueError",
     "evalue": "Not enough arguments",
     "output_type": "error",
     "traceback": [
      "\u001b[1;31m---------------------------------------------------------------------------\u001b[0m",
      "\u001b[1;31mValueError\u001b[0m                                Traceback (most recent call last)",
      "\u001b[1;32m~\\AppData\\Local\\Temp/ipykernel_12636/517623215.py\u001b[0m in \u001b[0;36m<module>\u001b[1;34m\u001b[0m\n\u001b[1;32m----> 1\u001b[1;33m \u001b[0mprint\u001b[0m\u001b[1;33m(\u001b[0m\u001b[0mexchange\u001b[0m\u001b[1;33m(\u001b[0m\u001b[0mrub\u001b[0m\u001b[1;33m=\u001b[0m\u001b[1;36m1000\u001b[0m\u001b[1;33m)\u001b[0m\u001b[1;33m)\u001b[0m\u001b[1;33m\u001b[0m\u001b[1;33m\u001b[0m\u001b[0m\n\u001b[0m",
      "\u001b[1;32m~\\AppData\\Local\\Temp/ipykernel_12636/360332212.py\u001b[0m in \u001b[0;36mexchange\u001b[1;34m(usd, rub, rate)\u001b[0m\n\u001b[0;32m      7\u001b[0m          \u001b[1;32mraise\u001b[0m \u001b[0mValueError\u001b[0m\u001b[1;33m(\u001b[0m\u001b[1;34m'Not enough arguments'\u001b[0m\u001b[1;33m)\u001b[0m\u001b[1;33m\u001b[0m\u001b[1;33m\u001b[0m\u001b[0m\n\u001b[0;32m      8\u001b[0m     \u001b[1;32mif\u001b[0m \u001b[1;33m(\u001b[0m\u001b[0musd\u001b[0m\u001b[1;33m==\u001b[0m\u001b[1;32mNone\u001b[0m \u001b[1;32mand\u001b[0m \u001b[0mrub\u001b[0m\u001b[1;33m!=\u001b[0m\u001b[1;32mNone\u001b[0m \u001b[1;32mand\u001b[0m \u001b[0mrate\u001b[0m\u001b[1;33m==\u001b[0m\u001b[1;32mNone\u001b[0m\u001b[1;33m)\u001b[0m\u001b[1;33m:\u001b[0m\u001b[1;33m\u001b[0m\u001b[1;33m\u001b[0m\u001b[0m\n\u001b[1;32m----> 9\u001b[1;33m         \u001b[1;32mraise\u001b[0m \u001b[0mValueError\u001b[0m\u001b[1;33m(\u001b[0m\u001b[1;34m'Not enough arguments'\u001b[0m\u001b[1;33m)\u001b[0m\u001b[1;33m\u001b[0m\u001b[1;33m\u001b[0m\u001b[0m\n\u001b[0m\u001b[0;32m     10\u001b[0m     \u001b[1;32mif\u001b[0m \u001b[0mrub\u001b[0m\u001b[1;33m!=\u001b[0m\u001b[1;32mNone\u001b[0m \u001b[1;32mand\u001b[0m \u001b[0musd\u001b[0m\u001b[1;33m!=\u001b[0m\u001b[1;32mNone\u001b[0m \u001b[1;32mand\u001b[0m \u001b[0mrate\u001b[0m\u001b[1;33m==\u001b[0m\u001b[1;32mNone\u001b[0m\u001b[1;33m:\u001b[0m\u001b[1;33m\u001b[0m\u001b[1;33m\u001b[0m\u001b[0m\n\u001b[0;32m     11\u001b[0m         \u001b[0mrate\u001b[0m\u001b[1;33m=\u001b[0m\u001b[0mrub\u001b[0m\u001b[1;33m/\u001b[0m\u001b[0musd\u001b[0m\u001b[1;33m\u001b[0m\u001b[1;33m\u001b[0m\u001b[0m\n",
      "\u001b[1;31mValueError\u001b[0m: Not enough arguments"
     ]
    }
   ],
   "source": [
    "print(exchange(rub=1000))"
   ]
  },
  {
   "cell_type": "code",
   "execution_count": 306,
   "id": "dbd4fd3f",
   "metadata": {},
   "outputs": [
    {
     "ename": "ValueError",
     "evalue": "Too many arguments",
     "output_type": "error",
     "traceback": [
      "\u001b[1;31m---------------------------------------------------------------------------\u001b[0m",
      "\u001b[1;31mValueError\u001b[0m                                Traceback (most recent call last)",
      "\u001b[1;32m~\\AppData\\Local\\Temp/ipykernel_12636/54531552.py\u001b[0m in \u001b[0;36m<module>\u001b[1;34m\u001b[0m\n\u001b[1;32m----> 1\u001b[1;33m \u001b[0mprint\u001b[0m\u001b[1;33m(\u001b[0m\u001b[0mexchange\u001b[0m\u001b[1;33m(\u001b[0m\u001b[0mrub\u001b[0m\u001b[1;33m=\u001b[0m\u001b[1;36m1000\u001b[0m\u001b[1;33m,\u001b[0m \u001b[0mrate\u001b[0m\u001b[1;33m=\u001b[0m\u001b[1;36m85\u001b[0m\u001b[1;33m,\u001b[0m \u001b[0musd\u001b[0m\u001b[1;33m=\u001b[0m\u001b[1;36m90\u001b[0m\u001b[1;33m)\u001b[0m\u001b[1;33m)\u001b[0m\u001b[1;33m\u001b[0m\u001b[1;33m\u001b[0m\u001b[0m\n\u001b[0m",
      "\u001b[1;32m~\\AppData\\Local\\Temp/ipykernel_12636/360332212.py\u001b[0m in \u001b[0;36mexchange\u001b[1;34m(usd, rub, rate)\u001b[0m\n\u001b[0;32m      1\u001b[0m \u001b[1;32mdef\u001b[0m \u001b[0mexchange\u001b[0m\u001b[1;33m(\u001b[0m\u001b[0musd\u001b[0m\u001b[1;33m=\u001b[0m\u001b[1;32mNone\u001b[0m\u001b[1;33m,\u001b[0m \u001b[0mrub\u001b[0m\u001b[1;33m=\u001b[0m\u001b[1;32mNone\u001b[0m\u001b[1;33m,\u001b[0m \u001b[0mrate\u001b[0m\u001b[1;33m=\u001b[0m\u001b[1;32mNone\u001b[0m\u001b[1;33m)\u001b[0m\u001b[1;33m:\u001b[0m\u001b[1;33m\u001b[0m\u001b[1;33m\u001b[0m\u001b[0m\n\u001b[0;32m      2\u001b[0m     \u001b[1;32mif\u001b[0m \u001b[0musd\u001b[0m\u001b[1;33m!=\u001b[0m\u001b[1;32mNone\u001b[0m \u001b[1;32mand\u001b[0m \u001b[0mrub\u001b[0m\u001b[1;33m!=\u001b[0m\u001b[1;32mNone\u001b[0m \u001b[1;32mand\u001b[0m \u001b[0mrate\u001b[0m\u001b[1;33m!=\u001b[0m\u001b[1;32mNone\u001b[0m\u001b[1;33m:\u001b[0m\u001b[1;33m\u001b[0m\u001b[1;33m\u001b[0m\u001b[0m\n\u001b[1;32m----> 3\u001b[1;33m         \u001b[1;32mraise\u001b[0m \u001b[0mValueError\u001b[0m\u001b[1;33m(\u001b[0m\u001b[1;34m'Too many arguments'\u001b[0m\u001b[1;33m)\u001b[0m\u001b[1;33m\u001b[0m\u001b[1;33m\u001b[0m\u001b[0m\n\u001b[0m\u001b[0;32m      4\u001b[0m     \u001b[1;32mif\u001b[0m \u001b[0musd\u001b[0m\u001b[1;33m==\u001b[0m\u001b[1;32mNone\u001b[0m \u001b[1;32mand\u001b[0m \u001b[0mrub\u001b[0m\u001b[1;33m==\u001b[0m\u001b[1;32mNone\u001b[0m \u001b[1;32mand\u001b[0m \u001b[0mrate\u001b[0m\u001b[1;33m!=\u001b[0m\u001b[1;32mNone\u001b[0m\u001b[1;33m:\u001b[0m\u001b[1;33m\u001b[0m\u001b[1;33m\u001b[0m\u001b[0m\n\u001b[0;32m      5\u001b[0m          \u001b[1;32mraise\u001b[0m \u001b[0mValueError\u001b[0m\u001b[1;33m(\u001b[0m\u001b[1;34m'Not enough arguments'\u001b[0m\u001b[1;33m)\u001b[0m\u001b[1;33m\u001b[0m\u001b[1;33m\u001b[0m\u001b[0m\n",
      "\u001b[1;31mValueError\u001b[0m: Too many arguments"
     ]
    }
   ],
   "source": [
    "print(exchange(rub=1000, rate=85, usd=90))"
   ]
  },
  {
   "cell_type": "code",
   "execution_count": 302,
   "id": "5478c328",
   "metadata": {},
   "outputs": [
    {
     "name": "stdout",
     "output_type": "stream",
     "text": [
      "85.0\n"
     ]
    }
   ],
   "source": [
    "print(exchange(usd=100, rub=8500))"
   ]
  },
  {
   "cell_type": "code",
   "execution_count": 310,
   "id": "f843733d",
   "metadata": {},
   "outputs": [],
   "source": [
    "def exchange(usd=None, rub=None, rate=None):\n",
    "    if usd!=None and rub!=None and rate!=None:\n",
    "        raise ValueError('Too many arguments')\n",
    "    if (usd==None and rub==None and rate!=None) or \\\n",
    "    (rub==None and rate==None and usd!=None) or \\\n",
    "    (usd==None and rub!=None and rate==None): \n",
    "        raise ValueError('Not enough arguments')\n",
    "    if rub!=None and usd!=None and rate==None:\n",
    "        rate=rub/usd\n",
    "        return rate\n",
    "    if rub!=None and usd==None and rate!=None:\n",
    "            usd=rub/rate\n",
    "            return usd\n",
    "    if rub==None and usd!=None and rate!=None:\n",
    "        rub=usd*rate\n",
    "        return rub"
   ]
  },
  {
   "cell_type": "code",
   "execution_count": 311,
   "id": "e3eb7c1d",
   "metadata": {},
   "outputs": [
    {
     "ename": "ValueError",
     "evalue": "Not enough arguments",
     "output_type": "error",
     "traceback": [
      "\u001b[1;31m---------------------------------------------------------------------------\u001b[0m",
      "\u001b[1;31mValueError\u001b[0m                                Traceback (most recent call last)",
      "\u001b[1;32m~\\AppData\\Local\\Temp/ipykernel_12636/517623215.py\u001b[0m in \u001b[0;36m<module>\u001b[1;34m\u001b[0m\n\u001b[1;32m----> 1\u001b[1;33m \u001b[0mprint\u001b[0m\u001b[1;33m(\u001b[0m\u001b[0mexchange\u001b[0m\u001b[1;33m(\u001b[0m\u001b[0mrub\u001b[0m\u001b[1;33m=\u001b[0m\u001b[1;36m1000\u001b[0m\u001b[1;33m)\u001b[0m\u001b[1;33m)\u001b[0m\u001b[1;33m\u001b[0m\u001b[1;33m\u001b[0m\u001b[0m\n\u001b[0m",
      "\u001b[1;32m~\\AppData\\Local\\Temp/ipykernel_12636/3303184789.py\u001b[0m in \u001b[0;36mexchange\u001b[1;34m(usd, rub, rate)\u001b[0m\n\u001b[0;32m      5\u001b[0m     \u001b[1;33m(\u001b[0m\u001b[0mrub\u001b[0m\u001b[1;33m==\u001b[0m\u001b[1;32mNone\u001b[0m \u001b[1;32mand\u001b[0m \u001b[0mrate\u001b[0m\u001b[1;33m==\u001b[0m\u001b[1;32mNone\u001b[0m \u001b[1;32mand\u001b[0m \u001b[0musd\u001b[0m\u001b[1;33m!=\u001b[0m\u001b[1;32mNone\u001b[0m\u001b[1;33m)\u001b[0m \u001b[1;32mor\u001b[0m\u001b[0;31m \u001b[0m\u001b[0;31m\\\u001b[0m\u001b[1;33m\u001b[0m\u001b[1;33m\u001b[0m\u001b[0m\n\u001b[0;32m      6\u001b[0m     \u001b[1;33m(\u001b[0m\u001b[0musd\u001b[0m\u001b[1;33m==\u001b[0m\u001b[1;32mNone\u001b[0m \u001b[1;32mand\u001b[0m \u001b[0mrub\u001b[0m\u001b[1;33m!=\u001b[0m\u001b[1;32mNone\u001b[0m \u001b[1;32mand\u001b[0m \u001b[0mrate\u001b[0m\u001b[1;33m==\u001b[0m\u001b[1;32mNone\u001b[0m\u001b[1;33m)\u001b[0m\u001b[1;33m:\u001b[0m\u001b[1;33m\u001b[0m\u001b[1;33m\u001b[0m\u001b[0m\n\u001b[1;32m----> 7\u001b[1;33m         \u001b[1;32mraise\u001b[0m \u001b[0mValueError\u001b[0m\u001b[1;33m(\u001b[0m\u001b[1;34m'Not enough arguments'\u001b[0m\u001b[1;33m)\u001b[0m\u001b[1;33m\u001b[0m\u001b[1;33m\u001b[0m\u001b[0m\n\u001b[0m\u001b[0;32m      8\u001b[0m     \u001b[1;32mif\u001b[0m \u001b[0mrub\u001b[0m\u001b[1;33m!=\u001b[0m\u001b[1;32mNone\u001b[0m \u001b[1;32mand\u001b[0m \u001b[0musd\u001b[0m\u001b[1;33m!=\u001b[0m\u001b[1;32mNone\u001b[0m \u001b[1;32mand\u001b[0m \u001b[0mrate\u001b[0m\u001b[1;33m==\u001b[0m\u001b[1;32mNone\u001b[0m\u001b[1;33m:\u001b[0m\u001b[1;33m\u001b[0m\u001b[1;33m\u001b[0m\u001b[0m\n\u001b[0;32m      9\u001b[0m         \u001b[0mrate\u001b[0m\u001b[1;33m=\u001b[0m\u001b[0mrub\u001b[0m\u001b[1;33m/\u001b[0m\u001b[0musd\u001b[0m\u001b[1;33m\u001b[0m\u001b[1;33m\u001b[0m\u001b[0m\n",
      "\u001b[1;31mValueError\u001b[0m: Not enough arguments"
     ]
    }
   ],
   "source": [
    "print(exchange(rub=1000))"
   ]
  },
  {
   "cell_type": "code",
   "execution_count": 312,
   "id": "829e0558",
   "metadata": {},
   "outputs": [
    {
     "name": "stdout",
     "output_type": "stream",
     "text": [
      "85.0\n",
      "8500\n",
      "11.764705882352942\n"
     ]
    },
    {
     "ename": "ValueError",
     "evalue": "Too many arguments",
     "output_type": "error",
     "traceback": [
      "\u001b[1;31m---------------------------------------------------------------------------\u001b[0m",
      "\u001b[1;31mValueError\u001b[0m                                Traceback (most recent call last)",
      "\u001b[1;32m~\\AppData\\Local\\Temp/ipykernel_12636/3208668290.py\u001b[0m in \u001b[0;36m<module>\u001b[1;34m\u001b[0m\n\u001b[0;32m      2\u001b[0m \u001b[0mprint\u001b[0m\u001b[1;33m(\u001b[0m\u001b[0mexchange\u001b[0m\u001b[1;33m(\u001b[0m\u001b[0musd\u001b[0m\u001b[1;33m=\u001b[0m\u001b[1;36m100\u001b[0m\u001b[1;33m,\u001b[0m \u001b[0mrate\u001b[0m\u001b[1;33m=\u001b[0m\u001b[1;36m85\u001b[0m\u001b[1;33m)\u001b[0m\u001b[1;33m)\u001b[0m\u001b[1;33m\u001b[0m\u001b[1;33m\u001b[0m\u001b[0m\n\u001b[0;32m      3\u001b[0m \u001b[0mprint\u001b[0m\u001b[1;33m(\u001b[0m\u001b[0mexchange\u001b[0m\u001b[1;33m(\u001b[0m\u001b[0mrub\u001b[0m\u001b[1;33m=\u001b[0m\u001b[1;36m1000\u001b[0m\u001b[1;33m,\u001b[0m \u001b[0mrate\u001b[0m\u001b[1;33m=\u001b[0m\u001b[1;36m85\u001b[0m\u001b[1;33m)\u001b[0m\u001b[1;33m)\u001b[0m\u001b[1;33m\u001b[0m\u001b[1;33m\u001b[0m\u001b[0m\n\u001b[1;32m----> 4\u001b[1;33m \u001b[0mprint\u001b[0m\u001b[1;33m(\u001b[0m\u001b[0mexchange\u001b[0m\u001b[1;33m(\u001b[0m\u001b[0mrub\u001b[0m\u001b[1;33m=\u001b[0m\u001b[1;36m1000\u001b[0m\u001b[1;33m,\u001b[0m \u001b[0mrate\u001b[0m\u001b[1;33m=\u001b[0m\u001b[1;36m85\u001b[0m\u001b[1;33m,\u001b[0m \u001b[0musd\u001b[0m\u001b[1;33m=\u001b[0m\u001b[1;36m90\u001b[0m\u001b[1;33m)\u001b[0m\u001b[1;33m)\u001b[0m\u001b[1;33m\u001b[0m\u001b[1;33m\u001b[0m\u001b[0m\n\u001b[0m\u001b[0;32m      5\u001b[0m \u001b[0mprint\u001b[0m\u001b[1;33m(\u001b[0m\u001b[0mexchange\u001b[0m\u001b[1;33m(\u001b[0m\u001b[0mrub\u001b[0m\u001b[1;33m=\u001b[0m\u001b[1;36m1000\u001b[0m\u001b[1;33m)\u001b[0m\u001b[1;33m)\u001b[0m\u001b[1;33m\u001b[0m\u001b[1;33m\u001b[0m\u001b[0m\n",
      "\u001b[1;32m~\\AppData\\Local\\Temp/ipykernel_12636/3303184789.py\u001b[0m in \u001b[0;36mexchange\u001b[1;34m(usd, rub, rate)\u001b[0m\n\u001b[0;32m      1\u001b[0m \u001b[1;32mdef\u001b[0m \u001b[0mexchange\u001b[0m\u001b[1;33m(\u001b[0m\u001b[0musd\u001b[0m\u001b[1;33m=\u001b[0m\u001b[1;32mNone\u001b[0m\u001b[1;33m,\u001b[0m \u001b[0mrub\u001b[0m\u001b[1;33m=\u001b[0m\u001b[1;32mNone\u001b[0m\u001b[1;33m,\u001b[0m \u001b[0mrate\u001b[0m\u001b[1;33m=\u001b[0m\u001b[1;32mNone\u001b[0m\u001b[1;33m)\u001b[0m\u001b[1;33m:\u001b[0m\u001b[1;33m\u001b[0m\u001b[1;33m\u001b[0m\u001b[0m\n\u001b[0;32m      2\u001b[0m     \u001b[1;32mif\u001b[0m \u001b[0musd\u001b[0m\u001b[1;33m!=\u001b[0m\u001b[1;32mNone\u001b[0m \u001b[1;32mand\u001b[0m \u001b[0mrub\u001b[0m\u001b[1;33m!=\u001b[0m\u001b[1;32mNone\u001b[0m \u001b[1;32mand\u001b[0m \u001b[0mrate\u001b[0m\u001b[1;33m!=\u001b[0m\u001b[1;32mNone\u001b[0m\u001b[1;33m:\u001b[0m\u001b[1;33m\u001b[0m\u001b[1;33m\u001b[0m\u001b[0m\n\u001b[1;32m----> 3\u001b[1;33m         \u001b[1;32mraise\u001b[0m \u001b[0mValueError\u001b[0m\u001b[1;33m(\u001b[0m\u001b[1;34m'Too many arguments'\u001b[0m\u001b[1;33m)\u001b[0m\u001b[1;33m\u001b[0m\u001b[1;33m\u001b[0m\u001b[0m\n\u001b[0m\u001b[0;32m      4\u001b[0m     \u001b[1;32mif\u001b[0m \u001b[1;33m(\u001b[0m\u001b[0musd\u001b[0m\u001b[1;33m==\u001b[0m\u001b[1;32mNone\u001b[0m \u001b[1;32mand\u001b[0m \u001b[0mrub\u001b[0m\u001b[1;33m==\u001b[0m\u001b[1;32mNone\u001b[0m \u001b[1;32mand\u001b[0m \u001b[0mrate\u001b[0m\u001b[1;33m!=\u001b[0m\u001b[1;32mNone\u001b[0m\u001b[1;33m)\u001b[0m \u001b[1;32mor\u001b[0m\u001b[0;31m \u001b[0m\u001b[0;31m\\\u001b[0m\u001b[1;33m\u001b[0m\u001b[1;33m\u001b[0m\u001b[0m\n\u001b[0;32m      5\u001b[0m     \u001b[1;33m(\u001b[0m\u001b[0mrub\u001b[0m\u001b[1;33m==\u001b[0m\u001b[1;32mNone\u001b[0m \u001b[1;32mand\u001b[0m \u001b[0mrate\u001b[0m\u001b[1;33m==\u001b[0m\u001b[1;32mNone\u001b[0m \u001b[1;32mand\u001b[0m \u001b[0musd\u001b[0m\u001b[1;33m!=\u001b[0m\u001b[1;32mNone\u001b[0m\u001b[1;33m)\u001b[0m \u001b[1;32mor\u001b[0m\u001b[0;31m \u001b[0m\u001b[0;31m\\\u001b[0m\u001b[1;33m\u001b[0m\u001b[1;33m\u001b[0m\u001b[0m\n",
      "\u001b[1;31mValueError\u001b[0m: Too many arguments"
     ]
    }
   ],
   "source": [
    "print(exchange(usd=100, rub=8500))\n",
    "print(exchange(usd=100, rate=85))\n",
    "print(exchange(rub=1000, rate=85))\n",
    "print(exchange(rub=1000, rate=85, usd=90))\n",
    "print(exchange(rub=1000))"
   ]
  },
  {
   "cell_type": "code",
   "execution_count": null,
   "id": "a3193521",
   "metadata": {},
   "outputs": [],
   "source": []
  },
  {
   "cell_type": "code",
   "execution_count": 5,
   "id": "09372678",
   "metadata": {},
   "outputs": [],
   "source": [
    "def outer():\n",
    "    x = 1 #создаём локальную переменную\n",
    "    #объявляем внутреннюю функцию\n",
    "    def inner():\n",
    "        print('x in outer function: ', x)\n",
    "    #внешняя функция возвращает внутреннюю\n",
    "    return inner"
   ]
  },
  {
   "cell_type": "code",
   "execution_count": 13,
   "id": "59621e23",
   "metadata": {},
   "outputs": [
    {
     "name": "stdout",
     "output_type": "stream",
     "text": [
      "x in outer function:  1\n"
     ]
    }
   ],
   "source": [
    "out=outer()()\n"
   ]
  },
  {
   "cell_type": "code",
   "execution_count": 16,
   "id": "6b08f42f",
   "metadata": {},
   "outputs": [
    {
     "name": "stdout",
     "output_type": "stream",
     "text": [
      "None\n"
     ]
    }
   ],
   "source": [
    "print(out)"
   ]
  },
  {
   "cell_type": "code",
   "execution_count": 29,
   "id": "90b561f9",
   "metadata": {},
   "outputs": [],
   "source": [
    "# Функция, которая создаёт счётчик\n",
    "def counter():\n",
    "    # Начальное значение счётчика — 0\n",
    "    number = 0\n",
    "    # Функция add будет каждый раз прибавлять\n",
    "    # к счётчику 1 при запуске\n",
    "    def add():\n",
    "        # Сообщаем, что number берём из\n",
    "        # внешней функции\n",
    "        nonlocal number\n",
    "        # Увеличиваем значение счётчика на 1   \n",
    "        number += 1\n",
    "        # Возвращаем текущее число запусков счётчика\n",
    "        return number\n",
    "    # Возвращаем не результат вычислений,\n",
    "    # а непосредственно саму функцию add\n",
    "    # без круглых скобок!\n",
    "    return add"
   ]
  },
  {
   "cell_type": "code",
   "execution_count": 37,
   "id": "6389ce07",
   "metadata": {},
   "outputs": [
    {
     "name": "stdout",
     "output_type": "stream",
     "text": [
      "1\n"
     ]
    }
   ],
   "source": [
    "counter1 = counter()\n",
    "print(counter1())\n"
   ]
  },
  {
   "cell_type": "code",
   "execution_count": 42,
   "id": "7963cce8",
   "metadata": {},
   "outputs": [
    {
     "name": "stdout",
     "output_type": "stream",
     "text": [
      "6\n"
     ]
    }
   ],
   "source": [
    "print(counter1())"
   ]
  },
  {
   "cell_type": "code",
   "execution_count": null,
   "id": "20c8cdd8",
   "metadata": {},
   "outputs": [],
   "source": [
    "Напишите функцию-копилку с названием saver(), которая не принимает никаких аргументов. Она должна возвращать внутреннюю\n",
    "функцию adder(), которая принимает на вход одно число и возвращает сумму в копилке после прибавления числа.\n",
    "\n",
    "Изначально в новой копилке хранится 0.\n",
    "\n",
    "Пример работы функции:\n",
    "\n",
    "pig = saver()\n",
    "print(pig(25))\n",
    "print(pig(100))\n",
    "print(pig(19))\n",
    "# 25\n",
    "# 125\n",
    "# 144"
   ]
  },
  {
   "cell_type": "code",
   "execution_count": 64,
   "id": "d940515a",
   "metadata": {},
   "outputs": [],
   "source": [
    "def saver():\n",
    "    n=0\n",
    "    def adder(a):\n",
    "        nonlocal n\n",
    "        n=n+a\n",
    "        return n\n",
    "    return adder"
   ]
  },
  {
   "cell_type": "code",
   "execution_count": 65,
   "id": "41f5a888",
   "metadata": {},
   "outputs": [
    {
     "name": "stdout",
     "output_type": "stream",
     "text": [
      "25\n",
      "125\n",
      "144\n"
     ]
    }
   ],
   "source": [
    "pig = saver()\n",
    "print(pig(25))\n",
    "print(pig(100))\n",
    "print(pig(19))"
   ]
  },
  {
   "cell_type": "code",
   "execution_count": null,
   "id": "c0ca6f50",
   "metadata": {},
   "outputs": [],
   "source": [
    "Напишите рекурсивную функцию multiply_lst(), которая перемножает элементы заданного списка между собой. \n",
    "\n",
    "Подсказка\n",
    "Переведите алгоритм создания рекурсивной функции для расчёта суммы в расчёт произведения. \n",
    "Условие остановки — if len(lst) == 0: return 1."
   ]
  },
  {
   "cell_type": "code",
   "execution_count": 66,
   "id": "45939ef4",
   "metadata": {},
   "outputs": [
    {
     "name": "stdout",
     "output_type": "stream",
     "text": [
      "60480\n"
     ]
    }
   ],
   "source": [
    "my_lst = [10, 21, 24, 12]\n",
    "def multiply_lst(lst):\n",
    "    if len(lst)==0: return 1\n",
    "    return lst[0]* multiply_lst(lst[1:])\n",
    "    \n",
    "print(multiply_lst(my_lst))"
   ]
  },
  {
   "cell_type": "code",
   "execution_count": 71,
   "id": "4e3ef3ad",
   "metadata": {},
   "outputs": [
    {
     "name": "stdout",
     "output_type": "stream",
     "text": [
      "3\n",
      "2\n",
      "1\n",
      "0\n",
      "1\n",
      "2\n"
     ]
    }
   ],
   "source": [
    "def fib(n):\n",
    "    print(n)\n",
    "    if n==1: return 1\n",
    "    if n==0: return 0\n",
    "    return fib(n-1)+fib(n-2)\n",
    "print(fib(3))\n"
   ]
  },
  {
   "cell_type": "code",
   "execution_count": null,
   "id": "58c63c40",
   "metadata": {},
   "outputs": [],
   "source": [
    "def check_string(s):\n",
    "    if len(s) < 1:\n",
    "        return True\n",
    "    if s[0] == s[-1]:\n",
    "        return check_string(s[1:-1])\n",
    "    else:\n",
    "        return False"
   ]
  },
  {
   "cell_type": "code",
   "execution_count": 4,
   "id": "ecc1faf8",
   "metadata": {},
   "outputs": [
    {
     "data": {
      "text/plain": [
       "'п'"
      ]
     },
     "execution_count": 4,
     "metadata": {},
     "output_type": "execute_result"
    }
   ],
   "source": [
    "a=\"потоп\"\n",
    "a[-1]"
   ]
  },
  {
   "cell_type": "code",
   "execution_count": 25,
   "id": "ff420b73",
   "metadata": {},
   "outputs": [],
   "source": [
    "def power(25, 1):\n",
    "    \n",
    "    if n==0: return 0\n",
    "    if n==1: return val\n",
    "    \n",
    "    return val*power(val,n-1)\n",
    "    "
   ]
  },
  {
   "cell_type": "code",
   "execution_count": 26,
   "id": "185efba2",
   "metadata": {},
   "outputs": [
    {
     "name": "stdout",
     "output_type": "stream",
     "text": [
      "15625\n"
     ]
    }
   ],
   "source": [
    "print(power(25,3))"
   ]
  },
  {
   "cell_type": "code",
   "execution_count": 27,
   "id": "7b11187d",
   "metadata": {},
   "outputs": [
    {
     "name": "stdout",
     "output_type": "stream",
     "text": [
      "0\n",
      "625\n"
     ]
    }
   ],
   "source": [
    "print(power(25,0))\n",
    "print(power(-5,4))"
   ]
  },
  {
   "cell_type": "code",
   "execution_count": null,
   "id": "b4dcb575",
   "metadata": {},
   "outputs": [],
   "source": [
    "Напишите функцию is_leap(year), которая принимает на вход год и возвращает True, если год високосный, иначе — False.\n",
    "\n",
    "Условие для проверки на високосность: год делится на 400 или год делится на 4, но не на 100. \n",
    "Пример работы функции:\n",
    "\n",
    "print(is_leap(2000))\n",
    "print(is_leap(1900))\n",
    "print(is_leap(2020))\n",
    "# True\n",
    "# False\n",
    "# True\n",
    "Подсказка\n",
    "В теле функции задайте три условия: год нацело делится на 400, 100 и 4. Если выполняется первое и последнее условие,\n",
    "    функция возвращает True, если не выполняется второе условие или не выполняется ни одно из перечисленных условий,\n",
    "    функция возвращает False."
   ]
  },
  {
   "cell_type": "code",
   "execution_count": 28,
   "id": "03dd760c",
   "metadata": {},
   "outputs": [],
   "source": [
    "def is_leap(year):\n",
    "    if year%400==0: return True\n",
    "    if year%100==0: return False\n",
    "    if year%4==0: return True\n",
    "    else: return False"
   ]
  },
  {
   "cell_type": "code",
   "execution_count": 29,
   "id": "9dceb55c",
   "metadata": {},
   "outputs": [
    {
     "name": "stdout",
     "output_type": "stream",
     "text": [
      "True\n",
      "False\n",
      "True\n"
     ]
    }
   ],
   "source": [
    "print(is_leap(2000))\n",
    "print(is_leap(1900))\n",
    "print(is_leap(2020))"
   ]
  },
  {
   "cell_type": "code",
   "execution_count": null,
   "id": "23b0a27f",
   "metadata": {},
   "outputs": [],
   "source": [
    "При разработке пользовательского интерфейса и программ, взаимодействующих с человеком, очень важна проверка корректности \n",
    "введённых пользователем данных. Такую проверку в сообществе программистов принято называть «проверкой на дурака».\n",
    "Некорректно введённые данные могут «сломать» вашу программу, если она не была подготовлена для их обработки.\n",
    "\n",
    "Напишите функцию check_date(day, month, year), которая проверяет корректность даты рождения по следующим условиям:\n",
    "\n",
    "Все аргументы должны быть целыми числами (проверить с помощью type(day) is int).\n",
    "Годом рождения не может быть год до 1900 и год после 2022.\n",
    "Номер месяца не может быть больше 12 и меньше 1.\n",
    "Номер дня не может быть больше 31 и меньше 1.\n",
    "В сентябре, апреле, июне и ноябре 30 дней.\n",
    "Если год является високосным, то в феврале (второймесяц) должно быть 29 дней, в противном случае — 28.\n",
    "Если дата корректна, вернуть True, если же хотя бы одно из представленных условий не было выполнено — False. \n",
    "\n",
    "Примечание: использовать встроенные модули для работы с датами нельзя.\n",
    "\n",
    "Функция check_date должна содержать в себе функцию is_leap из предыдущего задания. В теле внешней функции вызывайте внутреннюю,\n",
    "чтобы проверить, является ли год високосным.\n",
    "\n",
    "Пример работы функции:\n",
    "\n",
    "print(check_date(18,9,1999))\n",
    "print(check_date(29,2,2000))\n",
    "print(check_date(29,2,2021))\n",
    "print(check_date(13,13,2021))\n",
    "print(check_date(13.5,12,2021))"
   ]
  },
  {
   "cell_type": "code",
   "execution_count": 42,
   "id": "4246c818",
   "metadata": {},
   "outputs": [],
   "source": [
    "def check_date(day,month,year):\n",
    "    if (type(day) is int and \\\n",
    "    type(month) is int and \\\n",
    "    type(year) is int and \\\n",
    "    1900<=year<=2022 and \\\n",
    "    1<=month<=12)==1:\n",
    "        if month in [9,4,6,11]:\n",
    "            if 1<=day<=30:\n",
    "                return True\n",
    "            else:\n",
    "                return False\n",
    "        if month in [1,3,5,7,8,10,12]:\n",
    "            if 1<=day<=31:\n",
    "                return True\n",
    "            else:\n",
    "                return False\n",
    "        if month==2:\n",
    "            if is_leap(year)==True:\n",
    "                if 1<=day<=29:\n",
    "                    return True\n",
    "                else:\n",
    "                    return False\n",
    "            else: \n",
    "                if 1<=day<=28:\n",
    "                    return True\n",
    "                else:\n",
    "                    return False\n",
    "    else:\n",
    "        return False"
   ]
  },
  {
   "cell_type": "code",
   "execution_count": 43,
   "id": "1e5600a4",
   "metadata": {},
   "outputs": [
    {
     "name": "stdout",
     "output_type": "stream",
     "text": [
      "True\n",
      "True\n",
      "False\n",
      "False\n",
      "False\n"
     ]
    }
   ],
   "source": [
    "print(check_date(18,9,1999))\n",
    "print(check_date(29,2,2000))\n",
    "print(check_date(29,2,2021))\n",
    "print(check_date(13,13,2021))\n",
    "print(check_date(13.5,12,2021))"
   ]
  },
  {
   "cell_type": "code",
   "execution_count": 30,
   "id": "2790a6fa",
   "metadata": {
    "scrolled": true
   },
   "outputs": [
    {
     "data": {
      "text/plain": [
       "True"
      ]
     },
     "execution_count": 30,
     "metadata": {},
     "output_type": "execute_result"
    }
   ],
   "source": [
    "1 in [1,2,3]"
   ]
  },
  {
   "cell_type": "code",
   "execution_count": null,
   "id": "1a2127d3",
   "metadata": {},
   "outputs": [],
   "source": [
    "Представьте, что вы пишете приложение, предусматривающее регистрацию пользователей. Давайте реализуем небольшой функционал\n",
    "регистрации. Не забудем также про «проверку на дурака».\n",
    "\n",
    "Напишите функцию register(surname, name, date, middle_name, registry).\n",
    "\n",
    "Функция имеет следующие аргументы:\n",
    "\n",
    "surname — фамилия;\n",
    "name — имя;\n",
    "date — дата рождения (в виде кортежа из трёх чисел — день, месяц, год);\n",
    "middle_name — отчество ;\n",
    "registry — список, в который необходимо добавить полученные аргументы в виде кортежа в следующем порядке:\n",
    "    фамилия, имя, отчество, день, месяц, год рождения.\n",
    "Функция должна возвращать список, в который добавила запись. \n",
    "\n",
    "Указание: сделайте отчество аргументом по умолчанию со значением None, так как отчество может быть не у всех регистрирующихся.\n",
    "\n",
    "Также сделайте так, чтобы пустой список создавался в том случае, если он не был передан извне. Таким образом, по умолчанию \n",
    "registry имеет значение None, и если при вызове функции список так и не был передан, он создаётся в теле функции.\n",
    "\n",
    "Наконец, проверьте дату на корректность. Если дата неправильная, верните ошибку ValueError(\"Invalid Date!\"). Для этого вам \n",
    "пригодится функция check_date из предыдущего задания.\n",
    "\n",
    "Пример работы функции:\n",
    "\n",
    "reg = register('Petrova', 'Maria', (13, 3, 2003), 'Ivanovna')\n",
    "reg = register('Ivanov', 'Sergej', (24, 9, 1995), registry=reg)\n",
    "reg = register('Smith', 'John', (13, 2, 2003), registry=reg)\n",
    "print(reg)\n",
    "# [('Petrova', 'Maria', 'Ivanovna', 13, 3, 2003), ('Ivanov', 'Sergej', None, 24, 9, 1995), ('Smith', 'John', None, 13, 2, 2003)]\n",
    " \n",
    "reg = register('Ivanov', 'Sergej', (24, 13, 1995))\n",
    "# ValueError: Invalid Date!"
   ]
  },
  {
   "cell_type": "code",
   "execution_count": 88,
   "id": "c69625ed",
   "metadata": {},
   "outputs": [],
   "source": [
    "def register(surname, name, date, middle_name=None, registry=None):\n",
    "    if registry is None:\n",
    "        registry=[]\n",
    "    if check_date(*date)==False:\n",
    "        raise ValueError(\"Invalid Date!\")\n",
    "    registry.append((surname, name,*date,middle_name))\n",
    "    return registry"
   ]
  },
  {
   "cell_type": "code",
   "execution_count": 89,
   "id": "32338ca0",
   "metadata": {},
   "outputs": [],
   "source": [
    "reg = register('Petrova', 'Maria', (13, 3, 2003), 'Ivanovna')"
   ]
  },
  {
   "cell_type": "code",
   "execution_count": 90,
   "id": "c7ecbbc3",
   "metadata": {},
   "outputs": [],
   "source": [
    "reg = register('Petrova', 'Maria', (13, 3, 2003), 'Ivanovna')\n",
    "reg = register('Ivanov', 'Sergej', (24, 9, 1995), registry=reg)\n",
    "reg = register('Smith', 'John', (13, 2, 2003), registry=reg)"
   ]
  },
  {
   "cell_type": "code",
   "execution_count": 91,
   "id": "eff838f1",
   "metadata": {},
   "outputs": [
    {
     "name": "stdout",
     "output_type": "stream",
     "text": [
      "[('Petrova', 'Maria', 13, 3, 2003, 'Ivanovna'), ('Ivanov', 'Sergej', 24, 9, 1995, None), ('Smith', 'John', 13, 2, 2003, None)]\n"
     ]
    }
   ],
   "source": [
    "print(reg)"
   ]
  },
  {
   "cell_type": "code",
   "execution_count": 106,
   "id": "19af2399",
   "metadata": {},
   "outputs": [
    {
     "name": "stdout",
     "output_type": "stream",
     "text": [
      "[(0, 'admin'), (1, 'guest'), (2, 'root'), (3, 'anonymous')]\n"
     ]
    }
   ],
   "source": [
    "users = ['admin', 'guest', 'root', 'anonymous']\n",
    "\n",
    "# Создаём итератор enumerate из списка users\n",
    "enum_users = enumerate(users)\n",
    "list_users=list(enum_users)\n",
    "print(list_users)"
   ]
  },
  {
   "cell_type": "code",
   "execution_count": 100,
   "id": "a7f0bc20",
   "metadata": {},
   "outputs": [
    {
     "ename": "StopIteration",
     "evalue": "",
     "output_type": "error",
     "traceback": [
      "\u001b[1;31m---------------------------------------------------------------------------\u001b[0m",
      "\u001b[1;31mStopIteration\u001b[0m                             Traceback (most recent call last)",
      "\u001b[1;32m~\\AppData\\Local\\Temp/ipykernel_9880/1225040340.py\u001b[0m in \u001b[0;36m<module>\u001b[1;34m\u001b[0m\n\u001b[1;32m----> 1\u001b[1;33m \u001b[0mnext\u001b[0m\u001b[1;33m(\u001b[0m\u001b[0menum_users\u001b[0m\u001b[1;33m)\u001b[0m\u001b[1;33m\u001b[0m\u001b[1;33m\u001b[0m\u001b[0m\n\u001b[0m",
      "\u001b[1;31mStopIteration\u001b[0m: "
     ]
    }
   ],
   "source": [
    "next(enum_users)"
   ]
  },
  {
   "cell_type": "code",
   "execution_count": 103,
   "id": "172bce4c",
   "metadata": {},
   "outputs": [
    {
     "name": "stdout",
     "output_type": "stream",
     "text": [
      "(0, 'admin')\n",
      "(1, 'guest')\n",
      "(2, 'root')\n",
      "(3, 'anonymous')\n"
     ]
    }
   ],
   "source": [
    "for i in enum_users:\n",
    "    print(i)"
   ]
  },
  {
   "cell_type": "markdown",
   "id": "ebaf0f81",
   "metadata": {},
   "source": [
    "# Практика"
   ]
  },
  {
   "cell_type": "code",
   "execution_count": null,
   "id": "d0ec70b9",
   "metadata": {},
   "outputs": [],
   "source": []
  },
  {
   "cell_type": "code",
   "execution_count": null,
   "id": "4f6b2f33",
   "metadata": {},
   "outputs": [],
   "source": []
  },
  {
   "cell_type": "code",
   "execution_count": null,
   "id": "2c44ae68",
   "metadata": {},
   "outputs": [],
   "source": []
  }
 ],
 "metadata": {
  "kernelspec": {
   "display_name": "Python 3.9.10 64-bit",
   "language": "python",
   "name": "python3"
  },
  "language_info": {
   "codemirror_mode": {
    "name": "ipython",
    "version": 3
   },
   "file_extension": ".py",
   "mimetype": "text/x-python",
   "name": "python",
   "nbconvert_exporter": "python",
   "pygments_lexer": "ipython3",
   "version": "3.9.10"
  },
  "vscode": {
   "interpreter": {
    "hash": "3e20e8f24bd79d047f2db5bfb3f476e2e22892f53c68e86beee9ba154507af63"
   }
  }
 },
 "nbformat": 4,
 "nbformat_minor": 5
}
