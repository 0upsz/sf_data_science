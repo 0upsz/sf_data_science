{
 "cells": [
  {
   "cell_type": "markdown",
   "id": "e0d060cd",
   "metadata": {},
   "source": [
    "#                Итераторы и генераторы"
   ]
  },
  {
   "cell_type": "markdown",
   "id": "45b8907a",
   "metadata": {},
   "source": [
    "Итераторы:\n",
    "-позволяют обрабатывать элементы из структур данных по одному без избыточного использования оперативной памяти\n",
    "-они выдают своё содержимое по одному элементу, а когда элементы заканчиваются, выдаётся ошибка.\n",
    "-Все встроенные структуры данных в Python, которые поддерживают проход по своим элементам в цикле for (списки, словари, множества, кортежи, строки), содержат в себе итераторы и являются итерируемыми объектами. Чтобы получить итератор из структуры, используется функция iter()."
   ]
  },
  {
   "cell_type": "markdown",
   "id": "16cfbee6",
   "metadata": {},
   "source": [
    "# iter() - получает итератор "
   ]
  },
  {
   "cell_type": "code",
   "execution_count": 6,
   "id": "979fd3a2",
   "metadata": {},
   "outputs": [
    {
     "name": "stdout",
     "output_type": "stream",
     "text": [
      "<list_iterator object at 0x000001E0AC9D00A0>\n"
     ]
    }
   ],
   "source": [
    "new_list=[12,14,16]\n",
    "iter_list=iter(new_list)\n",
    "print(iter_list)"
   ]
  },
  {
   "cell_type": "code",
   "execution_count": null,
   "id": "9c1409bc",
   "metadata": {},
   "outputs": [],
   "source": [
    "-  iter_list — это объект с типом данных list_iterator\n",
    "-  объект типа list_iterator не позволяет получать его элементы по индексам. \n",
    "Таким образом, можно сделать вывод, что итераторы не поддерживают индексацию\n",
    "print(iter_list[2])\n",
    "# Возникнет ошибка:\n",
    "# TypeError: 'list_iterator' object is not subscriptable"
   ]
  },
  {
   "cell_type": "markdown",
   "id": "facc1bf1",
   "metadata": {},
   "source": [
    "# next() - которая возвращает следующий элемент из итератора"
   ]
  },
  {
   "cell_type": "code",
   "execution_count": 7,
   "id": "33270423",
   "metadata": {},
   "outputs": [
    {
     "name": "stdout",
     "output_type": "stream",
     "text": [
      "12\n",
      "14\n",
      "16\n"
     ]
    },
    {
     "ename": "StopIteration",
     "evalue": "",
     "output_type": "error",
     "traceback": [
      "\u001b[1;31m---------------------------------------------------------------------------\u001b[0m",
      "\u001b[1;31mStopIteration\u001b[0m                             Traceback (most recent call last)",
      "\u001b[1;32m~\\AppData\\Local\\Temp/ipykernel_16596/2850982912.py\u001b[0m in \u001b[0;36m<module>\u001b[1;34m\u001b[0m\n\u001b[0;32m      2\u001b[0m \u001b[0mprint\u001b[0m\u001b[1;33m(\u001b[0m\u001b[0mnext\u001b[0m\u001b[1;33m(\u001b[0m\u001b[0miter_list\u001b[0m\u001b[1;33m)\u001b[0m\u001b[1;33m)\u001b[0m\u001b[1;33m\u001b[0m\u001b[1;33m\u001b[0m\u001b[0m\n\u001b[0;32m      3\u001b[0m \u001b[0mprint\u001b[0m\u001b[1;33m(\u001b[0m\u001b[0mnext\u001b[0m\u001b[1;33m(\u001b[0m\u001b[0miter_list\u001b[0m\u001b[1;33m)\u001b[0m\u001b[1;33m)\u001b[0m\u001b[1;33m\u001b[0m\u001b[1;33m\u001b[0m\u001b[0m\n\u001b[1;32m----> 4\u001b[1;33m \u001b[0mprint\u001b[0m\u001b[1;33m(\u001b[0m\u001b[0mnext\u001b[0m\u001b[1;33m(\u001b[0m\u001b[0miter_list\u001b[0m\u001b[1;33m)\u001b[0m\u001b[1;33m)\u001b[0m\u001b[1;33m\u001b[0m\u001b[1;33m\u001b[0m\u001b[0m\n\u001b[0m",
      "\u001b[1;31mStopIteration\u001b[0m: "
     ]
    }
   ],
   "source": [
    "print(next(iter_list))\n",
    "print(next(iter_list))\n",
    "print(next(iter_list))\n",
    "print(next(iter_list))"
   ]
  },
  {
   "cell_type": "code",
   "execution_count": null,
   "id": "76eb6db6",
   "metadata": {},
   "outputs": [],
   "source": [
    "ошибка StopIteration. Она означает, что элементы в итераторе закончились и получить из него больше ничего нельзя. "
   ]
  },
  {
   "cell_type": "code",
   "execution_count": null,
   "id": "3d137f1a",
   "metadata": {},
   "outputs": [],
   "source": [
    "итератор является «одноразовым» объектом: как только элементы в итераторе заканчиваются, он становится по сути бесполезным. "
   ]
  },
  {
   "cell_type": "code",
   "execution_count": 9,
   "id": "743a2b03",
   "metadata": {},
   "outputs": [
    {
     "name": "stdout",
     "output_type": "stream",
     "text": [
      "[(0, 'admin'), (1, 'guest'), (2, 'root'), (3, 'anonymous')]\n",
      "<enumerate object at 0x000001E0AC9D9C80>\n"
     ]
    }
   ],
   "source": [
    "users = ['admin', 'guest', 'root', 'anonymous']\n",
    "enum_users=enumerate(users)\n",
    "list_enum=list(enum_users)\n",
    "print(list_enum)\n",
    "print(enum_users)"
   ]
  },
  {
   "cell_type": "code",
   "execution_count": 10,
   "id": "2b2fbfcd",
   "metadata": {},
   "outputs": [
    {
     "ename": "StopIteration",
     "evalue": "",
     "output_type": "error",
     "traceback": [
      "\u001b[1;31m---------------------------------------------------------------------------\u001b[0m",
      "\u001b[1;31mStopIteration\u001b[0m                             Traceback (most recent call last)",
      "\u001b[1;32m~\\AppData\\Local\\Temp/ipykernel_16596/4035002771.py\u001b[0m in \u001b[0;36m<module>\u001b[1;34m\u001b[0m\n\u001b[1;32m----> 1\u001b[1;33m \u001b[0mprint\u001b[0m\u001b[1;33m(\u001b[0m\u001b[0mnext\u001b[0m\u001b[1;33m(\u001b[0m\u001b[0menum_users\u001b[0m\u001b[1;33m)\u001b[0m\u001b[1;33m)\u001b[0m\u001b[1;33m\u001b[0m\u001b[1;33m\u001b[0m\u001b[0m\n\u001b[0m",
      "\u001b[1;31mStopIteration\u001b[0m: "
     ]
    }
   ],
   "source": [
    "print(next(enum_users))\n",
    "#Возникла ошибка итерации. Дело в том, что в итераторе закончились элементы в тот момент,\n",
    "#как только мы получили из него список в примере выше, поэтому попытка получить из него ещё элементы вызвала ошибку."
   ]
  },
  {
   "cell_type": "code",
   "execution_count": null,
   "id": "855502be",
   "metadata": {},
   "outputs": [],
   "source": [
    "-  Итератор — это объект-перечислитель, который выдаёт следующий элемент из своих значений с помощью next() либо выбрасывает\n",
    "исключение StopIteration, когда элементы заканчиваются.\n",
    "-  Итерируемый объект — это объект, который может предоставить нам итератор. По его содержимому можно пройтись в цикле for. \n",
    "Встроенные итерируемые объекты — список, кортеж, строка, словарь, множество\n",
    "-  Все встроенные итерируемые объекты в Python содержат внутри себя итератор. Чтобы получить его, необходимо использовать\n",
    "функцию iter().\n",
    "-  Когда мы создаём цикл for по итерируемому объекту (например, списку), интерпретатор на самом деле неявно обращается к его\n",
    "итератору через iter() и использует функцию next(), чтобы получить следующий элемент. Когда цикл доходит до конца объекта,\n",
    "for отлавливает исключение StopIteration и прекращает свою работу. Вот она — магия Python, которая скрыта от наших глаз. \n",
    "Именно так «под капотом» работает цикл for, и теперь вы обладаете этим «тайным знанием».\n",
    "-  В Python можно создавать свои итераторы и прописывать в них правила выдачи элементов. Например, можно прописать, \n",
    "что выдавать элементы можно только по субботам, или изображения для обучения модели выдаются не по одному, а по 10 штук.\n",
    "Для этого создаются специальные классы с определёнными возможностями (о классах мы поговорим в модуле по ООП).\n",
    "Альтернативным вариантом такого подхода являются генераторы."
   ]
  },
  {
   "cell_type": "markdown",
   "id": "19406f89",
   "metadata": {},
   "source": [
    "# Генераторы, yield()"
   ]
  },
  {
   "cell_type": "code",
   "execution_count": null,
   "id": "ef03e355",
   "metadata": {},
   "outputs": [],
   "source": [
    "Генераторы — это объекты, которые при создании не вычисляют своё содержимое, но генерируют его в процессе работы.\n",
    "Они выдают своё содержимое по определённым правилам только по запросу разработчика."
   ]
  },
  {
   "cell_type": "code",
   "execution_count": null,
   "id": "9ac46cd2",
   "metadata": {},
   "outputs": [],
   "source": [
    "Генератор объявляется как обычная функция. В теле функции описывается то, как будут генерироваться выдаваемые генератором \n",
    "объекты.\n",
    "Синтаксис имеет одно очень важное отличие: вместо ключевого слова return в генераторе используется yield. "
   ]
  },
  {
   "cell_type": "code",
   "execution_count": 21,
   "id": "9ea0333d",
   "metadata": {},
   "outputs": [
    {
     "name": "stdout",
     "output_type": "stream",
     "text": [
      "<generator object deposit at 0x000001E0ACABAF20>\n"
     ]
    }
   ],
   "source": [
    "def deposit(money,interest):\n",
    "    interest=interest/100+1\n",
    "    while True:\n",
    "        money=round(money*interest,2)\n",
    "        yield money\n",
    "print(deposit(400000, 10))"
   ]
  },
  {
   "cell_type": "code",
   "execution_count": null,
   "id": "d3e60aeb",
   "metadata": {},
   "outputs": [],
   "source": [
    "Если вместо return в функции используется yield, то при вызове функция возвращает объект-генератор. \n",
    "Сама функция при этом не выполняется, пока мы не обратимся к генератору с помощью уже знакомой нам функции next().\n",
    "\n",
    "Таким образом, генераторы действуют по принципу: «Решаем задачи по мере их поступления, пока задач нет — отдыхаем».\n",
    "\n",
    "?\n",
    "Чем же так важен yield и чем он отличается от return?\n",
    "\n",
    "Оператор yield позволяет возвращать результат в основной блок кода и «замораживать» выполнение функции. \n",
    "Благодаря ему интерпретатор запоминает место, на котором он завершил работу с генератором, и возвращается на то же место\n",
    "при повторном обращении к генератору с помощью next().\n",
    "\n",
    "В случае с return выполнение функции завершилось бы после первой итерации while, и было возвращено значение переменной."
   ]
  },
  {
   "cell_type": "code",
   "execution_count": 27,
   "id": "1eb2ad6c",
   "metadata": {},
   "outputs": [
    {
     "name": "stdout",
     "output_type": "stream",
     "text": [
      "1100000.0\n",
      "1210000.0\n",
      "1331000.0\n",
      "1464100.0\n",
      "1610510.0\n"
     ]
    }
   ],
   "source": [
    "bank=deposit(1000000,10)\n",
    "print(next(bank))\n",
    "print(next(bank))\n",
    "print(next(bank))\n",
    "print(next(bank))\n",
    "print(next(bank))"
   ]
  },
  {
   "cell_type": "code",
   "execution_count": 28,
   "id": "78803e95",
   "metadata": {},
   "outputs": [],
   "source": [
    "def deposit_years(money,interest, years):\n",
    "    interest=interest/100+1\n",
    "    for i in range(years):\n",
    "        money=round(money*interest,2)\n",
    "        yield money\n"
   ]
  },
  {
   "cell_type": "code",
   "execution_count": 29,
   "id": "5e1ac7cd",
   "metadata": {},
   "outputs": [
    {
     "name": "stdout",
     "output_type": "stream",
     "text": [
      "1545.0\n",
      "1591.35\n"
     ]
    },
    {
     "ename": "StopIteration",
     "evalue": "",
     "output_type": "error",
     "traceback": [
      "\u001b[1;31m---------------------------------------------------------------------------\u001b[0m",
      "\u001b[1;31mStopIteration\u001b[0m                             Traceback (most recent call last)",
      "\u001b[1;32m~\\AppData\\Local\\Temp/ipykernel_16596/4001921739.py\u001b[0m in \u001b[0;36m<module>\u001b[1;34m\u001b[0m\n\u001b[0;32m      2\u001b[0m \u001b[0mprint\u001b[0m\u001b[1;33m(\u001b[0m\u001b[0mnext\u001b[0m\u001b[1;33m(\u001b[0m\u001b[0mbank2\u001b[0m\u001b[1;33m)\u001b[0m\u001b[1;33m)\u001b[0m\u001b[1;33m\u001b[0m\u001b[1;33m\u001b[0m\u001b[0m\n\u001b[0;32m      3\u001b[0m \u001b[0mprint\u001b[0m\u001b[1;33m(\u001b[0m\u001b[0mnext\u001b[0m\u001b[1;33m(\u001b[0m\u001b[0mbank2\u001b[0m\u001b[1;33m)\u001b[0m\u001b[1;33m)\u001b[0m\u001b[1;33m\u001b[0m\u001b[1;33m\u001b[0m\u001b[0m\n\u001b[1;32m----> 4\u001b[1;33m \u001b[0mprint\u001b[0m\u001b[1;33m(\u001b[0m\u001b[0mnext\u001b[0m\u001b[1;33m(\u001b[0m\u001b[0mbank2\u001b[0m\u001b[1;33m)\u001b[0m\u001b[1;33m)\u001b[0m\u001b[1;33m\u001b[0m\u001b[1;33m\u001b[0m\u001b[0m\n\u001b[0m",
      "\u001b[1;31mStopIteration\u001b[0m: "
     ]
    }
   ],
   "source": [
    "bank2 = deposit_years(1500, 3, 2)\n",
    "print(next(bank2))\n",
    "print(next(bank2))\n",
    "print(next(bank2))"
   ]
  },
  {
   "cell_type": "code",
   "execution_count": null,
   "id": "03e9a481",
   "metadata": {},
   "outputs": [],
   "source": [
    "Дело в том, что цикл for в генераторе завершился после двух итераций, интерпретатор Python не встретил оператор yield, \n",
    "на котором можно было бы заморозить выполнение генератора, и окончательно прекратил работу генератора. \n",
    "\n",
    "Генераторы — это специальный вид итераторов. Это значит, что генераторы можно обрабатывать в цикле for"
   ]
  },
  {
   "cell_type": "code",
   "execution_count": null,
   "id": "a2ef9eae",
   "metadata": {},
   "outputs": [],
   "source": [
    "bank3 = deposit_years(10000, 10, 3)\n",
    "for money in bank3:\n",
    "    print(money)\n",
    "# Будет напечатано:\n",
    "# 11000.0\n",
    "# 12100.0\n",
    "# 13310.0\n",
    "Напомним, что на каждой итерации цикл for невидимо для нас вызывает функцию next(), чтобы получить следующий элемент \n",
    "из итератора (в нашем примере правильнее сказать генератора). Когда возникает ошибка StopIteration, цикл for её отлавливает \n",
    "и прекращает итерации."
   ]
  },
  {
   "cell_type": "code",
   "execution_count": null,
   "id": "b5afd0d8",
   "metadata": {},
   "outputs": [],
   "source": [
    "Все значения, которые генерирует функция deposit_years(), \n",
    "можно завернуть в список, просто обернув результат её работы в функцию list():"
   ]
  },
  {
   "cell_type": "code",
   "execution_count": 30,
   "id": "9261aa3d",
   "metadata": {},
   "outputs": [
    {
     "name": "stdout",
     "output_type": "stream",
     "text": [
      "[103.0, 106.09, 109.27]\n"
     ]
    }
   ],
   "source": [
    "bank3=deposit_years(100,3,3)\n",
    "sums=list(bank3)\n",
    "print(sums)"
   ]
  },
  {
   "cell_type": "code",
   "execution_count": null,
   "id": "413e3378",
   "metadata": {},
   "outputs": [],
   "source": [
    "А вот с бесконечными генераторами так лучше не делать — возникнет бесконечный цикл, \n",
    "поскольку генератор не сможет остановить своё выполнение"
   ]
  },
  {
   "cell_type": "code",
   "execution_count": 37,
   "id": "d1dd3d63",
   "metadata": {},
   "outputs": [],
   "source": [
    "def mygen():\n",
    "    i=7\n",
    "    print('hello')\n",
    "    while i>0:\n",
    "        i-=1\n",
    "        yield i"
   ]
  },
  {
   "cell_type": "code",
   "execution_count": 39,
   "id": "d5f7380d",
   "metadata": {},
   "outputs": [
    {
     "name": "stdout",
     "output_type": "stream",
     "text": [
      "<generator object mygen at 0x000001E0ACAC30B0>\n"
     ]
    }
   ],
   "source": [
    "gen = mygen()\n",
    "print(gen)"
   ]
  },
  {
   "cell_type": "code",
   "execution_count": 38,
   "id": "050c83d6",
   "metadata": {
    "scrolled": true
   },
   "outputs": [
    {
     "name": "stdout",
     "output_type": "stream",
     "text": [
      "hello\n",
      "6 5 4 3 2 1 0 "
     ]
    }
   ],
   "source": [
    "gen = mygen()\n",
    "for i in gen:\n",
    "    print(i, end=' ')"
   ]
  },
  {
   "cell_type": "markdown",
   "id": "7d486c29",
   "metadata": {},
   "source": [
    "###### задание"
   ]
  },
  {
   "cell_type": "code",
   "execution_count": 94,
   "id": "c4e200a0",
   "metadata": {},
   "outputs": [
    {
     "ename": "SyntaxError",
     "evalue": "invalid syntax (Temp/ipykernel_16596/4281623958.py, line 1)",
     "output_type": "error",
     "traceback": [
      "\u001b[1;36m  File \u001b[1;32m\"C:\\Users\\tanya\\AppData\\Local\\Temp/ipykernel_16596/4281623958.py\"\u001b[1;36m, line \u001b[1;32m1\u001b[0m\n\u001b[1;33m    Напишите бесконечный итератор по списку.\u001b[0m\n\u001b[1;37m             ^\u001b[0m\n\u001b[1;31mSyntaxError\u001b[0m\u001b[1;31m:\u001b[0m invalid syntax\n"
     ]
    }
   ],
   "source": [
    "Напишите бесконечный итератор по списку.\n",
    "Для этого создайте генератор с названием inf_iter, который принимает на вход список и возвращает элементы из него через yield.\n",
    "Когда элементы в списке заканчиваются, генератор снова возвращает элементы из списка, начиная с нулевого.\n",
    "Пример работы итератора:\n",
    "\n",
    "l = [101, 102, 103]\n",
    "gen = inf_iter(l)\n",
    "for _ in range(10):\n",
    "    print(next(gen))\n",
    "Подсказка\n",
    "В теле генератора организуйте бесконечный цикл (внутри бесконечного цикла реализуется цикл  for). \n",
    "В цикле for пройдитесь по списку и выдавайте его элементы с помощью yield. Так вы получите циклический доступ \n",
    "к элементам списка."
   ]
  },
  {
   "cell_type": "code",
   "execution_count": 9,
   "id": "832348dc",
   "metadata": {},
   "outputs": [],
   "source": [
    "def inf_iter(l):\n",
    "    while True:\n",
    "        for i in l:\n",
    "            yield i"
   ]
  },
  {
   "cell_type": "code",
   "execution_count": 10,
   "id": "2374d028",
   "metadata": {},
   "outputs": [
    {
     "name": "stdout",
     "output_type": "stream",
     "text": [
      "101\n",
      "102\n",
      "103\n",
      "101\n",
      "102\n"
     ]
    }
   ],
   "source": [
    "l = [101, 102, 103]\n",
    "gen = inf_iter(l)\n",
    "for i in range(5):\n",
    "    print(next(gen))"
   ]
  },
  {
   "cell_type": "code",
   "execution_count": null,
   "id": "ee6551a5",
   "metadata": {},
   "outputs": [],
   "source": []
  },
  {
   "cell_type": "code",
   "execution_count": null,
   "id": "3665696c",
   "metadata": {
    "scrolled": true
   },
   "outputs": [],
   "source": []
  },
  {
   "cell_type": "markdown",
   "id": "af7ab2be",
   "metadata": {},
   "source": [
    "###### задание"
   ]
  },
  {
   "cell_type": "code",
   "execution_count": null,
   "id": "1e40dc57",
   "metadata": {},
   "outputs": [],
   "source": [
    "Напишите генератор group_gen(n). Он должен при каждом вызове выдавать порядковый номер от 1 до n (включая n). \n",
    "После достижения n генератор должен снова возвращать номера, начиная с 1."
   ]
  },
  {
   "cell_type": "code",
   "execution_count": 82,
   "id": "6844db63",
   "metadata": {},
   "outputs": [],
   "source": [
    "def group_gen(n):\n",
    "    while True:\n",
    "        for i in range(1,n+1):\n",
    "            yield i\n",
    "gen=group_gen(5)\n"
   ]
  },
  {
   "cell_type": "code",
   "execution_count": 83,
   "id": "21f77bd3",
   "metadata": {
    "scrolled": true
   },
   "outputs": [
    {
     "name": "stdout",
     "output_type": "stream",
     "text": [
      "1\n",
      "2\n",
      "3\n",
      "4\n",
      "5\n",
      "1\n",
      "2\n",
      "3\n",
      "4\n",
      "5\n"
     ]
    }
   ],
   "source": [
    "for i in range(10):\n",
    "    print(next(gen))\n"
   ]
  },
  {
   "cell_type": "markdown",
   "id": "fcef8e52",
   "metadata": {},
   "source": [
    "###### задание"
   ]
  },
  {
   "cell_type": "code",
   "execution_count": 84,
   "id": "bde885b5",
   "metadata": {},
   "outputs": [
    {
     "name": "stdout",
     "output_type": "stream",
     "text": [
      "[1, 4, 9, 16, 25, 36, 49, 64, 81, 100]\n"
     ]
    }
   ],
   "source": [
    "# Квадраты чисел\n",
    "def square_gen():\n",
    "    for i in range(1,11):\n",
    "        yield i**2\n",
    "sq=square_gen()\n",
    "list_sq=list(sq)\n",
    "print(list_sq)"
   ]
  },
  {
   "cell_type": "code",
   "execution_count": 86,
   "id": "37b07da2",
   "metadata": {},
   "outputs": [
    {
     "ename": "StopIteration",
     "evalue": "",
     "output_type": "error",
     "traceback": [
      "\u001b[1;31m---------------------------------------------------------------------------\u001b[0m",
      "\u001b[1;31mStopIteration\u001b[0m                             Traceback (most recent call last)",
      "\u001b[1;32m~\\AppData\\Local\\Temp/ipykernel_16596/1886377900.py\u001b[0m in \u001b[0;36m<module>\u001b[1;34m\u001b[0m\n\u001b[1;32m----> 1\u001b[1;33m \u001b[0mprint\u001b[0m\u001b[1;33m(\u001b[0m\u001b[0mnext\u001b[0m\u001b[1;33m(\u001b[0m\u001b[0msq\u001b[0m\u001b[1;33m)\u001b[0m\u001b[1;33m)\u001b[0m\u001b[1;33m\u001b[0m\u001b[1;33m\u001b[0m\u001b[0m\n\u001b[0m",
      "\u001b[1;31mStopIteration\u001b[0m: "
     ]
    }
   ],
   "source": [
    "print(next(sq))"
   ]
  },
  {
   "cell_type": "markdown",
   "id": "a1753ffb",
   "metadata": {},
   "source": [
    "### Сокращенное написние генератора/ Используют крYглые скобки\n"
   ]
  },
  {
   "cell_type": "code",
   "execution_count": 11,
   "id": "743b478d",
   "metadata": {},
   "outputs": [],
   "source": [
    "sq_gen=(i**2 for i in range(1,11))"
   ]
  },
  {
   "cell_type": "markdown",
   "id": "617420e2",
   "metadata": {},
   "source": [
    "### Получаем список из генератора"
   ]
  },
  {
   "cell_type": "code",
   "execution_count": 93,
   "id": "1e0e614c",
   "metadata": {},
   "outputs": [
    {
     "name": "stdout",
     "output_type": "stream",
     "text": [
      "[1, 4, 9, 16, 25, 36, 49, 64, 81, 100]\n"
     ]
    }
   ],
   "source": [
    "list_sq2=list(sq_gen)\n",
    "print(list_sq2)"
   ]
  },
  {
   "cell_type": "markdown",
   "id": "abccb8c6",
   "metadata": {},
   "source": [
    "### По аналогии с list() из генератора можно получить tuple() — кортеж и set() — множество:"
   ]
  },
  {
   "cell_type": "code",
   "execution_count": 12,
   "id": "80d283f0",
   "metadata": {
    "scrolled": true
   },
   "outputs": [
    {
     "name": "stdout",
     "output_type": "stream",
     "text": [
      "(1, 4, 9, 16, 25, 36, 49, 64, 81, 100)\n"
     ]
    }
   ],
   "source": [
    "list_sq2=tuple(sq_gen)\n",
    "print(list_sq2)"
   ]
  },
  {
   "cell_type": "code",
   "execution_count": 14,
   "id": "c22bbf0f",
   "metadata": {},
   "outputs": [
    {
     "name": "stdout",
     "output_type": "stream",
     "text": [
      "set()\n"
     ]
    }
   ],
   "source": [
    "list_sq2=set(sq_gen)\n",
    "print(list_sq2)"
   ]
  },
  {
   "cell_type": "markdown",
   "id": "d9bde3b7",
   "metadata": {},
   "source": [
    "##### Сокращенное написние генератора c условием"
   ]
  },
  {
   "cell_type": "code",
   "execution_count": 95,
   "id": "28d8faf6",
   "metadata": {
    "scrolled": true
   },
   "outputs": [
    {
     "name": "stdout",
     "output_type": "stream",
     "text": [
      "<class 'generator'>\n",
      "[27, 216, 729, 1728, 3375]\n"
     ]
    }
   ],
   "source": [
    "# Создаём генератор кубов чисел, которые делятся на 3\n",
    "triple_cubes_generator = (x**3 for x in range(1,16) if x % 3 == 0)\n",
    "print(type(triple_cubes_generator))\n",
    "# Оборачиваем сгенерированные значения в список\n",
    "print(list(triple_cubes_generator))"
   ]
  },
  {
   "cell_type": "markdown",
   "id": "7a30cb51",
   "metadata": {},
   "source": [
    "#### создать сразу генератор списков [ ], множеств { }, кортежей tuple()"
   ]
  },
  {
   "cell_type": "code",
   "execution_count": null,
   "id": "495fcdb5",
   "metadata": {},
   "outputs": [],
   "source": [
    "Важное замечание: можно генерировать списки сразу, без необходимости применения функции list() к объекту-генератору.\n",
    "    Достаточно написать выражение для генератора в квадратных скобках, а не в круглых. \n",
    "    Такая конструкция называется генератором списка:\n",
    "\n",
    "# Создаём генератор списка кубов чисел, которые делятся на 3\n",
    "triple_cubes_list = [x**3 for x in range(1,16) if x % 3 == 0]\n",
    "print(type(triple_cubes_list))\n",
    "print(triple_cubes_list)\n",
    "# Будет напечатано:\n",
    "# <class 'list'>\n",
    "# [27, 216, 729, 1728, 3375]\n",
    "То же самое работает и для множества — достаточно написать фигурные скобки вместо круглых. \n",
    "Такая запись будет называться генератором множества:\n",
    "\n",
    "# Создаём генератор множества кубов чисел, которые делятся на 3\n",
    "triple_cubes_set = {x**3 for x in range(1,16) if x % 3 == 0}\n",
    "print(type(triple_cubes_set))\n",
    "print(triple_cubes_set)\n",
    "# Будет напечатано:\n",
    "# <class 'set'>\n",
    "# {1728, 3375, 216, 729, 27}\n",
    "А вот кортеж так получить не выйдет, поскольку круглые скобки используются для создания генераторов. \n",
    "Но и эту проблему можно решить — достаточно окружить выражение для генератора функцией tuple(). \n",
    "Такая запись будет называться генератором кортежей:\n",
    "\n",
    "triple_cubes_tuple = tuple(x**3 for x in range(1,16) if x % 3 == 0)\n",
    "print(type(triple_cubes_tuple))\n",
    "print(triple_cubes_tuple)\n",
    "# Будет напечатано:\n",
    "# <class 'tuple'>\n",
    "# (27, 216, 729, 1728, 3375)"
   ]
  },
  {
   "cell_type": "code",
   "execution_count": 15,
   "id": "4700eb51",
   "metadata": {},
   "outputs": [],
   "source": [
    "def root_generator(values):\n",
    "    for val in values:\n",
    "        if val >= 0:\n",
    "            result = val ** 0.5\n",
    "            yield result"
   ]
  },
  {
   "cell_type": "code",
   "execution_count": 16,
   "id": "7ecadc73",
   "metadata": {},
   "outputs": [],
   "source": [
    "new_root_generator = root_generator([-5, 25, 36, -25, 0])"
   ]
  },
  {
   "cell_type": "code",
   "execution_count": 20,
   "id": "152e6851",
   "metadata": {},
   "outputs": [
    {
     "ename": "StopIteration",
     "evalue": "",
     "output_type": "error",
     "traceback": [
      "\u001b[1;31m---------------------------------------------------------------------------\u001b[0m",
      "\u001b[1;31mStopIteration\u001b[0m                             Traceback (most recent call last)",
      "\u001b[1;32m~\\AppData\\Local\\Temp/ipykernel_7640/1954475363.py\u001b[0m in \u001b[0;36m<module>\u001b[1;34m\u001b[0m\n\u001b[1;32m----> 1\u001b[1;33m \u001b[0mprint\u001b[0m\u001b[1;33m(\u001b[0m\u001b[0mnext\u001b[0m\u001b[1;33m(\u001b[0m\u001b[0mnew_root_generator\u001b[0m\u001b[1;33m)\u001b[0m\u001b[1;33m)\u001b[0m\u001b[1;33m\u001b[0m\u001b[1;33m\u001b[0m\u001b[0m\n\u001b[0m",
      "\u001b[1;31mStopIteration\u001b[0m: "
     ]
    }
   ],
   "source": [
    "print(next(new_root_generator))"
   ]
  },
  {
   "cell_type": "code",
   "execution_count": null,
   "id": "1d5136e9",
   "metadata": {},
   "outputs": [],
   "source": []
  },
  {
   "cell_type": "markdown",
   "id": "4cb17246",
   "metadata": {},
   "source": [
    "# функция MAP()"
   ]
  },
  {
   "cell_type": "code",
   "execution_count": null,
   "id": "7b2ac8d5",
   "metadata": {},
   "outputs": [],
   "source": [
    "Теперь применим эту функцию к списку names с помощью специальной встроенной в Python функции map(). \n",
    "Она позволяет преобразовать каждый элемент итерируемого объекта по заданной функции.\n",
    "\n",
    "Аргументы функции map():\n",
    "\n",
    "Функция, которую необходимо применить к каждому элементу.\n",
    "Итерируемый объект (например, список).\n",
    " Функция map() возвращает объект типа map."
   ]
  },
  {
   "cell_type": "code",
   "execution_count": null,
   "id": "9d9a8c62",
   "metadata": {},
   "outputs": [],
   "source": [
    "# Объявляем функцию для вычисления длины\n",
    "def get_length(word):\n",
    "    return len(word)\n",
    "# Применяем функцию get_length к каждому элементу списка\n",
    "lens = map(get_length, names)\n",
    "# Проверим, что переменная lens — это объект типа map:\n",
    "# Для этого воспользуемся функцией isinstance\n",
    "print(isinstance(lens, map))\n",
    "# Будет напечатано:\n",
    "# True"
   ]
  },
  {
   "cell_type": "code",
   "execution_count": null,
   "id": "f9336c40",
   "metadata": {},
   "outputs": [],
   "source": [
    "#Объект типа map на самом деле является разновидностью итератора, а значит можно получить его элементы,\n",
    "# последовательно применяя функцию next():\n",
    "    # Последовательно получаем элементы итератора map\n",
    "print(next(lens))\n",
    "print(next(lens))\n",
    "print(next(lens))\n",
    "# Будет напечатано:\n",
    "# 4\n",
    "# 6\n",
    "# 5"
   ]
  },
  {
   "cell_type": "code",
   "execution_count": null,
   "id": "24e95311",
   "metadata": {},
   "outputs": [],
   "source": [
    "Кроме того, объекты итератора можно сразу занести в список, обернув результат работы функции map() в функцию list():\n",
    "\n",
    "# Оборачиваем содержимое итератора map в список\n",
    "lens_list = list(map(get_length, names))\n",
    "print(lens_list)\n",
    "# Будет напечатано:\n",
    "# [4, 6, 5, 9, 8, 3]"
   ]
  },
  {
   "cell_type": "code",
   "execution_count": null,
   "id": "6632680f",
   "metadata": {},
   "outputs": [],
   "source": [
    "lens = list(map(lambda x: len(x), names))\n",
    "print(lens)\n",
    "# Будет напечатано:\n",
    "# [4, 6, 5, 9, 8, 3]"
   ]
  },
  {
   "cell_type": "code",
   "execution_count": 21,
   "id": "8ce86390",
   "metadata": {},
   "outputs": [
    {
     "name": "stdout",
     "output_type": "stream",
     "text": [
      "['https://www.kommersant.ru//doc/5041434?query=data%20science', 'https://www.kommersant.ru//doc/5041567?query=data%20science', 'https://www.kommersant.ru//doc/4283670?query=data%20science', 'https://www.kommersant.ru//doc/3712659?query=data%20science', 'https://www.kommersant.ru//doc/4997267?query=data%20science', 'https://www.kommersant.ru//doc/4372673?query=data%20science', 'https://www.kommersant.ru//doc/3779060?query=data%20science', 'https://www.kommersant.ru//doc/3495410?query=data%20science', 'https://www.kommersant.ru//doc/4308832?query=data%20science', 'https://www.kommersant.ru//doc/4079881?query=data%20science']\n"
     ]
    }
   ],
   "source": [
    "#Задача\n",
    "#Представьте, что пытаетесь выгрузить несколько новостей с сайта. У вас есть список путей до интересующих вас статей.\n",
    "#Пример такого списка:\n",
    "\n",
    "docs = [\n",
    "    '//doc/5041434?query=data%20science',\n",
    "    '//doc/5041567?query=data%20science',\n",
    "    '//doc/4283670?query=data%20science',\n",
    "    '//doc/3712659?query=data%20science',\n",
    "    '//doc/4997267?query=data%20science',\n",
    "    '//doc/4372673?query=data%20science',\n",
    "    '//doc/3779060?query=data%20science',\n",
    "    '//doc/3495410?query=data%20science',\n",
    "    '//doc/4308832?query=data%20science',\n",
    "    '//doc/4079881?query=data%20science'\n",
    "]\n",
    "links=list(map(lambda x: 'https://www.kommersant.ru'+ x, docs))\n",
    "print(links)"
   ]
  },
  {
   "cell_type": "markdown",
   "id": "1a4853ee",
   "metadata": {},
   "source": [
    "# Функция filter()"
   ]
  },
  {
   "cell_type": "code",
   "execution_count": null,
   "id": "357a217f",
   "metadata": {},
   "outputs": [],
   "source": [
    "lens_list = [4, 6, 5, 9, 8, 3]\n",
    "even_list = []\n",
    "# Создаём цикл по элементам списка\n",
    "for item in lens_list:\n",
    "    # Проверяем условие, что текущий элемент списка чётный\n",
    "    if item % 2 == 0: # Если условие выполняется,\n",
    "        # добавляем элемент в новый список\n",
    "        even_list .append(item)\n",
    "print(even_list)\n",
    "# Будет напечатано:\n",
    "# [4, 6, 8]"
   ]
  },
  {
   "cell_type": "code",
   "execution_count": null,
   "id": "a30dae3d",
   "metadata": {},
   "outputs": [],
   "source": [
    "Однако эту задачу можно решить с помощью специальной встроенной в Python функции filter(). \n",
    "\n",
    "Она позволит отфильтровать переданный ей итерируемый объект и оставить в нём только те элементы, которые удовлетворяют условию.\n",
    "\n",
    "Её использование аналогично применению функции map().\n",
    "\n",
    "Аргументы функции filter():\n",
    "\n",
    "Функция, которая должна возвращать True, если условие выполнено, иначе возвращается False.\n",
    "Итератор, с которым производится действие.\n",
    "Функция filter() возвращает объект типа filter"
   ]
  },
  {
   "cell_type": "code",
   "execution_count": null,
   "id": "11cea629",
   "metadata": {},
   "outputs": [],
   "source": [
    "# Объявляем функцию для проверки чётности числа\n",
    "def is_even(num):\n",
    "    if num % 2 == 0:\n",
    "        return True\n",
    "    return False\n",
    "\n",
    "\n",
    "lens_list = [4, 6, 5, 9, 8, 3]\n",
    "# Применяем функцию is_even к каждому элементу списка\n",
    "even = filter(is_even, lens_list)\n",
    "# Убедимся, что even — объект типа filter\n",
    "print(isinstance(even, filter))\n",
    "# Будет напечатано:\n",
    "# True"
   ]
  },
  {
   "cell_type": "code",
   "execution_count": null,
   "id": "7611595d",
   "metadata": {},
   "outputs": [],
   "source": [
    "Объект filter также является итератором. Сохраним все элементы из него в список и напечатаем этот список:\n",
    "\n",
    "print(list(even))\n",
    "# Будет напечатано:\n",
    "# [4, 6, 8]"
   ]
  },
  {
   "cell_type": "code",
   "execution_count": null,
   "id": "9866e394",
   "metadata": {},
   "outputs": [],
   "source": [
    "lens_list = [4, 6, 5, 9, 8, 3] \n",
    "# Применяем lambda-функцию к каждому элементу списка\n",
    "even = filter(lambda x: x % 2 == 0, lens_list)\n",
    "print(list(even))\n",
    "# Будет напечатано:\n",
    "# [4, 6, 8]"
   ]
  },
  {
   "cell_type": "code",
   "execution_count": null,
   "id": "fbcdf49b",
   "metadata": {},
   "outputs": [],
   "source": [
    "В общем случае функция filter() может быть использована в тех случаях, когда у вас есть набор данных\n",
    "(в виде итерируемого объекта) и вам необходимо отбросить элементы, \n",
    "которые не проходят по условию (оценка меньше 70 баллов, нечётные числа, «битые» картинки или другие файлы).\n",
    "\n",
    "Тогда вы можете создать отдельную функцию, которая будет возвращать True или False в зависимости от условия. \n",
    "Применив эту функцию к данным с помощью filter(), вы оставите в своих данных только те элементы, для которых функция вернула \n",
    "True."
   ]
  },
  {
   "cell_type": "code",
   "execution_count": null,
   "id": "6905a7d9",
   "metadata": {},
   "outputs": [],
   "source": [
    ". Необходимо написать функционал, который позволяет отфильтровать среди всех запрашиваемых пользователем услуг\n",
    "(их количество произвольное) только те, которые предоставляются многодетным семьям.\n",
    "\n",
    "Список услуг, предоставляемых многодетным семьям:\n",
    "\n",
    "family_list = [\n",
    "    'certificate of a large family',\n",
    "    'social card',\n",
    "    'maternity capital',\n",
    "    'parking permit',\n",
    "    'tax benefit',\n",
    "    'reimbursement of expenses',\n",
    "    \"compensation for the purchase of children's goods\"\n",
    "    ]\n",
    "Определите функцию family(), на вход которой подаётся произвольное количество аргументов (строки с названием услуг МФЦ), \n",
    "а в результате возвращается список услуг, которые могут быть оказаны только многодетной семье."
   ]
  },
  {
   "cell_type": "code",
   "execution_count": 26,
   "id": "3ba6bce3",
   "metadata": {},
   "outputs": [
    {
     "name": "stdout",
     "output_type": "stream",
     "text": [
      "['parking permit', 'maternity capital', 'tax benefit']\n"
     ]
    }
   ],
   "source": [
    "family_list = [\n",
    "    'certificate of a large family',\n",
    "    'social card',\n",
    "    'maternity capital',\n",
    "    'parking permit',\n",
    "    'tax benefit',\n",
    "    'reimbursement of expenses',\n",
    "    \"compensation for the purchase of children's goods\"\n",
    "    ]\n",
    "def family(*args):\n",
    "    new_list=[]\n",
    "    for i in args:\n",
    "        if i in family_list:\n",
    "            new_list.append(i)\n",
    "    return new_list\n",
    "\n",
    "    \n",
    "print(family('newborn registration', 'parking permit', 'maternity capital', 'tax benefit', 'medical policy'))"
   ]
  },
  {
   "cell_type": "code",
   "execution_count": 41,
   "id": "b36d8db8",
   "metadata": {},
   "outputs": [
    {
     "name": "stdout",
     "output_type": "stream",
     "text": [
      "newborn registration parking permit maternity capital tax benefit medical policy\n",
      "['parking permit', 'maternity capital', 'tax benefit']\n"
     ]
    }
   ],
   "source": [
    "def family(*args):\n",
    "    family_list = [\n",
    "    'certificate of a large family',\n",
    "    'social card',\n",
    "    'maternity capital',\n",
    "    'parking permit',\n",
    "    'tax benefit',\n",
    "    'reimbursement of expenses',\n",
    "    \"compensation for the purchase of children's goods\"\n",
    "    ]\n",
    "    print(*args)\n",
    "    return list(filter(lambda x: x in family_list, args))\n",
    "print(family('newborn registration', 'parking permit', 'maternity capital', 'tax benefit', 'medical policy'))"
   ]
  },
  {
   "cell_type": "markdown",
   "id": "d9338219",
   "metadata": {},
   "source": [
    "# функция ZIP()"
   ]
  },
  {
   "cell_type": "code",
   "execution_count": 42,
   "id": "bef87e4a",
   "metadata": {},
   "outputs": [
    {
     "name": "stdout",
     "output_type": "stream",
     "text": [
      "Ivanov Sergej\n",
      "Smirnov Ivan\n",
      "Kuznetsova Maria\n",
      "Nikitina Elena\n"
     ]
    }
   ],
   "source": [
    "surnames = ['Ivanov', 'Smirnov', 'Kuznetsova', 'Nikitina']\n",
    "names = ['Sergej', 'Ivan', 'Maria', 'Elena']\n",
    "# Создаём цикл по элементам итератора zip — кортежам из фамилий и имён\n",
    "for surname, name in zip(surnames, names):\n",
    "    print(surname, name)"
   ]
  },
  {
   "cell_type": "code",
   "execution_count": null,
   "id": "1945cf13",
   "metadata": {},
   "outputs": [],
   "source": [
    "Перед вами стоит задача разбить пользователей на три группы, чтобы в дальнейшем проводить А/B/C-тестирование.\n",
    "Например, первой группе вы выдаёте первый вариант интерфейса вашего приложения, второй группе — второй, третьей группе — третий.\n",
    "Затем вы будете сравнивать реакцию пользователей и делать вывод, какой интерфейс лучше.\n",
    "\n",
    "Для генерации групп дан генератор group_gen. Аргументом данного генератора является число n — число групп (у нас n = 3). \n",
    "При каждом вызове  генератора он возвращает число от 1 до n. После достижения n генератор снова возвращает номера групп, \n",
    "начиная с 1.\n",
    "\n",
    "def group_gen(n=3):\n",
    "    while True:\n",
    "        for i in range(1, n+1):\n",
    "            yield i\n",
    "Пример списка пользователей:\n",
    "\n",
    "users = ['Smith J.', 'Petrova M.', 'Lubimov M.', 'Holov J.']\n",
    "Напишите функцию print_groups, которая принимает список с именами пользователей. Используя генератор групп group_gen,\n",
    "печатайте на экран:\n",
    "\n",
    "<Фамилия И.> in group <номер группы по порядку>.\n",
    "\n",
    "Например для списка users вывод будет таким:\n",
    "\n",
    "Smith J. in group 1\n",
    "Petrova M. in group 2\n",
    "Lubimov M. in group 3\n",
    "Holov J. in group 1"
   ]
  },
  {
   "cell_type": "code",
   "execution_count": 46,
   "id": "aaad368b",
   "metadata": {},
   "outputs": [
    {
     "name": "stdout",
     "output_type": "stream",
     "text": [
      "Smith J. 1\n",
      "Petrova M. 2\n",
      "Lubimov M. 3\n",
      "Holov J. 1\n"
     ]
    }
   ],
   "source": [
    "users = ['Smith J.', 'Petrova M.', 'Lubimov M.', 'Holov J.']\n",
    "def group_gen(n=3):\n",
    "    while True:\n",
    "        for i in range(1, n+1):\n",
    "            yield i\n",
    "for name, group in zip(users, group_gen(n=3)):\n",
    "    print (name, group)"
   ]
  },
  {
   "cell_type": "markdown",
   "id": "491b093d",
   "metadata": {},
   "source": [
    "# функция reduce()"
   ]
  },
  {
   "cell_type": "code",
   "execution_count": null,
   "id": "3e8d9d16",
   "metadata": {},
   "outputs": [],
   "source": [
    "reduce(), как и map() или filter(), в качестве первого аргумента принимает функцию, в качестве второго — итерируемый объект\n",
    "(например, список).\n",
    "\n",
    "reduce() выполняет следующие действия:\n",
    "\n",
    "1Берёт первый и второй элементы из итератора, применяет к ним переданную функцию.\n",
    "\n",
    "2Запоминает значение, которое получено в шаге 1, и подставляет его в качестве первого аргумента в функцию.\n",
    "В качестве второго аргумента reduce() получает следующий элемент из генератора. \n",
    "\n",
    "3Действие 2 повторяется до тех пор, пока в итерируемом объекте есть элементы.\n",
    "\n",
    "4Функция reduce() возвращает последнее значение, которое вернула функция"
   ]
  },
  {
   "cell_type": "code",
   "execution_count": 47,
   "id": "0f1d108a",
   "metadata": {},
   "outputs": [
    {
     "name": "stdout",
     "output_type": "stream",
     "text": [
      "120\n"
     ]
    }
   ],
   "source": [
    "# Импортируем модуль functools\n",
    "from functools import reduce\n",
    "\n",
    "iterable = list(range(1, 6))\n",
    "# Применяем lambda-функцию для вычисления к произведения к списку\n",
    "reduced = reduce(lambda x,y: x*y, iterable)\n",
    "print(reduced)"
   ]
  },
  {
   "cell_type": "code",
   "execution_count": null,
   "id": "af992196",
   "metadata": {},
   "outputs": [],
   "source": [
    "Напишите функцию-декоратор-логгер logger(name).\n",
    "\n",
    "При создании декоратора передаётся имя логгера, которое выводится при каждом запуске декорируемой функции.\n",
    "\n",
    "Декорированная функция должна печатать:\n",
    "\n",
    "перед запуском основной:\n",
    "<имя логгера>: Function <имя декорируемой функции> started\n",
    "после запуска основной:\n",
    "<имя логгера>: Function <имя декорируемой функции> finished\n",
    "Примечание. Узнать имя функции из переменной func, переданной в декоратор, можно с помощью конструкции func.__name__.\n",
    "Это так называемые «магические» атрибуты у объектов в Python (о них мы поговорим в модуле по ООП). \n",
    "Обратите внимание, что name обрамлён двумя символами нижнего подчёркивания \"_\" слева и справа.\n",
    "\n",
    "Пример работы функции:\n",
    "\n",
    "@logger('MainLogger')\n",
    "def root(val, n=2):\n",
    "    res = val ** (1/n)\n",
    "    return res\n",
    " \n",
    "print(root(25))\n",
    "# MainLogger: Function root started\n",
    "# MainLogger: Function root finished\n",
    "# 5.0"
   ]
  },
  {
   "cell_type": "code",
   "execution_count": 97,
   "id": "be06c1fd",
   "metadata": {},
   "outputs": [],
   "source": [
    "def logger(name):\n",
    "    def decor(func):\n",
    "        def decor_logger(*args, **kwargs):\n",
    "            print(name._name_,\"Function\", 'started', name )\n",
    "            print(\"Function\", 'finished')\n",
    "            result=func(*args, **kwargs) \n",
    "            return result\n",
    "        return decor_logger\n",
    "    return decor"
   ]
  },
  {
   "cell_type": "code",
   "execution_count": 98,
   "id": "019c766b",
   "metadata": {},
   "outputs": [],
   "source": [
    "@logger(\"tata\")\n",
    "def root(val, n=2):\n",
    "    res = val ** (1/n)\n",
    "    return res"
   ]
  },
  {
   "cell_type": "code",
   "execution_count": 99,
   "id": "6faa0698",
   "metadata": {
    "scrolled": true
   },
   "outputs": [
    {
     "ename": "AttributeError",
     "evalue": "'str' object has no attribute '_name_'",
     "output_type": "error",
     "traceback": [
      "\u001b[1;31m---------------------------------------------------------------------------\u001b[0m",
      "\u001b[1;31mAttributeError\u001b[0m                            Traceback (most recent call last)",
      "\u001b[1;32m~\\AppData\\Local\\Temp/ipykernel_7640/1729677285.py\u001b[0m in \u001b[0;36m<module>\u001b[1;34m\u001b[0m\n\u001b[1;32m----> 1\u001b[1;33m \u001b[0mprint\u001b[0m\u001b[1;33m(\u001b[0m\u001b[0mroot\u001b[0m\u001b[1;33m(\u001b[0m\u001b[1;36m4\u001b[0m\u001b[1;33m)\u001b[0m\u001b[1;33m)\u001b[0m\u001b[1;33m\u001b[0m\u001b[1;33m\u001b[0m\u001b[0m\n\u001b[0m",
      "\u001b[1;32m~\\AppData\\Local\\Temp/ipykernel_7640/885659296.py\u001b[0m in \u001b[0;36mdecor_logger\u001b[1;34m(*args, **kwargs)\u001b[0m\n\u001b[0;32m      2\u001b[0m     \u001b[1;32mdef\u001b[0m \u001b[0mdecor\u001b[0m\u001b[1;33m(\u001b[0m\u001b[0mfunc\u001b[0m\u001b[1;33m)\u001b[0m\u001b[1;33m:\u001b[0m\u001b[1;33m\u001b[0m\u001b[1;33m\u001b[0m\u001b[0m\n\u001b[0;32m      3\u001b[0m         \u001b[1;32mdef\u001b[0m \u001b[0mdecor_logger\u001b[0m\u001b[1;33m(\u001b[0m\u001b[1;33m*\u001b[0m\u001b[0margs\u001b[0m\u001b[1;33m,\u001b[0m \u001b[1;33m**\u001b[0m\u001b[0mkwargs\u001b[0m\u001b[1;33m)\u001b[0m\u001b[1;33m:\u001b[0m\u001b[1;33m\u001b[0m\u001b[1;33m\u001b[0m\u001b[0m\n\u001b[1;32m----> 4\u001b[1;33m             \u001b[0mprint\u001b[0m\u001b[1;33m(\u001b[0m\u001b[0mname\u001b[0m\u001b[1;33m.\u001b[0m\u001b[0m_name_\u001b[0m\u001b[1;33m,\u001b[0m\u001b[1;34m\"Function\"\u001b[0m\u001b[1;33m,\u001b[0m \u001b[1;34m'started'\u001b[0m\u001b[1;33m,\u001b[0m \u001b[0mname\u001b[0m \u001b[1;33m)\u001b[0m\u001b[1;33m\u001b[0m\u001b[1;33m\u001b[0m\u001b[0m\n\u001b[0m\u001b[0;32m      5\u001b[0m             \u001b[0mprint\u001b[0m\u001b[1;33m(\u001b[0m\u001b[1;34m\"Function\"\u001b[0m\u001b[1;33m,\u001b[0m \u001b[1;34m'finished'\u001b[0m\u001b[1;33m)\u001b[0m\u001b[1;33m\u001b[0m\u001b[1;33m\u001b[0m\u001b[0m\n\u001b[0;32m      6\u001b[0m             \u001b[0mresult\u001b[0m\u001b[1;33m=\u001b[0m\u001b[0mfunc\u001b[0m\u001b[1;33m(\u001b[0m\u001b[1;33m*\u001b[0m\u001b[0margs\u001b[0m\u001b[1;33m,\u001b[0m \u001b[1;33m**\u001b[0m\u001b[0mkwargs\u001b[0m\u001b[1;33m)\u001b[0m\u001b[1;33m\u001b[0m\u001b[1;33m\u001b[0m\u001b[0m\n",
      "\u001b[1;31mAttributeError\u001b[0m: 'str' object has no attribute '_name_'"
     ]
    }
   ],
   "source": [
    "print(root(4))"
   ]
  },
  {
   "cell_type": "markdown",
   "id": "dda42aa1",
   "metadata": {},
   "source": [
    "# встроенный модуль Collections "
   ]
  },
  {
   "cell_type": "code",
   "execution_count": 1,
   "id": "e643d956",
   "metadata": {},
   "outputs": [],
   "source": [
    "#Collections позволяет упростить написание кода при решении некоторых типовых задач, таких как подсчёт числа различных элементов или создание словаря для хранения в нём списков."
   ]
  },
  {
   "cell_type": "markdown",
   "id": "b662cb7d",
   "metadata": {},
   "source": [
    "# объекты из модуля Collections, такие как Counter, defaultdict, deque и OrderedDict"
   ]
  },
  {
   "cell_type": "code",
   "execution_count": 2,
   "id": "b3eb6ac2",
   "metadata": {},
   "outputs": [
    {
     "name": "stdout",
     "output_type": "stream",
     "text": [
      "Counter({'red': 1})\n"
     ]
    },
    {
     "data": {
      "text/plain": [
       "collections.Counter"
      ]
     },
     "execution_count": 2,
     "metadata": {},
     "output_type": "execute_result"
    }
   ],
   "source": [
    "from collections import Counter\n",
    "c = Counter()\n",
    "c['red'] = 1\n",
    "print(c)\n",
    "type(c)"
   ]
  },
  {
   "cell_type": "code",
   "execution_count": 15,
   "id": "9b46782d",
   "metadata": {},
   "outputs": [
    {
     "name": "stdout",
     "output_type": "stream",
     "text": [
      "dict_values([3, 2, 3, 1])\n",
      "9\n",
      "Counter({'red': 3, 'black': 3, 'blue': 2, 'white': 1})\n",
      "3\n",
      "0\n"
     ]
    }
   ],
   "source": [
    "# Узнать сумму всех значений в объекте Counter:\n",
    "from collections import Counter\n",
    "cars = ['red', 'blue', 'black', 'black', 'black', 'red', 'blue', 'red', 'white']\n",
    "c = Counter(cars)\n",
    "print(c.values()) #получаем элементы (число раз, когда встретился ключ) с помощью функции value\n",
    "print(sum(c.values())) #Узнать сумму всех значений в объекте Counter\n",
    "print(c) # посчитать сколько раз встречаются все обьекты\n",
    "print(c['red']) # посчитать сколько раз встречается обьект\n",
    "print(c['purple']) #Если обратиться к счётчику по несуществующему ключу, то, в отличие от словаря, ошибка KeyError не возникнет:"
   ]
  },
  {
   "cell_type": "markdown",
   "id": "161f603c",
   "metadata": {},
   "source": [
    "# subtract()\n",
    "### (counter_moscow.subtract(counter_spb) subtrack() вычитание с изменением первого аргумента и \n",
    "### сложение (counter_moscow + counter_spb)\n"
   ]
  },
  {
   "cell_type": "code",
   "execution_count": 67,
   "id": "46263fae",
   "metadata": {},
   "outputs": [
    {
     "name": "stdout",
     "output_type": "stream",
     "text": [
      "Counter({'black': 6, 'white': 5, 'yellow': 5, 'red': 2})\n",
      "Counter({'black': 2, 'yellow': 1, 'white': -1, 'red': -2})\n"
     ]
    }
   ],
   "source": [
    "# вычитане и ссложение словарей\n",
    "cars_moscow = ['black', 'black', 'white', 'black', 'black', 'white', 'yellow', 'yellow', 'yellow']\n",
    "cars_spb = ['red', 'black', 'black', 'white', 'white', 'yellow', 'yellow', 'red', 'white']\n",
    "counter_moscow = Counter(cars_moscow)\n",
    "counter_spb = Counter(cars_spb)\n",
    "print(counter_moscow + counter_spb)\n",
    "\n",
    "counter_moscow.subtract(counter_spb)\n",
    "print(counter_moscow)\n"
   ]
  },
  {
   "cell_type": "code",
   "execution_count": 50,
   "id": "dbf5fb08",
   "metadata": {},
   "outputs": [
    {
     "name": "stdout",
     "output_type": "stream",
     "text": [
      "Counter({'black': 4, 'yellow': 3, 'white': 2})\n",
      "Counter({'black': 2, 'yellow': 1})\n",
      "Counter({'black': 4, 'yellow': 3, 'white': 2})\n"
     ]
    }
   ],
   "source": [
    "cars_moscow = ['black', 'black', 'white', 'black', 'black', 'white', 'yellow', 'yellow', 'yellow']\n",
    "cars_spb = ['red', 'black', 'black', 'white', 'white', 'yellow', 'yellow', 'red', 'white']\n",
    "counter_moscow = Counter(cars_moscow)\n",
    "counter_spb = Counter(cars_spb)\n",
    "print(counter_moscow)\n",
    "print(counter_moscow-counter_spb)\n",
    "print(counter_moscow)"
   ]
  },
  {
   "cell_type": "markdown",
   "id": "8cc4ffff",
   "metadata": {},
   "source": [
    "## .elements() получить список всех элементов(возвращает итератор в алфавитнок порядке)   #### чтобы распаковать его, нужен *\n",
    "## list() возвращает неповторяющикеся элементы\n",
    "## .most_common() самые частые элементы в порядке убывания в виде кортежа\n",
    "## .clear() очистить счетчик"
   ]
  },
  {
   "cell_type": "code",
   "execution_count": 54,
   "id": "aa0d936c",
   "metadata": {},
   "outputs": [
    {
     "name": "stdout",
     "output_type": "stream",
     "text": [
      "['black', 'black', 'black', 'black', 'white', 'white', 'yellow', 'yellow', 'yellow']\n",
      "black black black black white white yellow yellow yellow\n"
     ]
    }
   ],
   "source": [
    "cars_moscow = ['black', 'black', 'white', 'black', 'black', 'white', 'yellow', 'yellow', 'yellow']\n",
    "cars_spb = ['red', 'black', 'black', 'white', 'white', 'yellow', 'yellow', 'red', 'white']\n",
    "counter_moscow = Counter(cars_moscow)\n",
    "counter_spb = Counter(cars_spb)\n",
    "\n",
    "print(list(counter_moscow.elements()))\n",
    "print(*counter_moscow.elements())\n",
    "\n"
   ]
  },
  {
   "cell_type": "code",
   "execution_count": 55,
   "id": "e1cc5c2e",
   "metadata": {},
   "outputs": [
    {
     "name": "stdout",
     "output_type": "stream",
     "text": [
      "['black', 'white', 'yellow']\n",
      "{'black': 4, 'white': 2, 'yellow': 3}\n",
      "[('black', 4), ('yellow', 3), ('white', 2)]\n",
      "[('black', 4), ('yellow', 3)]\n",
      "None\n"
     ]
    }
   ],
   "source": [
    "print(list(counter_moscow))\n",
    "print(dict(counter_moscow))\n",
    "print(counter_moscow.most_common())\n",
    "print(counter_moscow.most_common(2)) #  в скобкаж количество первых эелемнтов кортежа\n",
    "print(counter_moscow.clear())"
   ]
  },
  {
   "cell_type": "markdown",
   "id": "320e70a6",
   "metadata": {},
   "source": [
    "# defaultdict()\n",
    "#### позволяет задавать тот тип данных, который хранится в словаре по умолчанию (в нашем случае это должен быть список). Это бывает удобно в том случае, если приходится заполнять одну и ту же структуру данных, экземпляр которой должен храниться по каждому ключу в словаре. Обратите внимание, что в скобках мы передаём именно указатель на класс объекта (например list; также можно было бы применить set, dict) без круглых скобок, которые используются для создания нового экземпляра объекта."
   ]
  },
  {
   "cell_type": "code",
   "execution_count": 84,
   "id": "44935351",
   "metadata": {},
   "outputs": [
    {
     "name": "stdout",
     "output_type": "stream",
     "text": [
      "{1: ['Ivanov', 'Kuznetsova'], 4: ['Smirnov'], 3: ['Petrov', 'Markov'], 2: ['Nikitina', 'Pavlov']}\n"
     ]
    }
   ],
   "source": [
    "# Обычный способ\n",
    "students = [('Ivanov',1),('Smirnov',4),('Petrov',3),('Kuznetsova',1),\n",
    "            ('Nikitina',2),('Markov',3),('Pavlov',2)]\n",
    "groups = {}\n",
    "\n",
    "for student, group in students:\n",
    "    if group not in groups:\n",
    "        groups[group]=list()\n",
    "    groups[group].append(student)\n",
    "print(groups)\n",
    "\n",
    "# defaultdict\n"
   ]
  },
  {
   "cell_type": "code",
   "execution_count": 23,
   "id": "1c3bb764",
   "metadata": {},
   "outputs": [
    {
     "name": "stdout",
     "output_type": "stream",
     "text": [
      "defaultdict(<class 'list'>, {1: ['Ivanov', 'Kuznetsova'], 4: ['Smirnov'], 3: ['Petrov', 'Markov'], 2: ['Nikitina', 'Pavlov']})\n",
      "[]\n",
      "defaultdict(<class 'list'>, {1: ['Ivanov', 'Kuznetsova'], 4: ['Smirnov'], 3: ['Petrov', 'Markov'], 2: ['Nikitina', 'Pavlov'], 2021: []})\n"
     ]
    }
   ],
   "source": [
    "from collections import defaultdict\n",
    "students = [('Ivanov',1),('Smirnov',4),('Petrov',3),('Kuznetsova',1),\n",
    "            ('Nikitina',2),('Markov',3),('Pavlov',2)]\n",
    "\n",
    "groups = defaultdict(list)\n",
    "\n",
    "for student, group in students:\n",
    "    groups[group].append(student)\n",
    "print(groups)\n",
    "print(groups[2021]) #Теперь в словаре groups автоматически появился элемент 2021 с пустым списком внутри, несмотря на то что мы его не создавали:\n",
    "print(groups)"
   ]
  },
  {
   "cell_type": "markdown",
   "id": "78a83f42",
   "metadata": {},
   "source": [
    "# OrderedDict()  \n",
    "### Специальный словарь, который гарантирует сохранение ключей в порядке их добавления"
   ]
  },
  {
   "cell_type": "code",
   "execution_count": 89,
   "id": "ca5f8b36",
   "metadata": {},
   "outputs": [
    {
     "name": "stdout",
     "output_type": "stream",
     "text": [
      "OrderedDict([('Ivan', 19), ('Mark', 25), ('Andrey', 23), ('Maria', 20)])\n"
     ]
    }
   ],
   "source": [
    "data = [('Ivan', 19),('Mark', 25),('Andrey', 23),('Maria', 20)]\n",
    "from collections import OrderedDict\n",
    "ordered_dict_data = OrderedDict(data)\n",
    "print(ordered_dict_data)"
   ]
  },
  {
   "cell_type": "code",
   "execution_count": 94,
   "id": "9ba5ddde",
   "metadata": {},
   "outputs": [
    {
     "name": "stdout",
     "output_type": "stream",
     "text": [
      "OrderedDict([('Ivan', 19), ('Maria', 20), ('Andrey', 23), ('Mark', 25)])\n",
      "OrderedDict([('Ivan', 19), ('Maria', 20), ('Andrey', 23), ('Mark', 25), ('Ola', 1)])\n",
      "OrderedDict([('Ivan', 19), ('Maria', 20), ('Andrey', 23), ('Mark', 25)])\n"
     ]
    }
   ],
   "source": [
    "ordered_client_ages = OrderedDict(sorted(data, key=lambda x: x[1]))\n",
    "print(ordered_client_ages)\n",
    "ordered_client_ages['Ola']=1  # добавляем элемент и он оказывется в конце\n",
    "print(ordered_client_ages)\n",
    "del ordered_client_ages['Ola']   # удалить элемент\n",
    "print(ordered_client_ages)"
   ]
  },
  {
   "cell_type": "code",
   "execution_count": 65,
   "id": "e5f20bea",
   "metadata": {},
   "outputs": [
    {
     "name": "stdout",
     "output_type": "stream",
     "text": [
      "OrderedDict([('WokAndRice', 4.9), ('WokToWork', 4.9), ('General Foods', 4.8), ('New Age', 4.6), ('Belissimo', 4.5), ('CakeAndCoffee', 4.2), ('CakeOClock', 4.2), ('CakeTime', 4.1), ('Nice Cakes', 3.9), ('Old Gold', 3.3), ('Old Wine Cellar', 3.3), ('Old York', 3.3)])\n"
     ]
    }
   ],
   "source": [
    "ratings = [('Old York', 3.3), ('New Age', 4.6), ('Old Gold', 3.3), ('General Foods', 4.8),\n",
    "           ('Belissimo', 4.5), ('CakeAndCoffee', 4.2), ('CakeOClock', 4.2), ('CakeTime', 4.1),\n",
    "           ('WokToWork', 4.9), ('WokAndRice', 4.9), ('Old Wine Cellar', 3.3), ('Nice Cakes', 3.9)]\n",
    "         \n",
    "# Отсортируйте список ratings по убыванию рейтинга. Для кафе\n",
    "# с одинаковым рейтингом отсортируйте кортежи по названию.\n",
    "\n",
    "from collections import OrderedDict\n",
    "\n",
    "ratings_dict=OrderedDict(sorted(ratings, key = lambda x: (-x[1],x[0])))\n",
    "print(ratings_dict)\n"
   ]
  },
  {
   "cell_type": "markdown",
   "id": "c1925ff7",
   "metadata": {},
   "source": [
    "# deque\n",
    "#### append (добавить элемент в конец дека);\n",
    "#### appendleft (добавить элемент в начало дека);\n",
    "#### pop (удалить и вернуть элемент из конца дека);\n",
    "#### popleft (удалить и вернуть элемент из начала дека)."
   ]
  },
  {
   "cell_type": "code",
   "execution_count": 119,
   "id": "401a7fbe",
   "metadata": {},
   "outputs": [
    {
     "name": "stdout",
     "output_type": "stream",
     "text": [
      "deque(['Ivanov', 'Petrov', 'Smirnov'])\n",
      "deque(['Leva', 'Ivanov', 'Petrov', 'Smirnov'])\n"
     ]
    },
    {
     "data": {
      "text/plain": [
       "deque(['Ivanov', 'Petrov', 'pra', 'ppopo'])"
      ]
     },
     "execution_count": 119,
     "metadata": {},
     "output_type": "execute_result"
    }
   ],
   "source": [
    "from collections import deque\n",
    "dq = deque()\n",
    "dq.append('Ivanov')\n",
    "dq.append('Petrov')\n",
    "dq.append('Smirnov')\n",
    "print(dq)\n",
    "dq.appendleft('Leva')\n",
    "print(dq)\n",
    "dq.append('pra')\n",
    "dq.append('ppopo')\n",
    "dq.popleft()\n",
    "del dq[2]  # удалили по индексу\n",
    "dq"
   ]
  },
  {
   "cell_type": "markdown",
   "id": "f348ec6e",
   "metadata": {},
   "source": [
    "### extend() extendleft() - добавить сразу несколько"
   ]
  },
  {
   "cell_type": "code",
   "execution_count": 105,
   "id": "a198931a",
   "metadata": {},
   "outputs": [
    {
     "name": "stdout",
     "output_type": "stream",
     "text": [
      "deque([1, 2, 3, 4, 5])\n",
      "deque([1, 2, 3, 4, 5, 11, 12, 13, 14, 15, 16, 17])\n"
     ]
    }
   ],
   "source": [
    "# В скобках передаём список при создании deque,чтобы сразу добавить все его элементы в очередь\n",
    "shop = deque([1, 2, 3, 4, 5])\n",
    "print(shop)\n",
    "shop.extend([11, 12, 13, 14, 15, 16, 17])\n",
    "print(shop)"
   ]
  },
  {
   "cell_type": "code",
   "execution_count": 106,
   "id": "4e99b09e",
   "metadata": {},
   "outputs": [
    {
     "name": "stdout",
     "output_type": "stream",
     "text": [
      "deque([1, 2, 3, 4, 5])\n",
      "deque([17, 16, 15, 14, 13, 12, 11, 1, 2, 3, 4, 5])\n"
     ]
    }
   ],
   "source": [
    "shop = deque([1, 2, 3, 4, 5])\n",
    "print(shop)\n",
    "shop.extendleft([11, 12, 13, 14, 15, 16, 17])\n",
    "print(shop)"
   ]
  },
  {
   "cell_type": "markdown",
   "id": "abbc7fea",
   "metadata": {},
   "source": [
    "### maxlen() установить очередь с ограниченой максимальной длиной"
   ]
  },
  {
   "cell_type": "code",
   "execution_count": 107,
   "id": "045ff02e",
   "metadata": {},
   "outputs": [
    {
     "name": "stdout",
     "output_type": "stream",
     "text": [
      "deque([], maxlen=3)\n"
     ]
    }
   ],
   "source": [
    "limited = deque(maxlen=3)\n",
    "print(limited)"
   ]
  },
  {
   "cell_type": "code",
   "execution_count": 109,
   "id": "1c93916a",
   "metadata": {},
   "outputs": [
    {
     "data": {
      "text/plain": [
       "deque([5, 6, 8], maxlen=3)"
      ]
     },
     "execution_count": 109,
     "metadata": {},
     "output_type": "execute_result"
    }
   ],
   "source": [
    "first_q = deque([1,2,3,4,5,6], maxlen=3)\n",
    "first_q.append(8)\n",
    "first_q"
   ]
  },
  {
   "cell_type": "code",
   "execution_count": 114,
   "id": "8c20d7b0",
   "metadata": {},
   "outputs": [
    {
     "name": "stdout",
     "output_type": "stream",
     "text": [
      "20.43;20.77;21.27;22.16;23.3;24.44;24.94;25.56;26.2;25.97;25.94;25.57;25.1;24.81;24.21;23.23;22.57;21.41;20.4;19.6;19.1;19.04;18.96;19.44;20.01;20.67;"
     ]
    }
   ],
   "source": [
    "temps = [20.6, 19.4, 19.0, 19.0, 22.1,\n",
    "        22.5, 22.8, 24.1, 25.6, 27.0,\n",
    "        27.0, 25.6, 26.8, 27.3, 22.5,\n",
    "        25.4, 24.4, 23.7, 23.6, 22.6,\n",
    "        20.4, 17.9, 17.3, 17.3, 18.1,\n",
    "        20.1, 22.2, 19.8, 21.3, 21.3,\n",
    "        21.9]\n",
    "import numpy as np\n",
    "day = deque(maxlen=7)\n",
    "for temp in temps:\n",
    "    day.append(temp)\n",
    "    if len(day)>=6:\n",
    "        middle_temp=round(np.mean(day), 2)\n",
    "        print(middle_temp, end=';')"
   ]
  },
  {
   "cell_type": "markdown",
   "id": "1cd9a47f",
   "metadata": {},
   "source": [
    "### reverse() переворачивает список\n",
    "### rotate(8) или rotate(-3) переносит столько значений с одного конца в другой"
   ]
  },
  {
   "cell_type": "code",
   "execution_count": 122,
   "id": "de2d56cd",
   "metadata": {},
   "outputs": [
    {
     "data": {
      "text/plain": [
       "deque([5, 4, 3, 2, 1])"
      ]
     },
     "execution_count": 122,
     "metadata": {},
     "output_type": "execute_result"
    }
   ],
   "source": [
    "from collections import deque\n",
    "list_1 = [1,2,3,4,5]\n",
    "dq = deque(list_1)\n",
    "dq.reverse()\n",
    "dq\n",
    "#deque([5, 4, 3, 2, 1])"
   ]
  },
  {
   "cell_type": "code",
   "execution_count": 126,
   "id": "33d5d624",
   "metadata": {},
   "outputs": [
    {
     "name": "stdout",
     "output_type": "stream",
     "text": [
      "deque([4, 5, 1, 2, 3])\n",
      "deque([3, 4, 5, 1, 2])\n"
     ]
    }
   ],
   "source": [
    "list_1 = [1,2,3,4,5]\n",
    "dq = deque(list_1)\n",
    "dq.rotate(2)\n",
    "print(dq) #deque([4, 5, 1, 2, 3])\n",
    "\n",
    "list_1 = [1,2,3,4,5]\n",
    "dq = deque(list_1)\n",
    "dq.rotate(-2)\n",
    "print(dq) #deque([3, 4, 5, 1, 2])"
   ]
  },
  {
   "cell_type": "markdown",
   "id": "839fac3e",
   "metadata": {},
   "source": [
    "### Функция index позволяет найти первый индекс искомого элемента, а count позволяет подсчитать, сколько раз элемент встретился в очереди(функции аналогичны одноимённым функциям для списков)/ при попытке узнать индекс несуществующего элемента возникнет ValueError/ посчитать несуществующий элемент можно (получится просто 0):"
   ]
  },
  {
   "cell_type": "code",
   "execution_count": 130,
   "id": "d51957d0",
   "metadata": {},
   "outputs": [
    {
     "data": {
      "text/plain": [
       "4"
      ]
     },
     "execution_count": 130,
     "metadata": {},
     "output_type": "execute_result"
    }
   ],
   "source": [
    "list_1 = [1,2,3,4,5]\n",
    "dq = deque(list_1)\n",
    "dq.index(5)"
   ]
  },
  {
   "cell_type": "code",
   "execution_count": 131,
   "id": "5bc0c9eb",
   "metadata": {},
   "outputs": [
    {
     "data": {
      "text/plain": [
       "1"
      ]
     },
     "execution_count": 131,
     "metadata": {},
     "output_type": "execute_result"
    }
   ],
   "source": [
    "list_1 = [1,2,3,4,5]\n",
    "dq = deque(list_1)\n",
    "dq.count(1)"
   ]
  },
  {
   "cell_type": "markdown",
   "id": "396a1f57",
   "metadata": {},
   "source": [
    "### .clear()"
   ]
  },
  {
   "cell_type": "code",
   "execution_count": 133,
   "id": "e8fa1e70",
   "metadata": {},
   "outputs": [
    {
     "data": {
      "text/plain": [
       "deque([])"
      ]
     },
     "execution_count": 133,
     "metadata": {},
     "output_type": "execute_result"
    }
   ],
   "source": [
    "list_1 = [1,2,3,4,5]\n",
    "dq = deque(list_1)\n",
    "dq.clear()\n",
    "dq"
   ]
  },
  {
   "cell_type": "code",
   "execution_count": 138,
   "id": "903cc61a",
   "metadata": {},
   "outputs": [
    {
     "data": {
      "text/plain": [
       "{'asd': 2}"
      ]
     },
     "execution_count": 138,
     "metadata": {},
     "output_type": "execute_result"
    }
   ],
   "source": [
    "a = [('asd', 2)]\n",
    "b = dict(a)\n",
    "b"
   ]
  },
  {
   "cell_type": "code",
   "execution_count": 145,
   "id": "775549ec",
   "metadata": {},
   "outputs": [
    {
     "name": "stdout",
     "output_type": "stream",
     "text": [
      "defaultdict(<class 'list'>, {1: ['Ivanov', 'Kuznetsova'], 4: ['Smirnov'], 3: ['Petrov', 'Markov'], 2: ['Nikitina', 'Pavlov']})\n"
     ]
    }
   ],
   "source": [
    "students = [('Ivanov',1),('Smirnov',4),('Petrov',3),('Kuznetsova',1),\n",
    "            ('Nikitina',2),('Markov',3),('Pavlov',2)]\n",
    "\n",
    "st_dict = defaultdict(list)\n",
    "from collections import defaultdict\n",
    "for numer, name in students:\n",
    "    st_dict[name].append(numer)\n",
    "print(st_dict)"
   ]
  },
  {
   "cell_type": "code",
   "execution_count": 25,
   "id": "43c5c6bf",
   "metadata": {},
   "outputs": [
    {
     "data": {
      "text/plain": [
       "OrderedDict([('2001', -2.5), ('2004', -4.4), ('2002', -4.4), ('2003', -9.5)])"
      ]
     },
     "execution_count": 25,
     "metadata": {},
     "output_type": "execute_result"
    }
   ],
   "source": [
    "#Необходимо напечатать словарь, в котором ключи — годы, а значения — показатели температуры. Ключи необходимо отсортировать в порядке убывания соответствующих им температур.\n",
    "from collections import OrderedDict\n",
    "temps =  [('2004', -4.4), ('2001', -2.5), ('2002', -4.4), ('2003', -9.5)]\n",
    "t = OrderedDict(sorted(temps, key=lambda x: x[1], reverse=True))\n",
    "t\n"
   ]
  },
  {
   "cell_type": "code",
   "execution_count": null,
   "id": "0362039d",
   "metadata": {},
   "outputs": [],
   "source": []
  },
  {
   "cell_type": "code",
   "execution_count": 129,
   "id": "500cad2d",
   "metadata": {},
   "outputs": [],
   "source": [
    "#Напишите функцию brackets(line), которая определяет, является ли последовательность из круглых скобок правильной.\n",
    "from collections import deque\n",
    "\n",
    "def brackets(line):\n",
    "    dq = deque()\n",
    "    \n",
    "    for symb in line:\n",
    "        if symb == \"(\":\n",
    "            dq.append(symb)\n",
    "            print(dq)\n",
    "        elif symb == \")\":\n",
    "            if \"(\" in dq:\n",
    "                dq.pop()\n",
    "                print(dq)\n",
    "            else:\n",
    "                dq.append(symb)\n",
    "                print(dq)\n",
    "    if len(dq)==0:\n",
    "        return True\n",
    "    else:\n",
    "        return False\n",
    "            \n",
    "        \n",
    "        "
   ]
  },
  {
   "cell_type": "code",
   "execution_count": 130,
   "id": "2597859f",
   "metadata": {},
   "outputs": [
    {
     "name": "stdout",
     "output_type": "stream",
     "text": [
      "deque([')'])\n",
      "False\n"
     ]
    }
   ],
   "source": [
    "print(brackets(\")\"))\n"
   ]
  },
  {
   "cell_type": "code",
   "execution_count": 42,
   "id": "7d01007b",
   "metadata": {},
   "outputs": [],
   "source": [
    "a=''\n",
    "b=[]\n",
    "for i in a:\n",
    "    print (i)\n",
    "    b.append(i)\n",
    "    print(b)\n",
    "    "
   ]
  },
  {
   "cell_type": "code",
   "execution_count": 63,
   "id": "fb251949",
   "metadata": {},
   "outputs": [
    {
     "name": "stdout",
     "output_type": "stream",
     "text": [
      "[('WokAndRice', 4.9), ('WokToWork', 4.9), ('General Foods', 4.8), ('New Age', 4.6), ('Belissimo', 4.5), ('CakeAndCoffee', 4.2), ('CakeOClock', 4.2), ('CakeTime', 4.1), ('Nice Cakes', 3.9), ('Old Gold', 3.3), ('Old Wine Cellar', 3.3), ('Old York', 3.3)]\n"
     ]
    }
   ],
   "source": [
    "ratings = [('Old York', 3.3), ('New Age', 4.6), ('Old Gold', 3.3), ('General Foods', 4.8),\n",
    "          ('Belissimo', 4.5), ('CakeAndCoffee', 4.2), ('CakeOClock', 4.2), ('CakeTime', 4.1),\n",
    "          ('WokToWork', 4.9), ('WokAndRice', 4.9), ('Old Wine Cellar', 3.3), ('Nice Cakes', 3.9)]\n",
    "# Отсортируйте список ratings по убыванию рейтинга. Для кафе\n",
    "# с одинаковым рейтингом отсортируйте кортежи по названию.\n",
    "ratings.sort(key=lambda x: (-x[1], x[0]))\n",
    "print(ratings)"
   ]
  },
  {
   "cell_type": "code",
   "execution_count": 127,
   "id": "12d7d58f",
   "metadata": {},
   "outputs": [
    {
     "data": {
      "text/plain": [
       "defaultdict(collections.deque,\n",
       "            {'office': deque([36871, 40690, 33850]),\n",
       "             'voltage': deque([41667, 35364])})"
      ]
     },
     "execution_count": 127,
     "metadata": {},
     "output_type": "execute_result"
    }
   ],
   "source": [
    "#Напишите функцию task_manager, которая принимает список задач для нескольких серверов. Каждый элемент списка состоит из кортежа (<номер задачи>, <название сервера>, <высокий приоритет задачb\n",
    "# Функция должна создавать словарь и заполнять его задачами по следующему принципу: название сервера — ключ, по которому хранится очередь задач для конкретного сервера. \n",
    "# #Если поступает задача без высокого приоритета (последний элемент кортежа — False), добавить номер задачи в конец очереди. Если приоритет высокий, добавить номер в начало.\n",
    "\n",
    "#Для словаря используйте defaultdict, для очереди — deque.\n",
    "\n",
    "#Функция возвращает полученный словарь с задачами.\n",
    "\n",
    "tasks = [(36871, 'office', False),\n",
    "(40690, 'office', False),\n",
    "(35364, 'voltage', False),\n",
    "(41667, 'voltage', True),\n",
    "(33850, 'office', False)]\n",
    " \n",
    "def task_manager(tasks):\n",
    "    from collections import deque\n",
    "    from collections import defaultdict\n",
    "    \n",
    "    tasks_manager_dict = defaultdict(deque)\n",
    "    \n",
    "    for i in tasks:\n",
    "        if i[2]:\n",
    "                tasks_manager_dict[i[1]].appendleft(i[0])\n",
    "        else:\n",
    "                tasks_manager_dict[i[1]].append(i[0])   \n",
    "            \n",
    "    \n",
    "    return tasks_manager_dict\n",
    "task_manager(tasks)"
   ]
  },
  {
   "cell_type": "markdown",
   "id": "85fd87df",
   "metadata": {},
   "source": [
    "# ___________________________________numpy"
   ]
  },
  {
   "cell_type": "code",
   "execution_count": 135,
   "id": "318b85de",
   "metadata": {},
   "outputs": [
    {
     "name": "stdout",
     "output_type": "stream",
     "text": [
      "25\n"
     ]
    },
    {
     "data": {
      "text/plain": [
       "iinfo(min=-9223372036854775808, max=9223372036854775807, dtype=int64)"
      ]
     },
     "execution_count": 135,
     "metadata": {},
     "output_type": "execute_result"
    }
   ],
   "source": [
    "import numpy as np\n",
    "a = np.int64(25)\n",
    "print(a)\n",
    "np.iinfo(np.int64)"
   ]
  },
  {
   "cell_type": "code",
   "execution_count": 137,
   "id": "9c6a3d78",
   "metadata": {},
   "outputs": [
    {
     "data": {
      "text/plain": [
       "iinfo(min=0, max=255, dtype=uint8)"
      ]
     },
     "execution_count": 137,
     "metadata": {},
     "output_type": "execute_result"
    }
   ],
   "source": [
    "#В NumPy доступны и беззнаковые целочисленные типы данных. Они имеют корень uint (unsigned int — беззнаковое целое). uint доступны также с выделением памяти в 8, 16, 32 и 64 бита.\n",
    "# При этом максимально возможное число оказывается в два раза больше, чем для соответствующего int, поскольку отрицательные числа исключены из типа данных uint.\n",
    "a = np.uint8(2)\n",
    "a\n",
    "np.iinfo(a)"
   ]
  },
  {
   "cell_type": "code",
   "execution_count": 144,
   "id": "45002128",
   "metadata": {},
   "outputs": [
    {
     "name": "stdout",
     "output_type": "stream",
     "text": [
      "2147483610 2147483605\n",
      "4294967215\n"
     ]
    }
   ],
   "source": [
    "a = np.int32(2147483610)\n",
    "b = np.int32(2147483605)\n",
    "print(a, b)\n",
    "# 2147483610 2147483605\n",
    "print(np.int64(a) + np.int64(b))"
   ]
  },
  {
   "cell_type": "code",
   "execution_count": 146,
   "id": "f4e71a52",
   "metadata": {},
   "outputs": [
    {
     "data": {
      "text/plain": [
       "finfo(resolution=0.001, min=-6.55040e+04, max=6.55040e+04, dtype=float16)"
      ]
     },
     "execution_count": 146,
     "metadata": {},
     "output_type": "execute_result"
    }
   ],
   "source": [
    "np.finfo(np.float16)"
   ]
  },
  {
   "cell_type": "code",
   "execution_count": null,
   "id": "95a8fa26",
   "metadata": {},
   "outputs": [],
   "source": [
    "# Следует обратить внимание на типы данных bool_ и str_.\n",
    "# Они аналогичны bool и str из встроенных в Python, однако записывать их необходимо именно с нижним подчёркиванием, иначе произойдёт приведение к стандартному типу данных, а не типу NumPy.\n",
    "# В целом, существенной разницы между этими типами данных нет, однако о такой двойственности следует помнить при сравнении типов переменных: \n",
    "# тип bool не является эквивалентным numpy.bool_, несмотря на то что оба типа данных хранят значения True или False."
   ]
  },
  {
   "cell_type": "code",
   "execution_count": 157,
   "id": "a8c392bc",
   "metadata": {},
   "outputs": [
    {
     "name": "stdout",
     "output_type": "stream",
     "text": [
      "<class 'numpy.bool_'>\n",
      "<class 'numpy.bytes_'>\n",
      "<class 'numpy.clongdouble'>\n",
      "<class 'numpy.complex128'>\n",
      "<class 'numpy.complex64'>\n",
      "<class 'numpy.datetime64'>\n",
      "<class 'numpy.float16'>\n",
      "<class 'numpy.float32'>\n",
      "<class 'numpy.float64'>\n",
      "<class 'numpy.int16'>\n",
      "<class 'numpy.int32'>\n",
      "<class 'numpy.int64'>\n",
      "<class 'numpy.int8'>\n",
      "<class 'numpy.intc'>\n",
      "<class 'numpy.longdouble'>\n",
      "<class 'numpy.object_'>\n",
      "<class 'numpy.str_'>\n",
      "<class 'numpy.timedelta64'>\n",
      "<class 'numpy.uint16'>\n",
      "<class 'numpy.uint32'>\n",
      "<class 'numpy.uint64'>\n",
      "<class 'numpy.uint8'>\n",
      "<class 'numpy.uintc'>\n",
      "<class 'numpy.void'>\n"
     ]
    }
   ],
   "source": [
    "#Полный список (а точнее, словарь) типов данных в NumPy можно получить с помощью атрибута sctypeDict. \n",
    "#Вывод не приводится, поскольку в этом словаре содержится более 100 ключей (их число может варьироваться в зависимости от версии NumPy)!\n",
    "#Однако основные названия типов данных в NumPy не меняются от версии к версии.\n",
    "print(*sorted(map(str, set(np.sctypeDict.values()))), sep='\\n')"
   ]
  },
  {
   "cell_type": "markdown",
   "id": "c334c138",
   "metadata": {},
   "source": [
    "### np.array(<объект>)"
   ]
  },
  {
   "cell_type": "code",
   "execution_count": 2,
   "id": "2092ab3e",
   "metadata": {},
   "outputs": [
    {
     "data": {
      "text/plain": [
       "array([1, 2, 3, 4])"
      ]
     },
     "execution_count": 2,
     "metadata": {},
     "output_type": "execute_result"
    }
   ],
   "source": [
    "#Создать массив из списка можно с помощью функции np.array(<объект>):\n",
    "import numpy as np\n",
    "np_arr = np.array([1,2,3,4])\n",
    "np_arr"
   ]
  },
  {
   "cell_type": "code",
   "execution_count": 4,
   "id": "7b4f1fc5",
   "metadata": {},
   "outputs": [
    {
     "data": {
      "text/plain": [
       "dtype('int32')"
      ]
     },
     "execution_count": 4,
     "metadata": {},
     "output_type": "execute_result"
    }
   ],
   "source": [
    "np_arr.dtype"
   ]
  },
  {
   "cell_type": "code",
   "execution_count": 12,
   "id": "46d73d6c",
   "metadata": {},
   "outputs": [],
   "source": [
    "# указываем тип данных самостоятельно\n",
    "arr = np.array([1,2,3,4], dtype=np.int64) \n",
    "#array([1, 2, 3, 4], dtype=int64)"
   ]
  },
  {
   "cell_type": "code",
   "execution_count": 11,
   "id": "acc5316d",
   "metadata": {},
   "outputs": [],
   "source": [
    "# преобразовать массив в другой тип данных\n",
    "arr = np.float32(arr) \n",
    "#array([1., 2., 3., 4.], dtype=float32)"
   ]
  },
  {
   "cell_type": "code",
   "execution_count": 15,
   "id": "ab40c615",
   "metadata": {},
   "outputs": [],
   "source": [
    "arr = np.array([1,5,2,9,10], dtype=np.int8)\n",
    "nd_arr = np.array([\n",
    "               [12, 45, 78],\n",
    "               [34, 56, 13],\n",
    "               [12, 98, 76]\n",
    "               ], dtype=np.int16)"
   ]
  },
  {
   "cell_type": "markdown",
   "id": "88b66d7d",
   "metadata": {},
   "source": [
    "### .ndim"
   ]
  },
  {
   "cell_type": "code",
   "execution_count": 17,
   "id": "db492b09",
   "metadata": {},
   "outputs": [
    {
     "data": {
      "text/plain": [
       "2"
      ]
     },
     "execution_count": 17,
     "metadata": {},
     "output_type": "execute_result"
    }
   ],
   "source": [
    "#знать размерность массива можно с помощью .ndim\n",
    "arr.ndim #1 Одномерный\n",
    "nd_arr.ndim #2 двумерный"
   ]
  },
  {
   "cell_type": "markdown",
   "id": "ce310ef1",
   "metadata": {},
   "source": [
    "### .size"
   ]
  },
  {
   "cell_type": "code",
   "execution_count": 19,
   "id": "d6865c30",
   "metadata": {},
   "outputs": [
    {
     "data": {
      "text/plain": [
       "9"
      ]
     },
     "execution_count": 19,
     "metadata": {},
     "output_type": "execute_result"
    }
   ],
   "source": [
    "#Узнать общее число элементов в массиве можно с помощью .size:\n",
    "arr.size\n",
    "nd_arr.size"
   ]
  },
  {
   "cell_type": "markdown",
   "id": "95c6a31b",
   "metadata": {},
   "source": [
    "### .shape"
   ]
  },
  {
   "cell_type": "code",
   "execution_count": 23,
   "id": "0e2583a6",
   "metadata": {},
   "outputs": [
    {
     "name": "stdout",
     "output_type": "stream",
     "text": [
      "(3, 3)\n",
      "(5,)\n"
     ]
    }
   ],
   "source": [
    "#Форма или структура массива хранится в атрибуте .shape: вывод представлен кортежем (если выходит одно число, то ставится запятая для кортежа)\n",
    "print(nd_arr.shape)\n",
    "print(arr.shape)"
   ]
  },
  {
   "cell_type": "code",
   "execution_count": 24,
   "id": "808725d1",
   "metadata": {},
   "outputs": [],
   "source": [
    "#Наконец, узнать, сколько «весит» каждый элемент массива в байтах позволяет .itemsize:"
   ]
  },
  {
   "cell_type": "code",
   "execution_count": 28,
   "id": "67fc51bc",
   "metadata": {},
   "outputs": [
    {
     "name": "stdout",
     "output_type": "stream",
     "text": [
      "4\n"
     ]
    }
   ],
   "source": [
    "arr=np.array([1, 1])\n",
    "print(arr.itemsize)"
   ]
  },
  {
   "cell_type": "markdown",
   "id": "fb496876",
   "metadata": {},
   "source": [
    "### np.zeros()"
   ]
  },
  {
   "cell_type": "code",
   "execution_count": 9,
   "id": "a2752eff",
   "metadata": {},
   "outputs": [
    {
     "data": {
      "text/plain": [
       "array([0, 0, 0], dtype=int8)"
      ]
     },
     "execution_count": 9,
     "metadata": {},
     "output_type": "execute_result"
    }
   ],
   "source": [
    "# Массив из нулей создаётся функцией np.zeros. \n",
    "# Она принимает аргументы shape (обязательный) — форма массива (одно число или кортеж) и dtype (необязательный) — тип данных, который будет храниться в массиве.\n",
    "arr=np.zeros((5,3,2))\n",
    "arr=np.zeros(3, dtype=np.int8)\n",
    "arr"
   ]
  },
  {
   "cell_type": "markdown",
   "id": "1a23573a",
   "metadata": {},
   "source": [
    "### arange([start,] stop, [step,], dtype=None)"
   ]
  },
  {
   "cell_type": "code",
   "execution_count": 11,
   "id": "8bcc6ac1",
   "metadata": {},
   "outputs": [
    {
     "data": {
      "text/plain": [
       "array([1., 3., 5., 7.], dtype=float16)"
      ]
     },
     "execution_count": 11,
     "metadata": {},
     "output_type": "execute_result"
    }
   ],
   "source": [
    "# Ещё одной удобной функцией для создания одномерных массивов является arange. Она аналогична встроенной функции range, но обладает рядом особенностей. \n",
    "# Вот её сигнатура: arange([start,] stop, [step,], dtype=None).\n",
    "\n",
    "# Аргументы start (по умолчанию 0), step (по умолчанию 1) и dtype (определяется автоматически) являются необязательными:\n",
    "\n",
    "# start (входит в диапазон возвращаемых значений) задаёт начальное число;\n",
    "# stop (не входит в диапазон возвращаемых значений, как и при использовании range) задаёт правую границу диапазона;\n",
    "#  step задаёт шаг, с которым в массив добавляются новые значения.\n",
    "#  В отличие от range, в функции arange все перечисленные параметры могут иметь тип float.\n",
    "\n",
    "arr = np.arange(1,8,2,dtype=np.float16)\n",
    "arr"
   ]
  },
  {
   "cell_type": "markdown",
   "id": "ca9522f4",
   "metadata": {},
   "source": [
    "### np.linspace(start, stop, num=50, endpoint=True, retstep=False, dtype=None)"
   ]
  },
  {
   "cell_type": "code",
   "execution_count": null,
   "id": "506476dc",
   "metadata": {},
   "outputs": [],
   "source": [
    "#На самом деле операции с плавающей точкой не всегда бывают предсказуемыми из-за особенностей хранения таких чисел в памяти компьютера. \n",
    "#Поэтому для работы с дробными параметрами start, stop и step лучше использовать функцию linspace (англ. linear space — линейное пространство).\n",
    "#Она тоже возвращает одномерный массив из чисел, расположенных на равном удалении друг от друга между началом и концом диапазона, но обладает немного другим поведением и сигнатурой:\n",
    "\n",
    "np.linspace(start, stop, num=50, endpoint=True, retstep=False, dtype=None)\n",
    "\n",
    "# start и stop являются обязательными параметрами, задающими начало и конец возвращаемого диапазона;\n",
    "# num — параметр, задающий число элементов, которое должно оказаться в массиве (по умолчанию 50);\n",
    "# endpoint — включён или исключён конец диапазона (по умолчанию включён);\n",
    "# retstep (по умолчанию False) позволяет указать, возвращать ли использованный шаг между значениями, помимо самого массива;\n",
    "# dtype — уже хорошо знакомый нам параметр, задающий тип данных (если не задан, определяется автоматически).\n",
    "# Функцию linspace очень удобно использовать при построении графиков различных функций, поскольку она позволяет получить равномерный массив чисел, \n",
    "# к которому можно применить исследуемую функцию и показать результат на графике. \n",
    "# Вы научитесь это делать в модуле, посвящённом визуализации."
   ]
  },
  {
   "cell_type": "code",
   "execution_count": 12,
   "id": "7d6c9e86",
   "metadata": {},
   "outputs": [
    {
     "data": {
      "text/plain": [
       "(array([ 1.  ,  3.25,  5.5 ,  7.75, 10.  ], dtype=float16), 2.25)"
      ]
     },
     "execution_count": 12,
     "metadata": {},
     "output_type": "execute_result"
    }
   ],
   "source": [
    "arr = np.linspace(1, 10, num=5, endpoint=True, retstep=True, dtype=np.float16 )\n",
    "arr"
   ]
  },
  {
   "cell_type": "code",
   "execution_count": 14,
   "id": "fc76ebdc",
   "metadata": {},
   "outputs": [
    {
     "name": "stdout",
     "output_type": "stream",
     "text": [
      "0.1111111111111111\n"
     ]
    }
   ],
   "source": [
    "arr, step = np.linspace(1, 2, 10, endpoint=True, retstep=True) #можно так определить шаг и вывести его\n",
    "print(step)"
   ]
  },
  {
   "cell_type": "code",
   "execution_count": 18,
   "id": "c8e1a626",
   "metadata": {},
   "outputs": [
    {
     "data": {
      "text/plain": [
       "0.46"
      ]
     },
     "execution_count": 18,
     "metadata": {},
     "output_type": "execute_result"
    }
   ],
   "source": [
    "# С каким шагом сгенерируется массив из 60 чисел от -6 до 21 включительно?\n",
    "arr, step = np.linspace(-6, 21, 60, endpoint=True, retstep=True )\n",
    "step.round(2)"
   ]
  },
  {
   "cell_type": "code",
   "execution_count": 48,
   "id": "135a8216",
   "metadata": {},
   "outputs": [
    {
     "data": {
      "text/plain": [
       "array([1, 2, 3])"
      ]
     },
     "execution_count": 48,
     "metadata": {},
     "output_type": "execute_result"
    }
   ],
   "source": [
    "# Поменять форму массива arr можно с помощью присвоения атрибуту shape кортежа с желаемой формой: \n",
    "# первое число задало число строк, а второе — число столбцов.\n",
    "# Присвоение нового значения атрибуту shape изменяет тот массив, с которым производится действие.\n",
    "\n",
    "arr = np.arange(8)  #array([0, 1, 2, 3, 4, 5, 6, 7])\n",
    "arr.shape = (2, 4)    # array([[0, 1, 2, 3],\n",
    "#                             [4, 5, 6, 7]])\n",
    "\n",
    "# Чтобы оставить исходный массив без изменений и дополнительно получить новый массив новой формы, нужно использовать функцию reshape. \n",
    "# Она также принимает в качестве аргумента кортеж из чисел для формы, но возвращает новый массив, а не изменяет исходный:\n",
    "\n",
    "arr = np.arange(8)          #array([0, 1, 2, 3, 4, 5, 6, 7])\n",
    "arr_new = arr.reshape(2, 4) #array([[0, 1, 2, 3],\n",
    " #                                  [4, 5, 6, 7]])\n",
    " \n",
    " #У функции reshape есть дополнительный именованный аргумент order. Он задаёт принцип, по которому элементы заполняют массив новой формы.\n",
    " # Если order='C' (по умолчанию), массив заполняется по строкам, как в примере выше. Если order='F', массив заполняется числами по столбцам:\n",
    "\n",
    "arr = np.arange(8) #array([0, 1, 2, 3, 4, 5, 6, 7])\n",
    "arr_new = arr.reshape (2,4, order='F') #array([[0, 2, 4, 6],\n",
    "   #                                           [1, 3, 5, 7]])\n",
    "   \n",
    "# Ещё одной часто используемой операцией с формой массива (особенно двумерного) является транспонирование. \n",
    "# Эта операция меняет строки и столбцы массива местами. В NumPy эту операцию совершает функция transpose.\n",
    "\n",
    "arr = np.arange(8) #array([0, 1, 2, 3, 4, 5, 6, 7])\n",
    "arr.shape = (2,4)\n",
    "arr_trans = arr.transpose()  #array([[0, 4],\n",
    " #                                  [1, 5],\n",
    " #                                  [2, 6],\n",
    " #                                  [3, 7]])\n",
    " \n",
    "#При транспонировании одномерного массива его форма не меняется:\n",
    "arr = np.array([1,2,3])\n",
    "arr_tr=arr.transpose()\n",
    "arr_tr"
   ]
  },
  {
   "cell_type": "code",
   "execution_count": 83,
   "id": "00d8cc4a",
   "metadata": {},
   "outputs": [
    {
     "name": "stdout",
     "output_type": "stream",
     "text": [
      "[ 1  2  3  4  5  6  7  8  9 10]\n",
      "[[ 1  2  3  4  5]\n",
      " [ 6  7  8  9 10]]\n"
     ]
    },
    {
     "data": {
      "text/plain": [
       "array([[ 1,  2,  3,  4,  5],\n",
       "       [ 6,  7,  8,  9, 10]], dtype=int16)"
      ]
     },
     "execution_count": 83,
     "metadata": {},
     "output_type": "execute_result"
    }
   ],
   "source": [
    "arr = np.linspace(1,10, num=10, endpoint=True, dtype=np.int16)\n",
    "print(arr)\n",
    "arr[1:6]\n",
    "\n",
    "arr_new = arr.reshape(2,5) #[ 1  2  3  4  5  6  7  8  9 10]\n",
    "print(arr_new)#  [[ 1  2  3  4  5]\n",
    " #                [ 6  7  8  9 10]]\n",
    "arr_new[1,1]    # 7\n",
    "arr_new[:2,2]    # array([3, 8], dtype=int16)    Несмотря на то что в массиве этот срез является столбцом, вместо него мы получили одномерный массив в виде строки.\n",
    "arr_new[:2,2:]   #array([[ 3,  4,  5],          Можно применять срезы сразу и к строкам, и к столбцам:\n",
    "  #                      [ 8,  9, 10]], dtype=int16)\n",
    "arr_new[:,1]     #array([2, 7], dtype=int16) Чтобы получить все значения из какой-то оси, можно оставить на её месте двоеточие\n",
    "arr_new[:2] #Чтобы получить самую последнюю ось (в данном случае все столбцы), двоеточие писать необязательно. Строки будут получены целиком по умолчанию:"
   ]
  },
  {
   "cell_type": "code",
   "execution_count": 53,
   "id": "984dd739",
   "metadata": {},
   "outputs": [
    {
     "name": "stdout",
     "output_type": "stream",
     "text": [
      "[23 12 45 12 23  4 15  3]\n",
      "[ 3  4 12 12 15 23 23 45]\n",
      "[ 3  4 12 12 15 23 23 45]\n"
     ]
    }
   ],
   "source": [
    "# СОртировка массивов новый=np.sort(массив старый) - сохраняем в новую переменную или arr.sort(массив) сразу меняет эту переменную\n",
    "arr = np.array([23,12,45,12,23,4,15,3])\n",
    "arr_new = np.sort(arr)\n",
    "print(arr)\n",
    "print(arr_new)\n",
    "arr = np.array([23,12,45,12,23,4,15,3])\n",
    "arr.sort()\n",
    "print(arr)"
   ]
  },
  {
   "cell_type": "markdown",
   "id": "410f7789",
   "metadata": {},
   "source": [
    "## объект nan"
   ]
  },
  {
   "cell_type": "code",
   "execution_count": 65,
   "id": "ff79d77b",
   "metadata": {},
   "outputs": [
    {
     "data": {
      "text/plain": [
       "6.732050807568877"
      ]
     },
     "execution_count": 65,
     "metadata": {},
     "output_type": "execute_result"
    }
   ],
   "source": [
    "# Работа с пропущенными данными\n",
    "data = np.array([4, 9, -4, 3])\n",
    "roots = np.sqrt(data)\n",
    "roots         #C:\\Users\\tanya\\AppData\\Local\\Temp\\ipykernel_4604\\786165503.py:3: RuntimeWarning: invalid value encountered in sqrt\n",
    "               #roots = np.sqrt(data)\n",
    "               #array([2.        , 3.        ,        nan, 1.73205081])\n",
    "# объект nan. Он расшифровывается как Not a number (не число). Этот объект аналогичен встроенному типу None, но имеет несколько отличий:\n",
    "np.isnan(roots) #array([False, False,  True, False])   Определили пропущенные числа с помощью \n",
    "roots[np.isnan(roots)] # array([nan])\n",
    "roots[np.isnan(roots)] = 0 #Этим элементам можно присвоить новые значения, например 0\n",
    "roots #array([2.        , 3.        , 0.        , 1.73205081])\n",
    "sum(roots) #6.732050807568877\n",
    "#Ранее проблема при подсчёте суммы элементов в массиве roots возникала из-за того, что отсутствовало значение для квадратного корня из -4 — вместо него было указано np.nan.\n",
    "# #Сумма элементов массива, содержащего nan, также является nan. Поэтому приходится заменить nan, например, на 0, чтобы подсчитать сумму элементов массива."
   ]
  },
  {
   "cell_type": "code",
   "execution_count": 71,
   "id": "1c4e811c",
   "metadata": {},
   "outputs": [
    {
     "name": "stderr",
     "output_type": "stream",
     "text": [
      "C:\\Users\\tanya\\AppData\\Local\\Temp\\ipykernel_4604\\1242385928.py:2: RuntimeWarning: invalid value encountered in sqrt\n",
      "  roots=np.sqrt(data)\n"
     ]
    },
    {
     "data": {
      "text/plain": [
       "2"
      ]
     },
     "execution_count": 71,
     "metadata": {},
     "output_type": "execute_result"
    }
   ],
   "source": [
    "data = np.array([4, 9, -4, 3, -4])\n",
    "roots=np.sqrt(data)\n",
    "np.isnan(roots)\n",
    "len(roots[np.isnan(roots)])"
   ]
  },
  {
   "cell_type": "code",
   "execution_count": 82,
   "id": "24e73609",
   "metadata": {},
   "outputs": [
    {
     "name": "stdout",
     "output_type": "stream",
     "text": [
      "[[ 0  1  2]\n",
      " [ 3  4  5]\n",
      " [ 6  7  8]\n",
      " [ 9 10 11]\n",
      " [12 13 14]]\n"
     ]
    },
    {
     "data": {
      "text/plain": [
       "array([ 1,  4,  7, 10, 13])"
      ]
     },
     "execution_count": 82,
     "metadata": {},
     "output_type": "execute_result"
    }
   ],
   "source": [
    "arr = np.arange(15)\n",
    "arr.shape=(5,3)\n",
    "s= arr[: , 1]\n",
    "print(arr)\n",
    "s"
   ]
  },
  {
   "cell_type": "code",
   "execution_count": null,
   "id": "11da2d5c",
   "metadata": {},
   "outputs": [],
   "source": []
  },
  {
   "cell_type": "markdown",
   "id": "d1b56018",
   "metadata": {},
   "source": [
    "### векторы"
   ]
  },
  {
   "cell_type": "code",
   "execution_count": 89,
   "id": "c6bac54f",
   "metadata": {},
   "outputs": [
    {
     "data": {
      "text/plain": [
       "array([False, False, False, False])"
      ]
     },
     "execution_count": 89,
     "metadata": {},
     "output_type": "execute_result"
    }
   ],
   "source": [
    "#С векторами в NumPy можно производить арифметические операции: складывать, вычитать, умножать друг на друга, возводить один вектор в степень другого и т. д.\n",
    "\n",
    "#Операция, применённая к двум векторам, на самом деле применяется поэлементно. \n",
    "#То есть при сложении двух векторов первым элементом нового вектора будет сумма первых элементов исходных векторов, вторым — сумма вторых элементов и т. д.\n",
    "# векторы должны быть одинаковой длины\n",
    "import numpy as np\n",
    "vec1 = np.array([2, 4, 7, 2.5])\n",
    "vec2 = np.array([12, 6, 3.6, 13])\n",
    "vec1 + vec2\n",
    "vec1 * vec2\n",
    "vec1**2\n",
    "vec1 +10\n",
    "vec1 > vec2 #array([False, False,  True, False])\n",
    "vec1>=10   #array([False, False, False, False])"
   ]
  },
  {
   "cell_type": "markdown",
   "id": "05d0fb2d",
   "metadata": {},
   "source": [
    "### np.linalg.norm(vec)-длина вектора   \n",
    "### np.linalg.norm(vec1-vec2) - расстояние   \n",
    "### np.dot(vec1,vec2)- скалярное произведение"
   ]
  },
  {
   "cell_type": "code",
   "execution_count": 99,
   "id": "b4e1d817",
   "metadata": {},
   "outputs": [
    {
     "data": {
      "text/plain": [
       "0"
      ]
     },
     "execution_count": 99,
     "metadata": {},
     "output_type": "execute_result"
    }
   ],
   "source": [
    "         # -ДЛИНА ВЕКТОРА, то есть расстояние между его началом и концом\n",
    "# возведём все элементы в квадрат, посчитаем их сумму, а затем найдём квадратный корень.\n",
    "vec =np.array([3,4])\n",
    "leght = np.sqrt(np.sum(vec**2))\n",
    "#В NumPy есть специальный подмодуль linalg, который позволяет производить операции из линейной алгебры.\n",
    "#Для вычисления длины вектора нам потребуется функция norm:\n",
    "leght = np.linalg.norm(vec)\n",
    "\n",
    "\n",
    "         # -РАССТОЯНИЕ между двумя векторами, то есть расстояние между их концами, [в евклидовом пространстве] - квадратный корень из суммы квадратов разностей соответствующих координат\n",
    "#  расстояние между векторами — это длина такого вектора, который является разностью этих векторов. В самом деле, при вычитании двух векторов вычитаются их соответствующие координаты\n",
    "vec1 = np.array([0, 3, 5])\n",
    "vec2 = np.array([12, 4, 7])\n",
    "distance = np.sqrt(np.sum((vec1 - vec2) ** 2))\n",
    "#np.linalg.norm:\n",
    "distance = np.linalg.norm(vec1-vec2) #12.206555615733702\n",
    "\n",
    "\n",
    "        #- СКАЛЯРНЫМ ПРОИЗВЕДЕНИЕМ двух векторов называют сумму произведений их соответствующих координат\n",
    "#Реализуем это в коде (по-английски скалярное произведение называют dot — точечный — или scalar product, отсюда и такое название переменной):\n",
    "vec1 = np.arange(1,6)\n",
    "vec2 = np.linspace(10,20,5)\n",
    "scalar_product = np.sum(vec1*vec2)  # скаляр scalar_product #250.0\n",
    "#np.dot(vec1,vec2)\n",
    "scalar_product = np.dot(vec1,vec2) #scalar_product # 250.0\n",
    "#Скалярное произведение также имеет широкое применение в математике и других операциях с векторами.\n",
    "# В частности, равенство скалярного произведения нулю означает перпендикулярность рассматриваемых векторов:\n",
    "x = np.array([25, 0])\n",
    "y = np.array([0, 25])\n",
    "np.dot(x,y) #0\n",
    "#В целом, скалярное произведение часто используется для определения угла между векторами.\n",
    "\n",
    "#Функции np.min и np.max позволяют находить максимальное и минимальное значение в векторе. Их можно записывать как в виде np.min(<vector>), так и в виде <vector>.min():\n",
    "#Функция mean позволяет посчитать среднее значение. Больше не требуется реализовывать её «руками»!"
   ]
  },
  {
   "cell_type": "markdown",
   "id": "6717497a",
   "metadata": {},
   "source": [
    "# Случайные числа в numpy"
   ]
  },
  {
   "cell_type": "markdown",
   "id": "392619b6",
   "metadata": {},
   "source": [
    "## генерация случайных чисел float:  \n",
    "### np.random.rand()"
   ]
  },
  {
   "cell_type": "code",
   "execution_count": 12,
   "id": "61f104e3",
   "metadata": {},
   "outputs": [
    {
     "data": {
      "text/plain": [
       "array([39.51020646, 90.2788395 ])"
      ]
     },
     "execution_count": 12,
     "metadata": {},
     "output_type": "execute_result"
    }
   ],
   "source": [
    "import numpy as np\n",
    "\n",
    "np.random.rand() #- генерирует число  от -1 до 0\n",
    "   # 0.14754490458977765\n",
    "   \n",
    "np.random.rand(5) #- генерирует  одномерный массив с числами от -1 до 0\n",
    "   # array([0.92621206, 0.1446589 , 0.91416133, 0.9685235 , 0.73592253])\n",
    "   \n",
    "np.random.rand(2,2) #- генерирует  двумерный массив с числами от -1 до 0  и другие многомерные массивы\n",
    "    #array([[0.84581304, 0.96970958],\n",
    "    #        [0.02105096, 0.73303506]])\n",
    "       \n",
    "#Чтобы получить случайное число в диапазоне, например, от 0 до 100, достаточно просто умножить генерируемое число на 100:\n",
    "np.random.rand(2)*100 \n",
    "    #array([28.80311488, 53.62656652])"
   ]
  },
  {
   "cell_type": "markdown",
   "id": "e5fa5427",
   "metadata": {},
   "source": [
    "### np.random.sample(кортеж)"
   ]
  },
  {
   "cell_type": "code",
   "execution_count": 14,
   "id": "10349b38",
   "metadata": {},
   "outputs": [
    {
     "data": {
      "text/plain": [
       "array([[0.46290798, 0.12540975, 0.98694689],\n",
       "       [0.75380038, 0.49191887, 0.51098236]])"
      ]
     },
     "execution_count": 14,
     "metadata": {},
     "output_type": "execute_result"
    }
   ],
   "source": [
    "# функция, генерирующая массивы случайных чисел от 0 до 1, которая принимает в качестве аргумента именно кортеж без распаковки.\n",
    "\n",
    "shape = (2,3)\n",
    "np.random.sample(shape)\n",
    "#  array([[0.65949399, 0.99947583, 0.61330769],\n",
    "#       [0.62926994, 0.41182219, 0.64025097]])\n",
    "\n",
    "# либо распаковать кортеж (*):\n",
    "np.random.rand(*shape)"
   ]
  },
  {
   "cell_type": "markdown",
   "id": "d968d9ad",
   "metadata": {},
   "source": [
    "### np.random.uniform(low=0.0, high=0.0, size=None )"
   ]
  },
  {
   "cell_type": "code",
   "execution_count": 20,
   "id": "00a62cd1",
   "metadata": {},
   "outputs": [
    {
     "data": {
      "text/plain": [
       "0.17142832333567004"
      ]
     },
     "execution_count": 20,
     "metadata": {},
     "output_type": "execute_result"
    }
   ],
   "source": [
    "#Первые два аргумента — нижняя и верхняя границы диапазона в формате float, третий опциональный аргумент — форма массива (если не задан, возвращается одно число).\n",
    "# Форма массива задаётся кортежем или одним числом.\n",
    "\n",
    "np.random.uniform(1,10, size=5)\n",
    "np.random.uniform(1,10, size=shape)\n",
    "np.random.uniform(1,10, size=(5,3))\n",
    "\n",
    "np.random.uniform() # можно без аргументов. Выдаст одно число"
   ]
  },
  {
   "cell_type": "markdown",
   "id": "35085b27",
   "metadata": {},
   "source": [
    "## генерация случайных чисел int:  \n",
    "### np.random.randint(low, high=None, size=None, dtype=int)"
   ]
  },
  {
   "cell_type": "code",
   "execution_count": 23,
   "id": "eefe54cf",
   "metadata": {},
   "outputs": [
    {
     "data": {
      "text/plain": [
       "3"
      ]
     },
     "execution_count": 23,
     "metadata": {},
     "output_type": "execute_result"
    }
   ],
   "source": [
    "np.random.randint(8) #- нужен один обязательный аргумент\n",
    "# 3\n",
    "# Функцию randint нельзя запустить совсем без параметров, необходимо указать хотя бы одно число.\n",
    "\n",
    "# Если указан только аргумент low, числа будут генерироваться от 0 до low-1, то есть верхняя граница не включается.\n",
    "# Если задать low и high, числа будут генерироваться от low (включительно) до high (не включительно).\n",
    "# size задаёт форму массива уже привычным для вас образом: одним числом — для одномерного или кортежем — для многомерного.\n",
    "# dtype позволяет задать конкретный тип данных, который должен быть использован в массиве."
   ]
  },
  {
   "cell_type": "markdown",
   "id": "bf4e1979",
   "metadata": {},
   "source": [
    "# Работа со случайными величинами из существующих уже данных:\n",
    "### np.random.shuffle() - перемешивает значения в массиве, меняет старый массив, не выводт его (None)\n"
   ]
  },
  {
   "cell_type": "code",
   "execution_count": 47,
   "id": "b850f18e",
   "metadata": {},
   "outputs": [
    {
     "name": "stdout",
     "output_type": "stream",
     "text": [
      "None\n",
      "['The Beatles', 'Pink Floyd', 'ACDC', 'Deep Purple']\n"
     ]
    }
   ],
   "source": [
    "playlist = [\"The Beatles\", \"Pink Floyd\", \"ACDC\", \"Deep Purple\"]\n",
    "print(np.random.shuffle(playlist)) #Функция random.shuffle перемешивает тот массив, к которому применяется, и возвращает None.\n",
    "print(playlist)"
   ]
  },
  {
   "cell_type": "markdown",
   "id": "93503926",
   "metadata": {},
   "source": [
    "### np.random.permutation() - перемешивает массив и сохраняет его в новую переменную, сам массив не  изменяет. Может принмать массив или список (И превращает его в массив) или число"
   ]
  },
  {
   "cell_type": "code",
   "execution_count": 44,
   "id": "0d3ce834",
   "metadata": {},
   "outputs": [
    {
     "name": "stdout",
     "output_type": "stream",
     "text": [
      "['The Beatles', 'Pink Floyd', 'ACDC', 'Deep Purple']\n",
      "['ACDC' 'The Beatles' 'Deep Purple' 'Pink Floyd']\n"
     ]
    }
   ],
   "source": [
    "playlist = [\"The Beatles\", \"Pink Floyd\", \"ACDC\", \"Deep Purple\"]\n",
    "shuffled = np.random.permutation(playlist)\n",
    "print(playlist)\n",
    "print(shuffled)"
   ]
  },
  {
   "cell_type": "code",
   "execution_count": 38,
   "id": "7167a82d",
   "metadata": {},
   "outputs": [
    {
     "data": {
      "text/plain": [
       "array([5, 4, 7, 9, 2, 3, 1, 8, 0, 6])"
      ]
     },
     "execution_count": 38,
     "metadata": {},
     "output_type": "execute_result"
    }
   ],
   "source": [
    "np.random.permutation(10) #создает arange(10) и перемешивает его"
   ]
  },
  {
   "cell_type": "markdown",
   "id": "d4e978dd",
   "metadata": {},
   "source": [
    "### np.random.choice(a, size=None, replace=True) выбрать из массива случайные числа"
   ]
  },
  {
   "cell_type": "code",
   "execution_count": 127,
   "id": "759db060",
   "metadata": {},
   "outputs": [
    {
     "data": {
      "text/plain": [
       "array([[5, 6],\n",
       "       [1, 4]])"
      ]
     },
     "execution_count": 127,
     "metadata": {},
     "output_type": "execute_result"
    }
   ],
   "source": [
    "# a — одномерный массив или число для генерации arange(a);\n",
    "# size — желаемая форма массива (число для получения одномерного массива, кортеж — для многомерного; если параметр не задан, возвращается один объект);\n",
    "# replace — параметр, задающий, могут ли элементы повторяться (по умолчанию могут).\n",
    "\n",
    "workers = ['Ivan', 'Nikita', 'Maria', 'John', 'Kate']\n",
    "np.random.choice(workers, size=2, replace=False)\n",
    "# array(['Nikita', 'Maria'], dtype='<U6')\n",
    "\n",
    "np.random.choice([1,2,3,4,5], size=3)\n",
    "\n",
    "# array([4, 1, 4])\n",
    "np.random.choice(10, size=(2,2), replace=False)\n"
   ]
  },
  {
   "cell_type": "code",
   "execution_count": null,
   "id": "4705352f",
   "metadata": {},
   "outputs": [],
   "source": []
  },
  {
   "cell_type": "markdown",
   "id": "d71dbe61",
   "metadata": {},
   "source": [
    "# np.random.seed(число) - генератор псевдослучайных чисел"
   ]
  },
  {
   "cell_type": "code",
   "execution_count": 52,
   "id": "7f295ea7",
   "metadata": {},
   "outputs": [
    {
     "name": "stdout",
     "output_type": "stream",
     "text": [
      "[3 6 8 9 6 8]\n",
      "[7 9 3 6 1 2]\n"
     ]
    }
   ],
   "source": [
    "np.random.seed(23)\n",
    "print(np.random.randint(10, size=6))\n",
    "print(np.random.randint(10, size=6))"
   ]
  },
  {
   "cell_type": "code",
   "execution_count": 86,
   "id": "1838e474",
   "metadata": {},
   "outputs": [
    {
     "data": {
      "text/plain": [
       "(array([3, 2, 1, 4, 5]), 1714602883)"
      ]
     },
     "execution_count": 86,
     "metadata": {},
     "output_type": "execute_result"
    }
   ],
   "source": [
    "#Вы разрабатываете приложение для прослушивания музыки. Конечно же, там будет доступна функция перемешивания плейлиста. Пользователю может настолько понравиться перемешанная версия плейлиста,\n",
    "# что он захочет сохранить его копию. Однако вы не хотите хранить в памяти новую версию плейлиста, а просто хотите сохранять тот seed, с которым он был сгенерирован.\n",
    "\n",
    "# Для этого напишите функцию shuffle_seed(<array>),  которая принимает на вход массив из чисел, генерирует случайное число для seed в диапазоне от 0 до 2**32 - 1 (включительно) \n",
    "# и возвращает кортеж: перемешанный с данным seed массив (исходный массив должен оставаться без изменений), а также seed, с которым этот массив был получен.\n",
    "\n",
    "def shuffle_seed(array):\n",
    "\n",
    "    num = np.random.randint(0, (2**32-1), dtype=np.int64)\n",
    "    np.random.seed(num)\n",
    "    permut = np.random.permutation(array)\n",
    "    return permut, num\n",
    "\n",
    "array = [1, 2, 3, 4, 5]\n",
    "shuffle_seed(array)"
   ]
  },
  {
   "cell_type": "code",
   "execution_count": 6,
   "id": "8bc4e78e",
   "metadata": {},
   "outputs": [
    {
     "name": "stdout",
     "output_type": "stream",
     "text": [
      "[0.0, 5.196152422706632, 9.848857801796104]\n",
      "[0.0, 5.196152422706632, 9.848857801796104, 5.196152422706632, 0.0, 4.69041575982343]\n",
      "[0.0, 5.196152422706632, 9.848857801796104, 5.196152422706632, 0.0, 4.69041575982343, 9.848857801796104, 4.69041575982343, 0.0]\n",
      "[9.848857801796104, 4.69041575982343, 5.196152422706632]\n"
     ]
    },
    {
     "data": {
      "text/plain": [
       "(4.69041575982343, 9.848857801796104)"
      ]
     },
     "execution_count": 6,
     "metadata": {},
     "output_type": "execute_result"
    }
   ],
   "source": [
    "# Напишите функцию min_max_dist, которая принимает на вход неограниченное число векторов через запятую. Гарантируется, что все векторы, которые передаются, одинаковой длины.\n",
    "\n",
    "#Функция возвращает минимальное и максимальное расстояние между векторами в виде кортежа.\n",
    "\n",
    "\n",
    "\n",
    "# (5.196152422706632, 10.392304845413264)\n",
    "\n",
    "def min_max_dist(*vec):\n",
    "    vectors = []\n",
    "    over_vec=[]\n",
    "    for i in vec:\n",
    "        vectors.append(i)  # список со всеми векторами\n",
    "         \n",
    "    for num in range(len(vectors)):\n",
    "             \n",
    "        over_vec.extend((list(map(lambda x: np.linalg.norm(vectors[num]-x), vectors))))\n",
    "        print(over_vec)\n",
    "    over_vec=list(set(over_vec))\n",
    "    over_vec.pop(0)\n",
    "    print(over_vec)\n",
    "    return np.min(over_vec), np.max(over_vec)\n",
    "\n",
    "\n",
    "            \n",
    "import numpy as np\n",
    "vec1 = np.array([1,2,3])\n",
    "vec2 = np.array([4,5,6])\n",
    "vec3 = np.array([6, 8, 9])\n",
    "min_max_dist(vec1, vec2, vec3)"
   ]
  },
  {
   "cell_type": "code",
   "execution_count": 227,
   "id": "5ff516fc",
   "metadata": {},
   "outputs": [],
   "source": [
    "def min_max_dist(*vectors):\n",
    "    dists = list()\n",
    "    for i in range(len(vectors)):\n",
    "        for j in range(i + 1, len(vectors)):\n",
    "            dists.append(np.linalg.norm(vectors[i] - vectors[j]))\n",
    "        print(dists)\n",
    "    return (min(dists), max(dists))"
   ]
  },
  {
   "cell_type": "code",
   "execution_count": null,
   "id": "12975b45",
   "metadata": {},
   "outputs": [],
   "source": []
  },
  {
   "cell_type": "code",
   "execution_count": 61,
   "id": "739235dc",
   "metadata": {},
   "outputs": [
    {
     "name": "stdout",
     "output_type": "stream",
     "text": [
      "True\n"
     ]
    }
   ],
   "source": [
    "#Напишите функцию any_normal, которая принимает на вход неограниченное число векторов через запятую. Гарантируется, что все векторы, которые передаются, одинаковой длины.\n",
    "#Функция возвращает True, если есть хотя бы одна пара перпендикулярных векторов. Иначе возвращает False.\n",
    "#Пример:\n",
    "\n",
    "def any_normal(*vec):\n",
    "    import numpy as np\n",
    "    for i in range(len(vec)):\n",
    "        for j in range(i+1, len(vec)):\n",
    "            \n",
    "            if np.dot(vec[i],vec[j])==0:\n",
    "                return True\n",
    "            else:\n",
    "                return False \n",
    "            \n",
    "import numpy as np\n",
    "vec1 = np.array([1, 0])\n",
    "vec2 = np.array([0, 1])\n",
    "vec3 = np.array([3,4])\n",
    "vec4 = np.array([2, 6])\n",
    "vec6 = np.array([-1, 7])\n",
    "vec7 = np.array([3,9])\n",
    "print(any_normal(vec1, vec2, vec3))\n",
    "# True\n",
    "\n"
   ]
  },
  {
   "cell_type": "code",
   "execution_count": 69,
   "id": "4fc09fe6",
   "metadata": {},
   "outputs": [
    {
     "data": {
      "text/plain": [
       "array([[[70, 41, 80, 15, 71],\n",
       "        [12, 64, 21, 83, 77],\n",
       "        [43, 61, 17, 94, 48],\n",
       "        [48, 52, 17, 51, 22],\n",
       "        [79, 40, 48, 53, 73]],\n",
       "\n",
       "       [[73, 25, 57, 97, 65],\n",
       "        [63, 93, 85,  9, 67],\n",
       "        [50, 92, 96, 48, 40],\n",
       "        [83, 27, 15, 49, 84],\n",
       "        [18, 73, 34, 68, 33]],\n",
       "\n",
       "       [[61, 65, 21, 33, 73],\n",
       "        [ 4, 68, 61, 31, 97],\n",
       "        [61, 78, 27,  2, 17],\n",
       "        [56, 54, 93, 77, 80],\n",
       "        [68, 56, 41, 27, 56]]])"
      ]
     },
     "execution_count": 69,
     "metadata": {},
     "output_type": "execute_result"
    }
   ],
   "source": [
    "#Напишите функцию get_loto(num), генерирующую трёхмерный массив случайных целых чисел от 1 до 100 (включительно). Это поля для игры в лото.\n",
    "#Трёхмерный массив должен состоять из таблиц чисел формы 5х5, то есть итоговая форма — (num, 5, 5).\n",
    "#Функция возвращает полученный массив.\n",
    "def get_loto(num: int):\n",
    "    \"\"\"Функция гегерирует трехмерный массив со сторонами 5х5 для игры в лото\n",
    "\n",
    "    Args:\n",
    "        num (int): принимает размер массива\n",
    "\n",
    "    Returns:\n",
    "        array: массив\n",
    "    \"\"\"\n",
    "    loto_array = np.random.randint(1, 101, size = (num, 5, 5))\n",
    "    return loto_array\n",
    "get_loto(3)"
   ]
  },
  {
   "cell_type": "code",
   "execution_count": 19,
   "id": "8a6e3fa1",
   "metadata": {},
   "outputs": [
    {
     "data": {
      "text/plain": [
       "array([[[18, 17, 12, 24, 15],\n",
       "        [16, 13,  2,  1, 23],\n",
       "        [14,  4, 22,  6,  7],\n",
       "        [ 5, 20,  9, 11, 10],\n",
       "        [19, 21,  0,  8,  3]],\n",
       "\n",
       "       [[ 3,  9, 24,  2, 15],\n",
       "        [22, 21,  6, 18, 12],\n",
       "        [13, 16,  4, 23,  0],\n",
       "        [17, 20, 11,  7, 10],\n",
       "        [ 1, 14,  8,  5, 19]],\n",
       "\n",
       "       [[21,  6, 18, 22,  8],\n",
       "        [13, 23,  2,  9, 19],\n",
       "        [15,  0, 16,  3,  4],\n",
       "        [12, 11, 10, 20, 17],\n",
       "        [ 1, 14, 24,  7,  5]]])"
      ]
     },
     "execution_count": 19,
     "metadata": {},
     "output_type": "execute_result"
    }
   ],
   "source": [
    "#Напишите функцию get_unique_loto(num). Она так же, как и функция в задании 10.10, генерирует num полей для игры в лото, однако теперь на каждом поле 5х5 числа не могут повторяться.\n",
    "#Функция также должна возвращать массив формы num x 5 x 5.\n",
    "# \n",
    "# \n",
    "def get_unique_loto(num: int):\n",
    "    \n",
    "    \"\"\"Функция гегерирует трехмерный массив со сторонами 5х5 для игры в лото без повторений\n",
    "\n",
    "    Args:\n",
    "        num (int): принимает размер массива\n",
    "\n",
    "    Returns:\n",
    "        array: массив\n",
    "    \"\"\"\n",
    "\n",
    "    import numpy as np\n",
    "    np.random.seed(3)\n",
    "    sample =np.random.randint(1,101)\n",
    "    loto_array=(np.random.choice(sample, size = (5, 5), replace=False))\n",
    "    \n",
    "    for i in range(num-1):\n",
    "        new_loto_array=(np.random.choice(sample, size = (5, 5), replace=False))\n",
    "        \n",
    "        loto_array=np.concatenate((loto_array, new_loto_array))\n",
    "\n",
    "    loto_array.shape= (num,5,5)   \n",
    "    return loto_array\n",
    "\n",
    "get_unique_loto(3)\n",
    "\n"
   ]
  },
  {
   "cell_type": "code",
   "execution_count": 137,
   "id": "8d4c58aa",
   "metadata": {},
   "outputs": [
    {
     "data": {
      "text/plain": [
       "261.5"
      ]
     },
     "execution_count": 137,
     "metadata": {},
     "output_type": "execute_result"
    }
   ],
   "source": []
  },
  {
   "cell_type": "code",
   "execution_count": null,
   "id": "ea8f6fdd",
   "metadata": {},
   "outputs": [],
   "source": [
    "\n",
    "\n"
   ]
  },
  {
   "cell_type": "code",
   "execution_count": null,
   "id": "8f634d7e",
   "metadata": {},
   "outputs": [],
   "source": []
  },
  {
   "cell_type": "code",
   "execution_count": null,
   "id": "597d9e76",
   "metadata": {},
   "outputs": [],
   "source": []
  }
 ],
 "metadata": {
  "kernelspec": {
   "display_name": "Python 3.9.10 64-bit",
   "language": "python",
   "name": "python3"
  },
  "language_info": {
   "codemirror_mode": {
    "name": "ipython",
    "version": 3
   },
   "file_extension": ".py",
   "mimetype": "text/x-python",
   "name": "python",
   "nbconvert_exporter": "python",
   "pygments_lexer": "ipython3",
   "version": "3.9.10"
  },
  "vscode": {
   "interpreter": {
    "hash": "3e20e8f24bd79d047f2db5bfb3f476e2e22892f53c68e86beee9ba154507af63"
   }
  }
 },
 "nbformat": 4,
 "nbformat_minor": 5
}
