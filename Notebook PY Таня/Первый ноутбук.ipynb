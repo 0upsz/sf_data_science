{
 "cells": [
  {
   "cell_type": "markdown",
   "id": "88d214a5",
   "metadata": {},
   "source": [
    "# множественное присваивание переменных"
   ]
  },
  {
   "cell_type": "code",
   "execution_count": 43,
   "id": "a03b5a58",
   "metadata": {},
   "outputs": [],
   "source": [
    "a,b,c=1,2,3"
   ]
  },
  {
   "cell_type": "code",
   "execution_count": 6,
   "id": "c5f9d03c",
   "metadata": {},
   "outputs": [
    {
     "name": "stdout",
     "output_type": "stream",
     "text": [
      "et\n"
     ]
    }
   ],
   "source": [
    "print(a[3:1:-1])"
   ]
  },
  {
   "cell_type": "code",
   "execution_count": 7,
   "id": "720f3e6b",
   "metadata": {},
   "outputs": [
    {
     "name": "stdout",
     "output_type": "stream",
     "text": [
      "1 2 3\n"
     ]
    }
   ],
   "source": [
    "a,b,c=1,2,3\n",
    "print(a,b,c)"
   ]
  },
  {
   "cell_type": "markdown",
   "id": "93bd9eea",
   "metadata": {},
   "source": [
    "# строки"
   ]
  },
  {
   "cell_type": "markdown",
   "id": "93bf6ae9",
   "metadata": {},
   "source": [
    "# .split() - - разделяет строки и превращает в список\n",
    "# .join() - присоединяет символ/строку к списку и получаем строку"
   ]
  },
  {
   "cell_type": "code",
   "execution_count": 41,
   "id": "374af9c1",
   "metadata": {},
   "outputs": [
    {
     "name": "stdout",
     "output_type": "stream",
     "text": [
      "['red', 'green', 'blue']\n",
      "<class 'str'>\n"
     ]
    }
   ],
   "source": [
    "colors = 'red green blue'\n",
    "colors_split=colors.split()\n",
    "\n",
    "print(colors_split)\n",
    "colors_join=\" and \".join(colors_split)\n",
    "print(type(colors_join))"
   ]
  },
  {
   "cell_type": "code",
   "execution_count": null,
   "id": "305ff358",
   "metadata": {},
   "outputs": [],
   "source": []
  },
  {
   "cell_type": "code",
   "execution_count": null,
   "id": "18a4658e",
   "metadata": {},
   "outputs": [],
   "source": [
    "a=str(input(\"Введите числа через пробел \"))\n",
    "a_split=a.split()\n",
    "a_join='\\n'.join(a_split)\n",
    "print(a_join)"
   ]
  },
  {
   "cell_type": "code",
   "execution_count": 60,
   "id": "bb3c607a",
   "metadata": {},
   "outputs": [
    {
     "name": "stdout",
     "output_type": "stream",
     "text": [
      "The currency currency rate on the date cur_date is 86.755\n"
     ]
    }
   ],
   "source": [
    "print('The {} currency rate on the date {} is {:.3f}'.format(\"currency\", \"cur_date\", 86.755))"
   ]
  },
  {
   "cell_type": "markdown",
   "id": "05a9ba55",
   "metadata": {},
   "source": [
    "# ЭЭЭ\n",
    "## лллл\n",
    "### rrrrr\n",
    "Список:\n",
    "- цу\n",
    "- пв\n"
   ]
  },
  {
   "cell_type": "markdown",
   "id": "0c1481ac",
   "metadata": {},
   "source": [
    "# замена переменных"
   ]
  },
  {
   "cell_type": "code",
   "execution_count": 2,
   "id": "c048e29d",
   "metadata": {},
   "outputs": [],
   "source": [
    "a,b=b,a"
   ]
  },
  {
   "cell_type": "code",
   "execution_count": 8,
   "id": "96ccb33a",
   "metadata": {},
   "outputs": [
    {
     "name": "stdout",
     "output_type": "stream",
     "text": [
      "Введите текст: ghbdtn\n",
      "Введите степень: 2\n",
      "ghbdtn 6 36\n"
     ]
    }
   ],
   "source": [
    "string=input('Введите текст: ')\n",
    "power=int(input('Введите степень: '))\n",
    "print(string, len(string), (len(string))**power)"
   ]
  },
  {
   "cell_type": "code",
   "execution_count": 8,
   "id": "fc3f5ee9",
   "metadata": {},
   "outputs": [
    {
     "data": {
      "text/plain": [
       "-0.3909200032552083"
      ]
     },
     "execution_count": 8,
     "metadata": {},
     "output_type": "execute_result"
    }
   ],
   "source": [
    "(1267-20*(5**3/2)**2)/(8**5*36**(1/2))"
   ]
  },
  {
   "cell_type": "code",
   "execution_count": 12,
   "id": "f86d482b",
   "metadata": {},
   "outputs": [
    {
     "data": {
      "text/plain": [
       "-4251528.0"
      ]
     },
     "execution_count": 12,
     "metadata": {},
     "output_type": "execute_result"
    }
   ],
   "source": [
    "((((9**(1/2))**3)**2)**2)/(-2)**(-3)"
   ]
  },
  {
   "cell_type": "code",
   "execution_count": 13,
   "id": "459e757c",
   "metadata": {},
   "outputs": [],
   "source": [
    "a=2"
   ]
  },
  {
   "cell_type": "code",
   "execution_count": 14,
   "id": "9d6b9825",
   "metadata": {},
   "outputs": [
    {
     "data": {
      "text/plain": [
       "int"
      ]
     },
     "execution_count": 14,
     "metadata": {},
     "output_type": "execute_result"
    }
   ],
   "source": [
    "type(a)"
   ]
  },
  {
   "cell_type": "code",
   "execution_count": 15,
   "id": "b3ffe621",
   "metadata": {},
   "outputs": [
    {
     "name": "stdout",
     "output_type": "stream",
     "text": [
      "2.0\n"
     ]
    }
   ],
   "source": [
    "a=float(2)\n",
    "print (a)"
   ]
  },
  {
   "cell_type": "code",
   "execution_count": 16,
   "id": "c47fb597",
   "metadata": {},
   "outputs": [
    {
     "name": "stdout",
     "output_type": "stream",
     "text": [
      "гавгавгавгавгавгавгавгавгавгавгавгавгавгавгавгавгавгавгавгавгавгавгавгавгавгавгавгавгавгавгавгавгавгавгавгавгавгавгавгавгавгавгавгавгавгавгавгавгавгавгавгавгавгавгавгавгавгавгавгавгавгавгавгавгавгавгавгавгавгавгавгавгавгавгавгавгавгавгавгавгавгавгавгавгавгавгавгавгавгавгавгавгавгавгавгавгавгавгавгав\n"
     ]
    }
   ],
   "source": [
    "a=\"гав\"\n",
    "print (a*100)"
   ]
  },
  {
   "cell_type": "code",
   "execution_count": 17,
   "id": "c7f9a01b",
   "metadata": {},
   "outputs": [
    {
     "data": {
      "text/plain": [
       "2.0"
      ]
     },
     "execution_count": 17,
     "metadata": {},
     "output_type": "execute_result"
    }
   ],
   "source": [
    "4**(1/2)"
   ]
  },
  {
   "cell_type": "code",
   "execution_count": 18,
   "id": "98297ea9",
   "metadata": {},
   "outputs": [
    {
     "data": {
      "text/plain": [
       "4"
      ]
     },
     "execution_count": 18,
     "metadata": {},
     "output_type": "execute_result"
    }
   ],
   "source": [
    "2**2"
   ]
  },
  {
   "cell_type": "code",
   "execution_count": 19,
   "id": "45737a7f",
   "metadata": {},
   "outputs": [
    {
     "name": "stdout",
     "output_type": "stream",
     "text": [
      "Напиши что-топривет\n"
     ]
    },
    {
     "data": {
      "text/plain": [
       "'привет'"
      ]
     },
     "execution_count": 19,
     "metadata": {},
     "output_type": "execute_result"
    }
   ],
   "source": [
    "input(\"Напиши что-то\")"
   ]
  },
  {
   "cell_type": "code",
   "execution_count": 23,
   "id": "300222df",
   "metadata": {},
   "outputs": [
    {
     "name": "stdout",
     "output_type": "stream",
     "text": [
      "Напишите свое имя: \n",
      "ааа\n"
     ]
    },
    {
     "data": {
      "text/plain": [
       "'ааа'"
      ]
     },
     "execution_count": 23,
     "metadata": {},
     "output_type": "execute_result"
    }
   ],
   "source": [
    "input(\"Напишите свое имя: \\n\")"
   ]
  },
  {
   "cell_type": "code",
   "execution_count": 26,
   "id": "6cecedd8",
   "metadata": {},
   "outputs": [
    {
     "name": "stdout",
     "output_type": "stream",
     "text": [
      "Ведите число умнож на 5: \n",
      "7\n",
      "35\n"
     ]
    }
   ],
   "source": [
    "multiplayer = int(input(\"Ведите число умнож на 5: \\n\"))\n",
    "print(5*multiplayer)"
   ]
  },
  {
   "cell_type": "code",
   "execution_count": 28,
   "id": "ab9170c1",
   "metadata": {},
   "outputs": [
    {
     "name": "stdout",
     "output_type": "stream",
     "text": [
      "Введите основание степени: \n",
      "2\n",
      "Введите степень: \n",
      "3\n",
      "Получено число 8\n"
     ]
    }
   ],
   "source": [
    "a=int(input(\"Введите основание степени: \\n\"))\n",
    "b=int(input(\"Введите степень: \\n\"))\n",
    "print(\"Получено число\", a**b)"
   ]
  },
  {
   "cell_type": "code",
   "execution_count": 37,
   "id": "9abf26df",
   "metadata": {},
   "outputs": [
    {
     "name": "stdout",
     "output_type": "stream",
     "text": [
      "Напишите любое слово: \n",
      "ii\n",
      "В слове ii 2 букв\n"
     ]
    }
   ],
   "source": [
    "word = input(\"Напишите любое слово: \\n\")\n",
    "print (\"В слове\", word, int(len(word)), \"букв\")"
   ]
  },
  {
   "cell_type": "code",
   "execution_count": 39,
   "id": "9085224c",
   "metadata": {},
   "outputs": [
    {
     "name": "stdout",
     "output_type": "stream",
     "text": [
      "Введите первое число10\n",
      "Введите второе число3\n",
      "1\n"
     ]
    }
   ],
   "source": [
    "a=int(input(\"Введите первое число\"))\n",
    "b=int(input(\"Введите второе число\"))\n",
    "print(a%b)"
   ]
  },
  {
   "cell_type": "code",
   "execution_count": 40,
   "id": "fb2d6db4",
   "metadata": {},
   "outputs": [
    {
     "name": "stdout",
     "output_type": "stream",
     "text": [
      "17.213006207263156\n"
     ]
    }
   ],
   "source": [
    "a=12\n",
    "b=17\n",
    "c=25\n",
    "print((a*b*c)**(1/3))"
   ]
  },
  {
   "cell_type": "code",
   "execution_count": 41,
   "id": "15c13a13",
   "metadata": {},
   "outputs": [
    {
     "name": "stdout",
     "output_type": "stream",
     "text": [
      "Напишите число: 100500\n",
      "113628013506.996\n"
     ]
    }
   ],
   "source": [
    "x=int(input(\"Напишите число: \"))\n",
    "\n",
    "print(6.996+45*(x/2)**2+2*x)"
   ]
  },
  {
   "cell_type": "code",
   "execution_count": 42,
   "id": "d4bf53bd",
   "metadata": {},
   "outputs": [
    {
     "name": "stdout",
     "output_type": "stream",
     "text": [
      "Ведите свой вес: \n",
      "58\n",
      "Введите свой рост в метрах: \n",
      "1.73\n",
      "19.37919743392696\n"
     ]
    }
   ],
   "source": [
    "weight=int(input(\"Ведите свой вес: \\n\"))\n",
    "height=float(input(\"Введите свой рост в метрах: \\n\"))\n",
    "print(weight/height**2)"
   ]
  },
  {
   "cell_type": "code",
   "execution_count": 43,
   "id": "0d893375",
   "metadata": {},
   "outputs": [
    {
     "name": "stdout",
     "output_type": "stream",
     "text": [
      "5.209745039548078\n"
     ]
    }
   ],
   "source": [
    "a=270\n",
    "b=12.8\n",
    "-x=(a+b)/2\n",
    "print(x**(1/3))"
   ]
  },
  {
   "cell_type": "code",
   "execution_count": 44,
   "id": "489326f2",
   "metadata": {},
   "outputs": [
    {
     "name": "stdout",
     "output_type": "stream",
     "text": [
      "Введите цедлое число: 23\n",
      "Вы ввели число, которое прпи умножении на 3 дает 69\n"
     ]
    }
   ],
   "source": [
    "a=int(input(\"Введите цедлое число: \"))\n",
    "print(\"Вы ввели число, которое прпи умножении на 3 дает\",a*3 )"
   ]
  },
  {
   "cell_type": "code",
   "execution_count": 55,
   "id": "6056d727",
   "metadata": {},
   "outputs": [
    {
     "name": "stdout",
     "output_type": "stream",
     "text": [
      "10.62658569182611\n"
     ]
    }
   ],
   "source": [
    "string_1=3\n",
    "string_2=4\n",
    "string_3=100\n",
    "uno=string_1*string_2*string_3\n",
    "print(uno**(1/3))"
   ]
  },
  {
   "cell_type": "markdown",
   "id": "2270c922",
   "metadata": {},
   "source": [
    "# len подсчет знаков"
   ]
  },
  {
   "cell_type": "code",
   "execution_count": 56,
   "id": "5129e003",
   "metadata": {},
   "outputs": [
    {
     "name": "stdout",
     "output_type": "stream",
     "text": [
      "привет 6 36\n"
     ]
    }
   ],
   "source": [
    "a=(\"привет\")\n",
    "b=2\n",
    "print(a, len(a), (len(a)**b))"
   ]
  },
  {
   "cell_type": "markdown",
   "id": "6c4f113c",
   "metadata": {},
   "source": [
    "# /n перенос строки, .join() присоединение"
   ]
  },
  {
   "cell_type": "code",
   "execution_count": 3,
   "id": "ff7428ef",
   "metadata": {
    "scrolled": true
   },
   "outputs": [
    {
     "name": "stdout",
     "output_type": "stream",
     "text": [
      "Введите несколько чисел через пробел: 1 2 3 4 5 6 7\n",
      "1\n",
      "2\n",
      "3\n",
      "4\n",
      "5\n",
      "6\n",
      "7\n"
     ]
    }
   ],
   "source": [
    "a=input (\"Введите несколько чисел через пробел: \")\n",
    "list_1=a.split()\n",
    "list_2=\"\\n\".join(list_1)\n",
    "print(list_2)"
   ]
  },
  {
   "cell_type": "markdown",
   "id": "759d9203",
   "metadata": {},
   "source": [
    "# print(f'...{}...{}...')"
   ]
  },
  {
   "cell_type": "code",
   "execution_count": 6,
   "id": "f296f97c",
   "metadata": {},
   "outputs": [
    {
     "name": "stdout",
     "output_type": "stream",
     "text": [
      "Hello, John. Today is friday. Have a nice day!\n"
     ]
    }
   ],
   "source": [
    "name= 'John'\n",
    "dayofweek = 'friday'\n",
    "print(f'Hello, {name}. Today is {dayofweek}. Have a nice day!')"
   ]
  },
  {
   "cell_type": "code",
   "execution_count": 10,
   "id": "342557a5",
   "metadata": {},
   "outputs": [],
   "source": [
    "my_list=range(10)"
   ]
  },
  {
   "cell_type": "code",
   "execution_count": 11,
   "id": "03b08897",
   "metadata": {},
   "outputs": [
    {
     "data": {
      "text/plain": [
       "range(0, 10)"
      ]
     },
     "execution_count": 11,
     "metadata": {},
     "output_type": "execute_result"
    }
   ],
   "source": [
    "my_list"
   ]
  },
  {
   "cell_type": "code",
   "execution_count": 12,
   "id": "942637e8",
   "metadata": {},
   "outputs": [
    {
     "data": {
      "text/plain": [
       "-10"
      ]
     },
     "execution_count": 12,
     "metadata": {},
     "output_type": "execute_result"
    }
   ],
   "source": [
    "a=range(-10,100)\n",
    "a[0]"
   ]
  },
  {
   "cell_type": "code",
   "execution_count": 13,
   "id": "b7c7695e",
   "metadata": {},
   "outputs": [
    {
     "data": {
      "text/plain": [
       "99"
      ]
     },
     "execution_count": 13,
     "metadata": {},
     "output_type": "execute_result"
    }
   ],
   "source": [
    "a[-1]"
   ]
  },
  {
   "cell_type": "code",
   "execution_count": 18,
   "id": "bdb94ca0",
   "metadata": {},
   "outputs": [
    {
     "data": {
      "text/plain": [
       "range(1, 4)"
      ]
     },
     "execution_count": 18,
     "metadata": {},
     "output_type": "execute_result"
    }
   ],
   "source": [
    "a_slice=range(1,11)\n",
    "a_slice[:3]"
   ]
  },
  {
   "cell_type": "code",
   "execution_count": null,
   "id": "86821017",
   "metadata": {},
   "outputs": [],
   "source": []
  },
  {
   "cell_type": "code",
   "execution_count": 23,
   "id": "2fd64e61",
   "metadata": {},
   "outputs": [
    {
     "data": {
      "text/plain": [
       "range(-1, 4)"
      ]
     },
     "execution_count": 23,
     "metadata": {},
     "output_type": "execute_result"
    }
   ],
   "source": [
    "a=range(-5,6)\n",
    "a[4:9]"
   ]
  },
  {
   "cell_type": "code",
   "execution_count": 1,
   "id": "8abe6ade",
   "metadata": {},
   "outputs": [
    {
     "name": "stdout",
     "output_type": "stream",
     "text": [
      "[6, 5, 4, 3, 2, 1, 0, -1, -2, -3]\n"
     ]
    }
   ],
   "source": [
    "a=list(range(-3,7))\n",
    "\n",
    "print(a[::-1])"
   ]
  },
  {
   "cell_type": "code",
   "execution_count": 22,
   "id": "56c14c72",
   "metadata": {},
   "outputs": [
    {
     "name": "stdout",
     "output_type": "stream",
     "text": [
      "[0, 1, 2, 3, 4, 5, 6, 7, 8, 9, 10]\n"
     ]
    }
   ],
   "source": [
    "a=list(range(0,11))\n",
    "print(a)"
   ]
  },
  {
   "cell_type": "code",
   "execution_count": 5,
   "id": "4d0b39a3",
   "metadata": {},
   "outputs": [
    {
     "name": "stdout",
     "output_type": "stream",
     "text": [
      "range(1, 10)\n"
     ]
    }
   ],
   "source": [
    "print(a)"
   ]
  },
  {
   "cell_type": "code",
   "execution_count": 6,
   "id": "55c7215a",
   "metadata": {},
   "outputs": [
    {
     "data": {
      "text/plain": [
       "9"
      ]
     },
     "execution_count": 6,
     "metadata": {},
     "output_type": "execute_result"
    }
   ],
   "source": [
    "a[-1]"
   ]
  },
  {
   "cell_type": "code",
   "execution_count": 26,
   "id": "5eaa01cc",
   "metadata": {},
   "outputs": [
    {
     "name": "stdout",
     "output_type": "stream",
     "text": [
      "[5, 4, 3, 2, 1, 0, -1, -2, -3]\n"
     ]
    }
   ],
   "source": [
    "a=list(range(-3,6))\n",
    "print(a[::-1])"
   ]
  },
  {
   "cell_type": "code",
   "execution_count": 38,
   "id": "d2dca0ae",
   "metadata": {
    "scrolled": true
   },
   "outputs": [
    {
     "name": "stdout",
     "output_type": "stream",
     "text": [
      "['kitty']\n"
     ]
    }
   ],
   "source": [
    "a='Hello kitty hjk'\n",
    "my_list=a.split()\n",
    "print(my_list[-2:-1])"
   ]
  },
  {
   "cell_type": "markdown",
   "id": "c4d91175",
   "metadata": {},
   "source": [
    "### .APPEND() ДОБАВИТЬ В СПИСКОК"
   ]
  },
  {
   "cell_type": "code",
   "execution_count": 40,
   "id": "d8707c07",
   "metadata": {},
   "outputs": [
    {
     "name": "stdout",
     "output_type": "stream",
     "text": [
      "['order1', 'order2', 'order3']\n"
     ]
    }
   ],
   "source": [
    "a=\"order1\"\n",
    "b=\"order2\"\n",
    "c=\"order3\"\n",
    "orders=[]\n",
    "orders.append(a)\n",
    "orders.append(b)\n",
    "orders.append(c)\n",
    "print(orders)"
   ]
  },
  {
   "cell_type": "code",
   "execution_count": 41,
   "id": "4b928cf0",
   "metadata": {
    "scrolled": true
   },
   "outputs": [
    {
     "name": "stdout",
     "output_type": "stream",
     "text": [
      "['all books', 'book1', 'book2']\n"
     ]
    }
   ],
   "source": [
    "a=\"book1\"\n",
    "b=\"book2\"\n",
    "books=[\"all books\"]\n",
    "books.append(a)\n",
    "books.append(b)\n",
    "print(books)"
   ]
  },
  {
   "cell_type": "code",
   "execution_count": 7,
   "id": "c8d80ade",
   "metadata": {},
   "outputs": [
    {
     "data": {
      "text/plain": [
       "1"
      ]
     },
     "execution_count": 7,
     "metadata": {},
     "output_type": "execute_result"
    }
   ],
   "source": [
    "a=[1,2,3]\n",
    "a.append(4)\n",
    "#a.clear()\n",
    "a.count(1)"
   ]
  },
  {
   "cell_type": "markdown",
   "id": "6a188600",
   "metadata": {},
   "source": [
    "### .CLEAR() ОЧИСТИТЬ ВЕСЬ СПИСКОК"
   ]
  },
  {
   "cell_type": "code",
   "execution_count": 52,
   "id": "2380d06f",
   "metadata": {
    "scrolled": true
   },
   "outputs": [
    {
     "data": {
      "text/plain": [
       "[]"
      ]
     },
     "execution_count": 52,
     "metadata": {},
     "output_type": "execute_result"
    }
   ],
   "source": [
    "# .CLEAR() ОЧИСТИТЬ ВЕСЬ СПИСКОК\n",
    "letters=[\"a\", \"b\", \"c\", \"d\", \"e\"]\n",
    "letters.clear()\n",
    "letters"
   ]
  },
  {
   "cell_type": "markdown",
   "id": "fbb62e8b",
   "metadata": {},
   "source": [
    "### .COUNT()  ПОДСЧЕТ ЭЛЕМЕНТОВ"
   ]
  },
  {
   "cell_type": "code",
   "execution_count": 44,
   "id": "04698c42",
   "metadata": {
    "scrolled": true
   },
   "outputs": [
    {
     "data": {
      "text/plain": [
       "3"
      ]
     },
     "execution_count": 44,
     "metadata": {},
     "output_type": "execute_result"
    }
   ],
   "source": [
    "# .COUNT()  ПОДСЧЕТ ЭЛЕМЕНТОВ\n",
    "a=[1, 2, 2, 5, 5, 1, 1]\n",
    "a.count(1)"
   ]
  },
  {
   "cell_type": "code",
   "execution_count": 4,
   "id": "56c948ab",
   "metadata": {},
   "outputs": [
    {
     "name": "stdout",
     "output_type": "stream",
     "text": [
      "[1, 2, 3, '4'] [1, 2, 3]\n"
     ]
    }
   ],
   "source": [
    "a=[1,2,3]\n",
    "b= a.copy()\n",
    "a.append('4')\n",
    "print(a,b)"
   ]
  },
  {
   "cell_type": "markdown",
   "id": "a2b7d5b9",
   "metadata": {},
   "source": [
    "### .COPY() КОПИРОВАНИЕ СПИСКА"
   ]
  },
  {
   "cell_type": "code",
   "execution_count": 48,
   "id": "12de49eb",
   "metadata": {},
   "outputs": [
    {
     "data": {
      "text/plain": [
       "[1, 2, 2, 5, 5, 1, 1]"
      ]
     },
     "execution_count": 48,
     "metadata": {},
     "output_type": "execute_result"
    }
   ],
   "source": [
    "# .COPY() КОПИРОВАНИЕ СПИСКА\n",
    "b=a.copy()\n",
    "b=a[:]\n",
    "b"
   ]
  },
  {
   "cell_type": "markdown",
   "id": "a22d50e7",
   "metadata": {},
   "source": [
    "### .EXTEND()  ОБЪЕДИНЕНИЕ СПИСКОВ"
   ]
  },
  {
   "cell_type": "code",
   "execution_count": 1,
   "id": "3682f73b",
   "metadata": {},
   "outputs": [
    {
     "data": {
      "text/plain": [
       "['a', 'b', 'c', 'd', 'e', 'c']"
      ]
     },
     "execution_count": 1,
     "metadata": {},
     "output_type": "execute_result"
    }
   ],
   "source": [
    "# .EXTEND()  ОБЪЕДИНЕНИЕ СПИСКОВ\n",
    "a = [\"a\", \"b\", \"c\"]\n",
    "b = [\"d\", \"e\", 'c']\n",
    "a.extend(b)\n",
    "a\n"
   ]
  },
  {
   "cell_type": "markdown",
   "id": "91e57e67",
   "metadata": {},
   "source": [
    "### .REVERSE() РАЗВЕРНУТЬ СПИСОК ИЛИ [::-1]\n"
   ]
  },
  {
   "cell_type": "code",
   "execution_count": 12,
   "id": "b68bfa69",
   "metadata": {},
   "outputs": [
    {
     "data": {
      "text/plain": [
       "[1, 2, 3, 4, 5, 6]"
      ]
     },
     "execution_count": 12,
     "metadata": {},
     "output_type": "execute_result"
    }
   ],
   "source": [
    "a=[1,2,3,4,5,6]\n",
    "a.reverse()\n",
    "a=a[::-1]\n",
    "a"
   ]
  },
  {
   "cell_type": "markdown",
   "id": "90f7c3e1",
   "metadata": {},
   "source": [
    "### .SORT() СОРТИРУЕТ СПИСОК"
   ]
  },
  {
   "cell_type": "code",
   "execution_count": 27,
   "id": "37f8dc5f",
   "metadata": {
    "scrolled": true
   },
   "outputs": [
    {
     "data": {
      "text/plain": [
       "2"
      ]
     },
     "execution_count": 27,
     "metadata": {},
     "output_type": "execute_result"
    }
   ],
   "source": [
    "random_values = [3, 5, 0, -1, 2, 10, 15, -5]\n",
    "#random_values.sort()\n",
    "random_values.index(0)"
   ]
  },
  {
   "cell_type": "markdown",
   "id": "d9c01855",
   "metadata": {},
   "source": [
    "# Кортеж"
   ]
  },
  {
   "cell_type": "code",
   "execution_count": 62,
   "id": "16dd849a",
   "metadata": {},
   "outputs": [
    {
     "data": {
      "text/plain": [
       "136"
      ]
     },
     "execution_count": 62,
     "metadata": {},
     "output_type": "execute_result"
    }
   ],
   "source": [
    "a = (1,2,3,4,5,6)  ## создадим кортеж \n",
    "b = [1,2,3,4,5,6]  # создадим список с теми же элементами, что в кортеже выше\n",
    "a.__sizeof__()  # 36\n",
    "b.__sizeof__()  ## 44\n"
   ]
  },
  {
   "cell_type": "code",
   "execution_count": 13,
   "id": "cf77394e",
   "metadata": {},
   "outputs": [
    {
     "data": {
      "text/plain": [
       "()"
      ]
     },
     "execution_count": 13,
     "metadata": {},
     "output_type": "execute_result"
    }
   ],
   "source": [
    "tpl1 = tuple()\n",
    "tpl1 "
   ]
  },
  {
   "cell_type": "code",
   "execution_count": 16,
   "id": "fa300e9f",
   "metadata": {},
   "outputs": [
    {
     "data": {
      "text/plain": [
       "tuple"
      ]
     },
     "execution_count": 16,
     "metadata": {},
     "output_type": "execute_result"
    }
   ],
   "source": [
    "tpl2 = (1,)\n",
    "type(tpl2) "
   ]
  },
  {
   "cell_type": "code",
   "execution_count": 64,
   "id": "f8fa7497",
   "metadata": {},
   "outputs": [
    {
     "data": {
      "text/plain": [
       "('s',)"
      ]
     },
     "execution_count": 64,
     "metadata": {},
     "output_type": "execute_result"
    }
   ],
   "source": [
    "tpl4 = (\"s\", )\n",
    "tpl4 "
   ]
  },
  {
   "cell_type": "code",
   "execution_count": 66,
   "id": "2490269b",
   "metadata": {},
   "outputs": [
    {
     "data": {
      "text/plain": [
       "()"
      ]
     },
     "execution_count": 66,
     "metadata": {},
     "output_type": "execute_result"
    }
   ],
   "source": [
    "a=tuple()\n",
    "a"
   ]
  },
  {
   "cell_type": "code",
   "execution_count": 72,
   "id": "dc4943ad",
   "metadata": {},
   "outputs": [
    {
     "data": {
      "text/plain": [
       "tuple"
      ]
     },
     "execution_count": 72,
     "metadata": {},
     "output_type": "execute_result"
    }
   ],
   "source": [
    "a=(15,22,5)\n",
    "type(a)"
   ]
  },
  {
   "cell_type": "markdown",
   "id": "f6cba049",
   "metadata": {},
   "source": [
    "# Типы данных: словарь\n",
    "Однако вы можете отдельно сортировать ключи и значения словаря в виде списка (предварительно применив функцию list()). Чтобы выделить ключи и значения словаря, используются методы \n",
    "## .keys() и .values()"
   ]
  },
  {
   "cell_type": "code",
   "execution_count": 393,
   "id": "7d537491",
   "metadata": {},
   "outputs": [
    {
     "data": {
      "text/plain": [
       "['Dima', 'Kolya', 'Marina', 'Misha', 'Nina', 'Yana']"
      ]
     },
     "execution_count": 393,
     "metadata": {},
     "output_type": "execute_result"
    }
   ],
   "source": [
    "friends = {\"Kolya\": 180, \"Marina\": 176, \"Misha\": 158, \"Dima\": 201, \"Yana\": 183, \"Nina\": 156}\n",
    "friends_keys = list(friends.keys())\n",
    "friends_keys.sort()\n",
    "friends_keys"
   ]
  },
  {
   "cell_type": "code",
   "execution_count": 77,
   "id": "40340232",
   "metadata": {},
   "outputs": [
    {
     "data": {
      "text/plain": [
       "5"
      ]
     },
     "execution_count": 77,
     "metadata": {},
     "output_type": "execute_result"
    }
   ],
   "source": [
    "#Пример создания словаря \n",
    "\n",
    "phones = {'+79033923029': 'Ivan Ivanov', '+78125849204': 'Kirill Smirnov', '+79053049385': 'Mark Parkhomenko',\n",
    "          '+79265748370': 'Ekaterina Dmitrieva', '+79030598495': 'Ruslan Belyi'}\n",
    "#Ключ и значение записываются через двоеточие. Несколько элементов в словаре разделяются запятыми.\n",
    "\n",
    "#Теперь, если захотите найти человека по номеру телефона, достаточно сделать следующее:\n",
    "\n",
    "phones[\"+79265748370\"] # Ekaterina Dmitrieva\n",
    "#Важно! Поиск всегда идёт по ключу. Нельзя использовать значение в качестве ключа.\n",
    "\n",
    "#Важно! Ключи в словаре должны быть уникальными. Если вы вставляете в словарь два одинаковых ключа с разными значениями,\n",
    "#то тогда в качестве значения примется последнее значение, которое вы записали для ключа:\n",
    "d = {\"a\": 1, \"b\":3, \"a\": 5}\n",
    "d[\"a\"] \n",
    "# выведет 5, а не 1, так как 5 к ключу \"а\" было записано позже\n"
   ]
  },
  {
   "cell_type": "code",
   "execution_count": 78,
   "id": "ccb80e0a",
   "metadata": {},
   "outputs": [
    {
     "data": {
      "text/plain": [
       "{}"
      ]
     },
     "execution_count": 78,
     "metadata": {},
     "output_type": "execute_result"
    }
   ],
   "source": [
    "dict1=dict()\n",
    "dict1"
   ]
  },
  {
   "cell_type": "code",
   "execution_count": 79,
   "id": "a23f0630",
   "metadata": {},
   "outputs": [
    {
     "data": {
      "text/plain": [
       "{}"
      ]
     },
     "execution_count": 79,
     "metadata": {},
     "output_type": "execute_result"
    }
   ],
   "source": [
    "dict2={}\n",
    "dict2"
   ]
  },
  {
   "cell_type": "code",
   "execution_count": 85,
   "id": "c160f757",
   "metadata": {},
   "outputs": [
    {
     "data": {
      "text/plain": [
       "{'a': 1, 'b': 2, 'c': 3, 'd': 4, 'e': 5, 'p': 9}"
      ]
     },
     "execution_count": 85,
     "metadata": {},
     "output_type": "execute_result"
    }
   ],
   "source": [
    "alphabet_dict={'a':1, 'b':2, 'c':3, 'd':4, 'e':5}\n",
    "alphabet_dict['p']=9\n",
    "alphabet_dict"
   ]
  },
  {
   "cell_type": "code",
   "execution_count": 81,
   "id": "ca836cf6",
   "metadata": {},
   "outputs": [
    {
     "data": {
      "text/plain": [
       "50"
      ]
     },
     "execution_count": 81,
     "metadata": {},
     "output_type": "execute_result"
    }
   ],
   "source": [
    "place_and_money={1:100, 2:50, 3:10}\n",
    "place_and_money[2]"
   ]
  },
  {
   "cell_type": "code",
   "execution_count": 86,
   "id": "d550a127",
   "metadata": {},
   "outputs": [
    {
     "data": {
      "text/plain": [
       "{1: 100, 2: 50, 3: 25}"
      ]
     },
     "execution_count": 86,
     "metadata": {},
     "output_type": "execute_result"
    }
   ],
   "source": [
    "place_and_money[3]=25\n",
    "place_and_money"
   ]
  },
  {
   "cell_type": "code",
   "execution_count": 84,
   "id": "6389d43a",
   "metadata": {
    "scrolled": true
   },
   "outputs": [
    {
     "data": {
      "text/plain": [
       "{'+79033923029': 'Ivan Ivanov',\n",
       " '+78125849204': 'Kirill Smirnov',\n",
       " '+79053049385': 'Mark Parkhomenko',\n",
       " '+79265748370': 'Ekaterina Ershova',\n",
       " '+79030598495': 'Ruslan Belyi',\n",
       " '+79686581788': 'Artem Pliev'}"
      ]
     },
     "execution_count": 84,
     "metadata": {},
     "output_type": "execute_result"
    }
   ],
   "source": [
    "# изменять значения по существующему ключу:\n",
    "\n",
    "phones[\"+79265748370\"]  = 'Ekaterina Ershova'\n",
    "phones[\"+79265748370\"] \n",
    "#  Ekaterina Ershova\n",
    "\n",
    "#Так же можно поступить с элементами, которых ещё нет в словаре. Добавление в словать нового\n",
    "\n",
    "phones[\"+79686581788\"]  = 'Artem Pliev'\n",
    "phones "
   ]
  },
  {
   "cell_type": "code",
   "execution_count": 5,
   "id": "33c79144",
   "metadata": {},
   "outputs": [],
   "source": [
    "friends = {\"Kolya\": 180, \"Marina\": 176, \"Misha\": 158, \"Dima\": 201, \"Yana\": 183, \"Nina\": 156}"
   ]
  },
  {
   "cell_type": "markdown",
   "id": "c666eeac",
   "metadata": {},
   "source": [
    "# .CLEAR()  очистить словарь"
   ]
  },
  {
   "cell_type": "code",
   "execution_count": 3,
   "id": "7fe0923a",
   "metadata": {},
   "outputs": [],
   "source": [
    "friends.clear()\n",
    "friends \n",
    "# {}\n",
    "#Важно! Если вы выполнили операцию .clear(), данные обратно вернуть нельзя, только если вы предусмотрительно не сохранили\n",
    "#копию словаря (с помощью соответствующего метода) в другую переменную перед «стиранием».\n",
    "\n",
    "#Также можно использовать обычное присвоение переменной friends пустого словаря:\n",
    "\n",
    "friends = {} \n",
    "# {}"
   ]
  },
  {
   "cell_type": "markdown",
   "id": "2735a18a",
   "metadata": {},
   "source": [
    "# .KEYS()  .values()"
   ]
  },
  {
   "cell_type": "code",
   "execution_count": 22,
   "id": "cd7a26bb",
   "metadata": {},
   "outputs": [
    {
     "data": {
      "text/plain": [
       "dict_keys(['Kolya', 'Marina', 'Dima', 'Yana', 'Nina', 'Stas', 'Nastya'])"
      ]
     },
     "execution_count": 22,
     "metadata": {},
     "output_type": "execute_result"
    }
   ],
   "source": [
    "# Иногда возникает потребность работать не со всем словарём, а получить только ключи, хранящиеся в нём. Например, вы хотите \n",
    "# посмотреть на всех друзей, что у вас есть, или проверить существование какого-то определённого ключа в вашем словаре.\n",
    "# Тогда можно использовать метод .keys(), который делает именно это — возвращает ключи словаря.\n",
    "\n",
    "friends.keys() \n",
    "# dict_keys([\"Kolya\", \"Marina\", \"Misha\", \"Dima\", \"Yana\", \"Nina\"])\n",
    "#Важно отметить, что метод .keys() возвращает не просто список, а структуру типа dict_keys."
   ]
  },
  {
   "cell_type": "code",
   "execution_count": 6,
   "id": "dd22e674",
   "metadata": {},
   "outputs": [
    {
     "data": {
      "text/plain": [
       "dict_keys(['Kolya', 'Marina', 'Misha', 'Dima', 'Yana', 'Nina'])"
      ]
     },
     "execution_count": 6,
     "metadata": {},
     "output_type": "execute_result"
    }
   ],
   "source": [
    "friends.keys()"
   ]
  },
  {
   "cell_type": "code",
   "execution_count": null,
   "id": "305c834d",
   "metadata": {},
   "outputs": [],
   "source": []
  },
  {
   "cell_type": "code",
   "execution_count": 7,
   "id": "7e9f462a",
   "metadata": {},
   "outputs": [
    {
     "data": {
      "text/plain": [
       "dict_keys([1, 2, 3])"
      ]
     },
     "execution_count": 7,
     "metadata": {},
     "output_type": "execute_result"
    }
   ],
   "source": [
    "place_and_money = {1: 100, 2: 50, 3: 10}\n",
    "place_and_money.keys()\n"
   ]
  },
  {
   "cell_type": "code",
   "execution_count": 8,
   "id": "c465f948",
   "metadata": {},
   "outputs": [
    {
     "data": {
      "text/plain": [
       "[1, 2, 3]"
      ]
     },
     "execution_count": 8,
     "metadata": {},
     "output_type": "execute_result"
    }
   ],
   "source": [
    "list(place_and_money.keys())"
   ]
  },
  {
   "cell_type": "code",
   "execution_count": 9,
   "id": "5eb202b4",
   "metadata": {},
   "outputs": [
    {
     "data": {
      "text/plain": [
       "dict_keys(['Anne', 'Anton', 'Phillip'])"
      ]
     },
     "execution_count": 9,
     "metadata": {},
     "output_type": "execute_result"
    }
   ],
   "source": [
    "name_to_age = {'Anne': 22, 'Anton': 27, 'Phillip': 30}\n",
    "name_to_age.keys()"
   ]
  },
  {
   "cell_type": "code",
   "execution_count": 395,
   "id": "f830ea80",
   "metadata": {
    "scrolled": true
   },
   "outputs": [
    {
     "data": {
      "text/plain": [
       "[180, 176, 158, 201, 183, 156]"
      ]
     },
     "execution_count": 395,
     "metadata": {},
     "output_type": "execute_result"
    }
   ],
   "source": [
    "list(friends.values())"
   ]
  },
  {
   "cell_type": "markdown",
   "id": "b01ad46c",
   "metadata": {},
   "source": [
    "# .get()"
   ]
  },
  {
   "cell_type": "code",
   "execution_count": 13,
   "id": "542c2a54",
   "metadata": {},
   "outputs": [
    {
     "ename": "KeyError",
     "evalue": "'Matvey'",
     "output_type": "error",
     "traceback": [
      "\u001b[1;31m---------------------------------------------------------------------------\u001b[0m",
      "\u001b[1;31mKeyError\u001b[0m                                  Traceback (most recent call last)",
      "\u001b[1;32m~\\AppData\\Local\\Temp/ipykernel_13140/3706810648.py\u001b[0m in \u001b[0;36m<module>\u001b[1;34m\u001b[0m\n\u001b[0;32m      7\u001b[0m \u001b[1;31m#В случае с .get() программа продолжит работать, но вернёт константу None — единственного представителя типа NoneType, который показывает, что значения нет, оно пусто.\u001b[0m\u001b[1;33m\u001b[0m\u001b[1;33m\u001b[0m\u001b[0m\n\u001b[0;32m      8\u001b[0m \u001b[1;33m\u001b[0m\u001b[0m\n\u001b[1;32m----> 9\u001b[1;33m \u001b[0mfriends\u001b[0m\u001b[1;33m[\u001b[0m\u001b[1;34m\"Matvey\"\u001b[0m\u001b[1;33m]\u001b[0m\u001b[1;33m\u001b[0m\u001b[1;33m\u001b[0m\u001b[0m\n\u001b[0m\u001b[0;32m     10\u001b[0m \u001b[1;31m#### Ошибка KeyError: \"Matvey\"\u001b[0m\u001b[1;33m\u001b[0m\u001b[1;33m\u001b[0m\u001b[0m\n\u001b[0;32m     11\u001b[0m \u001b[1;33m\u001b[0m\u001b[0m\n",
      "\u001b[1;31mKeyError\u001b[0m: 'Matvey'"
     ]
    }
   ],
   "source": [
    "# .GET()\n",
    "\n",
    "#Ещё один часто используемый метод в словарях. По сути, это «умная» замена обычному обращению по ключу через квадратные скобки. \n",
    "#Почему «умная»? Если использовать только квадратные скобки при обращении к словарю, то при отсутствии нужного ключа программа\n",
    "#выдаст ошибку и закончит работу.\n",
    "\n",
    "#В случае с .get() программа продолжит работать, но вернёт константу None — единственного представителя типа NoneType, \n",
    "#который показывает, что значения нет, оно пусто.\n",
    "\n",
    "friends[\"Matvey\"] \n",
    "#### Ошибка KeyError: \"Matvey\"\n",
    "\n",
    "friends.get(\"Matvey\") \n",
    "#### None\n",
    "#Также .get() позволяет вывести значение по умолчанию для отсутствующего ключа. Это второй аргумент в методе .get():\n",
    "\n",
    "friends.get(\"Matvey\", \"I don't have a friend with such a name.\") \n",
    "#### \"I don't have a friend with such a name.\"\n",
    "\n",
    "friends.get(\"Matvey\", 100) \n",
    "#### 100\n",
    "#В данном примере мы обратились к словарю friends, чтобы вывести ключ Matvey. Также мы указали системе, что при отсутствии\n",
    "#такого значения в словаре по умолчанию будет выводиться \"I don't have a friend with such a name.\"."
   ]
  },
  {
   "cell_type": "code",
   "execution_count": 38,
   "id": "32851b5c",
   "metadata": {},
   "outputs": [
    {
     "data": {
      "text/plain": [
       "'not found'"
      ]
     },
     "execution_count": 38,
     "metadata": {},
     "output_type": "execute_result"
    }
   ],
   "source": [
    "place_and_money = {1: 100, 2: 50, 3: 10}\n",
    "place_and_money.get(20,0)\n",
    "place_and_money.get(4,\"not found\")\n"
   ]
  },
  {
   "cell_type": "code",
   "execution_count": 17,
   "id": "06d37dac",
   "metadata": {},
   "outputs": [
    {
     "data": {
      "text/plain": [
       "-1"
      ]
     },
     "execution_count": 17,
     "metadata": {},
     "output_type": "execute_result"
    }
   ],
   "source": [
    "name_to_age = {'Anne': 22, 'Anton': 27, 'Phillip': 30}\n",
    "name_to_age.get('Dany',-1)"
   ]
  },
  {
   "cell_type": "markdown",
   "id": "2f4b496b",
   "metadata": {},
   "source": [
    "# .UPDATE()"
   ]
  },
  {
   "cell_type": "code",
   "execution_count": 18,
   "id": "ad824b5e",
   "metadata": {},
   "outputs": [
    {
     "data": {
      "text/plain": [
       "{'Kolya': 180,\n",
       " 'Marina': 176,\n",
       " 'Misha': 158,\n",
       " 'Dima': 201,\n",
       " 'Yana': 183,\n",
       " 'Nina': 156,\n",
       " 'Stas': 183,\n",
       " 'Nastya': 163}"
      ]
     },
     "execution_count": 18,
     "metadata": {},
     "output_type": "execute_result"
    }
   ],
   "source": [
    "\n",
    "#Ваше окружение растёт — вы заводите новых друзей. И, конечно, вы можете добавлять всех последовательно через операцию записи\n",
    "#по ключу (квадратные скобки и присваивание). Но что, если хочется добавить сразу нескольких людей? \n",
    "#Тогда поможет метод .update().\n",
    "\n",
    "friends.update({\"Stas\":171, \"Nastya\": 163})\n",
    "friends \n",
    "# {\"Kolya\": 180, \"Marina\": 176, \"Misha\": 158, \"Dima\": 201, \"Yana\": 183, \"Nina\": 156, \"Stas\":171, \"Nastya\": 163}\n",
    "\n",
    "#Важно отметить, что .update() также обновляет уже существующие значения по ключам, находящимся в словаре:\n",
    "\n",
    "friends.update({\"Stas\":183})\n",
    "friends \n",
    "# {\"Kolya\" 180, \"Marina\": 176, \"Misha\": 158, \"Dima\": 201, \"Yana\": 183, \"Nina\": 156, \"Stas\":183, \"Nastya\": 163}\n",
    "#Сначала у Стаса был рост 171. Но если мы применяем .update() к тому же самому ключу, что уже был, то значение по этому ключу\n",
    "#просто перезапишется более новым."
   ]
  },
  {
   "cell_type": "code",
   "execution_count": 21,
   "id": "acee73a8",
   "metadata": {},
   "outputs": [
    {
     "data": {
      "text/plain": [
       "{1: 100, 2: 50, 3: 10, 4: 5, 5: 1}"
      ]
     },
     "execution_count": 21,
     "metadata": {},
     "output_type": "execute_result"
    }
   ],
   "source": [
    "place_and_money = {1: 100, 2: 50, 3: 10}\n",
    "place_and_money.update({4:5, 5:1})\n",
    "place_and_money"
   ]
  },
  {
   "cell_type": "code",
   "execution_count": 23,
   "id": "e78f2f77",
   "metadata": {},
   "outputs": [
    {
     "data": {
      "text/plain": [
       "{'Anne': 23, 'Anton': 27, 'Phillip': 29}"
      ]
     },
     "execution_count": 23,
     "metadata": {},
     "output_type": "execute_result"
    }
   ],
   "source": [
    "name_to_age = {'Anne': 22, 'Anton': 27, 'Phillip': 30}\n",
    "name_to_age.update({'Anne':23, 'Phillip':29})\n",
    "name_to_age"
   ]
  },
  {
   "cell_type": "code",
   "execution_count": null,
   "id": "06f96978",
   "metadata": {},
   "outputs": [],
   "source": []
  },
  {
   "cell_type": "markdown",
   "id": "fc6cb096",
   "metadata": {},
   "source": [
    "# .pop()"
   ]
  },
  {
   "cell_type": "code",
   "execution_count": 19,
   "id": "00b80af5",
   "metadata": {},
   "outputs": [
    {
     "data": {
      "text/plain": [
       "158"
      ]
     },
     "execution_count": 19,
     "metadata": {},
     "output_type": "execute_result"
    }
   ],
   "source": [
    "#Так же, как и в списке, в словаре метод .pop() удаляет из структуры данных элементы, но дополнительно метод возвращает \n",
    "#результат — удалённый элемент. В словаре в этот метод мы передаём ключ. Из словаря удаляются и ключ, и значение,\n",
    "#соответствующее этому ключу. Метод изменяет первоначальный словарь, а его результат (удалённый элемент) можно записать\n",
    "#в переменную, чтобы в дальнейшем использовать в программе.\n",
    "\n",
    "best_friend_height = friends.pop(\"Misha\")\n",
    "friends \n",
    "# {\"Kolya\": 180, \"Marina\": 176, \"Dima\": 201, \"Yana\": 183, \"Nina\": 156, \"Stas\":183, \"Nastya\": 163}\n",
    "best_friend_height \n",
    "# 158\n",
    "#В примере выше мы удалили из словаря friends ключ \"Misha\", а также значение, которое хранилось по этому ключу.\n",
    "#Результат работы метода .pop() (удалённое по ключу значение) мы записали в переменную best_friend_height (рост Миши — 158)."
   ]
  },
  {
   "cell_type": "code",
   "execution_count": 39,
   "id": "2e80b10e",
   "metadata": {},
   "outputs": [
    {
     "data": {
      "text/plain": [
       "100"
      ]
     },
     "execution_count": 39,
     "metadata": {},
     "output_type": "execute_result"
    }
   ],
   "source": [
    "place_and_money = {1: 100, 2: 50, 3: 10}\n",
    "a=place_and_money.pop(1)\n",
    "a"
   ]
  },
  {
   "cell_type": "code",
   "execution_count": 26,
   "id": "4084933d",
   "metadata": {},
   "outputs": [
    {
     "data": {
      "text/plain": [
       "22"
      ]
     },
     "execution_count": 26,
     "metadata": {},
     "output_type": "execute_result"
    }
   ],
   "source": [
    "name_to_age = {'Anne': 22, 'Anton': 27, 'Phillip': 30}\n",
    "resuls=name_to_age.pop('Anne')\n",
    "resuls"
   ]
  },
  {
   "cell_type": "markdown",
   "id": "c0eed03b",
   "metadata": {},
   "source": [
    "# .SETDEFAULT()"
   ]
  },
  {
   "cell_type": "code",
   "execution_count": 27,
   "id": "0cd4ba66",
   "metadata": {},
   "outputs": [
    {
     "data": {
      "text/plain": [
       "dict_keys(['Kolya', 'Marina', 'Dima', 'Yana', 'Nina', 'Stas', 'Nastya', 'Alena'])"
      ]
     },
     "execution_count": 27,
     "metadata": {},
     "output_type": "execute_result"
    }
   ],
   "source": [
    "#Часто эта конструкция используется в циклах и условных операциях, о которых вы узнаете дальше в задачах добавления и\n",
    "#обновления элементов словаря.\n",
    "\n",
    "#Например, вы хотите обновить рост друга в существующем словаре, но не уверены, что он там действительно есть\n",
    "#(мало ли, вдруг вы забыли его добавить, отвлекаясь на какие-то повседневные дела).\n",
    "\n",
    "#В таком случае можно воспользоваться методом .setdefault(). Он принимает два параметра: ключ и значение по умолчанию, \n",
    "#если этого ключа нет в словаре. Этот метод создаст ключ за вас, если он действительно отсутствует, если ключ имеется, \n",
    "#его значение останется неизменным:\n",
    "\n",
    "friends = {\"Kolya\": 180, \"Marina\": 176, \"Dima\": 201, \"Yana\": 183, \"Nina\": 156, \"Stas\":183, \"Nastya\": 163}\n",
    "friends.setdefault(\"Nastya\",100)\n",
    "friends[\"Nastya\"] \n",
    "# 163\n",
    "#Настя уже была в словаре, поэтому значение её роста не изменилось.\n",
    "\n",
    "friends.keys() \n",
    "# dict_keys([\"Kolya\", \"Marina\", \"Dima\", \"Yana\", \"Nina\", \"Stas\", \"Nastya\"])\n",
    "\n",
    "friends.setdefault(\"Alena\", 170)\n",
    "friends[\"Alena\"] \n",
    "# 170\n",
    "\n",
    "friends.keys() \n",
    "# dict_keys([\"Kolya\", \"Marina\", \"Dima\", \"Yana\", \"Nina\", \"Stas\", \"Nastya\", \"Alena\"])\n",
    "#А вот Алёны не было в словаре изначально, поэтому мы её добавили и записали значение по умолчанию."
   ]
  },
  {
   "cell_type": "code",
   "execution_count": 43,
   "id": "5abc9877",
   "metadata": {},
   "outputs": [
    {
     "data": {
      "text/plain": [
       "{1: 100, 2: 50, 3: 10, 4: 12}"
      ]
     },
     "execution_count": 43,
     "metadata": {},
     "output_type": "execute_result"
    }
   ],
   "source": [
    "place_and_money = {1: 100, 2: 50, 3: 10}\n",
    "place_and_money.setdefault(4,12)\n",
    "place_and_money"
   ]
  },
  {
   "cell_type": "code",
   "execution_count": 30,
   "id": "f8421eb4",
   "metadata": {},
   "outputs": [
    {
     "data": {
      "text/plain": [
       "{'Anne': 22, 'Anton': 27, 'Phillip': 30}"
      ]
     },
     "execution_count": 30,
     "metadata": {},
     "output_type": "execute_result"
    }
   ],
   "source": [
    "name_to_age = {'Anne': 22, 'Anton': 27, 'Phillip': 30}\n",
    "name_to_age.setdefault('Anne',32)\n",
    "name_to_age"
   ]
  },
  {
   "cell_type": "code",
   "execution_count": 31,
   "id": "05ced5e3",
   "metadata": {},
   "outputs": [],
   "source": [
    "#Важно! В качестве ключа словаря должен выступать неизменяемый тип данных (числа, строки, кортежи), а в качестве значения\n",
    "#может выступать любая структура данных.\n",
    "\n",
    "d = {(1,2): \"hello\", \"my name is\": \"Curt\", 5: (7,7,7), \"info\": {\"name\": \"stive\", \"age\": 15, \"cities\": [\"Moscow\", \"New York\"]}}\n",
    "\n",
    "\n",
    "# 1 Мы видим, что в качестве первого ключа используется кортеж (1, 2), но значение у этого ключа строковое (напомним — \n",
    "#значение может быть любым: число, строка, кортеж и т. д.).\n",
    "\n",
    "# 2 В качестве следующего ключа выступает строка \"my name is\", а в качестве значения — строка \"Curt\". \n",
    "\n",
    "# 3 В этот же словарь можно вставить в качестве ключа число (5), а в значение записать кортеж ((7, 7, 7)). \n",
    "\n",
    "# 4 Далее мы видим, что для строкового ключа \"info\" в качестве значения выступает словарь {name: \"stive\", age: 15,\n",
    "# cities: [\"Moscow\", \"New York\"]}. Внутри этого словаря по ключу /\"cities\" также находится список  [\"Moscow\", \"New York\"]. \n",
    "\n",
    "# Вложенность может быть очень глубокой и сложной."
   ]
  },
  {
   "cell_type": "code",
   "execution_count": 44,
   "id": "a005e762",
   "metadata": {},
   "outputs": [
    {
     "data": {
      "text/plain": [
       "{5: [3, 4, 5], (3, 4, 5): 'strong man'}"
      ]
     },
     "execution_count": 44,
     "metadata": {},
     "output_type": "execute_result"
    }
   ],
   "source": [
    "the_dict={}\n",
    "the_dict.update({5:[3,4,5], (3,4,5):'strong man'})\n",
    "the_dict"
   ]
  },
  {
   "cell_type": "markdown",
   "id": "56308c0e",
   "metadata": {},
   "source": [
    "# множества"
   ]
  },
  {
   "cell_type": "code",
   "execution_count": 35,
   "id": "892c3135",
   "metadata": {},
   "outputs": [],
   "source": [
    "#Множество — это структура данных, состоящая из уникальных элементов (элементы не могут повторяться). Элементы внутри\n",
    "#множества могут быть объектами неизменяемых типов (числа, строки и кортежи). Множества не поддерживают хранение изменяемых \n",
    "#типов данных, таких как списки, словари и сами множества. Порядок элементов во множестве не фиксирован, то есть элементы не\n",
    "#упорядочены.\n",
    "\n",
    "#С множествами можно делать многие операции из теории множеств: объединение, пересечение, вычитание и т. д. Можно проверять\n",
    "#принадлежность элемента к множеству.\n",
    "\n",
    "#Любые неизменяемые типы данных могут быть элементами множества: числа, строки, кортежи.\n",
    "#ЗАЧЕМ НУЖНЫ МНОЖЕСТВА, ЕСЛИ ЕСТЬ СПИСКИ?\n",
    "\n",
    "#→ В отличие от списков, где элементы хранятся в виде последовательностей, в множествах порядок хранения элементов не определён. \n",
    "#Внутри множества представлены с помощью «хитрых» алгоритмов, которые позволяют выполнять операции типа «проверить\n",
    "#принадлежность элемента множеству» быстрее, чем просто перебором всех элементов множества.\n",
    "\n",
    "#На практике множества используются в случаях, когда надо взять только уникальные элементы из списка, а затем посмотреть \n",
    "#только те элементы, которые есть либо в двух множествах, либо в каком-то одном из них.\n",
    "\n",
    "#Например, у нас есть статистика по продажам разных товаров. Она хранится в словаре\n",
    "# d = {“apple”: 145, “mango”: 31, “banana”: 1, “orange”: 1}.\n",
    "\n",
    "#Затем нам понадобилось посмотреть, какие значения имеют товары, однако нам не хочется смотреть на повторы.\n",
    "#Тогда можно воспользоваться множествами. В итоге получится последовательность из трёх элементов: 145, 31, 1. \n",
    "#Порядок элементов в множествах может не соблюдаться.\n",
    "\n",
    "#ЗАДАНИЕ МНОЖЕСТВА\n",
    "\n",
    "# Пустое множество можно задать одним способом — через конструктор типов set().\n"
   ]
  },
  {
   "cell_type": "markdown",
   "id": "dad677d6",
   "metadata": {},
   "source": [
    "# set() создать пустое множество"
   ]
  },
  {
   "cell_type": "code",
   "execution_count": 36,
   "id": "45bb1e3a",
   "metadata": {},
   "outputs": [
    {
     "data": {
      "text/plain": [
       "set"
      ]
     },
     "execution_count": 36,
     "metadata": {},
     "output_type": "execute_result"
    }
   ],
   "source": [
    "set1 = set()\n",
    "set1 \n",
    "# set()\n",
    "# Так же можно задать множество, уже содержащее элементы:\n",
    "\n",
    "s1 = set(\"hello\")\n",
    "s1 \n",
    "#  {‘h’, ‘l’, ‘e’, ‘o’}\n",
    "#Мы видим, что в множестве содержится только одна буква ‘l’, так как множества содержат только уникальные элементы.\n",
    "\n",
    "#Также стоит отметить, что множества обрамляются с двух сторон фигурными скобками.\n",
    "\n",
    "#Важно! Вы можете создать множество с помощью фигурных скобок, но внутри множества уже должны быть элементы (хотя бы один).\n",
    "#Пустые фигурные скобки указывают, что создаётся словарь, а не множество — про это нужно помнить.\n",
    "\n",
    "s1 = {}\n",
    "type(s1) \n",
    "# <class ‘dict’>\n",
    "\n",
    "s2 = {1,2,3}\n",
    "type(s2) \n",
    "# <class ‘set’>"
   ]
  },
  {
   "cell_type": "code",
   "execution_count": 63,
   "id": "c9ea2191",
   "metadata": {},
   "outputs": [
    {
     "data": {
      "text/plain": [
       "{'wow thats cool'}"
      ]
     },
     "execution_count": 63,
     "metadata": {},
     "output_type": "execute_result"
    }
   ],
   "source": [
    "s1={'wow thats cool', 'wow thats cool'}\n",
    "s1"
   ]
  },
  {
   "cell_type": "code",
   "execution_count": 65,
   "id": "292bfe3c",
   "metadata": {},
   "outputs": [
    {
     "data": {
      "text/plain": [
       "{',', '1', '2', '3'}"
      ]
     },
     "execution_count": 65,
     "metadata": {},
     "output_type": "execute_result"
    }
   ],
   "source": [
    "s3=set('1,2,3')\n",
    "s3"
   ]
  },
  {
   "cell_type": "code",
   "execution_count": 97,
   "id": "0109281e",
   "metadata": {},
   "outputs": [
    {
     "data": {
      "text/plain": [
       "{'a'}"
      ]
     },
     "execution_count": 97,
     "metadata": {},
     "output_type": "execute_result"
    }
   ],
   "source": [
    "s1=set(\"aaa\")\n",
    "s1"
   ]
  },
  {
   "cell_type": "code",
   "execution_count": 73,
   "id": "1c82812c",
   "metadata": {},
   "outputs": [
    {
     "data": {
      "text/plain": [
       "{(1, 1), (1, 2, 3), 10, 11, 2, 3, 5, 'gg'}"
      ]
     },
     "execution_count": 73,
     "metadata": {},
     "output_type": "execute_result"
    }
   ],
   "source": [
    "s2={5, 10, 3, 3, 2, 11, 'gg', (1,2,3)}\n",
    "s2.add((1,1))\n",
    "s2"
   ]
  },
  {
   "cell_type": "code",
   "execution_count": 47,
   "id": "13aa5d55",
   "metadata": {},
   "outputs": [
    {
     "data": {
      "text/plain": [
       "{' ', 'a', 'c', 'h', 'l', 'o', 's', 't', 'w'}"
      ]
     },
     "execution_count": 47,
     "metadata": {},
     "output_type": "execute_result"
    }
   ],
   "source": [
    "s3=set('wow thats cool')\n",
    "s3"
   ]
  },
  {
   "cell_type": "markdown",
   "id": "e41a8170",
   "metadata": {},
   "source": [
    "# .add() добавить множество"
   ]
  },
  {
   "cell_type": "code",
   "execution_count": 49,
   "id": "b9fa6997",
   "metadata": {
    "scrolled": true
   },
   "outputs": [
    {
     "data": {
      "text/plain": [
       "{1, 2, 3, 4}"
      ]
     },
     "execution_count": 49,
     "metadata": {},
     "output_type": "execute_result"
    }
   ],
   "source": [
    "s1={1,2,3}\n",
    "s1.add(4)\n",
    "s1"
   ]
  },
  {
   "cell_type": "code",
   "execution_count": 68,
   "id": "220c7970",
   "metadata": {},
   "outputs": [
    {
     "data": {
      "text/plain": [
       "{'a,b,c,d,e', 'hello'}"
      ]
     },
     "execution_count": 68,
     "metadata": {},
     "output_type": "execute_result"
    }
   ],
   "source": [
    "s1={\"a,b,c,d,e\"}\n",
    "s1.add(\"hello\")\n",
    "s1"
   ]
  },
  {
   "cell_type": "markdown",
   "id": "faa2cdb2",
   "metadata": {},
   "source": [
    "# UPDATE() добавить несколько множеств"
   ]
  },
  {
   "cell_type": "code",
   "execution_count": 51,
   "id": "6c5ac3c7",
   "metadata": {},
   "outputs": [],
   "source": [
    "#В тех случаях, когда добавить во множество надо сразу несколько элементов, удобно воспользоваться методом update(). \n",
    "#Ему можно передать один или сразу несколько итерируемых объектов (строк, списков, кортежей, множеств), и он автоматически\n",
    "#добавит все их уникальные элементы в исходное множество (если, конечно, их там ещё нет)."
   ]
  },
  {
   "cell_type": "code",
   "execution_count": 78,
   "id": "058bc698",
   "metadata": {},
   "outputs": [
    {
     "data": {
      "text/plain": [
       "{1, 2, 3, 4, 'get', 'hello'}"
      ]
     },
     "execution_count": 78,
     "metadata": {},
     "output_type": "execute_result"
    }
   ],
   "source": [
    "s1=set('hello')\n",
    "s2={'hello','get', 1}\n",
    "s2.update({1,2,3,4,4,4})\n",
    "s2"
   ]
  },
  {
   "cell_type": "code",
   "execution_count": 79,
   "id": "acb5f058",
   "metadata": {},
   "outputs": [
    {
     "data": {
      "text/plain": [
       "{5, 6, 7, 'e', 'h', 'hello', 'hello,world', 'l', 'o'}"
      ]
     },
     "execution_count": 79,
     "metadata": {},
     "output_type": "execute_result"
    }
   ],
   "source": [
    "s1.update({5,6,7,\"hello,world\",\"hello\"})\n",
    "s1"
   ]
  },
  {
   "cell_type": "markdown",
   "id": "73ea3014",
   "metadata": {},
   "source": [
    "# .DISCARD(), .REMOVE() позволяют убрать элемент из множества."
   ]
  },
  {
   "cell_type": "code",
   "execution_count": 76,
   "id": "d3c09571",
   "metadata": {},
   "outputs": [
    {
     "ename": "KeyError",
     "evalue": "10",
     "output_type": "error",
     "traceback": [
      "\u001b[1;31m---------------------------------------------------------------------------\u001b[0m",
      "\u001b[1;31mKeyError\u001b[0m                                  Traceback (most recent call last)",
      "\u001b[1;32m~\\AppData\\Local\\Temp/ipykernel_13140/80801907.py\u001b[0m in \u001b[0;36m<module>\u001b[1;34m\u001b[0m\n\u001b[0;32m     15\u001b[0m \u001b[1;33m\u001b[0m\u001b[0m\n\u001b[0;32m     16\u001b[0m \u001b[0ms1\u001b[0m \u001b[1;33m=\u001b[0m \u001b[1;33m{\u001b[0m\u001b[1;36m1\u001b[0m\u001b[1;33m,\u001b[0m\u001b[1;36m2\u001b[0m\u001b[1;33m,\u001b[0m\u001b[1;36m3\u001b[0m\u001b[1;33m,\u001b[0m\u001b[1;36m4\u001b[0m\u001b[1;33m,\u001b[0m\u001b[1;36m5\u001b[0m\u001b[1;33m}\u001b[0m\u001b[1;33m\u001b[0m\u001b[1;33m\u001b[0m\u001b[0m\n\u001b[1;32m---> 17\u001b[1;33m \u001b[0ms1\u001b[0m\u001b[1;33m.\u001b[0m\u001b[0mremove\u001b[0m\u001b[1;33m(\u001b[0m\u001b[1;36m10\u001b[0m\u001b[1;33m)\u001b[0m\u001b[1;33m\u001b[0m\u001b[1;33m\u001b[0m\u001b[0m\n\u001b[0m\u001b[0;32m     18\u001b[0m \u001b[1;31m# Ошибка KeyError: 10\u001b[0m\u001b[1;33m\u001b[0m\u001b[1;33m\u001b[0m\u001b[0m\n\u001b[0;32m     19\u001b[0m \u001b[0ms1\u001b[0m\u001b[1;33m.\u001b[0m\u001b[0mdiscard\u001b[0m\u001b[1;33m(\u001b[0m\u001b[1;36m10\u001b[0m\u001b[1;33m)\u001b[0m\u001b[1;33m\u001b[0m\u001b[1;33m\u001b[0m\u001b[0m\n",
      "\u001b[1;31mKeyError\u001b[0m: 10"
     ]
    }
   ],
   "source": [
    "# Их отличие друг от друга состоит в том, что при удалении уже отсутствующего элемента из множества discard() ничего не\n",
    "# сделает, а вот .remove() выкинет ошибку.\n",
    "\n",
    "#Суть выбора заключается в логике вашего алгоритма. Если вам важно, чтобы удаление элемента было явным, используйте\n",
    "# метод .remove().\n",
    "\n",
    "# Например,  вы отвечаете за безопасность в банке. У сотрудников банка есть различные доступы. Вы пишите алгоритм, \n",
    "# который будет удалять сотрудников, когда те увольняются. Вам важно, чтобы удаление происходило один раз, иначе поведение \n",
    "# программы настораживает, и нужно явно указывать на ошибку в ней. В таком случае вы обязаны использовать метод .remove() \n",
    "# на множестве работников банка. \n",
    "\n",
    "# В любом другом случае используйте discard().\n",
    "\n",
    "# Рассмотрим пример с удалением элемента, которого нет во множестве.\n",
    "\n",
    "s1 = {1,2,3,4,5}\n",
    "s1.remove(10)\n",
    "# Ошибка KeyError: 10\n",
    "s1.discard(10)\n",
    "# Ничего не произошло"
   ]
  },
  {
   "cell_type": "code",
   "execution_count": 91,
   "id": "be808946",
   "metadata": {},
   "outputs": [
    {
     "data": {
      "text/plain": [
       "{2.8, 3, 4, 5, 9}"
      ]
     },
     "execution_count": 91,
     "metadata": {},
     "output_type": "execute_result"
    }
   ],
   "source": [
    "s1={1,2,3,4,5}\n",
    "s1.update({1,2,2,2.8})\n",
    "s1.add(9)\n",
    "s1.remove(1)\n",
    "s1.discard(2)\n",
    "s1"
   ]
  },
  {
   "cell_type": "code",
   "execution_count": 134,
   "id": "a347e604",
   "metadata": {},
   "outputs": [
    {
     "data": {
      "text/plain": [
       "{1, 2, 3, 44, 7, '9', 'dd', 'qrrr', 're'}"
      ]
     },
     "execution_count": 134,
     "metadata": {},
     "output_type": "execute_result"
    }
   ],
   "source": [
    "s1={1,2,3,3,'dd'}\n",
    "s1.add(7)\n",
    "s1.update({44})\n",
    "s1.update({'re'})\n",
    "#s1.remove('re')\n",
    "s1.update({'qrrr'})\n",
    "s1.add('9')\n",
    "s1"
   ]
  },
  {
   "cell_type": "code",
   "execution_count": 137,
   "id": "53d5a36f",
   "metadata": {},
   "outputs": [
    {
     "data": {
      "text/plain": [
       "{1, 2}"
      ]
     },
     "execution_count": 137,
     "metadata": {},
     "output_type": "execute_result"
    }
   ],
   "source": [
    "s1=set([1,2,1,2])\n",
    "s1\n",
    "#s1.remove(\"j\")\n",
    "s1"
   ]
  },
  {
   "cell_type": "code",
   "execution_count": 83,
   "id": "6cc16a11",
   "metadata": {},
   "outputs": [
    {
     "data": {
      "text/plain": [
       "{'a', 'b', 'c', 'd', 'e'}"
      ]
     },
     "execution_count": 83,
     "metadata": {},
     "output_type": "execute_result"
    }
   ],
   "source": [
    "s1.discard(\"f\")\n",
    "s1\n"
   ]
  },
  {
   "cell_type": "markdown",
   "id": "1f40b150",
   "metadata": {},
   "source": [
    "#  .UNION() отобрать из двух множеств те элементы, которые есть либо в первом, либо во втором множестве."
   ]
  },
  {
   "cell_type": "code",
   "execution_count": 84,
   "id": "eeaaa832",
   "metadata": {},
   "outputs": [
    {
     "data": {
      "text/plain": [
       "{'item1', 'item2', 'item3', 'item4', 'item5', 'item7'}"
      ]
     },
     "execution_count": 84,
     "metadata": {},
     "output_type": "execute_result"
    }
   ],
   "source": [
    "#  Её суть заключается в том, чтобы отобрать из двух множеств те элементы, которые есть либо в первом, либо во втором множестве.\n",
    "\n",
    "#Например, есть два сотрудника. У каждого на столе находится несколько предметов: у первого — ноутбук, тетрадь, карандаш,\n",
    "# а у второго — ноутбук, жвачка. Тогда после операции объединения (.union()) в множестве будут следующие элементы:  \n",
    "# ноутбук, тетрадь, карандаш, жвачка.\n",
    "\n",
    "# Вот ещё пример. Вы анализируете товары на разных складах вашей компании. Вам очень важно знать, какие товары есть на двух \n",
    "# складах. Причём вам не нужно брать повторяющиеся товары. Тогда вам необходимо использовать метод .union() для двух множеств\n",
    "# товаров на складах.\n",
    "\n",
    "cluster1 = {\"item1\", \"item2\", \"item3\", \"item4\"}\n",
    "cluster2 = {\"item2\", \"item3\", \"item5\", \"item7\"}\n",
    "cluster1.union(cluster2) \n",
    "# {\"item1\", \"item2\", \"item3\", \"item4\", \"item5\", \"item7\"}\n",
    "# Мы видим, что .union() взял все имеющиеся элементы в двух множествах ровно один раз.\n",
    "# Порядок следования элементов может не соблюдаться."
   ]
  },
  {
   "cell_type": "code",
   "execution_count": 142,
   "id": "4a079202",
   "metadata": {},
   "outputs": [
    {
     "data": {
      "text/plain": [
       "{' ', 'a', 'b', 'c', 'd', 'e', 'o', 'y'}"
      ]
     },
     "execution_count": 142,
     "metadata": {},
     "output_type": "execute_result"
    }
   ],
   "source": [
    "#Создайте множество alpha_set из первых пяти букв английского алфавита. Затем создайте множество name из строки 'bad boy' (преобразуйте строку в множество с помощью функции set()). \n",
    "# #Примените метод .union() к созданным множествам. Выведите результат.\n",
    "alpha_set=set(\"abcde\")\n",
    "name=set(\"bad boy\")\n",
    "alpha_set.union(name)\n"
   ]
  },
  {
   "cell_type": "code",
   "execution_count": 146,
   "id": "3291325e",
   "metadata": {},
   "outputs": [
    {
     "data": {
      "text/plain": [
       "{0, 1, 2, 3, 4, 5, 6, 7, 8, 9, 10}"
      ]
     },
     "execution_count": 146,
     "metadata": {},
     "output_type": "execute_result"
    }
   ],
   "source": [
    "#Создайте множество num_set из чисел от 0 до 10 (включительно). Затем создайте множество date_num из списка [1,9,4,8]\n",
    "num_set={0,1,2,3,4,5,6,7,8,9,10}\n",
    "date_name=set([1,9,4,8])\n",
    "num_set.union(date_name)"
   ]
  },
  {
   "cell_type": "markdown",
   "id": "48af41b8",
   "metadata": {},
   "source": [
    "# .INTERSECTION() берутся только те элементы, которые есть в обоих множествах."
   ]
  },
  {
   "cell_type": "code",
   "execution_count": 89,
   "id": "6332e93a",
   "metadata": {},
   "outputs": [
    {
     "data": {
      "text/plain": [
       "{'item2', 'item3'}"
      ]
     },
     "execution_count": 89,
     "metadata": {},
     "output_type": "execute_result"
    }
   ],
   "source": [
    "# При .intersection() берутся только те элементы, которые есть в обоих множествах.\n",
    "\n",
    "#Возьмём также пример с товарами и кластерами. Только на этот раз вы не хотите знать, какие есть товары у вас на двух складах —\n",
    "# вы хотите посмотреть на товары, которые лежат и на первом, и на втором складе. Делаете вы это для того, чтобы, например, \n",
    "#оптимизировать хранение. Возможно, вы увидите дальше, что лучше перекинуть какие-то товары на один склад и сэкономить деньги.\n",
    "\n",
    "cluster1 = {\"item1\", \"item2\", \"item3\", \"item4\"}\n",
    "cluster2 = {\"item2\", \"item3\", \"item5\", \"item7\"}\n",
    "cluster1.intersection(cluster2) \n",
    "# {\"item2\", \"item3\"}\n",
    "# Видим, что изначально в двух множествах одинаковыми элементами являлись лишь второй и третий товары."
   ]
  },
  {
   "cell_type": "code",
   "execution_count": 147,
   "id": "22dfbf12",
   "metadata": {},
   "outputs": [
    {
     "data": {
      "text/plain": [
       "{'a', 'b', 'd'}"
      ]
     },
     "execution_count": 147,
     "metadata": {},
     "output_type": "execute_result"
    }
   ],
   "source": [
    "#Создайте множество alpha_set из первых пяти букв английского алфавита. Затем создайте множество name из строки 'bad boy'\n",
    "alpha_set=set('a,b,c,d,e')\n",
    "name=set(\"bad boy\")\n",
    "alpha_set.intersection(name)"
   ]
  },
  {
   "cell_type": "code",
   "execution_count": 91,
   "id": "15f466b8",
   "metadata": {},
   "outputs": [
    {
     "data": {
      "text/plain": [
       "{1, 4, 8, 9}"
      ]
     },
     "execution_count": 91,
     "metadata": {},
     "output_type": "execute_result"
    }
   ],
   "source": [
    "num_set={0,1,2,3,4,5,6,7,8,9,10}\n",
    "date_num=set([1,9,4,8])\n",
    "num_set.intersection(date_num)"
   ]
  },
  {
   "cell_type": "markdown",
   "id": "ca1e9ccf",
   "metadata": {},
   "source": [
    "# .DIFFERENCE() выбирает только те элементы из первого множества, которых нет во втором множестве.\n"
   ]
  },
  {
   "cell_type": "code",
   "execution_count": 92,
   "id": "ef6ef051",
   "metadata": {},
   "outputs": [
    {
     "data": {
      "text/plain": [
       "{'item1', 'item2'}"
      ]
     },
     "execution_count": 92,
     "metadata": {},
     "output_type": "execute_result"
    }
   ],
   "source": [
    "# Теперь мы хотим посмотреть только на те товары, которые есть на первом складе. Возможно, будет удобно распределить часть\n",
    "#товаров на два склада. Нужно понять, что это за товары.\n",
    "\n",
    "cluster1 = {\"item1\", \"item2\", \"item3\", \"item4\", \"item5\"}\n",
    "cluster2 = {\"item3\", \"item4\", \"item5\", \"item6\"}\n",
    "cluster1.difference(cluster2) \n",
    "# {\"item1\", \"item2\"}\n",
    "# В первом множестве только товары 1 и 2 являются уникальными для первого кластера при наличии остальных на втором кластере\n"
   ]
  },
  {
   "cell_type": "code",
   "execution_count": 93,
   "id": "51da6199",
   "metadata": {},
   "outputs": [
    {
     "data": {
      "text/plain": [
       "{',', 'c', 'f'}"
      ]
     },
     "execution_count": 93,
     "metadata": {},
     "output_type": "execute_result"
    }
   ],
   "source": [
    "alpha_set=set(\"a,b,c,d,f\")\n",
    "name=set('bad boy')\n",
    "alpha_set.difference(name)"
   ]
  },
  {
   "cell_type": "code",
   "execution_count": 94,
   "id": "060988fa",
   "metadata": {},
   "outputs": [
    {
     "data": {
      "text/plain": [
       "{0, 2, 3, 5, 6, 7, 10}"
      ]
     },
     "execution_count": 94,
     "metadata": {},
     "output_type": "execute_result"
    }
   ],
   "source": [
    "num_set={0,1,2,3,4,5,6,7,8,9,10}\n",
    "date_num=set([1,9,4,8])\n",
    "num_set.difference(date_num)"
   ]
  },
  {
   "cell_type": "markdown",
   "id": "5903916a",
   "metadata": {},
   "source": [
    "# .ISSUBSET()  узнать, все ли элементы из первого множества есть во втором множестве.\n"
   ]
  },
  {
   "cell_type": "code",
   "execution_count": 95,
   "id": "5e2fe827",
   "metadata": {},
   "outputs": [
    {
     "data": {
      "text/plain": [
       "False"
      ]
     },
     "execution_count": 95,
     "metadata": {},
     "output_type": "execute_result"
    }
   ],
   "source": [
    "# Все ли товары с первого склада есть и на втором складе?\n",
    "\n",
    "cluster1 = {\"item1\", \"item2\", \"item3\"}\n",
    "cluster2 = {\"item2\", \"item3\", \"item4\", \"item5\", \"item6\"}\n",
    "cluster1.issubset(cluster2) \n",
    "# False\n",
    "# Видно, что ответ — нет. И действительно: на первом складе есть “item1”, которого нет на втором складе."
   ]
  },
  {
   "cell_type": "markdown",
   "id": "256ad1f7",
   "metadata": {},
   "source": [
    "# Приведение типов"
   ]
  },
  {
   "cell_type": "code",
   "execution_count": 99,
   "id": "c80d4b9c",
   "metadata": {},
   "outputs": [
    {
     "data": {
      "text/plain": [
       "3.0"
      ]
     },
     "execution_count": 99,
     "metadata": {},
     "output_type": "execute_result"
    }
   ],
   "source": [
    "a=3\n",
    "b=float(a)\n",
    "b\n"
   ]
  },
  {
   "cell_type": "code",
   "execution_count": 100,
   "id": "d90f8d41",
   "metadata": {},
   "outputs": [
    {
     "data": {
      "text/plain": [
       "6.5"
      ]
     },
     "execution_count": 100,
     "metadata": {},
     "output_type": "execute_result"
    }
   ],
   "source": [
    "num1=3\n",
    "num2=3.5\n",
    "sum1=num1+num2\n",
    "sum1"
   ]
  },
  {
   "cell_type": "code",
   "execution_count": 108,
   "id": "13c4152d",
   "metadata": {},
   "outputs": [
    {
     "name": "stdout",
     "output_type": "stream",
     "text": [
      "3.0\n"
     ]
    },
    {
     "data": {
      "text/plain": [
       "6.5"
      ]
     },
     "execution_count": 108,
     "metadata": {},
     "output_type": "execute_result"
    }
   ],
   "source": [
    "num1=float(3)\n",
    "print(num1)\n",
    "sum2=num1+num2\n",
    "sum2"
   ]
  },
  {
   "cell_type": "code",
   "execution_count": 109,
   "id": "5025bacd",
   "metadata": {},
   "outputs": [
    {
     "data": {
      "text/plain": [
       "'1'"
      ]
     },
     "execution_count": 109,
     "metadata": {},
     "output_type": "execute_result"
    }
   ],
   "source": [
    "int_one=1\n",
    "str_one=str(int_one)\n",
    "str_one"
   ]
  },
  {
   "cell_type": "code",
   "execution_count": 150,
   "id": "f634df83",
   "metadata": {},
   "outputs": [
    {
     "data": {
      "text/plain": [
       "(1, 2, 3, 4, 5)"
      ]
     },
     "execution_count": 150,
     "metadata": {},
     "output_type": "execute_result"
    }
   ],
   "source": [
    "#Создайте список list1 из цифр от 1 до 5 (включительно). Преобразуйте список в кортеж tpl1 с помощью конструктора типов tuple(\n",
    "list1=[1,2,3,4,5]\n",
    "tpl1=tuple(list1)\n",
    "tpl1"
   ]
  },
  {
   "cell_type": "code",
   "execution_count": 152,
   "id": "79322432",
   "metadata": {},
   "outputs": [
    {
     "data": {
      "text/plain": [
       "[20, 11, 5, 3, 1, 1, -10, -10]"
      ]
     },
     "execution_count": 152,
     "metadata": {},
     "output_type": "execute_result"
    }
   ],
   "source": [
    "list6=[3, 1, -10, 5, 11, 20, 1, -10]\n",
    "list7=list6.copy()\n",
    "list7.sort()\n",
    "list7.reverse()\n",
    "list7"
   ]
  },
  {
   "cell_type": "code",
   "execution_count": 117,
   "id": "abd1013e",
   "metadata": {},
   "outputs": [
    {
     "data": {
      "text/plain": [
       "[1, 2, 3]"
      ]
     },
     "execution_count": 117,
     "metadata": {},
     "output_type": "execute_result"
    }
   ],
   "source": [
    "list1=[]\n",
    "list1.append(1)\n",
    "list1.append(2)\n",
    "list1.append(3)\n",
    "list1"
   ]
  },
  {
   "cell_type": "code",
   "execution_count": 122,
   "id": "5e5a81c3",
   "metadata": {},
   "outputs": [
    {
     "data": {
      "text/plain": [
       "[1, 2, 3, 4, -5, -3, -1, 1, 3, 5, 7, 9, 11, 13]"
      ]
     },
     "execution_count": 122,
     "metadata": {},
     "output_type": "execute_result"
    }
   ],
   "source": [
    "list2=list(range(-5,15,2))\n",
    "list3=[1,2,3,4]\n",
    "list3.extend(list2)\n",
    "list3"
   ]
  },
  {
   "cell_type": "code",
   "execution_count": 145,
   "id": "88d9e35a",
   "metadata": {},
   "outputs": [
    {
     "data": {
      "text/plain": [
       "{(10, 15): 'hello'}"
      ]
     },
     "execution_count": 145,
     "metadata": {},
     "output_type": "execute_result"
    }
   ],
   "source": [
    "list1=[10,15]\n",
    "tpl1=tuple(list1)\n",
    "dict1={}\n",
    "dict1[tpl1]='hello'\n",
    "dict1"
   ]
  },
  {
   "cell_type": "code",
   "execution_count": 151,
   "id": "1ddf1de5",
   "metadata": {},
   "outputs": [
    {
     "name": "stdout",
     "output_type": "stream",
     "text": [
      "{'name': 'unknown'} {'name': 'Tom'}\n"
     ]
    },
    {
     "data": {
      "text/plain": [
       "dict_values(['unknown'])"
      ]
     },
     "execution_count": 151,
     "metadata": {},
     "output_type": "execute_result"
    }
   ],
   "source": [
    "dict1={}\n",
    "dict2={}\n",
    "dict1['name']='unknown'\n",
    "dict2['name']='Tom'\n",
    "print(dict1, dict2)\n",
    "dict1.keys()\n",
    "dict1.values()"
   ]
  },
  {
   "cell_type": "code",
   "execution_count": 153,
   "id": "05d4dca1",
   "metadata": {},
   "outputs": [
    {
     "name": "stdout",
     "output_type": "stream",
     "text": [
      "{'o', 'w', 'h', 'e', 'l'}\n",
      "{'e', 'l', 'h'}\n",
      "{'o'}\n"
     ]
    }
   ],
   "source": [
    "s1=set('hello')\n",
    "s2=set(['w', 'o', 'w'])\n",
    "print(s1.union(s2))\n",
    "print(s1.difference(s2))\n",
    "print(s1.intersection(s2))"
   ]
  },
  {
   "cell_type": "code",
   "execution_count": 154,
   "id": "ad5960ca",
   "metadata": {},
   "outputs": [
    {
     "data": {
      "text/plain": [
       "'age is 15'"
      ]
     },
     "execution_count": 154,
     "metadata": {},
     "output_type": "execute_result"
    }
   ],
   "source": [
    "a='age is '\n",
    "b=str(15)\n",
    "a+b"
   ]
  },
  {
   "cell_type": "markdown",
   "id": "c9c6232e",
   "metadata": {},
   "source": [
    "# Условные операторы"
   ]
  },
  {
   "cell_type": "code",
   "execution_count": 175,
   "id": "e380a00b",
   "metadata": {},
   "outputs": [],
   "source": [
    "# Запишите вместо вопросительных знаков выражение, которое вернет True,\n",
    "# если указывается високосный год, иначе False.\n",
    "# Например, x = 2000 -> True; x = 1900 -> False; и т.д.\n",
    "# Если есть сомнения в том, какие именно годы високосные,\n",
    "# обратитесь к Википедии:\n",
    "# https://ru.wikipedia.org/wiki/Високосный_год#Григориа..\n",
    "\n",
    "def is_leap_year(x):\n",
    "    return x%400==0 or x%100!=0 and x%4==0\n"
   ]
  },
  {
   "cell_type": "code",
   "execution_count": 176,
   "id": "ed2e22ff",
   "metadata": {},
   "outputs": [
    {
     "data": {
      "text/plain": [
       "False"
      ]
     },
     "execution_count": 176,
     "metadata": {},
     "output_type": "execute_result"
    }
   ],
   "source": [
    "is_leap_year(1001)"
   ]
  },
  {
   "cell_type": "code",
   "execution_count": 178,
   "id": "7be271fe",
   "metadata": {},
   "outputs": [
    {
     "data": {
      "text/plain": [
       "True"
      ]
     },
     "execution_count": 178,
     "metadata": {},
     "output_type": "execute_result"
    }
   ],
   "source": [
    "diagnosis_1 = 'yes'\n",
    "diagnosis_2 = 'no' \n",
    "diagnosis_3 = 'yes'\n",
    "result = diagnosis_1=='yes' or diagnosis_2=='yes' or diagnosis_3=='yes'\n",
    "result"
   ]
  },
  {
   "cell_type": "markdown",
   "id": "7e4c3160",
   "metadata": {},
   "source": [
    "# map() https://pythonist.ru/python-map-znakomstvo/"
   ]
  },
  {
   "cell_type": "code",
   "execution_count": 179,
   "id": "93178dd0",
   "metadata": {},
   "outputs": [
    {
     "name": "stdout",
     "output_type": "stream",
     "text": [
      "True\n"
     ]
    }
   ],
   "source": [
    "list_digit = list(map(int, list(str(123456789))))\n",
    "print(5 in list_digit)\n",
    "# True"
   ]
  },
  {
   "cell_type": "code",
   "execution_count": 493,
   "id": "12212794",
   "metadata": {},
   "outputs": [
    {
     "data": {
      "text/plain": [
       "False"
      ]
     },
     "execution_count": 493,
     "metadata": {},
     "output_type": "execute_result"
    }
   ],
   "source": [
    "#Дано n-значное целое число N. Определите, входят ли в него цифры 3 и 7. Напишите соответствующее выражение для проверки\n",
    "number=2222\n",
    "list_number=list(map(int,str(number)))\n",
    "3 in list_number and 2 in list_number"
   ]
  },
  {
   "cell_type": "code",
   "execution_count": 188,
   "id": "045ede99",
   "metadata": {},
   "outputs": [
    {
     "data": {
      "text/plain": [
       "True"
      ]
     },
     "execution_count": 188,
     "metadata": {},
     "output_type": "execute_result"
    }
   ],
   "source": [
    "#Дано n-значное целое число N. Определите, начинается ли оно с чётной цифры.\n",
    "number_list=list(map(int,str(number)))\n",
    "number_list[0]%2==0"
   ]
  },
  {
   "cell_type": "code",
   "execution_count": 202,
   "id": "3a70db72",
   "metadata": {},
   "outputs": [
    {
     "name": "stdout",
     "output_type": "stream",
     "text": [
      "True 3\n"
     ]
    }
   ],
   "source": [
    "list_1 = [1, 2]\n",
    " \n",
    "list_2 = [1, 2, 3]\n",
    "val = list_2.pop()\n",
    " \n",
    "print(list_1 == list_2, val)"
   ]
  },
  {
   "cell_type": "code",
   "execution_count": 203,
   "id": "01c3fe4f",
   "metadata": {},
   "outputs": [
    {
     "data": {
      "text/plain": [
       "[1, 2]"
      ]
     },
     "execution_count": 203,
     "metadata": {},
     "output_type": "execute_result"
    }
   ],
   "source": [
    "list_2"
   ]
  },
  {
   "cell_type": "code",
   "execution_count": 294,
   "id": "ec9cb604",
   "metadata": {},
   "outputs": [
    {
     "data": {
      "text/plain": [
       "False"
      ]
     },
     "execution_count": 294,
     "metadata": {},
     "output_type": "execute_result"
    }
   ],
   "source": [
    "# Переменная phone в виде строки хранит указанный пользователем номер телефона или None,\n",
    "# если соответствующее поле в анкете заполнено не было.Как можно проверить, оставил ли пользователь номер телефона?\n",
    "phone=None\n",
    "phone is not None"
   ]
  },
  {
   "cell_type": "code",
   "execution_count": 296,
   "id": "7fb2cfa6",
   "metadata": {},
   "outputs": [
    {
     "name": "stdout",
     "output_type": "stream",
     "text": [
      "-5\n",
      "0\n"
     ]
    }
   ],
   "source": [
    "mx = 0\n",
    "s = 0\n",
    "x = -5\n",
    "if x < 0:\n",
    "    s = x\n",
    "\n",
    "if x > mx:\n",
    "    mx = x\n",
    "    \n",
    "print(s)\n",
    "print(mx)"
   ]
  },
  {
   "cell_type": "code",
   "execution_count": null,
   "id": "b1e8a83c",
   "metadata": {},
   "outputs": [],
   "source": []
  },
  {
   "cell_type": "code",
   "execution_count": 297,
   "id": "0634c2c8",
   "metadata": {},
   "outputs": [],
   "source": [
    "# Исключения — это ошибки, которые выбрасываются при неправильной работе программы и останавливают её выполнение,\n",
    "# если они не обработаны.\n",
    "\n",
    "# Конструкция try-except служит для обработки исключений и выглядит следующим образом:\n",
    "\n",
    "# try:\n",
    "#     *код, который может вызвать ту или иную ошибку*\n",
    "# except *ошибка*:\n",
    "#     *код, который выполнится в случае возникновения ошибки*\n",
    "# else:\n",
    "#     *код, который выполнится только в случае, если в try ничего не сломалось*\n",
    "# finally:\n",
    "#     *код, который выполнится в любом случае*\n",
    "# Блоки finally и else являются необязательными, но вы можете пользоваться ими для удобства.\n",
    "\n",
    "#Код из блока finally выполняется в любом случае, независимо от исхода в блоках try-except.\n",
    "#Код из блока else выполняется только в случае успешного выполнения кода в блоке try.\n",
    "# Выбрасывать ошибки можно и по своему желанию с помощью конструкции raise *Тип ошибки* (сообщение, которое нужно вывести \n",
    "# в консоль)."
   ]
  },
  {
   "cell_type": "code",
   "execution_count": 310,
   "id": "0a10a0fb",
   "metadata": {},
   "outputs": [
    {
     "name": "stdout",
     "output_type": "stream",
     "text": [
      "Before exception\n",
      "Finally finished!\n"
     ]
    },
    {
     "ename": "KeyboardInterrupt",
     "evalue": "Interrupted by user",
     "output_type": "error",
     "traceback": [
      "\u001b[1;31m---------------------------------------------------------------------------\u001b[0m",
      "\u001b[1;31mKeyboardInterrupt\u001b[0m                         Traceback (most recent call last)",
      "\u001b[1;32m~\\AppData\\Local\\Temp/ipykernel_13140/2172638737.py\u001b[0m in \u001b[0;36m<module>\u001b[1;34m\u001b[0m\n\u001b[0;32m      1\u001b[0m \u001b[1;32mtry\u001b[0m\u001b[1;33m:\u001b[0m\u001b[1;33m\u001b[0m\u001b[1;33m\u001b[0m\u001b[0m\n\u001b[0;32m      2\u001b[0m     \u001b[0mprint\u001b[0m\u001b[1;33m(\u001b[0m\u001b[1;34m\"Before exception\"\u001b[0m\u001b[1;33m)\u001b[0m \u001b[1;31m# перед исключением\u001b[0m\u001b[1;33m\u001b[0m\u001b[1;33m\u001b[0m\u001b[0m\n\u001b[1;32m----> 3\u001b[1;33m     \u001b[0ma\u001b[0m \u001b[1;33m=\u001b[0m \u001b[0mint\u001b[0m\u001b[1;33m(\u001b[0m\u001b[0minput\u001b[0m\u001b[1;33m(\u001b[0m\u001b[1;34m\"a: \"\u001b[0m\u001b[1;33m)\u001b[0m\u001b[1;33m)\u001b[0m\u001b[1;33m\u001b[0m\u001b[1;33m\u001b[0m\u001b[0m\n\u001b[0m\u001b[0;32m      4\u001b[0m     \u001b[0mb\u001b[0m \u001b[1;33m=\u001b[0m \u001b[0mint\u001b[0m\u001b[1;33m(\u001b[0m\u001b[0minput\u001b[0m\u001b[1;33m(\u001b[0m\u001b[1;34m\"b: \"\u001b[0m\u001b[1;33m)\u001b[0m\u001b[1;33m)\u001b[0m\u001b[1;33m\u001b[0m\u001b[1;33m\u001b[0m\u001b[0m\n\u001b[0;32m      5\u001b[0m     \u001b[0mc\u001b[0m \u001b[1;33m=\u001b[0m \u001b[0ma\u001b[0m \u001b[1;33m/\u001b[0m \u001b[0mb\u001b[0m\u001b[1;33m\u001b[0m\u001b[1;33m\u001b[0m\u001b[0m\n",
      "\u001b[1;32m~\\anaconda3\\lib\\site-packages\\ipykernel\\kernelbase.py\u001b[0m in \u001b[0;36mraw_input\u001b[1;34m(self, prompt)\u001b[0m\n\u001b[0;32m   1004\u001b[0m                 \u001b[1;34m\"raw_input was called, but this frontend does not support input requests.\"\u001b[0m\u001b[1;33m\u001b[0m\u001b[1;33m\u001b[0m\u001b[0m\n\u001b[0;32m   1005\u001b[0m             )\n\u001b[1;32m-> 1006\u001b[1;33m         return self._input_request(\n\u001b[0m\u001b[0;32m   1007\u001b[0m             \u001b[0mstr\u001b[0m\u001b[1;33m(\u001b[0m\u001b[0mprompt\u001b[0m\u001b[1;33m)\u001b[0m\u001b[1;33m,\u001b[0m\u001b[1;33m\u001b[0m\u001b[1;33m\u001b[0m\u001b[0m\n\u001b[0;32m   1008\u001b[0m             \u001b[0mself\u001b[0m\u001b[1;33m.\u001b[0m\u001b[0m_parent_ident\u001b[0m\u001b[1;33m[\u001b[0m\u001b[1;34m\"shell\"\u001b[0m\u001b[1;33m]\u001b[0m\u001b[1;33m,\u001b[0m\u001b[1;33m\u001b[0m\u001b[1;33m\u001b[0m\u001b[0m\n",
      "\u001b[1;32m~\\anaconda3\\lib\\site-packages\\ipykernel\\kernelbase.py\u001b[0m in \u001b[0;36m_input_request\u001b[1;34m(self, prompt, ident, parent, password)\u001b[0m\n\u001b[0;32m   1049\u001b[0m             \u001b[1;32mexcept\u001b[0m \u001b[0mKeyboardInterrupt\u001b[0m\u001b[1;33m:\u001b[0m\u001b[1;33m\u001b[0m\u001b[1;33m\u001b[0m\u001b[0m\n\u001b[0;32m   1050\u001b[0m                 \u001b[1;31m# re-raise KeyboardInterrupt, to truncate traceback\u001b[0m\u001b[1;33m\u001b[0m\u001b[1;33m\u001b[0m\u001b[0m\n\u001b[1;32m-> 1051\u001b[1;33m                 \u001b[1;32mraise\u001b[0m \u001b[0mKeyboardInterrupt\u001b[0m\u001b[1;33m(\u001b[0m\u001b[1;34m\"Interrupted by user\"\u001b[0m\u001b[1;33m)\u001b[0m \u001b[1;32mfrom\u001b[0m \u001b[1;32mNone\u001b[0m\u001b[1;33m\u001b[0m\u001b[1;33m\u001b[0m\u001b[0m\n\u001b[0m\u001b[0;32m   1052\u001b[0m             \u001b[1;32mexcept\u001b[0m \u001b[0mException\u001b[0m\u001b[1;33m:\u001b[0m\u001b[1;33m\u001b[0m\u001b[1;33m\u001b[0m\u001b[0m\n\u001b[0;32m   1053\u001b[0m                 \u001b[0mself\u001b[0m\u001b[1;33m.\u001b[0m\u001b[0mlog\u001b[0m\u001b[1;33m.\u001b[0m\u001b[0mwarning\u001b[0m\u001b[1;33m(\u001b[0m\u001b[1;34m\"Invalid Message:\"\u001b[0m\u001b[1;33m,\u001b[0m \u001b[0mexc_info\u001b[0m\u001b[1;33m=\u001b[0m\u001b[1;32mTrue\u001b[0m\u001b[1;33m)\u001b[0m\u001b[1;33m\u001b[0m\u001b[1;33m\u001b[0m\u001b[0m\n",
      "\u001b[1;31mKeyboardInterrupt\u001b[0m: Interrupted by user"
     ]
    }
   ],
   "source": [
    "try:\n",
    "    print(\"Before exception\") # перед исключением\n",
    "    a = int(input(\"a: \"))\n",
    "    b = int(input(\"b: \"))\n",
    "    c = a / b\n",
    "    print(c) # печатаем c = a / b, если всё хорошо\n",
    "except ZeroDivisionError as e:\n",
    "    print(\"After exception\") # после исключения\n",
    "else: # код в блоке else выполняется только в том случае, если код в блоке try выполнился успешно \n",
    "    # (т. е. не произошло никакого исключения)\n",
    "    print(\"Everything's fine!\") # всё отлично!\n",
    "finally: # код в блоке finally выполнится в любом случае при выходе из try-except\n",
    "    print(\"Finally finished!\") # наконец-то завершено!\n",
    " \n",
    "print(\"After After exception\") # после после исключения"
   ]
  },
  {
   "cell_type": "code",
   "execution_count": null,
   "id": "2371a073",
   "metadata": {},
   "outputs": [],
   "source": [
    "Мы можем вызывать ошибки самостоятельно с помощью конструкции raise. Используется это,\n",
    "как правило, для отладки кода и остановки программы в критических ситуациях.\n",
    "\n",
    "Например:\n",
    "\n",
    "age = int(input(\"How old are you?\"))\n",
    " \n",
    "if age > 100 or age <= 0:\n",
    "    raise ValueError(\"You are too old or don't exist\") # Ты слишком стар либо не существуешь (Тебе не может быть столько лет)\n",
    " \n",
    "print(\"You are {} years old!\".format(age)) # Возраст выводится только в том случае, если пользователь ввёл правильный возраст.\n",
    "Здесь ошибка ValueError возникнет, если значение age, введённое пользователем, будет больше 100 или меньше либо равно 0. \n",
    "Ошибка остановит работу программы, а в консоль выведется следующее:\n",
    "\n",
    "raise ValueError(\"You are too old or don't exist\")\n",
    "Traceback (most recent call last):\n",
    "  File \"<stdin>\", line 1, in <module>\n",
    "ValueError: You are too old or don't exist\n",
    "В консоль выводится именно то сообщение, которое вы передаёте в аргумент конструктора класса исключения. \n",
    "Если не хотите никаких сообщений, просто оставьте скобки пустыми"
   ]
  },
  {
   "cell_type": "code",
   "execution_count": null,
   "id": "3b71a9a9",
   "metadata": {},
   "outputs": [],
   "source": [
    "Создайте скрипт, который будет принимать строки в input(). Строки необходимо конвертировать в числа \n",
    "(добавьте для этого try-except).\n",
    "\n",
    "В случае удачного выполнения скрипта пусть выведется: «You entered a right number» (Вы ввели правильное число).\n",
    "\n",
    "В конце скрипта обязательно должна быть надпись «Exit» (Выход из программы).\n",
    "\n",
    "Примечание. Для отлова ошибок используйте try-except, а также блоки finally и else.\n",
    "\n",
    "Примеры входов и выходов:\n",
    "\n",
    "ВХОДНЫЕ ДАННЫЕ\tВЫХОДНЫЕ ДАННЫЕ\n",
    "\n",
    "1\tYou entered 1 (Вы ввели 1) Выход из программы\n",
    "\n",
    "-3\tYou entered -3 (Вы ввели -3) Выход из программы\n",
    "\n",
    "razdvatri\t\n",
    "You entered a wrong number (Вы ввели неправильное число) Выход из программы"
   ]
  },
  {
   "cell_type": "code",
   "execution_count": 309,
   "id": "30303586",
   "metadata": {},
   "outputs": [
    {
     "name": "stdout",
     "output_type": "stream",
     "text": [
      "Введите число: к\n",
      "D=ВНеправильно\n",
      "Выход\n"
     ]
    }
   ],
   "source": [
    "try:\n",
    "    num=int(input(\"Введите число: \"))\n",
    "except ValueError as e:\n",
    "    print (\"D=ВНеправильно\")\n",
    "else:\n",
    "    print(f\"Вы ввели {num}\")\n",
    "finally:\n",
    "    print (\"Выход\")"
   ]
  },
  {
   "cell_type": "code",
   "execution_count": null,
   "id": "77dc76b1",
   "metadata": {},
   "outputs": [],
   "source": []
  },
  {
   "cell_type": "code",
   "execution_count": 357,
   "id": "eb1321e6",
   "metadata": {},
   "outputs": [],
   "source": [
    "# Запишите вместо вопросительных знаков выражение, которое вернет True,\n",
    "# когда каждое из чисел А и В нечетное.\n",
    "\\\n",
    "def are_both_odd(A, B):\n",
    "    return A%2==1 and B%2==1\n",
    "       "
   ]
  },
  {
   "cell_type": "code",
   "execution_count": 359,
   "id": "82b2af09",
   "metadata": {},
   "outputs": [
    {
     "data": {
      "text/plain": [
       "True"
      ]
     },
     "execution_count": 359,
     "metadata": {},
     "output_type": "execute_result"
    }
   ],
   "source": [
    "are_both_odd(5,5)"
   ]
  },
  {
   "cell_type": "markdown",
   "id": "76e26718",
   "metadata": {},
   "source": [
    "###### "
   ]
  },
  {
   "cell_type": "code",
   "execution_count": 367,
   "id": "c272b55d",
   "metadata": {},
   "outputs": [
    {
     "name": "stdout",
     "output_type": "stream",
     "text": [
      "Third quarter\n"
     ]
    }
   ],
   "source": [
    "if x > 0 and y > 0:\n",
    "    print(\"First quarter\") # Первая четверть\n",
    "if x > 0 and y < 0:                   # x > 0, y < 0\n",
    "    print(\"Fourth quarter\") # Четвёртая четверть\n",
    "if x < 0 and y > 0:\n",
    "    print(\"Second quarter\") # Вторая четверть\n",
    "if x < 0 and y < 0:                  # x < 0, y < 0\n",
    "        print(\"Third quarter\") # Третья четверть"
   ]
  },
  {
   "cell_type": "code",
   "execution_count": 366,
   "id": "be765fc9",
   "metadata": {},
   "outputs": [],
   "source": [
    "x=-5\n",
    "y=-5"
   ]
  },
  {
   "cell_type": "code",
   "execution_count": null,
   "id": "74d0ca6d",
   "metadata": {},
   "outputs": [],
   "source": [
    "# У вас есть заготовка функции — def get_wind_class(speed):\n",
    "# Вам нужно вместо \"???\" написать цикл, который возвращает из функции класс ветра в зависимости от его характера:\n",
    "# от 1 до 4 м/с - \"weak [1]\"\n",
    "# от 5-10 м/c - \"moderate [2]\"\n",
    "# от 11-18 м/c - \"strong [3]\"\n",
    "# от 19 м/c - \"hurricane [4]\"\n",
    "# В последней строке мы просим программу напечатать результат (в зависимости от цифры в скобках) — \n",
    "def get_wind_class(speed):  # Объявление функции\n",
    "???\n",
    "print(get_wind_class(3))  # Печатаем результат выполнения"
   ]
  },
  {
   "cell_type": "code",
   "execution_count": 376,
   "id": "b2178dcb",
   "metadata": {},
   "outputs": [
    {
     "name": "stdout",
     "output_type": "stream",
     "text": [
      "weak\n"
     ]
    }
   ],
   "source": [
    "def get_wind_class (speed):\n",
    "    if 0<speed<5:\n",
    "        return \"weak\"\n",
    "    elif 5<=speed<=10:\n",
    "        return \"moderate\"\n",
    "    elif 11<=speed<=18:\n",
    "        return \"strong\"\n",
    "    elif speed>=19:\n",
    "        return \"hurricane\"\n",
    "print(get_wind_class(3))    "
   ]
  },
  {
   "cell_type": "code",
   "execution_count": 403,
   "id": "51def663",
   "metadata": {},
   "outputs": [],
   "source": [
    "# Допишите функцию check_user так, чтобы она по логину пользователя\n",
    "# проверяла, существует он или нет,\n",
    "# после чего с помощью вложенного условия проверяла\n",
    "# правильность пароля этого пользователя.\n",
    "# Функция должна возвращать только True или False.\n",
    "# Чтобы вернуть True, напишите \"return True\";\n",
    "# чтобы вернуть False, напишите \"return False\".\n",
    "\n",
    "user_database = {\n",
    "    'user': 'password',\n",
    "    'iseedeadpeople': 'greedisgood',\n",
    "    'hesoyam': 'tgm'\n",
    "}\n",
    "\n",
    "def check_user(username, password):\n",
    "    if username in user_database:\n",
    "        if password in user_database.values():\n",
    "            return \"True\"\n",
    "        else:\n",
    "            return \"false\"\n",
    "    else:\n",
    "        return \"false\""
   ]
  },
  {
   "cell_type": "code",
   "execution_count": 404,
   "id": "c9cf86dd",
   "metadata": {},
   "outputs": [
    {
     "data": {
      "text/plain": [
       "'false'"
      ]
     },
     "execution_count": 404,
     "metadata": {},
     "output_type": "execute_result"
    }
   ],
   "source": [
    "check_user(\"user\", \"passwordk\")"
   ]
  },
  {
   "cell_type": "code",
   "execution_count": 396,
   "id": "7272300b",
   "metadata": {},
   "outputs": [
    {
     "data": {
      "text/plain": [
       "dict_values(['password', 'greedisgood', 'tgm'])"
      ]
     },
     "execution_count": 396,
     "metadata": {},
     "output_type": "execute_result"
    }
   ],
   "source": [
    "user_database.values()"
   ]
  },
  {
   "cell_type": "markdown",
   "id": "aaf958c4",
   "metadata": {},
   "source": [
    "# Тернарный оператор"
   ]
  },
  {
   "cell_type": "code",
   "execution_count": null,
   "id": "625dc3d5",
   "metadata": {},
   "outputs": [],
   "source": [
    "В Python вы можете встретить «инлайновый if». С его помощью можно переписать код следующим образом:\n",
    "\n",
    "result = a if a > b else b\n",
    "#ИЛИ\n",
    "result = (b, a)[a > b]"
   ]
  },
  {
   "cell_type": "code",
   "execution_count": 454,
   "id": "90335f51",
   "metadata": {},
   "outputs": [
    {
     "data": {
      "text/plain": [
       "False"
      ]
     },
     "execution_count": 454,
     "metadata": {},
     "output_type": "execute_result"
    }
   ],
   "source": [
    "#Запишите условие, которое является истинным, когда только одно из чисел А, В и С меньше 45.\n",
    "a1= True if A <45 else False\n",
    "a2= True if B <45 else False\n",
    "a3= True if C <45 else False\n",
    "#result=True if (a1+a2+a3)==1 else False\n",
    "result = (True, False)[a1+a2+a3!=1]\n",
    "result"
   ]
  },
  {
   "cell_type": "code",
   "execution_count": 458,
   "id": "8f3e50d5",
   "metadata": {},
   "outputs": [
    {
     "data": {
      "text/plain": [
       "False"
      ]
     },
     "execution_count": 458,
     "metadata": {},
     "output_type": "execute_result"
    }
   ],
   "source": [
    "a1= 1 if A <45 else 0\n",
    "a2= 1 if B <45 else 0\n",
    "a3= 1 if C <45 else 0\n",
    "#result=True if (a1+a2+a3)==1 else False\n",
    "result = (False, True)[a1+a2+a3==1]\n",
    "result"
   ]
  },
  {
   "cell_type": "code",
   "execution_count": 459,
   "id": "cf6dcc2a",
   "metadata": {},
   "outputs": [],
   "source": [
    "A=300\n",
    "B=455\n",
    "C=655"
   ]
  },
  {
   "cell_type": "code",
   "execution_count": 433,
   "id": "f833d3a6",
   "metadata": {},
   "outputs": [
    {
     "data": {
      "text/plain": [
       "True"
      ]
     },
     "execution_count": 433,
     "metadata": {},
     "output_type": "execute_result"
    }
   ],
   "source": [
    "#Запишите логическое выражение, которое определяет, что число А не принадлежит интервалу от -10 до -1 или интервалу от 2 до 15.\n",
    "result= False if -10<=A<=-1 or 2<=A<=15 else True\n",
    "result"
   ]
  },
  {
   "cell_type": "code",
   "execution_count": 460,
   "id": "fad8e7ed",
   "metadata": {},
   "outputs": [
    {
     "data": {
      "text/plain": [
       "False"
      ]
     },
     "execution_count": 460,
     "metadata": {},
     "output_type": "execute_result"
    }
   ],
   "source": [
    "#Дано двузначное число. Определите, входит ли в него цифра 5. \n",
    "#Попробуйте решить задачу с использованием целочисленного деления и деления с остатком.\n",
    "result = True if \"5\" in list(str(A)) else False\n",
    "result"
   ]
  },
  {
   "cell_type": "code",
   "execution_count": 448,
   "id": "7a948234",
   "metadata": {},
   "outputs": [
    {
     "data": {
      "text/plain": [
       "True"
      ]
     },
     "execution_count": 448,
     "metadata": {},
     "output_type": "execute_result"
    }
   ],
   "source": [
    "#Проверьте, все ли элементы в списке являются уникальными.\n",
    "spisok=set()\n",
    "result=True if \n"
   ]
  },
  {
   "cell_type": "code",
   "execution_count": 489,
   "id": "0bf64481",
   "metadata": {},
   "outputs": [
    {
     "data": {
      "text/plain": [
       "True"
      ]
     },
     "execution_count": 489,
     "metadata": {},
     "output_type": "execute_result"
    }
   ],
   "source": [
    "#Дано натуральное восьмизначное число. Выясните, является ли оно палиндромом (читается одинаково слева направо и справа налево).\n",
    "a=123454321\n",
    "b=list(str(a))\n",
    "b.reverse()\n",
    "\n",
    "list(str(a))==b\n"
   ]
  },
  {
   "cell_type": "markdown",
   "id": "0be6d3ef",
   "metadata": {},
   "source": [
    "# Циклы"
   ]
  },
  {
   "cell_type": "code",
   "execution_count": 494,
   "id": "b3c0c0d7",
   "metadata": {},
   "outputs": [
    {
     "name": "stdout",
     "output_type": "stream",
     "text": [
      "Element 5\n",
      "Element 9\n",
      "Element 19\n"
     ]
    }
   ],
   "source": [
    "my_list= [5, 9, 19]  # определяем итерируемый объект\n",
    "for element in my_list: # подставляем его в шаблон для цикла и записываем имя переменной, которое будет использовано для каждого элемента этого объекта. В данном случае это element\n",
    "    print('Element', element) # записываем необходимые действия в тело цикла"
   ]
  },
  {
   "cell_type": "code",
   "execution_count": 495,
   "id": "f9e0b052",
   "metadata": {},
   "outputs": [
    {
     "name": "stdout",
     "output_type": "stream",
     "text": [
      "Current income 120\n",
      "Current S 0\n",
      "New S 120\n",
      "\n",
      "Current income 38.5\n",
      "Current S 120\n",
      "New S 158.5\n",
      "\n",
      "Current income 40.5\n",
      "Current S 158.5\n",
      "New S 199.0\n",
      "\n",
      "Current income 80\n",
      "Current S 199.0\n",
      "New S 279.0\n",
      "\n",
      "Answer: s= 279.0\n"
     ]
    }
   ],
   "source": [
    "incomes = [120, 38.5, 40.5, 80] #список доходов семьи Быковых\n",
    "S = 0 #задаём начальное значение суммы доходов\n",
    "#создаём цикл for, в котором будем проходиться по элементам списка incomes\n",
    "for income in incomes: #income — текущее значение элемента списка\n",
    "    print('Current income', income) #выводим текущее значение переменной income\n",
    "    print('Current S', S) #выводим текущее значение переменной S\n",
    "    S += income #увеличиваем сумму доходов на значение income, равносильно S = S + income\n",
    "    print('New S', S) #выводим обновлённое значение переменной S\n",
    "    print() #выводим пустую строку для красивого отображения\n",
    "print('Answer: s=', S) #выводим результат"
   ]
  },
  {
   "cell_type": "markdown",
   "id": "0d01c44d",
   "metadata": {},
   "source": [
    "# S = sum(incomes)"
   ]
  },
  {
   "cell_type": "code",
   "execution_count": 496,
   "id": "bf7727cf",
   "metadata": {},
   "outputs": [],
   "source": [
    "S = sum(incomes)"
   ]
  },
  {
   "cell_type": "code",
   "execution_count": null,
   "id": "ef7c4955",
   "metadata": {},
   "outputs": [],
   "source": [
    "Напишите программу, которая находит произведение элементов списка lst = [98, 24, 23, 12, 3]. В результате такого умножения\n",
    "у вас должно получиться число 1947456.\n",
    "\n",
    "Для этого модифицируйте алгоритм, который мы использовали в примере №1. Задайте начальное значение произведения как 1. \n",
    "Далее в цикле перебирайте элементы списка lst и умножайте значение произведения на элемент списка."
   ]
  },
  {
   "cell_type": "code",
   "execution_count": 497,
   "id": "288dda40",
   "metadata": {},
   "outputs": [
    {
     "name": "stdout",
     "output_type": "stream",
     "text": [
      "98\n",
      "2352\n",
      "54096\n",
      "649152\n",
      "1947456\n",
      "1947456\n"
     ]
    }
   ],
   "source": [
    "lst = [98, 24, 23, 12, 3]\n",
    "M=1\n",
    "for i in lst:\n",
    "    M*=i\n",
    "    print(M)\n",
    "print(M)"
   ]
  },
  {
   "cell_type": "code",
   "execution_count": 501,
   "id": "45fcbea1",
   "metadata": {},
   "outputs": [
    {
     "name": "stdout",
     "output_type": "stream",
     "text": [
      "Текущая сумма 0\n",
      "Новая сумма 1\n",
      "Текущая сумма 1\n",
      "Новая сумма 3\n",
      "Текущая сумма 3\n",
      "Новая сумма 6\n",
      "Текущая сумма 6\n",
      "Новая сумма 10\n",
      "Текущая сумма 10\n",
      "Новая сумма 15\n",
      "Конеечная сумма 15\n"
     ]
    }
   ],
   "source": [
    "S=0\n",
    "N=5\n",
    "for i in range(1,N+1):\n",
    "    print(\"Текущая сумма\", S)\n",
    "    S+=i\n",
    "    print(\"Новая сумма {}\".format(S))\n",
    "print(\"Конеечная сумма {}\" .format(S))"
   ]
  },
  {
   "cell_type": "code",
   "execution_count": 503,
   "id": "a2019276",
   "metadata": {},
   "outputs": [
    {
     "name": "stdout",
     "output_type": "stream",
     "text": [
      "1\n",
      "2\n",
      "6\n",
      "24\n",
      "120\n",
      "120\n"
     ]
    }
   ],
   "source": [
    "#Попробуйте теперь самостоятельно подсчитать произведение всех чисел от 1 до N включительно.\n",
    "\n",
    "P = 1  # создаём переменную-счётчик, в которой мы будем считать произведение.\n",
    "#подумайте, чему она должна быть равна \n",
    "N = 5\n",
    "\n",
    "# запишите цикл for для подсчёта произведения\n",
    "for i in range(1,N+1):\n",
    "    P*=i\n",
    "    print(P)\n",
    "print(P)"
   ]
  },
  {
   "cell_type": "code",
   "execution_count": null,
   "id": "fb9a3bc7",
   "metadata": {},
   "outputs": [],
   "source": [
    "Напишите программу, которая будет печатать лесенку следующего типа:\n",
    "\n",
    "n = 3\n",
    "*\n",
    "**\n",
    "***\n",
    "\n",
    "n = 4\n",
    "*\n",
    "**\n",
    "***\n",
    "****"
   ]
  },
  {
   "cell_type": "code",
   "execution_count": 508,
   "id": "b1ac867c",
   "metadata": {},
   "outputs": [
    {
     "name": "stdout",
     "output_type": "stream",
     "text": [
      "*\n",
      "**\n",
      "***\n",
      "****\n"
     ]
    }
   ],
   "source": [
    "n=4\n",
    "for i in range(1,n+1):\n",
    "    print(\"*\"*i)"
   ]
  },
  {
   "cell_type": "code",
   "execution_count": 509,
   "id": "7c80025a",
   "metadata": {},
   "outputs": [
    {
     "name": "stdout",
     "output_type": "stream",
     "text": [
      "Product 1, weight: 10 -passenger car\n",
      "Product 1, weight: 42.4 -passenger car\n",
      "Product 1, weight: 240.1 -truck\n",
      "Product 1, weight: 101.5 -truck\n",
      "Product 1, weight: 98 -passenger car\n",
      "Product 1, weight: 0.4 -passenger car\n",
      "Product 1, weight: 0.3 -passenger car\n",
      "Product 1, weight: 15 -passenger car\n"
     ]
    }
   ],
   "source": [
    "#Условие задачи. Представим, что мы пишем программу для компании, занимающейся грузоперевозками.\n",
    "\n",
    "#В нашем распоряжении есть список масс товаров, предназначенных для перевозки (в килограммах).\n",
    "\n",
    "#Согласно нашим данным, товары, которые весят больше 100 килограммов, необходимо перевозить на грузовой машине,\n",
    "#а товары меньшей массы можно перевести на легковой.\n",
    "\n",
    "#→ Необходимо написать алгоритм, который распределял бы товары по типам машин.\n",
    "\n",
    "#Пример списка товаров (грузов):\n",
    "\n",
    "weight_of_products= [10, 42.4, 240.1, 101.5, 98, 0.4, 0.3, 15]\n",
    "weight_of_products = [10, 42.4, 240.1, 101.5, 98, 0.4, 0.3, 15] #список масс товаров\n",
    "\n",
    "max_weight = 100 #задаём максимальное значение веса груза\n",
    "num = 1 #задаём начальный номер груза\n",
    "#создаём цикл по элементам списка с массами товаров\n",
    "for weight in weight_of_products: #weight — текущее значение веса\n",
    "    if weight < max_weight: #если текущий вес меньше максимального,\n",
    "        #выводим номер груза, его вес и отправляем его в легковую машину\n",
    "        print('Product {}, weight: {} -passenger car'.format(num, weight)) \n",
    "    else:\n",
    "        #выводим номер груза, его вес и отправляем его в грузовую машину\n",
    "        print('Product {}, weight: {} -truck'.format(num, weight))"
   ]
  },
  {
   "cell_type": "code",
   "execution_count": 510,
   "id": "2e9c4136",
   "metadata": {},
   "outputs": [
    {
     "name": "stdout",
     "output_type": "stream",
     "text": [
      "Product 1, weight: 10 -passenger car\n",
      "Product 2, weight: 42.4 -passenger car\n",
      "Product 3, weight: 240.1 -truck\n",
      "Product 4, weight: 101.5 -truck\n",
      "Product 5, weight: 98 -passenger car\n",
      "Product 6, weight: 0.4 -passenger car\n",
      "Product 7, weight: 0.3 -passenger car\n",
      "Product 8, weight: 15 -passenger car\n"
     ]
    }
   ],
   "source": [
    "weight_of_products = [10, 42.4, 240.1, 101.5, 98, 0.4, 0.3, 15] #список масс товаров\n",
    "max_weight = 100 #задаём максимальное значение веса груза\n",
    "N = len(weight_of_products) #вычисляем длина списка\n",
    "#создаём цикл по последовательности чисел от 0 до N (не включая N)\n",
    "for i in range(N): #i — текущее значение последовательности\n",
    "    #обращаемся к элементу по индексу и сравниваем его с максимумом\n",
    "    if weight_of_products[i] < max_weight: #если текущий вес меньше максимального,\n",
    "        #выводим номер груза, массу и отправляем его в легковую машину\n",
    "        print('Product {}, weight: {} -passenger car'.format(i+1, weight_of_products[i])) \n",
    "    else:\n",
    "        #выводим номер груза, массу и отправляем его в грузовую машину\n",
    "        print('Product {}, weight: {} -truck'.format(i+1, weight_of_products[i]))"
   ]
  },
  {
   "cell_type": "code",
   "execution_count": 513,
   "id": "119c5404",
   "metadata": {},
   "outputs": [
    {
     "name": "stdout",
     "output_type": "stream",
     "text": [
      "['Red Square', 'Swallow Nest', 'Unavailable', 'Unavailable', 'Unavailable', 'Hermitage']\n"
     ]
    }
   ],
   "source": [
    "# Условие задачи. Задача «на злобу дня». Мы разрабатываем новый функционал приложения для туристического агентства \n",
    "#«Ковёр-самолёт». В нашем распоряжении есть список мест places, которые пользователь хотел бы посетить.\n",
    "# По эпидемиологическим причинам пользователь не может посетить места, которые находятся вне территории России.\n",
    "#Наша задача — заменить заграничные места в списке places на значение 'Unavailable'.\n",
    "#Теперь будем проходиться в цикле по индексам нашего списка — это будет цикл по целым числам от 0 до N (не включая N),\n",
    "# где N — длина списка places. Числа из последовательности будем заносить в переменную i.\n",
    "\n",
    "#Логика работы тела цикла остаётся прежней, но с одним важным изменением: теперь для обращения к месту из списка places\n",
    "#мы будем использовать его индекс. \n",
    "#Если i-е место находится не в России, заменяем i-й элемент списка на строку 'Unavailable'.\n",
    "places = [\n",
    "    'Red Square',\n",
    "    'Swallow Nest',\n",
    "    'Niagara Falls',\n",
    "    'Grand Canyon',\n",
    "    'Louvre',\n",
    "    'Hermitage'\n",
    "]\n",
    "location = {\n",
    "    'Red Square': 'Russia',\n",
    "    'Swallow Nest': 'Russia',\n",
    "    'Niagara Falls': 'USA',\n",
    "    'Grand Canyon': 'USA',\n",
    "    'Louvre': 'France',\n",
    "    'Hermitage': 'Russia'\n",
    "}\n",
    "\n",
    "\n",
    "N = len(places) #вычисляем длину списка\n",
    "#создаём цикл по списку мест, которые хотим посетить\n",
    "for i in range(N): #i — текущее значение последовательности\n",
    "    #places[i] — i-й элемент в списке places\n",
    "    country = location[places[i]] #получаем страну из словаря location по ключу\n",
    "    if country != 'Russia': #сравниваем название стран\n",
    "        places[i] = 'Unavailable' #помечаем место как недоступное\n",
    "print(places) #выводим результирующий список\n",
    "        \n",
    "    "
   ]
  },
  {
   "cell_type": "code",
   "execution_count": null,
   "id": "885f2711",
   "metadata": {},
   "outputs": [],
   "source": [
    "Мы рассмотрели очень показательный пример, из которого нам надо сделать важные выводы по работе цикла for со списками:\n",
    "\n",
    "Если внутри тела цикла for не предполагается изменение списка, по которому проходят итерации, предпочтительнее использовать \n",
    "цикл по элементам списка, т. е. итератор — сам список. Примеры: вывод содержимого списка на экран, сложение элементов списка, \n",
    "    подсчёт элементов по условию (подсчитать, сколько в списке чисел, а сколько строк), передача элементов списка в сторонние \n",
    "    функции (отправка сообщений по почте).\n",
    "Если вы заранее знаете, что внутри тела функции будете изменять список, то цикл ведётся по индексам списка. Цикл по индексам \n",
    "может вестись в случаях, когда в вычислениях участвует не один элемент списка, а сразу несколько. Рассмотрим такой пример \n",
    "чуть позже."
   ]
  },
  {
   "cell_type": "code",
   "execution_count": 518,
   "id": "fb0ee703",
   "metadata": {},
   "outputs": [
    {
     "name": "stdout",
     "output_type": "stream",
     "text": [
      "1\n",
      "2\n",
      "4\n",
      "8\n",
      "16\n",
      "32\n",
      "64\n",
      "128\n",
      "256\n",
      "512\n"
     ]
    },
    {
     "data": {
      "text/plain": [
       "[1, 2, 4, 8, 16, 32, 64, 128, 256, 512, 1024]"
      ]
     },
     "execution_count": 518,
     "metadata": {},
     "output_type": "execute_result"
    }
   ],
   "source": [
    "my_list = [1]\n",
    "for i in range(10):\n",
    "    my_list.append(my_list[i] * 2)\n",
    "    print(my_list[i])\n",
    "my_list"
   ]
  },
  {
   "cell_type": "code",
   "execution_count": 522,
   "id": "2f7b744b",
   "metadata": {},
   "outputs": [
    {
     "name": "stdout",
     "output_type": "stream",
     "text": [
      "My\n",
      "name\n",
      "is\n",
      "Tanya\n",
      "My name is Tanya \n"
     ]
    }
   ],
   "source": [
    "# Создайте список word_list = ['My', 'name', 'is', 'ваше имя на латинице (например, Sergei)']. \n",
    "#Напишите цикл, который складывает все строки из списка в одно предложение, и выведите это предложение на экран.\n",
    "word_list = ['My', 'name', 'is', 'Tanya']\n",
    "stroka=\"\"\n",
    "for i in word_list:\n",
    "    print(i)\n",
    "    stroka+=i+\" \"\n",
    "print(stroka)"
   ]
  },
  {
   "cell_type": "code",
   "execution_count": null,
   "id": "b58fca44",
   "metadata": {},
   "outputs": [],
   "source": [
    "Создайте список num_list = [1, 10, 3, -5].\n",
    "Отсортируйте его с помощью метода sort() для списков.\n",
    "Последовательно выведите на экран элементы этого списка с помощью цикла for."
   ]
  },
  {
   "cell_type": "code",
   "execution_count": 523,
   "id": "a75becb6",
   "metadata": {},
   "outputs": [
    {
     "name": "stdout",
     "output_type": "stream",
     "text": [
      "-5\n",
      "1\n",
      "3\n",
      "10\n"
     ]
    }
   ],
   "source": [
    "num_list = [1, 10, 3, -5]\n",
    "num_list.sort()\n",
    "for i in num_list:\n",
    "    print(i)"
   ]
  },
  {
   "cell_type": "code",
   "execution_count": 524,
   "id": "340f3805",
   "metadata": {},
   "outputs": [
    {
     "name": "stdout",
     "output_type": "stream",
     "text": [
      "17\n"
     ]
    }
   ],
   "source": [
    "#Создайте список my_list = list(range(0, 100, 3)). \n",
    "#С помощью цикла for посчитайте количество чётных элементов в списке. В ответ запишите получившееся число.\n",
    "my_list = list(range(0, 100, 3))\n",
    "new_list=[]\n",
    "for i in my_list:\n",
    "    if i%2==0:\n",
    "        new_list.append(i)\n",
    "print(len(new_list))"
   ]
  },
  {
   "cell_type": "code",
   "execution_count": 533,
   "id": "0b495b62",
   "metadata": {},
   "outputs": [
    {
     "name": "stdout",
     "output_type": "stream",
     "text": [
      "3\n"
     ]
    }
   ],
   "source": [
    "# Создайте список my_list = [True, 1, -10, 'hello', False, 'string_1', 123, 2.5, [1, 2], 'another']. \n",
    "# С помощью цикла for посчитайте количество элементов типа str в списке\n",
    "my_list = [True, 1, -10, 'hello', False, 'string_1', 123, 2.5, [1, 2], 'another']\n",
    "list2=[]\n",
    "for i in my_list:\n",
    "    if type(i)==str:\n",
    "        list2.append(i)\n",
    "print(len(list2))"
   ]
  },
  {
   "cell_type": "code",
   "execution_count": null,
   "id": "7c2612de",
   "metadata": {},
   "outputs": [],
   "source": []
  },
  {
   "cell_type": "code",
   "execution_count": 532,
   "id": "99bd4e7b",
   "metadata": {},
   "outputs": [
    {
     "data": {
      "text/plain": [
       "True"
      ]
     },
     "execution_count": 532,
     "metadata": {},
     "output_type": "execute_result"
    }
   ],
   "source": [
    "a='gf'\n",
    "type(a)==str"
   ]
  },
  {
   "cell_type": "code",
   "execution_count": 1,
   "id": "7f54ebed",
   "metadata": {},
   "outputs": [
    {
     "name": "stdout",
     "output_type": "stream",
     "text": [
      "3.3\n",
      "6.6\n",
      "9.899999999999999\n",
      "13.2\n",
      "\n",
      "3.1999999999999993\n"
     ]
    }
   ],
   "source": [
    "#Сосуд вмещает в себя ровно 10 литров жидкости. Каждый раз в него вливается 0.0033 кубических метра жидкости. Понятно, \n",
    "#что в какой-то момент сосуд наполнится до краёв и жидкость начнёт выливаться из сосуда.\n",
    "\n",
    "#С помощью цикла while опишите данный процесс и найдите, сколько литров жидкости выльется из сосуда.\n",
    "\n",
    "#Учтите, что в 1 кубический метр равен 1 000 литров (0.0033 * 1000 = 3.3).\n",
    "max_volume=10\n",
    "S=0\n",
    "volume=3.3\n",
    "while S<max_volume:\n",
    "    S+=volume\n",
    "    print(S)\n",
    "print()\n",
    "print(S-max_volume)"
   ]
  },
  {
   "cell_type": "code",
   "execution_count": 2,
   "id": "0d2baaac",
   "metadata": {},
   "outputs": [
    {
     "name": "stdout",
     "output_type": "stream",
     "text": [
      "Still counting ...\n",
      "Still counting ...\n",
      "Still counting ...\n",
      "Still counting ...\n",
      "Still counting ...\n",
      "Still counting ...\n",
      "Still counting ...\n",
      "Still counting ...\n",
      "Still counting ...\n",
      "Still counting ...\n",
      "Still counting ...\n",
      "Still counting ...\n",
      "Still counting ...\n",
      "Still counting ...\n",
      "Still counting ...\n",
      "Still counting ...\n",
      "Still counting ...\n",
      "Still counting ...\n",
      "Still counting ...\n",
      "Still counting ...\n",
      "Still counting ...\n",
      "Still counting ...\n",
      "Still counting ...\n",
      "Still counting ...\n",
      "Still counting ...\n",
      "Still counting ...\n",
      "Still counting ...\n",
      "Still counting ...\n",
      "Still counting ...\n",
      "Still counting ...\n",
      "Still counting ...\n",
      "Still counting ...\n",
      "\n",
      "Sum is:  528\n",
      "Numbers total:  32\n"
     ]
    }
   ],
   "source": [
    "S = 0  # создаём накопительную переменную, в которой будем считать сумму\n",
    "n = 1  # задаём текущее натуральное число\n",
    " \n",
    "# создаём цикл, который будет работать, пока сумма не превысит 500\n",
    "while S < 500:  # делай, пока ...\n",
    "    S += n  # увеличиваем сумму, равносильно S = S + n\n",
    "    n += 1  # увеличиваем значение натурального числа\n",
    "    print(\"Still counting ...\") #выводим строку ожидания\n",
    "print() #отделяем промежуточный вывод от результата пустой строкой\n",
    "print(\"Sum is: \", S) #выводим результирующую сумму\n",
    "print(\"Numbers total: \", n-1) #выводим результирующее количество чисел"
   ]
  },
  {
   "cell_type": "code",
   "execution_count": 6,
   "id": "d52a96e5",
   "metadata": {},
   "outputs": [
    {
     "name": "stdout",
     "output_type": "stream",
     "text": [
      "4\n",
      "9\n",
      "16\n",
      "25\n",
      "36\n",
      "49\n",
      "64\n",
      "81\n",
      "100\n",
      "121\n",
      "144\n",
      "169\n",
      "196\n",
      "225\n",
      "256\n",
      "289\n",
      "324\n",
      "361\n",
      "400\n",
      "441\n",
      "484\n",
      "529\n",
      "576\n",
      "625\n",
      "676\n",
      "729\n",
      "784\n",
      "841\n",
      "900\n",
      "961\n",
      "1024\n",
      "31\n"
     ]
    }
   ],
   "source": [
    "# Напишите цикл while, который находит максимальное натуральное число, квадрат которого меньше 1000.\n",
    "max_squ=1000\n",
    "n=1\n",
    "while n**2<max_squ:\n",
    "    n+=1\n",
    "    print(n**2)\n",
    "    \n",
    "print(n-1)"
   ]
  },
  {
   "cell_type": "code",
   "execution_count": null,
   "id": "9f95945c",
   "metadata": {},
   "outputs": [],
   "source": [
    "Рассмотрим небольшой пример. Пусть у нас есть система контроля количества посетителей в магазине, максимальное количество покупателей — десять.\n",
    "\n",
    "Мы хотим увеличивать значение переменной n в бесконечном цикле, но если n превысит значение 10, то цикл необходимо прервать.\n",
    "\n",
    "Условие бесконечного цикла проще всего задать как булево значение True — в таком случае цикл будет выполняться всегда.\n",
    "\n",
    "Условие выхода из цикла зададим с помощью оператора if и в блоке этого оператора пропишем ключевое слово break. \n",
    "Итоговый код будет иметь вид:\n",
    "\n",
    "# хорошо\n",
    "n = 1\n",
    "while True:  # в данной программе условие всегда True, цикл будет бесконечным\n",
    "    print(\"New client !\")\n",
    "    n += 1\n",
    "    if n > 10:  # условие, при достижении которого цикл while будет принудительно завершён\n",
    "        break"
   ]
  },
  {
   "cell_type": "code",
   "execution_count": 2,
   "id": "88e519ed",
   "metadata": {
    "scrolled": true
   },
   "outputs": [
    {
     "name": "stdout",
     "output_type": "stream",
     "text": [
      "Enter your name: H\n",
      "Wrong name\n"
     ]
    },
    {
     "ename": "KeyboardInterrupt",
     "evalue": "Interrupted by user",
     "output_type": "error",
     "traceback": [
      "\u001b[1;31m---------------------------------------------------------------------------\u001b[0m",
      "\u001b[1;31mKeyboardInterrupt\u001b[0m                         Traceback (most recent call last)",
      "\u001b[1;32m~\\AppData\\Local\\Temp/ipykernel_4264/301945808.py\u001b[0m in \u001b[0;36m<module>\u001b[1;34m\u001b[0m\n\u001b[0;32m      6\u001b[0m \u001b[1;31m#создаём бесконечный цикл\u001b[0m\u001b[1;33m\u001b[0m\u001b[1;33m\u001b[0m\u001b[0m\n\u001b[0;32m      7\u001b[0m \u001b[1;32mwhile\u001b[0m \u001b[1;32mTrue\u001b[0m\u001b[1;33m:\u001b[0m\u001b[1;33m\u001b[0m\u001b[1;33m\u001b[0m\u001b[0m\n\u001b[1;32m----> 8\u001b[1;33m     \u001b[0mname\u001b[0m \u001b[1;33m=\u001b[0m \u001b[0minput\u001b[0m\u001b[1;33m(\u001b[0m\u001b[1;34m'Enter your name: '\u001b[0m\u001b[1;33m)\u001b[0m \u001b[1;31m#запрашиваем у пользователя позывной\u001b[0m\u001b[1;33m\u001b[0m\u001b[1;33m\u001b[0m\u001b[0m\n\u001b[0m\u001b[0;32m      9\u001b[0m     \u001b[1;31m#проверяем, что позывной есть среди ключей словаря\u001b[0m\u001b[1;33m\u001b[0m\u001b[1;33m\u001b[0m\u001b[0m\n\u001b[0;32m     10\u001b[0m     \u001b[1;32mif\u001b[0m \u001b[0mname\u001b[0m \u001b[1;32min\u001b[0m \u001b[0msecret_passwords\u001b[0m\u001b[1;33m:\u001b[0m \u001b[1;31m#если позывной верный\u001b[0m\u001b[1;33m\u001b[0m\u001b[1;33m\u001b[0m\u001b[0m\n",
      "\u001b[1;32m~\\anaconda3\\lib\\site-packages\\ipykernel\\kernelbase.py\u001b[0m in \u001b[0;36mraw_input\u001b[1;34m(self, prompt)\u001b[0m\n\u001b[0;32m   1004\u001b[0m                 \u001b[1;34m\"raw_input was called, but this frontend does not support input requests.\"\u001b[0m\u001b[1;33m\u001b[0m\u001b[1;33m\u001b[0m\u001b[0m\n\u001b[0;32m   1005\u001b[0m             )\n\u001b[1;32m-> 1006\u001b[1;33m         return self._input_request(\n\u001b[0m\u001b[0;32m   1007\u001b[0m             \u001b[0mstr\u001b[0m\u001b[1;33m(\u001b[0m\u001b[0mprompt\u001b[0m\u001b[1;33m)\u001b[0m\u001b[1;33m,\u001b[0m\u001b[1;33m\u001b[0m\u001b[1;33m\u001b[0m\u001b[0m\n\u001b[0;32m   1008\u001b[0m             \u001b[0mself\u001b[0m\u001b[1;33m.\u001b[0m\u001b[0m_parent_ident\u001b[0m\u001b[1;33m[\u001b[0m\u001b[1;34m\"shell\"\u001b[0m\u001b[1;33m]\u001b[0m\u001b[1;33m,\u001b[0m\u001b[1;33m\u001b[0m\u001b[1;33m\u001b[0m\u001b[0m\n",
      "\u001b[1;32m~\\anaconda3\\lib\\site-packages\\ipykernel\\kernelbase.py\u001b[0m in \u001b[0;36m_input_request\u001b[1;34m(self, prompt, ident, parent, password)\u001b[0m\n\u001b[0;32m   1049\u001b[0m             \u001b[1;32mexcept\u001b[0m \u001b[0mKeyboardInterrupt\u001b[0m\u001b[1;33m:\u001b[0m\u001b[1;33m\u001b[0m\u001b[1;33m\u001b[0m\u001b[0m\n\u001b[0;32m   1050\u001b[0m                 \u001b[1;31m# re-raise KeyboardInterrupt, to truncate traceback\u001b[0m\u001b[1;33m\u001b[0m\u001b[1;33m\u001b[0m\u001b[0m\n\u001b[1;32m-> 1051\u001b[1;33m                 \u001b[1;32mraise\u001b[0m \u001b[0mKeyboardInterrupt\u001b[0m\u001b[1;33m(\u001b[0m\u001b[1;34m\"Interrupted by user\"\u001b[0m\u001b[1;33m)\u001b[0m \u001b[1;32mfrom\u001b[0m \u001b[1;32mNone\u001b[0m\u001b[1;33m\u001b[0m\u001b[1;33m\u001b[0m\u001b[0m\n\u001b[0m\u001b[0;32m   1052\u001b[0m             \u001b[1;32mexcept\u001b[0m \u001b[0mException\u001b[0m\u001b[1;33m:\u001b[0m\u001b[1;33m\u001b[0m\u001b[1;33m\u001b[0m\u001b[0m\n\u001b[0;32m   1053\u001b[0m                 \u001b[0mself\u001b[0m\u001b[1;33m.\u001b[0m\u001b[0mlog\u001b[0m\u001b[1;33m.\u001b[0m\u001b[0mwarning\u001b[0m\u001b[1;33m(\u001b[0m\u001b[1;34m\"Invalid Message:\"\u001b[0m\u001b[1;33m,\u001b[0m \u001b[0mexc_info\u001b[0m\u001b[1;33m=\u001b[0m\u001b[1;32mTrue\u001b[0m\u001b[1;33m)\u001b[0m\u001b[1;33m\u001b[0m\u001b[1;33m\u001b[0m\u001b[0m\n",
      "\u001b[1;31mKeyboardInterrupt\u001b[0m: Interrupted by user"
     ]
    }
   ],
   "source": [
    "secret_passwords = {\n",
    "    'Enot': 'ulybaka',\n",
    "    'Agent12': '1password1',\n",
    "    'MouseLulu': 'myshkanaruhka'\n",
    "} #база позывных и паролей\n",
    "#создаём бесконечный цикл\n",
    "while True:\n",
    "    name = input('Enter your name: ') #запрашиваем у пользователя позывной\n",
    "    #проверяем, что позывной есть среди ключей словаря\n",
    "    if name in secret_passwords: #если позывной верный\n",
    "        password = input('Enter your password: ') #запрашиваем у пользователя пароль\n",
    "        #проверяем, что введённый пароль совпадает со значением по ключу позывного\n",
    "        if password == secret_passwords[name]: #если пароль верный,\n",
    "            print('Welcome') #выводим приветственное сообщение\n",
    "            break #завершаем цикл\n",
    "        else: #если пароль неверный,\n",
    "            print('Wrong password') #выводим сообщение об ошибке\n",
    "    else: #если позывной неверный,\n",
    "        print('Wrong name') #выводим сообщение об ошибке"
   ]
  },
  {
   "cell_type": "code",
   "execution_count": null,
   "id": "96dae9d7",
   "metadata": {},
   "outputs": [],
   "source": [
    "# Напишите бесконечный цикл while с условием выхода внутри цикла, \n",
    "# который находит максимальное натуральное число, квадрат которого меньше 1000.\n"
   ]
  },
  {
   "cell_type": "code",
   "execution_count": 11,
   "id": "bb436a3e",
   "metadata": {},
   "outputs": [
    {
     "name": "stdout",
     "output_type": "stream",
     "text": [
      "1 1\n",
      "2 4\n",
      "3 9\n",
      "4 16\n",
      "5 25\n",
      "6 36\n",
      "7 49\n",
      "8 64\n",
      "9 81\n",
      "10 100\n",
      "11 121\n",
      "12 144\n",
      "13 169\n",
      "14 196\n",
      "15 225\n",
      "16 256\n",
      "17 289\n",
      "18 324\n",
      "19 361\n",
      "20 400\n",
      "21 441\n",
      "22 484\n",
      "23 529\n",
      "24 576\n",
      "25 625\n",
      "26 676\n",
      "27 729\n",
      "28 784\n",
      "29 841\n",
      "30 900\n",
      "31 961\n",
      "32 1024\n",
      "31\n"
     ]
    }
   ],
   "source": [
    "max_squ=1000\n",
    "n=1\n",
    "squ=0\n",
    "while True:\n",
    "    squ=n**2\n",
    "    print(n, squ)\n",
    "    if squ>max_squ:\n",
    "        break\n",
    "    else:\n",
    "         n+=1\n",
    "print(n-1)"
   ]
  },
  {
   "cell_type": "code",
   "execution_count": 15,
   "id": "048ca42e",
   "metadata": {},
   "outputs": [
    {
     "name": "stdout",
     "output_type": "stream",
     "text": [
      "5\n"
     ]
    }
   ],
   "source": [
    "i=0\n",
    "while i < 5:\n",
    "    i += 1\n",
    "print(i)"
   ]
  },
  {
   "cell_type": "code",
   "execution_count": 16,
   "id": "6d957b4e",
   "metadata": {},
   "outputs": [
    {
     "name": "stdout",
     "output_type": "stream",
     "text": [
      "4\n"
     ]
    }
   ],
   "source": [
    "n = 10\n",
    "i = 1\n",
    "while i ** 2 < n:\n",
    "    i += 1\n",
    "print(i)"
   ]
  },
  {
   "cell_type": "code",
   "execution_count": 17,
   "id": "67d92835",
   "metadata": {},
   "outputs": [
    {
     "name": "stdout",
     "output_type": "stream",
     "text": [
      "Hello\n",
      "Hello\n",
      "Hello\n",
      "Hello\n",
      "Hello\n",
      "Hello\n",
      "Hello\n",
      "Hello\n",
      "Hello\n",
      "Hello\n"
     ]
    }
   ],
   "source": [
    "n = 10\n",
    "i = 0\n",
    "while i < n:\n",
    "    print('Hello')\n",
    "    i+=1"
   ]
  },
  {
   "cell_type": "code",
   "execution_count": 39,
   "id": "6037690a",
   "metadata": {},
   "outputs": [
    {
     "name": "stdout",
     "output_type": "stream",
     "text": [
      "2\n",
      "6\n",
      "24\n",
      "120\n",
      "720\n",
      "5040\n",
      "5040\n"
     ]
    }
   ],
   "source": [
    "# Напишите цикл while, который вычисляет произведение натуральных чисел (1*2*3*4*...). \n",
    "# Цикл должен выполняться до тех пор, пока значение произведения не превысит 1 000. \n",
    "# В ответ запишите полученное после цикла произведение.\n",
    "n=1\n",
    "S=1\n",
    "while S<1000:\n",
    "    n+=1\n",
    "    S*=n\n",
    "    print(S)\n",
    "print(S)"
   ]
  },
  {
   "cell_type": "code",
   "execution_count": 29,
   "id": "a3100ce9",
   "metadata": {},
   "outputs": [
    {
     "name": "stdout",
     "output_type": "stream",
     "text": [
      "5040\n"
     ]
    }
   ],
   "source": [
    "n=2\n",
    "S=1\n",
    "while True:\n",
    "    S=n*S\n",
    "    n+=1\n",
    "    if S>1000:\n",
    "        break\n",
    "        \n",
    "print(S)"
   ]
  },
  {
   "cell_type": "code",
   "execution_count": 30,
   "id": "8960343e",
   "metadata": {},
   "outputs": [
    {
     "name": "stdout",
     "output_type": "stream",
     "text": [
      "3 1\n",
      "9 2\n",
      "27 3\n",
      "81 4\n",
      "243 5\n",
      "729 6\n",
      "2187 7\n"
     ]
    }
   ],
   "source": [
    "#Напишите программу, которая возводит число 3 в n-ю степень (3, 9, 27 …), начиная с n = 1, пока результат будет менее 1000.\n",
    "#На какой итерации остановится ваш цикл (до начала выполнения цикла количество итераций равно 0)?\n",
    "n=0\n",
    "result=0\n",
    "while result<1000:\n",
    "    n+=1\n",
    "    result=3**n\n",
    "    print(result, n)"
   ]
  },
  {
   "cell_type": "code",
   "execution_count": 32,
   "id": "12700b9f",
   "metadata": {},
   "outputs": [
    {
     "name": "stdout",
     "output_type": "stream",
     "text": [
      "1080.0 1\n",
      "1166.4 2\n",
      "1259.712 3\n",
      "1360.48896 4\n",
      "1469.3280768 5\n",
      "1586.874322944 6\n",
      "1713.82426877952 7\n",
      "1850.9302102818817 8\n",
      "1999.0046271044323 9\n",
      "2158.924997272787 10\n",
      "2331.63899705461 11\n",
      "2518.170116818979 12\n",
      "2719.6237261644974 13\n",
      "2937.193624257657 14\n",
      "3172.1691141982697 15\n"
     ]
    }
   ],
   "source": [
    "#Олег положил тысячу рублей в банк под 8% годовых. \n",
    "#Через сколько лет у него на счету будет не менее трёх тысяч рублей? Выведите на экран это число и запишите его в ответ.\n",
    "percent=0.08\n",
    "S=1000\n",
    "n=0\n",
    "while S<3000:\n",
    "    n+=1\n",
    "    S=S+(S*0.08)\n",
    "    print(S,n)"
   ]
  },
  {
   "cell_type": "code",
   "execution_count": 36,
   "id": "916a7740",
   "metadata": {},
   "outputs": [
    {
     "name": "stdout",
     "output_type": "stream",
     "text": [
      "There are 1 people in the room\n",
      "There are 2 people in the room\n",
      "There are 3 people in the room\n",
      "There are 4 people in the room\n",
      "There are 5 people in the room\n"
     ]
    }
   ],
   "source": [
    "# В помещении стоит датчик движения. В комнату последовательно заходят люди. Максимальная вместимость помещения — 5 человек.\n",
    "# Необходимо организовать программу, которая считает заходящих людей, пока их число не превысит максимум, \n",
    "# после каждого зашедшего человека программа должна выводить количество вошедших. От коллеги вам достался код,\n",
    "# который почему-то зацикливается и не даёт никакого результата. Ваша задача — исправить этот код. Запишите в ответ строку,\n",
    "# которую вы добавили.\n",
    "max_people = 5\n",
    "i = 0\n",
    "while i <max_people:\n",
    "    i+=1\n",
    "    print('There are', i, 'people in the room') # В помещении i человек\n",
    "   "
   ]
  },
  {
   "cell_type": "markdown",
   "id": "0beab6c4",
   "metadata": {},
   "source": [
    "# Работа с вложенными циклами\n"
   ]
  },
  {
   "cell_type": "markdown",
   "id": "e063f318",
   "metadata": {},
   "source": [
    "# ЦИКЛЫ ПО СТРОКАМ И ИХ СОДЕРЖИМОМУ"
   ]
  },
  {
   "cell_type": "code",
   "execution_count": 48,
   "id": "13d5e460",
   "metadata": {},
   "outputs": [
    {
     "name": "stdout",
     "output_type": "stream",
     "text": [
      "Current row [1, 2]\n",
      "Current elem 1\n",
      "Current elem 2\n",
      "\n",
      "Current row [3, 4]\n",
      "Current elem 3\n",
      "Current elem 4\n",
      "\n",
      "Current row [5, 6]\n",
      "Current elem 5\n",
      "Current elem 6\n",
      "\n"
     ]
    }
   ],
   "source": [
    "matrix = [\n",
    "    [1, 2], \n",
    "    [3, 4], \n",
    "    [5, 6]\n",
    "]\n",
    "#создаём цикл по элементам списка matrix\n",
    "for row in matrix: #row — текущее значение из списка matrix\n",
    "    print('Current row', row) #выводим содержимое на экран\n",
    "    #создаём цикл по элементам списка row\n",
    "    for elem in row: #elem — текущее значение из списка row\n",
    "        print('Current elem', elem)\n",
    "    print() #отделяем вывод на экран пустой строкой\n",
    " "
   ]
  },
  {
   "cell_type": "markdown",
   "id": "69ffdc47",
   "metadata": {},
   "source": [
    "# ЦИКЛЫ ПО ИНДЕКСАМ СТРОК И СТОЛБЦОВ"
   ]
  },
  {
   "cell_type": "code",
   "execution_count": 49,
   "id": "b5a4deda",
   "metadata": {
    "scrolled": true
   },
   "outputs": [
    {
     "name": "stdout",
     "output_type": "stream",
     "text": [
      "Current i 0\n",
      "Current row [1, 2]\n",
      "Current i 1\n",
      "Current row [3, 4]\n",
      "Current i 2\n",
      "Current row [5, 6]\n"
     ]
    }
   ],
   "source": [
    "matrix = [\n",
    "    [1, 2], \n",
    "    [3, 4], \n",
    "    [5, 6]\n",
    "]\n",
    "N = len(matrix) #вычисляем длину внешнего списка\n",
    "#создаём цикл по последовательности чисел от 0 до N (не включая N)\n",
    "for i in range(N): #i — текущий элемент последовательности (индекс строки)\n",
    "    print('Current i', i) #выводим текущее значение i\n",
    "    print('Current row', matrix[i]) #выводим i-е значение внешнего списка"
   ]
  },
  {
   "cell_type": "code",
   "execution_count": 50,
   "id": "bb710a75",
   "metadata": {},
   "outputs": [
    {
     "name": "stdout",
     "output_type": "stream",
     "text": [
      "Current i 0\n",
      "Current row [1, 2]\n",
      "Current j 0\n",
      "Current elem 1\n",
      "Current j 1\n",
      "Current elem 2\n",
      "\n",
      "Current i 1\n",
      "Current row [3, 4]\n",
      "Current j 0\n",
      "Current elem 3\n",
      "Current j 1\n",
      "Current elem 4\n",
      "\n",
      "Current i 2\n",
      "Current row [5, 6]\n",
      "Current j 0\n",
      "Current elem 5\n",
      "Current j 1\n",
      "Current elem 6\n",
      "\n"
     ]
    }
   ],
   "source": [
    "matrix = [\n",
    "    [1, 2], \n",
    "    [3, 4], \n",
    "    [5, 6]\n",
    "]\n",
    "N = len(matrix) #вычисляем длину внешнего списка\n",
    "M = len(matrix[0]) #вычисляем длину вложенного списка\n",
    "#создаём цикл по последовательности чисел от 0 до N (не включая N)\n",
    "for i in range(N): #i — текущий элемент последовательности (индекс строки)\n",
    "    print('Current i', i) #выводим текущее значение i\n",
    "    print('Current row', matrix[i]) #выводим i-е значение внешнего списка\n",
    "    #создаём цикл по последовательности чисел от 0 до M (не включая M)\n",
    "    for j in range(M):#j — текущий элемент последовательности (индекс столбца)\n",
    "        print('Current j', j) #выводим текущее значение j\n",
    "        print('Current elem', matrix[i][j]) #выводим элемент под индексами i и j\n",
    "    print() #отделяем вывод на экран пустой строкой"
   ]
  },
  {
   "cell_type": "code",
   "execution_count": 43,
   "id": "72816f4d",
   "metadata": {
    "scrolled": true
   },
   "outputs": [
    {
     "name": "stdout",
     "output_type": "stream",
     "text": [
      "Будильник звенит 9:0\n",
      "Будильник звенит 9:15\n",
      "Будильник звенит 9:30\n",
      "Будильник звенит 9:45\n",
      "\n",
      "Будильник звенит 11:0\n",
      "Будильник звенит 11:15\n",
      "Будильник звенит 11:30\n",
      "Будильник звенит 11:45\n",
      "\n",
      "Будильник звенит 13:0\n",
      "Будильник звенит 13:15\n",
      "Будильник звенит 13:30\n",
      "Будильник звенит 13:45\n",
      "\n",
      "Будильник звенит 15:0\n",
      "Будильник звенит 15:15\n",
      "Будильник звенит 15:30\n",
      "Будильник звенит 15:45\n",
      "\n",
      "Будильник звенит 17:0\n",
      "Будильник звенит 17:15\n",
      "Будильник звенит 17:30\n",
      "Будильник звенит 17:45\n",
      "\n",
      "Будильник звенит 19:0\n",
      "Будильник звенит 19:15\n",
      "Будильник звенит 19:30\n",
      "Будильник звенит 19:45\n",
      "\n",
      "Будильник звенит 21:0\n",
      "Будильник звенит 21:15\n",
      "Будильник звенит 21:30\n",
      "Будильник звенит 21:45\n",
      "\n",
      "Будильник звенит 23:0\n",
      "Будильник звенит 23:15\n",
      "Будильник звенит 23:30\n",
      "Будильник звенит 23:45\n",
      "\n"
     ]
    }
   ],
   "source": [
    "#Пусть пользователь задаёт будильники на каждые два часа, начиная с 9 часов утра. Причём будильники должны звонить четырежды \n",
    "#в указанный час (интервал 15 минут), например в 11:00, 11:15, 11:30 и 11:45.\n",
    "\n",
    "#Напишите вложенный цикл, который будет выводить на экран время, в которое прозвенят будильники.\n",
    "hours=list(range(9,24,2))\n",
    "minuts=list(range(0,60,15))\n",
    "for hour in hours:\n",
    "    for minut in minuts:\n",
    "        print(\"Будильник звенит {}:{}\".format(hour, minut))\n",
    "    print(\"\")"
   ]
  },
  {
   "cell_type": "code",
   "execution_count": 45,
   "id": "f262c813",
   "metadata": {},
   "outputs": [
    {
     "name": "stdout",
     "output_type": "stream",
     "text": [
      "Count symbol 'e': 5\n"
     ]
    }
   ],
   "source": [
    "#Данную задачу можно было бы решить без использования вложенного цикла по символам в строке. Для строк существует специальный\n",
    "# метод count(), который считает количество символов в строке:\n",
    "\n",
    "str_list = ['text', 'morning', 'notepad', 'television', 'ornament'] #заданный список строк\n",
    "count = 0 #задаём начальное количество символов 'e'\n",
    "#создаём цикл по элементам списка str_list\n",
    "for text in str_list:\n",
    "    #увеличиваем количество символов 'e' \n",
    "    count += text.count('e') #.count() считает, сколько раз символ встречается в строке text\n",
    "print(\"Count symbol 'e':\", count) #выводим результат\n",
    " \n"
   ]
  },
  {
   "cell_type": "markdown",
   "id": "39baff9e",
   "metadata": {},
   "source": [
    "# count += text.count('e') #.count() считает, сколько раз символ встречается в строке text"
   ]
  },
  {
   "cell_type": "code",
   "execution_count": 46,
   "id": "5b402d9e",
   "metadata": {},
   "outputs": [
    {
     "name": "stdout",
     "output_type": "stream",
     "text": [
      "10\n"
     ]
    }
   ],
   "source": [
    "# Дан список строк text_list. Посчитайте, сколько раз во всех строках списка встречается буква 'a'.\n",
    "\n",
    "text_list = [\n",
    "    'afbaad',\n",
    "    'faaf',\n",
    "    'afaga',\n",
    "    'agag'\n",
    "]\n",
    "count=0\n",
    "for i in text_list:\n",
    "    for simbol in i:\n",
    "        if simbol==\"a\":\n",
    "            count+=1\n",
    "print(count)"
   ]
  },
  {
   "cell_type": "code",
   "execution_count": 47,
   "id": "f1e9cbfa",
   "metadata": {},
   "outputs": [
    {
     "name": "stdout",
     "output_type": "stream",
     "text": [
      "10\n"
     ]
    }
   ],
   "source": [
    "text_list = [\n",
    "    'afbaad',\n",
    "    'faaf',\n",
    "    'afaga',\n",
    "    'agag'\n",
    "]\n",
    "count=0\n",
    "for i in text_list:\n",
    "    count+=i.count(\"a\")\n",
    "print(count)"
   ]
  },
  {
   "cell_type": "code",
   "execution_count": 51,
   "id": "c10fd98e",
   "metadata": {},
   "outputs": [
    {
     "name": "stdout",
     "output_type": "stream",
     "text": [
      "Minimal elements: [1, 2, 4]\n"
     ]
    }
   ],
   "source": [
    "random_matrix = [\n",
    "    [9, 2, 1],\n",
    "    [2, 5, 3],\n",
    "    [4, 8, 5]\n",
    "] #заданная матрица\n",
    "min_value_rows = [] #задаём пустой список с минимальными значениями строк\n",
    "#создаём цикл по строкам матрицы random_matrix \n",
    "for row in random_matrix: #row — текущая строка таблицы\n",
    "    min_value = row[0] #начальное значение кандидата на минимум\n",
    "    #создаём цикл по элементам списка row\n",
    "    for elem in row: #elem — текущий элемент из списка row\n",
    "        #проверяем условие, что текущий элемент меньше кандидата на минимум\n",
    "        if elem < min_value: #если условие выполняется,\n",
    "            min_value = elem #заменяем кандидата на минимум\n",
    "    min_value_rows.append(min_value) #добавляем полученный минимум строки в список\n",
    "print(\"Minimal elements:\", min_value_rows) #выводим минимальные элементы"
   ]
  },
  {
   "cell_type": "code",
   "execution_count": 59,
   "id": "97b72151",
   "metadata": {},
   "outputs": [
    {
     "name": "stdout",
     "output_type": "stream",
     "text": [
      "[9, 5, 8]\n"
     ]
    }
   ],
   "source": [
    "# Найти максимумы в каждом списке\n",
    "\n",
    "random_matrix = [\n",
    "    [9, 2, 1],\n",
    "    [2, 5, 3],\n",
    "    [4, 8, 5]\n",
    "]\n",
    "max_value_row=[]\n",
    "for i in random_matrix:\n",
    "    max_value=i[0]\n",
    "    for j in i:\n",
    "        if j>max_value:\n",
    "            max_value=j\n",
    "    max_value_row.append(max_value)\n",
    "print(max_value_row)"
   ]
  },
  {
   "cell_type": "code",
   "execution_count": 60,
   "id": "e029ee8c",
   "metadata": {},
   "outputs": [
    {
     "name": "stdout",
     "output_type": "stream",
     "text": [
      "Average math score 76.6\n",
      "Average info score 64.8\n",
      "Average rus score 82.2\n",
      "Average score 74.53333333333333\n"
     ]
    }
   ],
   "source": [
    "# Необходимо найти средний балл студентов по каждому из экзаменов и общий средний балл по всем экзаменам.\n",
    "student_scores = [\n",
    "    [56, 90, 80],\n",
    "    [80, 86, 92],\n",
    "    [91, 76, 89],\n",
    "    [91, 42, 60],\n",
    "    [65, 30, 90]\n",
    "] #заданная таблица со студентами\n",
    "N = len(student_scores) #задаём число студентов\n",
    "M = len(student_scores[0]) #задаём число экзаменов\n",
    "summa = 0 #задаём начальное значение общего балла\n",
    "math_sum = 0 #задаём начальное значение общего балла по математике\n",
    "info_sum = 0 #задаём начальное значение общего балла по информатике\n",
    "rus_sum = 0 #задаём начальное значение общего балла по русскому языку\n",
    "#создаём цикл по последовательности от 0 до N (не включая N)\n",
    "for i in range(N): #i — индекс строки\n",
    "    math_sum += student_scores[i][0] #добавляем баллы по математике i-го студента\n",
    "    info_sum += student_scores[i][1] #добавляем баллы по информатике i-го студента\n",
    "    rus_sum += student_scores[i][2] #добавляем баллы по русскому i-го студента\n",
    "    #создаём цикл по последовательности от 0 до M (не включая M)\n",
    "    for j in range(M): #j — индекс столбца\n",
    "        summa += student_scores[i][j] #добавляем баллы i-го студента по j-му экзамену\n",
    "print('Average math score', math_sum/N) #выводим средний балл по математике\n",
    "print('Average info score', info_sum/N) #выводим средний балл по информатике\n",
    "print('Average rus score', rus_sum/N) #выводим средний балл по русскому языку\n",
    "print('Average score', summa/(N*M)) #выводим общий средний балл"
   ]
  },
  {
   "cell_type": "code",
   "execution_count": 12,
   "id": "56562ba4",
   "metadata": {},
   "outputs": [
    {
     "name": "stdout",
     "output_type": "stream",
     "text": [
      "True\n"
     ]
    }
   ],
   "source": [
    "#Напишите код, который определяет, является ли матрица квадратной (то есть количество строк равно количеству столбцов).\n",
    "#В конце программа должна выводить на экран значение True или False\n",
    "test_matrix1 = [\n",
    "    [1, 2, 3],\n",
    "    [7, -1,  1],\n",
    "    [123, 2, -1]\n",
    "]\n",
    "count=0\n",
    "for i in test_matrix1:\n",
    "    if len(test_matrix1)==len(i):\n",
    "        count+=1\n",
    "if count==len(test_matrix1): \n",
    "    print(True)\n",
    "else:\n",
    "    print(False)"
   ]
  },
  {
   "cell_type": "markdown",
   "id": "30852450",
   "metadata": {},
   "source": [
    "# enumerate()"
   ]
  },
  {
   "cell_type": "code",
   "execution_count": null,
   "id": "b0150f58",
   "metadata": {},
   "outputs": [],
   "source": [
    "user_dynamics = [-5, 2, 4, 8, 12, -7, 5] #заданный список динамики пользователей\n",
    "#создаём цикл по индексам и элементам списка \n",
    "for i, dynamic in enumerate(user_dynamics): # i — индекс текущего элемента, dynamic — текущее значение из списка\n",
    "    print(\"Day {} : {}\".format(i+1, dynamic)) #выводим номер дня и динамику на этот день\n",
    "\n",
    "Day 1 : -5\n",
    "Day 2 : 2\n",
    "Day 3 : 4\n",
    "Day 4 : 8\n",
    "Day 5 : 12\n",
    "Day 6 : -7\n",
    "Day 7 : 5"
   ]
  },
  {
   "cell_type": "code",
   "execution_count": 19,
   "id": "de3c51f5",
   "metadata": {},
   "outputs": [
    {
     "name": "stdout",
     "output_type": "stream",
     "text": [
      "Number day:1 Churn value:-5 \n",
      "Number day:6 Churn value:-7 \n"
     ]
    }
   ],
   "source": [
    "user_dynamics = [-5, 2, 4, 8, 12, -7, 5]\n",
    "for index, i in enumerate(user_dynamics): \n",
    "    if i < 0: \n",
    "        print(\"Number day:{} Churn value:{} \".format(index+1,i)) # выводим количество ушедших в этот день пользователей"
   ]
  },
  {
   "cell_type": "markdown",
   "id": "316b9026",
   "metadata": {},
   "source": [
    "# break"
   ]
  },
  {
   "cell_type": "code",
   "execution_count": 1,
   "id": "f07f6ddc",
   "metadata": {},
   "outputs": [
    {
     "name": "stdout",
     "output_type": "stream",
     "text": [
      "inventory is full!\n",
      "['Blood Moon Sword', 'Sunset-colored sword', 'Bow of Stars']\n"
     ]
    }
   ],
   "source": [
    "to_inventory = ['Blood Moon Sword', 'Sunset-colored sword', 'Bow of Stars', 'Gain Stone']\n",
    "inventory = [] #задаём пустой инвентарь\n",
    "#создаём цикл по элементам списка to_inventory\n",
    "for item in to_inventory: #item — текущий элемент списка\n",
    "    #проверяем условие, что инвентарь уже заполнен\n",
    "    if len(inventory) == 3: #если условие выполняется,\n",
    "        print('inventory is full!') #выводим предупреждение об ошибке\n",
    "        break #завершаем работу цикла\n",
    "    else:#в противном случае\n",
    "        inventory.append(item) #добавляем предмет в инвентарь\n",
    "print(inventory)#выводим результирующий инвентарь"
   ]
  },
  {
   "cell_type": "code",
   "execution_count": 2,
   "id": "32b5c1cb",
   "metadata": {},
   "outputs": [
    {
     "name": "stdout",
     "output_type": "stream",
     "text": [
      "n - is the power of the number 3!\n"
     ]
    }
   ],
   "source": [
    "n = 27 #задаём число\n",
    "#создаём бесконечный цикл\n",
    "while True:\n",
    "    #проверяем условие, что остаток от деления на 3 равен 0\n",
    "    if n % 3 == 0: #если условие выполняется,\n",
    "        n = n // 3 #новое число — результат целочисленного деления на 3\n",
    "        if n == 1: #если в результате деления получили 1,\n",
    "            print('n - is the power of the number 3!')#выводим утвердительное сообщение\n",
    "            break #выходим из цикла\n",
    "    else: #в противном случае\n",
    "        print('n - is not the power of the number 3!') #выводим сообщение-опровержение\n",
    "        break #выходим из цикла\n",
    "#Будет выведено\n",
    "#n - is the power of the number 3!"
   ]
  },
  {
   "cell_type": "code",
   "execution_count": 5,
   "id": "0efac49c",
   "metadata": {},
   "outputs": [
    {
     "name": "stdout",
     "output_type": "stream",
     "text": [
      "Syracuse hypothesis holds\n"
     ]
    }
   ],
   "source": [
    "# Допишите программу, которая проверяет гипотезу Сиракуз. Гипотеза Сиракуз заключается в том, что любое натуральное \n",
    "# число можно свести к 1, если повторять над ним следующие действия:\n",
    "\n",
    "# если число чётное, разделить его пополам, т. е. n = n // 2;\n",
    "# если нечётное — умножить на 3, прибавить 1 и результат разделить на 2, т. е. n = (n * 3 + 1) // 2.\n",
    "n = 190 #задаём число\n",
    "#создаём бесконечный цикл\n",
    "while True:\n",
    "    if n == 1: #если результат равен 1,\n",
    "        print('Syracuse hypothesis holds') #выводим утвердительное сообщение\n",
    "        break\n",
    "    elif n%2==0:\n",
    "        n = n / 2\n",
    "    else:\n",
    "        n = (n * 3 + 1) / 2"
   ]
  },
  {
   "cell_type": "markdown",
   "id": "bfa9e384",
   "metadata": {},
   "source": [
    "# CONTINUE"
   ]
  },
  {
   "cell_type": "code",
   "execution_count": 6,
   "id": "be8af97d",
   "metadata": {},
   "outputs": [
    {
     "name": "stdout",
     "output_type": "stream",
     "text": [
      "Send present user 103303\n",
      "Send present user 100423\n"
     ]
    }
   ],
   "source": [
    "client_status = {\n",
    "    103303: 'yes', \n",
    "    103044: 'no',\n",
    "    100423: 'yes',\n",
    "    103032: 'no',\n",
    "    103902: 'no'\n",
    "}\n",
    "#создаём цикл по ключам словаря client_status\n",
    "for user_id in client_status: #user_id — текущий ключ словаря\n",
    "    #если текущий статус == 'no',\n",
    "    if client_status[user_id] == 'no':\n",
    "        continue #переходим на следующую итерацию\n",
    "    else:\n",
    "        print('Send present user', user_id) #выводим сообщение об отправке"
   ]
  },
  {
   "cell_type": "code",
   "execution_count": 15,
   "id": "71ca5547",
   "metadata": {},
   "outputs": [
    {
     "name": "stdout",
     "output_type": "stream",
     "text": [
      "4\n"
     ]
    }
   ],
   "source": [
    "# Дан словарь my_dict. Его значения могут быть как строками (тип str), так и числами (типы int и float).\n",
    "# Посчитайте, сколько значений в словаре my_dict являются числами. Используйте в своём коде оператор continue.\n",
    "\n",
    "my_dict = {'a': 15, 'b': 10.5, 'c': '15', 'd': 50, 'e': 15, 'f': '15'}\n",
    "new_dict=[]\n",
    "# Для того чтобы проверить тип, используйте метод type() и сравните тип данных со str.\n",
    "for i in my_dict:\n",
    "    if type(my_dict[i])==str:\n",
    "        continue\n",
    "    new_dict.append(my_dict[i])\n",
    "print(len(new_dict))"
   ]
  },
  {
   "cell_type": "code",
   "execution_count": null,
   "id": "9adb7354",
   "metadata": {},
   "outputs": [],
   "source": []
  },
  {
   "cell_type": "code",
   "execution_count": 9,
   "id": "96dbd408",
   "metadata": {},
   "outputs": [
    {
     "name": "stdout",
     "output_type": "stream",
     "text": [
      "a\n",
      "b\n",
      "d\n",
      "e\n"
     ]
    }
   ],
   "source": [
    "lst=['a', 'b', 'c', 'd', 'e']\n",
    "\n",
    "for elem in lst:\n",
    "    if elem == 'c':\n",
    "        continue\n",
    "    print(elem, end=' ')"
   ]
  },
  {
   "cell_type": "markdown",
   "id": "8948cf90",
   "metadata": {},
   "source": [
    "#   print(elem, end=' ')"
   ]
  },
  {
   "cell_type": "markdown",
   "id": "d904a2bf",
   "metadata": {},
   "source": [
    "# Заглушка pass"
   ]
  },
  {
   "cell_type": "code",
   "execution_count": null,
   "id": "b01d7a87",
   "metadata": {},
   "outputs": [],
   "source": [
    "Помимо ключевых слов break и continue, существует ключевое слово pass. Заглушка pass означает «ничего не делать».\n",
    "Обычно мы используем её, потому что Python не позволяет создавать класс, функцию, цикл или оператор if без кода внутри.\n",
    "\n",
    "В приведённом ниже примере «вылетит» ошибка, если внутри i > 3 не будет кода, поэтому мы используем pass:\n",
    "\n",
    "a = [1,2,3,4,5]\n",
    "for i in a:\n",
    "    if i > 3:\n",
    "        pass\n",
    "    print(i)"
   ]
  },
  {
   "cell_type": "code",
   "execution_count": 16,
   "id": "5cdb4143",
   "metadata": {},
   "outputs": [
    {
     "name": "stdout",
     "output_type": "stream",
     "text": [
      "{'t': 88, 'h': 63, 'e': 112, 'r': 39, 'a': 70, 'b': 15, 'i': 47, '-': 2, 'o': 80, 'l': 55, 'w': 31, 'n': 57, 's': 60, 'g': 17, 'k': 14, 'u': 22, 'f': 28, 'm': 17, 'y': 18, ',': 13, 'd': 43, 'p': 23, 'c': 9, 'v': 8, '.': 5, 'x': 1, ';': 3, 'j': 2, '`': 3, \"'\": 5, ':': 1, '!': 4, '(': 1, ')': 1}\n"
     ]
    }
   ],
   "source": [
    "text = \"\"\"\n",
    "The rabbit-hole went straight on like a tunnel for some way, and then dipped suddenly down, so suddenly that Alice had not a moment to think about stopping herself before she found herself falling down a very deep well.\n",
    " \n",
    "Either the well was very deep, or she fell very slowly, for she had plenty of time as she went down to look about her and to wonder what was going to happen next. First, she tried to look down and make out what she was coming to, but it was too dark to see anything; then she looked at the sides of the well, and noticed that they were filled with cupboards and book-shelves; here and there she saw maps and pictures hung upon pegs. She took down a jar from one of the shelves as she passed; it was labelled `ORANGE MARMALADE', but to her great disappointment it was empty: she did not like to drop the jar for fear of killing somebody, so managed to put it into one of the cupboards as she fell past it.\n",
    " \n",
    "`Well!' thought Alice to herself, `after such a fall as this, I shall think nothing of tumbling down stairs! How brave they'll all think me at home! Why, I wouldn't say anything about it, even if I fell off the top of the house!' (Which was very likely true.)\n",
    "\"\"\"\n",
    "text = text.lower() #приводим текст к нижнему регистру\n",
    "text = text.replace(\" \", \"\") #заменяем пробелы на пустые строки\n",
    "text = text.replace(\"\\n\", \"\") #заменяем символы переноса строки на пустые строки\n",
    "count_dict = {} #создаём пустой словарь для подсчёта количества символов\n",
    "#создаём цикл по символам в строке text\n",
    "for symbol in text: #symbol — текущий символ в тексте\n",
    "    #проверяем условие, что символа ещё нет среди ключей словаря\n",
    "    if symbol not in count_dict: #если условие выполняется,\n",
    "        count_dict[symbol] = 1 #заносим символ в словарь со значением 1\n",
    "    else: #в противном случае\n",
    "        count_dict[symbol] += 1 #увеличиваем частоту символа\n",
    "print(count_dict) #выводим результирующий словарь"
   ]
  },
  {
   "cell_type": "code",
   "execution_count": 18,
   "id": "918b29dc",
   "metadata": {},
   "outputs": [
    {
     "name": "stdout",
     "output_type": "stream",
     "text": [
      "{'s': 33, 'h': 18, 'e': 29, 'l': 18, 'a': 12, 'o': 6, 'n': 2, 't': 8, 'r': 7, ';': 1, 'i': 3, 'm': 2, 'u': 2, '.': 2, 'f': 1, ',': 1}\n"
     ]
    }
   ],
   "source": [
    "text = \"\"\"\n",
    "She sells sea shells on the sea shore;\n",
    "The shells that she sells are sea shells I am sure.\n",
    "So if she sells sea shells on the sea shore,\n",
    "I am sure that the shells are sea shore shells.\n",
    "\"\"\"\n",
    "text=text.lower()\n",
    "text=text.replace(\" \",\"\")\n",
    "text=text.replace(\"\\n\",\"\")\n",
    "dict1={}\n",
    "for i in text:\n",
    "    if i not in dict1:\n",
    "        dict1[i]=1\n",
    "    else:\n",
    "        dict1[i]+=1\n",
    "print(dict1)"
   ]
  },
  {
   "cell_type": "code",
   "execution_count": 19,
   "id": "672b74c7",
   "metadata": {},
   "outputs": [
    {
     "name": "stdout",
     "output_type": "stream",
     "text": [
      "{'she': 3, 'sells': 3, 'sea': 6, 'shells': 6, 'on': 2, 'the': 4, 'shore': 3, 'that': 2, 'are': 2, 'i': 2, 'am': 2, 'sure': 2, 'so': 1, 'if': 1}\n"
     ]
    }
   ],
   "source": [
    "text = \"\"\"\n",
    "She sells sea shells on the sea shore;\n",
    "The shells that she sells are sea shells I am sure.\n",
    "So if she sells sea shells on the sea shore,\n",
    "I am sure that the shells are sea shore shells.\n",
    "\"\"\"\n",
    "text = text.lower() #приводим текст к нижнему регистру\n",
    "text = text.replace(\"\\n\", \" \") #заменяем символы переноса строки на пробелы\n",
    "text = text.replace(\",\", \"\") #заменяем запятые на пустые строки\n",
    "text = text.replace(\".\", \"\") #заменяем точки на пустые строки\n",
    "text = text.replace(\";\", \"\") #заменяем точки с запятыми на пустые строки\n",
    "word_list = text.split()\n",
    "count_dict = {} #создаём пустой словарь для подсчёта количества слов\n",
    "#создаём цикл по словам в списке word_list\n",
    "for word in word_list: #word — текущее слово из списка word_list\n",
    "    #проверяем условие, что слова ещё нет среди ключей словаря\n",
    "    if word not in count_dict: #если условие выполняется,\n",
    "        count_dict[word] = 1 #заносим слово в словарь со значением 1\n",
    "    else: #в противном случае\n",
    "        count_dict[word] += 1 #увеличиваем частоту слова\n",
    "print(count_dict) #выводим результирующий словарь"
   ]
  },
  {
   "cell_type": "code",
   "execution_count": null,
   "id": "e70ac96d",
   "metadata": {},
   "outputs": [],
   "source": []
  },
  {
   "cell_type": "code",
   "execution_count": 39,
   "id": "4266f035",
   "metadata": {},
   "outputs": [],
   "source": [
    "#Задайте список my_list, содержащий целые числа, с помощью модуля random, как и в предыдущей задаче.\n",
    "\n",
    "#Используя инструкцию while, разработайте программу, которая вычисляет сумму элементов списка, пока она не превысит число 10.\n",
    "\n",
    "#В результате работы программы выведите значение полученной суммы (обратите внимание: так как числа в списке my_list \n",
    "#являются случайными, то значение суммы при каждом запуске программы может быть разным).\n",
    "import random\n",
    "my_list = []\n",
    "for i in range(0, 10):\n",
    "    my_list.append(random.randint(0, 10))\n",
    " \n"
   ]
  },
  {
   "cell_type": "code",
   "execution_count": null,
   "id": "aa67a94d",
   "metadata": {},
   "outputs": [],
   "source": []
  },
  {
   "cell_type": "code",
   "execution_count": 43,
   "id": "af5f3795",
   "metadata": {},
   "outputs": [
    {
     "data": {
      "text/plain": [
       "[2, 7, 2, 3, 6, 2, 9, 3, 5, 0]"
      ]
     },
     "execution_count": 43,
     "metadata": {},
     "output_type": "execute_result"
    }
   ],
   "source": [
    "my_list"
   ]
  },
  {
   "cell_type": "code",
   "execution_count": null,
   "id": "dc435279",
   "metadata": {},
   "outputs": [],
   "source": [
    "S = 0 #создаём накопительную переменную суммы\n",
    "i = 0 #создаём переменную, которая будет хранить индекс текущего элемента списка\n",
    "#создаём цикл, условие выхода из которого — сумма >= 10\n",
    "while S < 10:\n",
    "S += my_list[i] #добавляем к сумме текущий элемент списка\n",
    "i += 1 #увеличиваем индекс элемента\n",
    "print('Result', S)"
   ]
  },
  {
   "cell_type": "code",
   "execution_count": 46,
   "id": "3630f757",
   "metadata": {},
   "outputs": [
    {
     "name": "stdout",
     "output_type": "stream",
     "text": [
      "7\n"
     ]
    }
   ],
   "source": [
    "#Вы играете в компьютерную игру, дошли до схватки с финальным боссом, но вот незадача: ваш компьютер «заглючил», \n",
    "#и вы не можете управлять вашим персонажем. Босс атакует и каждую секунду наносит один удар, который отнимает у \n",
    "#персонажа 80 единиц здоровья. На схватку с боссом ваш персонаж вышел с 500 единицами здоровья.\n",
    "\n",
    "#Создайте цикл, позволяющий понять, через сколько секунд босс убьёт вашего персонажа.\n",
    "\n",
    "#Для решения задачи задайте переменную current_health для сохранения текущего уровня здоровья и изменяйте её по ходу цикла,\n",
    "#переменную attack = 80 для хранения значения атаки Босса, а также переменную seconds_num для хранения времени схватки\n",
    "#(в секундах).\n",
    "\n",
    "#В результате работы вашей программы в переменной seconds_num должно быть сохранено количество секунд, в течение которых\n",
    "#будет длиться схватка.\n",
    "current_health=500\n",
    "attack = 80\n",
    "seconds_num=0\n",
    "while current_health>0:\n",
    "    current_health=current_health-attack\n",
    "    seconds_num+=1\n",
    "print(seconds_num)"
   ]
  },
  {
   "cell_type": "code",
   "execution_count": 66,
   "id": "266e0ec6",
   "metadata": {},
   "outputs": [
    {
     "name": "stdout",
     "output_type": "stream",
     "text": [
      "[[0, 'Hel'], [1, 'my'], [2, 'nam'], [3, 'is'], [4, 'Eze'], [5, 'I'], [6, 'lik'], [7, 'kni']]\n"
     ]
    }
   ],
   "source": [
    "#ан следующий список, состоящий из строк:\n",
    "\n",
    "str_list = ['Hello', 'my', 'name', 'is', 'Ezeikel', 'I', 'like', 'knitting'] \n",
    "\n",
    "#Создайте новый список cut_str_list = [].\n",
    "\n",
    "#В цикле добавляйте в список cut_str_list списки, состоящие из порядкового номера строки из списка str_list \n",
    "#(номер в рамках данной задачи начинается от 0) и трёх первых символов из каждой строки. Если длина строки меньше трёх\n",
    "#символов, то добавляется вся строка целиком.\n",
    "\n",
    "#Пример нового списка: lst = ['Backend', 'Mi']: [[0, 'Bac'], [1, 'Mi']].\n",
    "\n",
    "#В результате работы вашей программы в переменной cut_str_list должен храниться результирующий вложенный список.\n",
    "str_list = ['Hello', 'my', 'name', 'is', 'Ezeikel', 'I', 'like', 'knitting'] \n",
    "M=len(str_list)\n",
    "cut_str_list = []\n",
    "for i,j in enumerate(str_list):\n",
    "    if len(j)<3:\n",
    "        cut_str_list.append([i,j])\n",
    "    else:\n",
    "        cut_str_list.append([i,j[0:3]])\n",
    "print(cut_str_list)"
   ]
  },
  {
   "cell_type": "code",
   "execution_count": 69,
   "id": "a3e68476",
   "metadata": {},
   "outputs": [],
   "source": [
    "\n",
    "\n",
    "#Дано предложение:\n",
    "\n",
    "sentence = 'A roboT MAY Not injure a humAn BEING or, tHROugh INACtion, allow a human BEING to come to harm'\n",
    "\n",
    "#Выполните следующие действия:\n",
    "\n",
    "# Приведите все символы в предложении к нижнему регистру.\n",
    "# Исключите знаки препинания (запятые).\n",
    "# Разделите строку по пробелам и создайте список слов, которые входят в предложение.\n",
    "# Подсчитайте количество повторений каждого слова. \n",
    "# Для подсчёта символов используйте словарь word_dict. Ключами словаря будут являться слова, а значениями — число вхождений \n",
    "# этих слов в предложение.\n",
    "\n",
    "#В результате работы вашей программы в переменной word_dict должен храниться результирующий словарь.\n",
    "\n",
    "sentence=sentence.lower()\n",
    "sentence=sentence.replace(\",\",\"\")\n",
    "sentence=sentence.split()"
   ]
  },
  {
   "cell_type": "code",
   "execution_count": 73,
   "id": "318f0d8f",
   "metadata": {},
   "outputs": [
    {
     "name": "stdout",
     "output_type": "stream",
     "text": [
      "{'a': 3, 'robot': 1, 'may': 1, 'not': 1, 'injure': 1, 'human': 2, 'being': 2, 'or': 1, 'through': 1, 'inaction': 1, 'allow': 1, 'to': 2, 'come': 1, 'harm': 1}\n"
     ]
    }
   ],
   "source": [
    "new_dict={}\n",
    "for i in sentence:\n",
    "    if i not in new_dict:\n",
    "        new_dict[i]=1\n",
    "    else:\n",
    "        new_dict[i]+=1\n",
    "print(new_dict)"
   ]
  },
  {
   "cell_type": "code",
   "execution_count": null,
   "id": "c63dd95a",
   "metadata": {},
   "outputs": [],
   "source": [
    "Дан список из строк:\n",
    "\n",
    "str_list = ['text', 'morning', 'notepad', 'television', 'ornament']\n",
    "\n",
    "Подсчитайте количество вхождений символа 't' в каждую из строк этого списка.\n",
    "\n",
    "Для подсчёта используйте словарь word_dict: в качестве ключа запишите в него строку, в качестве значения — \n",
    "    число вхождений буквы 't' в эту строку.\n",
    "\n",
    "Пример работы программы для списка lst = ['letter', 'hello']:\n",
    "\n",
    " {'letter': 2, 'hello': 0}.\n",
    "\n",
    "В результате работы вашей программы в переменной word_dict должен храниться результирующий словарь.\n",
    "\n",
    "Для тренировки используйте вложенные циклы: внешний цикл по элементам списка, внутренний цикл по символам в текущей строке."
   ]
  },
  {
   "cell_type": "code",
   "execution_count": 75,
   "id": "8097d7b6",
   "metadata": {},
   "outputs": [
    {
     "name": "stdout",
     "output_type": "stream",
     "text": [
      "{'text': 2}\n",
      "{'text': 2, 'morning': 0}\n",
      "{'text': 2, 'morning': 0, 'notepad': 1}\n",
      "{'text': 2, 'morning': 0, 'notepad': 1, 'television': 1}\n",
      "{'text': 2, 'morning': 0, 'notepad': 1, 'television': 1, 'ornament': 1}\n"
     ]
    }
   ],
   "source": [
    "str_list = ['text', 'morning', 'notepad', 'television', 'ornament']\n",
    "word_dict={}\n",
    "for i in str_list:\n",
    "    word_dict[i]=i.count(\"t\")\n",
    "    print(word_dict)"
   ]
  },
  {
   "cell_type": "code",
   "execution_count": null,
   "id": "aa0ec90e",
   "metadata": {},
   "outputs": [],
   "source": []
  },
  {
   "cell_type": "markdown",
   "id": "009f563e",
   "metadata": {},
   "source": [
    "# Фунции"
   ]
  },
  {
   "cell_type": "code",
   "execution_count": 76,
   "id": "73c8da4c",
   "metadata": {},
   "outputs": [
    {
     "name": "stdout",
     "output_type": "stream",
     "text": [
      "Hello world!\n",
      "Hello world!\n"
     ]
    }
   ],
   "source": [
    "def first_function():\n",
    "    print(\"Hello world!\")\n",
    "first_function()\n",
    "first_function()"
   ]
  },
  {
   "cell_type": "code",
   "execution_count": 77,
   "id": "2363362c",
   "metadata": {},
   "outputs": [
    {
     "data": {
      "text/plain": [
       "20"
      ]
     },
     "execution_count": 77,
     "metadata": {},
     "output_type": "execute_result"
    }
   ],
   "source": [
    "120%100"
   ]
  },
  {
   "cell_type": "code",
   "execution_count": 78,
   "id": "d5877b9d",
   "metadata": {},
   "outputs": [
    {
     "data": {
      "text/plain": [
       "12"
      ]
     },
     "execution_count": 78,
     "metadata": {},
     "output_type": "execute_result"
    }
   ],
   "source": [
    "72%60"
   ]
  },
  {
   "cell_type": "code",
   "execution_count": null,
   "id": "a1299162",
   "metadata": {},
   "outputs": [],
   "source": [
    "def get_time_tuple(distance, speed):\n",
    "    # Получаем целое число часов в пути\n",
    "    hours = distance // speed\n",
    "    # Получаем остаток км в пути\n",
    "    distance_left = distance % speed\n",
    "    # Переводим скорость из км/ч в км/мин:\n",
    "    # за одну минуту можно проехать расстояние\n",
    "    # в 60 раз меньше, чем за 1 час\n",
    "    kms_per_minute = speed / 60\n",
    "    # Делим оставшееся расстояние на скорость в км/мин.\n",
    "    # и округляем до целого\n",
    "    minutes = round(distance_left / kms_per_minute)\n",
    "    \n",
    "    # Перечисляем аргументы через запятую.\n",
    "    # Они будут возвращены функцией в виде кортежа.\n",
    "    return hours, minutes"
   ]
  },
  {
   "cell_type": "code",
   "execution_count": 82,
   "id": "39ad2042",
   "metadata": {},
   "outputs": [],
   "source": [
    "def h(dis,speed):\n",
    "    minut=dis/speed*60\n",
    "    hour=minut//60\n",
    "    ost_min=minut%60\n",
    "    return (int(hour), int(ost_min))"
   ]
  },
  {
   "cell_type": "code",
   "execution_count": 83,
   "id": "152ffc7f",
   "metadata": {},
   "outputs": [
    {
     "data": {
      "text/plain": [
       "(2, 4)"
      ]
     },
     "execution_count": 83,
     "metadata": {},
     "output_type": "execute_result"
    }
   ],
   "source": [
    "h(300,145)"
   ]
  },
  {
   "cell_type": "code",
   "execution_count": 84,
   "id": "32d806cb",
   "metadata": {},
   "outputs": [],
   "source": [
    "# list_in — список, в котором будем искать объект\n",
    "# Интуитивно хотелось бы назвать аргумент для списка\n",
    "# словом list, однако это привело бы к изменению встроенного\n",
    "# объекта list, что очень нежелательно\n",
    "# obj — аргумент, содержащий объект, который ищет функция\n",
    "def in_list(list_in, obj):\n",
    "    for elem in list_in:\n",
    "        if obj == elem:\n",
    "            print(\"Element is found!\")\n",
    "            return True\n",
    "            print(\"This won’t be printed\")\n",
    "    print(\"Element is NOT found!\")\n",
    "    return False\n",
    "    print(\"This will not be printed either\")"
   ]
  },
  {
   "cell_type": "code",
   "execution_count": 85,
   "id": "c0106b34",
   "metadata": {},
   "outputs": [
    {
     "name": "stdout",
     "output_type": "stream",
     "text": [
      "Element is NOT found!\n",
      "False\n",
      "Element is found!\n",
      "True\n"
     ]
    }
   ],
   "source": [
    "my_list = [1,2,5,7,10]\n",
    "result = in_list(my_list, 3)\n",
    "# Element is NOT found!\n",
    "print(result)\n",
    "# False\n",
    "result = in_list(my_list, 7)\n",
    "# Element is found!\n",
    "print(result)\n",
    "# True"
   ]
  },
  {
   "cell_type": "code",
   "execution_count": 86,
   "id": "7c8b9083",
   "metadata": {},
   "outputs": [
    {
     "name": "stdout",
     "output_type": "stream",
     "text": [
      "Element is NOT found!\n"
     ]
    }
   ],
   "source": [
    "result = in_list(my_list, 3)"
   ]
  },
  {
   "cell_type": "code",
   "execution_count": 91,
   "id": "0281eb39",
   "metadata": {},
   "outputs": [
    {
     "data": {
      "text/plain": [
       "150"
      ]
     },
     "execution_count": 91,
     "metadata": {},
     "output_type": "execute_result"
    }
   ],
   "source": [
    "#Напишите функцию get_total, которая принимает на вход число единиц товара и стоимость каждой единицы. \n",
    "#Функция возвращает одно число — общую стоимость данного числа товаров.\n",
    "\n",
    "def get_total(a,b):\n",
    "    obshee=a*b\n",
    "    return obshee\n",
    "\n",
    "result=get_total(50,3)\n",
    "result"
   ]
  },
  {
   "cell_type": "code",
   "execution_count": null,
   "id": "a6a2b0f7",
   "metadata": {},
   "outputs": [],
   "source": [
    "# Создадим тот же словарь\n",
    "grades = {'Ivanov': 5, 'Smirnov': 3, 'Kuznetsova': 4, 'Tihonova': 5}\n",
    "# Только попробуем (try — пробовать) напечатать оценку студента,\n",
    "# которого нет в словаре\n",
    "try:\n",
    "    print(grades['Pavlov'])\n",
    "# А если возникнет ошибка в ключе (KeyError), скажем,\n",
    "# что студента нет в словаре\n",
    "except KeyError:\n",
    "    print(\"Student’s mark was not found!\")\n",
    "# Будет напечатано:\n",
    "# Student’s mark was not found!"
   ]
  },
  {
   "cell_type": "code",
   "execution_count": 92,
   "id": "018abb7a",
   "metadata": {},
   "outputs": [],
   "source": [
    "def root(value, n=1/2):\n",
    "    return value**n"
   ]
  },
  {
   "cell_type": "code",
   "execution_count": 93,
   "id": "4fd34168",
   "metadata": {},
   "outputs": [
    {
     "name": "stdout",
     "output_type": "stream",
     "text": [
      "9.0\n"
     ]
    }
   ],
   "source": [
    "print(root(81))"
   ]
  },
  {
   "cell_type": "code",
   "execution_count": null,
   "id": "cfa43597",
   "metadata": {},
   "outputs": [],
   "source": [
    ". Проверка аргументов. Аргументы по умолчанию\n",
    " Добавить страницу в мои закладки\n",
    "\n",
    "✍ В предыдущем юните вы научились создавать собственные функции, \n",
    "запускать их, передавать в них аргументы и получать результат их выполнения. \n",
    "\n",
    "Теперь вам предстоит научиться проверять аргументы на корректность и сообщать пользователям вашей функции об ошибке,  \n",
    "а также задавать аргументы по умолчанию.\n",
    "\n",
    "ПРОВЕРКА АРГУМЕНТОВ НА КОРРЕКТНОСТЬ\n",
    "\n",
    "→ Вы уже наверняка сталкивались с различными ошибками, когда выполняли упражнения по Python. Это совершенно нормально — ошибки\n",
    "в коде допускают даже очень продвинутые разработчики. Как хорошо, что интерпретатор сообщает пользователю о том, что допущена\n",
    "ошибка, которую необходимо исправить или учесть обработку появившегося исключения при разработке! Куда хуже было бы, если бы \n",
    "программа продолжала работать, несмотря на необработанные исключения, даже не предупреждая пользователя об этом.\n",
    "\n",
    "Вам также следует научиться сообщать пользователю или даже себе об ошибке во входных данных в функции.\n",
    "\n",
    "Как специалисту по Data Science вам предстоит обрабатывать базы данных с огромным количеством записей, в которых, к сожалению,\n",
    "могут быть неточности. Если вы обработаете некорректные входные данные, а сам интерпретатор не предупредит вас об ошибке, \n",
    "в итоге вы можете сделать неправильные выводы из расчётов. Чтобы избежать таких ситуаций, в языках программирования, в том \n",
    "числе и в Python, присутствуют исключения.\n",
    "\n",
    "В предыдущих модулях вы уже научились обрабатывать исключения с помощью конструкции try … except. Давайте вспомним её.\n",
    "\n",
    "Вначале посмотрим, какая ошибка возникает, если попробовать получить значение из словаря по ключу, которого в нём нет:\n",
    "\n",
    "# Создадим словарь с оценками студентов\n",
    "grades = {'Ivanov': 5, 'Smirnov': 3, 'Kuznetsova': 4, 'Tihonova': 5}\n",
    "# Напечатаем оценку студента, которого нет в словаре\n",
    "print(grades['Pavlov'])\n",
    "# Возникнет исключение KeyError: 'Pavlov'\n",
    "# Оно означает, что переданного ключа (слово \"Pavlov\")\n",
    "# нет в словаре\n",
    "Тренировочный Codeboard юнита 3 (Внешний источник)\n",
    "Открыть Codeboard в новой вкладке \n",
    "\n",
    "Теперь обработаем это исключение, то есть покажем интерпретатору, что:\n",
    "\n",
    "нам известно о том, что такая ошибка может возникнуть;\n",
    "мы предусмотрели, что делать в этом случае;\n",
    "аварийное прекращение работы скрипта не требуется.\n",
    "Код будет выглядеть вот так:\n",
    "\n",
    "# Создадим тот же словарь\n",
    "grades = {'Ivanov': 5, 'Smirnov': 3, 'Kuznetsova': 4, 'Tihonova': 5}\n",
    "# Только попробуем (try — пробовать) напечатать оценку студента,\n",
    "# которого нет в словаре\n",
    "try:\n",
    "    print(grades['Pavlov'])\n",
    "# А если возникнет ошибка в ключе (KeyError), скажем,\n",
    "# что студента нет в словаре\n",
    "except KeyError:\n",
    "    print(\"Student’s mark was not found!\")\n",
    "# Будет напечатано:\n",
    "# Student’s mark was not found!\n",
    "После того как вы повторили обработку исключений, настало время научиться генерировать исключения самостоятельно.\n",
    "Давайте вспомним функцию из предыдущего юнита, которая считала время в пути для заданного расстояния и скорости:\n",
    "\n",
    "def get_time(distance, speed):\n",
    "    result = distance / speed\n",
    "    return result\n",
    "Пока что не имеет значения, какие значения подаются на вход функции: если они являются числами (int или float), а скорость \n",
    "не равна 0 (иначе возникает деление на ноль, и Python выдаёт ошибку ZeroDivisionError), то функция сработает и выдаст\n",
    "результат. Однако, скорее всего, вам понятно, что расстояние, как и скорость, не могут быть отрицательными. Иначе расчёт\n",
    "времени в пути противоречит здравому смыслу: что же означает отрицательное время в пути?\n",
    "\n",
    "Чтобы случайно не передать в функцию get_time некорректные аргументы и не допустить ошибку, добавим их проверку.\n",
    "Если окажется, что аргументы меньше нуля, вызовем ValueError с помощью оператора raise.\n",
    "\n",
    "После встречи с raise, как и в случае с return, интерпретатор прекращает исполнение кода функции.\n",
    "\n",
    "def get_time(distance, speed):\n",
    "    # Если расстояние или скорость отрицательные, то возвращаем ошибку\n",
    "    if distance < 0 or speed < 0:\n",
    "        # Оператор raise возвращает (raise — досл. англ. \"поднимать\")\n",
    "        # объект-исключение. В данном случае ValueError (некорректное значение).\n",
    "        # Дополнительно в скобках после слова ValueError пишем текст сообщения\n",
    "        # об ошибке, чтобы сразу было понятно, чем вызвана ошибка.\n",
    "        raise ValueError(\"Distance or speed cannot be below 0!\")\n",
    "    result = distance / speed\n",
    "    return result\n",
    "Теперь передадим в функцию заведомо некорректные аргументы и посмотрим, какая ошибка появится:\n",
    "\n",
    "get_time(-25, 100)\n",
    "# Будет напечатано:\n",
    "# ValueError: Distance or speed cannot be below 0!\n",
    " \n",
    "get_time(50, -100)\n",
    "# Будет напечатано:\n",
    "# ValueError: Distance or speed cannot be below 0!\n",
    "Как видите, теперь при попытке передать некорректные аргументы вы сразу получаете сообщение об ошибке и понимаете, \n",
    "что входные данные необходимо изменить, чтобы они соответствовали требованиям функции.\n",
    "\n",
    "ЗАДАНИЕ 3.1 (ВЫПОЛНЯЕТСЯ В CODEBOARD НИЖЕ)\n",
    "\n",
    "?\n",
    "\n",
    "Попробуйте добавить в новую функцию get_time из примера выше проверку скорости на равенство нулю. Если скорость равна\n",
    "нулю, верните ValueError с сообщением \"Speed cannot be equal to 0!\".\n",
    "\n",
    "Вы можете проверить своё решение, вызвав функцию get_time:\n",
    "\n",
    "get_time(100, 0)\n",
    "# Вы молодец, если на экране появилось:\n",
    "# ValueError: Speed cannot be equal to 0!\n",
    "При работе с заданием в Codeboard не используйте кириллицу — писать решение надо полностью на английском языке, иначе\n",
    "написанный вами код не запустится!\n",
    "\n",
    "Начните работу традиционно с открытия файла main.py — там вы увидите условие задачи.\n",
    "Впишите требуемый код вместо знаков ??? и нажмите RUN.\n",
    "Нажмите SUBMIT, чтобы отправить ваш ответ на проверку и получить баллы в случае верного решения.\n",
    "Задание 3.1 (Внешний источник)\n",
    "(Максимум баллов: 1.0)\n",
    "\n",
    "→ Отлично, теперь вы научились проверять входные данные на корректность и сообщать пользователю об ошибке!\n",
    "\n",
    "АРГУМЕНТЫ ПО УМОЛЧАНИЮ\n",
    "\n",
    "Представьте, что вы пришли в ресторан быстрого питания с золотой буквой M на логотипе и заказали колу среднего размера.\n",
    "Скорее всего, продавец не спросит вас, добавлять ли в напиток лёд, но при этом в газировке лёд будет.\n",
    "Допустим, вы хотели напиток безо льда, но не сообщили об этом. К сожалению, в этом случае вы по умолчанию получили колу \n",
    "со льдом. А ведь вам всего-то нужно было сказать, что лёд не требуется!\n",
    "Точно так же можно создавать функции, в которые можно передавать не все аргументы, а, например, задать часть аргументов \n",
    "(или даже все) аргументами по умолчанию, то есть сообщить функции, какие данные использовать, если они не были переданы \n",
    "в функцию извне.\n",
    "\n",
    "Очень важный пример использования аргументов по умолчанию — обработка даты.\n",
    "\n",
    "По долгу службы вам предстоит обрабатывать даты, записанные в различных форматах, например, чтобы оценить популярность \n",
    "какого-либо сервиса в зависимости от месяца. Чаще всего, находясь в России или Европе, вы будете сталкиваться с привычным\n",
    "форматом вроде 19.05.2021 (то есть дд.мм.гггг). Однако в США, например, дату записывают по-другому: 05.19.2021 \n",
    "    (то есть мм.дд.гггг). Когда вы будете писать функцию, чтобы узнать номер месяца из даты, будет удобно по умолчанию \n",
    "    использовать привычный формат, но при этом оставить возможность при необходимости передать в функцию необычный формат даты.\n",
    "\n",
    "Аргументы по умолчанию задаются в Python очень просто: достаточно после названия переменной сразу же прописать знак = (равно)\n",
    "    и то значение, которое вы бы хотели присвоить по умолчанию.\n",
    "\n",
    "Давайте напишем шуточную функцию get_cola, которая принимает на вход только один аргумент — ice. ice будет принимать значения\n",
    "True или False, причём по умолчанию будет задано True. В зависимости от True или False функция будет печатать\n",
    "\"Кола со льдом готова!\" или \"Кола безо льда готова!\", соответственно.\n",
    "\n",
    "Вот её исходный код:\n",
    "\n",
    "# С помощью оператора '=' присвоим\n",
    "# переменной ice значение True по умолчанию\n",
    "def get_cola(ice=True):\n",
    "    if ice == True:\n",
    "        print(\"Cola with ice is ready!\")\n",
    "    else:\n",
    "        print(\"Cola without ice is ready!\")\n",
    "Теперь запустим эту функцию с аргументами True и False:\n",
    "\n",
    "get_cola(True)\n",
    "# Будет напечатано:\n",
    "# Cola with ice is ready!\n",
    "\n",
    "get_cola(False)\n",
    "# Будет напечатано:\n",
    "# Cola without ice is ready!\n",
    "Как видите, в поведении функции пока что нет ничего необычного, однако давайте запустим функцию без аргументов:\n",
    "\n",
    "get_cola()\n",
    "# Будет напечатано:\n",
    "# Cola with ice is ready!\n",
    "Функция сработала и без передачи аргументов, и мы по умолчанию получили колу со льдом.\n",
    "\n",
    "Посмотрим теперь, что бы произошло, если бы мы не указали при создании функции значение по умолчанию для аргумента ice:\n",
    "\n",
    "# Аргументу ice не присваиваем значение по умолчанию:\n",
    "def get_cola(ice):\n",
    "    if ice == True:\n",
    "        print(\"Cola with ice is ready!\")\n",
    "    else:\n",
    "        print(\"Cola without ice is ready!\")\n",
    " \n",
    "get_cola()\n",
    "# Будет напечатано:\n",
    "# TypeError: get_cola() missing 1 required positional argument: 'ice'\n",
    "Вы заметили, что возникла ошибка. Она переводится так: «В функции get_cola() не хватает одного обязательного позиционного\n",
    "    аргумента 'ice'».\n",
    "\n",
    "Итак, использование аргументов по умолчанию позволяет передавать в функцию не все аргументы и не получать из-за этог\n",
    "о сообщение об ошибке. Можно сказать, что если у аргумента есть значение по умолчанию, он становится необязательным.\n",
    "\n",
    "Теперь напишем более серьёзную функцию: она будет извлекать корень n-ой степени из заданного числа. Назовём функцию root. \n",
    "    Она будет принимать на вход value (число, из которого необходимо извлечь корень) и n (степень корня).\n",
    "\n",
    "Давайте вспомним, что для возведения в степень в Python используется оператор **:\n",
    "\n",
    "print(2 ** 4)\n",
    "# Будет напечатано:\n",
    "# 16\n",
    "Также важное утверждение из математики: чтобы извлечь из числа x корень n-ой степени, то есть получить такое число,\n",
    "    при возведении которого в степень n получится число x, достаточно возвести число x в степень 1/n.\n",
    "\n",
    "Давайте это проверим:\n",
    "\n",
    "# Хотим посчитать корень 4-ой степени из 16:\n",
    "print(16 ** (1/4))\n",
    "# Будет напечатано:\n",
    "# 2.0\n",
    "В самом деле — корень четвёртой степени из 16 равен двум. Давайте наконец напишем функцию root:\n",
    "\n",
    "# В функцию должны передаваться 2 значения:\n",
    "# число и степень корня\n",
    "def root(value, n):\n",
    "    # Как мы уже выяснили, чтобы посчитать\n",
    "    # корень степени n из числа, можно возвести это число\n",
    "    # в степень 1/n\n",
    "    result = value ** (1/n)\n",
    "    return result\n",
    "\n",
    "# Посчитаем корень 3-ей степени (кубический корень) из 27\n",
    "print(root(27, 3))\n",
    "# Будет напечатано:\n",
    "# 3.0\n",
    "Итак, теперь у нас есть функция, которая может считать корень любой заданной степени из числа. Однако на практике мы \n",
    "сталкиваемся с квадратными корнями гораздо чаще, чем с остальными. Даже когда мы говорим «корень из 25 равен 5», мы имеем в\n",
    "виду квадратный корень, то есть корень степени 2.\n",
    "\n",
    "ЗАДАНИЕ 3.2 (НА САМОПРОВЕРКУ)\n",
    "\n",
    "Модифицируйте функцию root так, чтобы передавать степень корня было необязательно. Если степень корня не передана,\n",
    "функция должна возвращать значение квадратного корня.\n",
    "\n",
    "Проверьте своё решение, вызвав функцию root:\n",
    "\n",
    "print(root(81))\n",
    "# Должно быть напечатано:\n",
    "# 9.0\n",
    "Важное замечание. Указывать аргументам значения по умолчанию можно только после того, как в функции перечислены все \n",
    "обязательные аргументы.\n",
    "\n",
    "Поменяем в модифицированной функции root порядок аргументов:\n",
    "\n",
    "def wrong_root(n=2, value):\n",
    "    result = value ** (1/n)\n",
    "    return result\n",
    "# Возникнет ошибка:\n",
    "# SyntaxError: non-default argument follows default argument\n",
    "Эта ошибка переводится так: «Синтаксическая ошибка: аргумент без значения по умолчанию следует после аргумента по умолчанию». \n",
    "        Чтобы её избежать, необходимо указывать аргументы по умолчанию только после обязательных.\n",
    "\n",
    "ОПАСНОСТЬ АРГУМЕНТОВ ПО УМОЛЧАНИЮ\n",
    "\n",
    "Использование аргументов по умолчанию призвано упростить жизнь разработчику. Но, к сожалению, их некорректное использование \n",
    "может приводить к крайне неожиданным последствиям.\n",
    "\n",
    "Создадим функцию, поведение которой будет неверным (и заодно повторим использование словарей).\n",
    "\n",
    "Функция add_mark будет записывать оценку студента в словарь. Словарь не требуется обязательно передавать в функцию: будем \n",
    "    использовать пустой словарь в качестве аргумента по умолчанию (⛔ сейчас будет пример того, как делать не нужно!).\n",
    "\n",
    "Итак, получим функцию:\n",
    "\n",
    "# Функция add_mark (от англ. add mark — \"добавить оценку\")\n",
    "# принимает обязательные аргументы name (имя) и\n",
    "# mark (оценка). Необязательным аргументом является journal\n",
    "# (журнал оценок), который по умолчанию является пустым словарём.\n",
    "def add_mark(name, mark, journal={}):\n",
    "    # Присваиваем имени в журнале переданную оценку\n",
    "    journal[name] = mark\n",
    "    return journal\n",
    "Теперь будем экспериментировать с новой функцией. Вначале передадим все три аргумента извне:\n",
    "\n",
    "# Создадим пустой словарь, в который будем\n",
    "# сохранять оценки группы 1\n",
    "group1 = {}\n",
    "# Добавим оценки двух студентов\n",
    "group1 = add_mark('Ivanov', 5, group1)\n",
    "group1 = add_mark('Tihonova', 4, group1)\n",
    "print(group1)\n",
    "# Будет напечатано:\n",
    "# {'Ivanov': 5, 'Tihonova': 4}\n",
    "Поведение функции выглядит именно так, как мы и задумывали: в новый журнал оценок (тип данных: словарь) добавляем оценки\n",
    "    студентов, причём пустой журнал мы создали в основном скрипте, а не использовали его из значения по умолчанию.\n",
    "\n",
    "А теперь не будем передавать пустой журнал изначально в качестве аргумента — он ведь и так создаётся по умолчанию:\n",
    "\n",
    "# Добавим в журнал для новой группы оценку Смирнову\n",
    "# Сам журнал не передаём в виде аргумента\n",
    "# Пустой журнал будет использован как аргумент по умолчанию\n",
    "group2 = add_mark('Smirnov', 3)\n",
    "print(group2)\n",
    "# Будет напечатано:\n",
    "# {'Smirnov': 3}\n",
    " \n",
    "# Аналогично для новой группы 3 добавим оценку Кузнецовой\n",
    "group3 = add_mark('Kuznetsova', 5)\n",
    "print(group3)\n",
    "# Будет напечатано:\n",
    "# {'Smirnov': 3, 'Kuznetsova': 5}\n",
    "?\n",
    "Очень неожиданно, не так ли? Мы думали, что по умолчанию используется пустой словарь для группы 3, но в нём почему-то уже \n",
    "оказались оценки для второй группы. Как же так?\n",
    "\n",
    "Дело в том, что пустой словарь был присвоен как новый объект аргументу journal только один раз: когда интерпретатор впервые\n",
    "    прочитал объявление функции в коде. В аргументе journal по умолчанию теперь хранится указатель на созданный при прочтении \n",
    "    функции словарь. В первый раз [group2 = add_mark('Смирнов', 3)] мы действительно воспользовались новым словарём. А вот\n",
    "    при повторном использовании данного словаря в качестве аргумента по умолчанию [group3 = add_mark('Кузнецова', 5)], мы\n",
    "    модифицировали уже созданный ранее словарь.\n",
    "\n",
    "Звучит сложно, не правда ли?\n",
    "\n",
    "Если вы не поняли предыдущее объяснение, попробуйте осознать следующую иллюстрацию и сопоставить её с описанной выше проблемой.\n",
    "\n",
    "Допустим, в учебную часть пришел преподаватель и спросил, куда ставить оценки за экзамен, если в кабинете нет ведомости. \n",
    "Ему сказали, что новая ведомость лежит в третьем ящике стола у входа (то есть преподаватель получил указатель на пустую \n",
    "                                                                      ведомость, узнал, где она должна храниться).\n",
    "\n",
    "Преподаватель пришёл на экзамен, ведомости не было, поэтому он взял ведомость из третьего ящика стола (перешёл по указателю)\n",
    ", вписал туда оценки (изменил данный объект) и вернул ведомость на место.\n",
    "\n",
    "Этот же преподаватель пришёл принимать экзамен у ещё одной группы. Ведомость снова никто не принёс, но он помнит, что в\n",
    "таком случае необходимо использовать ведомость из третьего ящика стола (снова переходит по указателю). Преподаватель внёс\n",
    "в эту ведомость новые оценки и вернул её на место.\n",
    "\n",
    "Что же теперь записано в ведомости? Оценки обеих групп! Преподаватель только один раз получил указания, где брать ведомость,\n",
    "если её нет, и записывал оценки только в неё.\n",
    "\n",
    "То же самое происходит и с пустым словарём, который мы установили в виде аргумента по умолчанию: он был создан только 1 раз,\n",
    "    а затем он только модифицировался функцией, а не создавался пустым заново.\n",
    "\n",
    "Давайте сделаем так, чтобы каждый раз при запуске функции без словаря всё-таки создавался пустой словарь, а не использовался\n",
    "однажды созданный. Для этого изначально присвоим аргументу journal значение по умолчанию None и уже непосредственно в теле\n",
    "функции будем создавать пустой словарь, если journal является None:\n",
    "\n",
    "def add_mark(name, mark, journal=None):\n",
    "    # Если журнал является None\n",
    "    # (напоминание: сравнивать объект с None\n",
    "    # корректнее через оператор is),\n",
    "    # запишем в journal пустой словарь\n",
    "    if journal is None:\n",
    "        journal = {}\n",
    "    journal[name] = mark\n",
    "    return journal\n",
    "Сразу запустим фрагмент кода, который вызвал неожиданное поведение функции:\n",
    "\n",
    "group2 = add_mark('Smirnov', 3)\n",
    "print(group2)\n",
    "# Будет напечатано:\n",
    "# {'Smirnov': 3}\n",
    " \n",
    "group3 = add_mark('Kuznetsova', 5)\n",
    "print(group3)\n",
    "# Будет напечатано:\n",
    "# {'Kuznetsova': 5}\n",
    "Как видите, теперь всё встало на свои места: оценки для новых групп теперь действительно записываются в новый словарь, а не\n",
    "    добавляются в ранее созданный.\n",
    "\n",
    "Теперь остаётся понять, какие объекты нельзя использовать в качестве аргументов по умолчанию.\n",
    "\n",
    "К сожалению, полностью осознать ответ на этот вопрос можно будет только после изучения объектно-ориентированного \n",
    "программирования, то есть через несколько модулей.\n",
    "\n",
    "Пока что вам стоит запомнить, что в качестве аргументов по умолчанию некорректно использовать изменяемые типы данных:\n",
    "    списки, словари, множества… У всех из них есть собственные функции и методы, с помощью которых происходят изменения \n",
    "    этих объектов (например, append, add и т. д.) непосредственно внутри объекта.\n",
    "\n",
    "В качестве аргументов по умолчанию точно можно использовать «простые» типы данных, которые не содержат в себе дополнительные \n",
    "значения, такие как int, float, str, bool, None.\n",
    "\n",
    "Остальные типы данных, скорее всего, состоят из перечисленных «простых» и потому являются «сложными», например списки могут \n",
    "состоять из всех перечисленных выше «простых» элементов.\n",
    "\n",
    "Ввиду особенностей работы со «сложными» типами данных, они являются изменяемыми, поэтому использование их в качестве аргументов\n",
    "по умолчанию нежелательно.\n",
    "\n",
    "Чтобы избежать ошибок, связанных с изменяемыми типами данных, используйте None в качестве значения аргумента по умолчанию и \n",
    "создавайте новый объект уже в теле функции, как это было сделано в примере выше.\n",
    "\n",
    "✍ В этом юните вы:\n",
    "\n",
    "узнали, что исключения — это полезный инструмент, с помощью которого можно указать пользователю, которым можете быть и вы \n",
    "сами, на допущенную ошибку в данных;\n",
    "научились возвращать исключение в случае некорректных аргументов;\n",
    "научились задавать аргументы по умолчанию и использовать их, чтобы не прописывать каждый раз часто повторяющиеся аргументы;\n",
    "поняли, что аргументы по умолчанию необходимо использовать на практике с осторожностью, чтобы не возникали ошибки; вместо \n",
    "изменяемых типов данных в качестве аргумента по умолчанию необходимо использовать None."
   ]
  },
  {
   "cell_type": "code",
   "execution_count": 23,
   "id": "d2c92972",
   "metadata": {},
   "outputs": [
    {
     "ename": "ValueError",
     "evalue": "Invalid Mark!",
     "output_type": "error",
     "traceback": [
      "\u001b[1;31m---------------------------------------------------------------------------\u001b[0m",
      "\u001b[1;31mValueError\u001b[0m                                Traceback (most recent call last)",
      "\u001b[1;32m~\\AppData\\Local\\Temp/ipykernel_12756/1576066366.py\u001b[0m in \u001b[0;36m<module>\u001b[1;34m\u001b[0m\n\u001b[0;32m     12\u001b[0m \u001b[1;31m#Пример:\u001b[0m\u001b[1;33m\u001b[0m\u001b[1;33m\u001b[0m\u001b[0m\n\u001b[0;32m     13\u001b[0m \u001b[1;33m\u001b[0m\u001b[0m\n\u001b[1;32m---> 14\u001b[1;33m \u001b[0madd_mark\u001b[0m\u001b[1;33m(\u001b[0m\u001b[1;34m'Ivanov'\u001b[0m\u001b[1;33m,\u001b[0m \u001b[1;36m6\u001b[0m\u001b[1;33m)\u001b[0m\u001b[1;33m\u001b[0m\u001b[1;33m\u001b[0m\u001b[0m\n\u001b[0m\u001b[0;32m     15\u001b[0m \u001b[1;31m# ValueError: Invalid Mark!\u001b[0m\u001b[1;33m\u001b[0m\u001b[1;33m\u001b[0m\u001b[0m\n",
      "\u001b[1;32m~\\AppData\\Local\\Temp/ipykernel_12756/1576066366.py\u001b[0m in \u001b[0;36madd_mark\u001b[1;34m(name, mark, journal)\u001b[0m\n\u001b[0;32m      2\u001b[0m     \u001b[1;31m# Добавьте здесь проверку аргумента mark\u001b[0m\u001b[1;33m\u001b[0m\u001b[1;33m\u001b[0m\u001b[0m\n\u001b[0;32m      3\u001b[0m     \u001b[1;32mif\u001b[0m \u001b[0mmark\u001b[0m\u001b[1;33m<\u001b[0m\u001b[1;36m2\u001b[0m \u001b[1;32mor\u001b[0m \u001b[0mmark\u001b[0m\u001b[1;33m>\u001b[0m\u001b[1;36m5\u001b[0m\u001b[1;33m:\u001b[0m\u001b[1;33m\u001b[0m\u001b[1;33m\u001b[0m\u001b[0m\n\u001b[1;32m----> 4\u001b[1;33m         \u001b[1;32mraise\u001b[0m \u001b[0mValueError\u001b[0m\u001b[1;33m(\u001b[0m\u001b[1;34m\"Invalid Mark!\"\u001b[0m\u001b[1;33m)\u001b[0m\u001b[1;33m\u001b[0m\u001b[1;33m\u001b[0m\u001b[0m\n\u001b[0m\u001b[0;32m      5\u001b[0m     \u001b[1;32mif\u001b[0m \u001b[0mjournal\u001b[0m \u001b[1;32mis\u001b[0m \u001b[1;32mNone\u001b[0m\u001b[1;33m:\u001b[0m\u001b[1;33m\u001b[0m\u001b[1;33m\u001b[0m\u001b[0m\n\u001b[0;32m      6\u001b[0m         \u001b[0mjournal\u001b[0m \u001b[1;33m=\u001b[0m \u001b[1;33m{\u001b[0m\u001b[1;33m}\u001b[0m\u001b[1;33m\u001b[0m\u001b[1;33m\u001b[0m\u001b[0m\n",
      "\u001b[1;31mValueError\u001b[0m: Invalid Mark!"
     ]
    }
   ],
   "source": [
    "def add_mark(name, mark, journal=None):\n",
    "    # Добавьте здесь проверку аргумента mark\n",
    "    if mark<2 or mark>5:\n",
    "        raise ValueError(\"Invalid Mark!\")\n",
    "    if journal is None:\n",
    "        journal = {}\n",
    "    journal[name] = mark\n",
    "    return journal\n",
    "#Дополните её код таким образом, чтобы возникала ошибка ValueError с текстом \"Invalid Mark!\" при попытке поставить оценку\n",
    "#не из списка: 2, 3, 4 или 5.\n",
    "\n",
    "#Пример:\n",
    "\n",
    "add_mark('Ivanov', 6)\n",
    "# ValueError: Invalid Mark!"
   ]
  },
  {
   "cell_type": "code",
   "execution_count": 111,
   "id": "0542b4cd",
   "metadata": {},
   "outputs": [
    {
     "ename": "NameError",
     "evalue": "name 'VallueError' is not defined",
     "output_type": "error",
     "traceback": [
      "\u001b[1;31m---------------------------------------------------------------------------\u001b[0m",
      "\u001b[1;31mValueError\u001b[0m                                Traceback (most recent call last)",
      "\u001b[1;32m~\\AppData\\Local\\Temp/ipykernel_1600/1175266429.py\u001b[0m in \u001b[0;36m<module>\u001b[1;34m\u001b[0m\n\u001b[0;32m      9\u001b[0m \u001b[1;32mtry\u001b[0m\u001b[1;33m:\u001b[0m\u001b[1;33m\u001b[0m\u001b[1;33m\u001b[0m\u001b[0m\n\u001b[1;32m---> 10\u001b[1;33m     \u001b[0mprint\u001b[0m\u001b[1;33m(\u001b[0m\u001b[0madd_mark\u001b[0m\u001b[1;33m(\u001b[0m\u001b[1;34m'Ivanov'\u001b[0m\u001b[1;33m,\u001b[0m \u001b[1;36m6\u001b[0m\u001b[1;33m)\u001b[0m\u001b[1;33m)\u001b[0m\u001b[1;33m\u001b[0m\u001b[1;33m\u001b[0m\u001b[0m\n\u001b[0m\u001b[0;32m     11\u001b[0m \u001b[1;32mexcept\u001b[0m \u001b[0mVallueError\u001b[0m \u001b[1;32mas\u001b[0m \u001b[0me\u001b[0m\u001b[1;33m:\u001b[0m\u001b[1;33m\u001b[0m\u001b[1;33m\u001b[0m\u001b[0m\n",
      "\u001b[1;32m~\\AppData\\Local\\Temp/ipykernel_1600/1175266429.py\u001b[0m in \u001b[0;36madd_mark\u001b[1;34m(name, mark, journal)\u001b[0m\n\u001b[0;32m      3\u001b[0m     \u001b[1;32mif\u001b[0m \u001b[0mmark\u001b[0m\u001b[1;33m<\u001b[0m\u001b[1;36m2\u001b[0m \u001b[1;32mor\u001b[0m \u001b[0mmark\u001b[0m\u001b[1;33m>\u001b[0m\u001b[1;36m5\u001b[0m\u001b[1;33m:\u001b[0m\u001b[1;33m\u001b[0m\u001b[1;33m\u001b[0m\u001b[0m\n\u001b[1;32m----> 4\u001b[1;33m         \u001b[1;32mraise\u001b[0m \u001b[0mValueError\u001b[0m \u001b[1;33m(\u001b[0m\u001b[1;34m\"Invalid Mark!\"\u001b[0m\u001b[1;33m)\u001b[0m\u001b[1;33m\u001b[0m\u001b[1;33m\u001b[0m\u001b[0m\n\u001b[0m\u001b[0;32m      5\u001b[0m     \u001b[1;32mif\u001b[0m \u001b[0mjournal\u001b[0m \u001b[1;32mis\u001b[0m \u001b[1;32mNone\u001b[0m\u001b[1;33m:\u001b[0m\u001b[1;33m\u001b[0m\u001b[1;33m\u001b[0m\u001b[0m\n",
      "\u001b[1;31mValueError\u001b[0m: Invalid Mark!",
      "\nDuring handling of the above exception, another exception occurred:\n",
      "\u001b[1;31mNameError\u001b[0m                                 Traceback (most recent call last)",
      "\u001b[1;32m~\\AppData\\Local\\Temp/ipykernel_1600/1175266429.py\u001b[0m in \u001b[0;36m<module>\u001b[1;34m\u001b[0m\n\u001b[0;32m      9\u001b[0m \u001b[1;32mtry\u001b[0m\u001b[1;33m:\u001b[0m\u001b[1;33m\u001b[0m\u001b[1;33m\u001b[0m\u001b[0m\n\u001b[0;32m     10\u001b[0m     \u001b[0mprint\u001b[0m\u001b[1;33m(\u001b[0m\u001b[0madd_mark\u001b[0m\u001b[1;33m(\u001b[0m\u001b[1;34m'Ivanov'\u001b[0m\u001b[1;33m,\u001b[0m \u001b[1;36m6\u001b[0m\u001b[1;33m)\u001b[0m\u001b[1;33m)\u001b[0m\u001b[1;33m\u001b[0m\u001b[1;33m\u001b[0m\u001b[0m\n\u001b[1;32m---> 11\u001b[1;33m \u001b[1;32mexcept\u001b[0m \u001b[0mVallueError\u001b[0m \u001b[1;32mas\u001b[0m \u001b[0me\u001b[0m\u001b[1;33m:\u001b[0m\u001b[1;33m\u001b[0m\u001b[1;33m\u001b[0m\u001b[0m\n\u001b[0m\u001b[0;32m     12\u001b[0m     \u001b[0mprint\u001b[0m\u001b[1;33m(\u001b[0m\u001b[0me\u001b[0m\u001b[1;33m)\u001b[0m\u001b[1;33m\u001b[0m\u001b[1;33m\u001b[0m\u001b[0m\n",
      "\u001b[1;31mNameError\u001b[0m: name 'VallueError' is not defined"
     ]
    }
   ],
   "source": [
    "def add_mark(name, mark, journal=None):\n",
    "    # Добавьте здесь проверку аргумента mark\n",
    "    if mark<2 or mark>5:\n",
    "        raise ValueError (\"Invalid Mark!\")\n",
    "    if journal is None:\n",
    "        journal = {}\n",
    "    journal[name] = mark\n",
    "    return journal\n",
    "try:\n",
    "    print(add_mark('Ivanov', 6))\n",
    "except VallueError as e:\n",
    "    print(e)"
   ]
  },
  {
   "cell_type": "code",
   "execution_count": 24,
   "id": "09147bdb",
   "metadata": {},
   "outputs": [
    {
     "ename": "ValueError",
     "evalue": "Invalid Mark!",
     "output_type": "error",
     "traceback": [
      "\u001b[1;31m---------------------------------------------------------------------------\u001b[0m",
      "\u001b[1;31mValueError\u001b[0m                                Traceback (most recent call last)",
      "\u001b[1;32m~\\AppData\\Local\\Temp/ipykernel_12756/1167308362.py\u001b[0m in \u001b[0;36m<module>\u001b[1;34m\u001b[0m\n\u001b[1;32m----> 1\u001b[1;33m \u001b[0madd_mark\u001b[0m\u001b[1;33m(\u001b[0m\u001b[1;34m'Ivanov'\u001b[0m\u001b[1;33m,\u001b[0m \u001b[1;36m6\u001b[0m\u001b[1;33m)\u001b[0m\u001b[1;33m\u001b[0m\u001b[1;33m\u001b[0m\u001b[0m\n\u001b[0m",
      "\u001b[1;32m~\\AppData\\Local\\Temp/ipykernel_12756/1576066366.py\u001b[0m in \u001b[0;36madd_mark\u001b[1;34m(name, mark, journal)\u001b[0m\n\u001b[0;32m      2\u001b[0m     \u001b[1;31m# Добавьте здесь проверку аргумента mark\u001b[0m\u001b[1;33m\u001b[0m\u001b[1;33m\u001b[0m\u001b[0m\n\u001b[0;32m      3\u001b[0m     \u001b[1;32mif\u001b[0m \u001b[0mmark\u001b[0m\u001b[1;33m<\u001b[0m\u001b[1;36m2\u001b[0m \u001b[1;32mor\u001b[0m \u001b[0mmark\u001b[0m\u001b[1;33m>\u001b[0m\u001b[1;36m5\u001b[0m\u001b[1;33m:\u001b[0m\u001b[1;33m\u001b[0m\u001b[1;33m\u001b[0m\u001b[0m\n\u001b[1;32m----> 4\u001b[1;33m         \u001b[1;32mraise\u001b[0m \u001b[0mValueError\u001b[0m\u001b[1;33m(\u001b[0m\u001b[1;34m\"Invalid Mark!\"\u001b[0m\u001b[1;33m)\u001b[0m\u001b[1;33m\u001b[0m\u001b[1;33m\u001b[0m\u001b[0m\n\u001b[0m\u001b[0;32m      5\u001b[0m     \u001b[1;32mif\u001b[0m \u001b[0mjournal\u001b[0m \u001b[1;32mis\u001b[0m \u001b[1;32mNone\u001b[0m\u001b[1;33m:\u001b[0m\u001b[1;33m\u001b[0m\u001b[1;33m\u001b[0m\u001b[0m\n\u001b[0;32m      6\u001b[0m         \u001b[0mjournal\u001b[0m \u001b[1;33m=\u001b[0m \u001b[1;33m{\u001b[0m\u001b[1;33m}\u001b[0m\u001b[1;33m\u001b[0m\u001b[1;33m\u001b[0m\u001b[0m\n",
      "\u001b[1;31mValueError\u001b[0m: Invalid Mark!"
     ]
    }
   ],
   "source": [
    "add_mark('Ivanov', 6)"
   ]
  },
  {
   "cell_type": "code",
   "execution_count": 25,
   "id": "2aa963f1",
   "metadata": {},
   "outputs": [],
   "source": [
    "def get_time(distance, speed):\n",
    "    # Если расстояние или скорость отрицательные, то возвращаем ошибку\n",
    "    if distance < 0 or speed < 0:\n",
    "        # Оператор raise возвращает (raise — досл. англ. \"поднимать\")\n",
    "        # объект-исключение. В данном случае ValueError (некорректное значение).\n",
    "        # Дополнительно в скобках после слова ValueError пишем текст сообщения\n",
    "        # об ошибке, чтобы сразу было понятно, чем вызвана ошибка.\n",
    "        raise ValueError(\"Distance or speed cannot be below 0!\")\n",
    "    result = distance / speed\n",
    "    return result"
   ]
  },
  {
   "cell_type": "code",
   "execution_count": 28,
   "id": "8b7a78e9",
   "metadata": {},
   "outputs": [
    {
     "ename": "ValueError",
     "evalue": "Speed id not 0",
     "output_type": "error",
     "traceback": [
      "\u001b[1;31m---------------------------------------------------------------------------\u001b[0m",
      "\u001b[1;31mValueError\u001b[0m                                Traceback (most recent call last)",
      "\u001b[1;32m~\\AppData\\Local\\Temp/ipykernel_12756/3270141122.py\u001b[0m in \u001b[0;36m<module>\u001b[1;34m\u001b[0m\n\u001b[1;32m----> 1\u001b[1;33m \u001b[0mget_time\u001b[0m\u001b[1;33m(\u001b[0m\u001b[1;36m100\u001b[0m\u001b[1;33m,\u001b[0m \u001b[1;36m0\u001b[0m\u001b[1;33m)\u001b[0m\u001b[1;33m\u001b[0m\u001b[1;33m\u001b[0m\u001b[0m\n\u001b[0m",
      "\u001b[1;32m~\\AppData\\Local\\Temp/ipykernel_12756/3033236109.py\u001b[0m in \u001b[0;36mget_time\u001b[1;34m(distance, speed)\u001b[0m\n\u001b[0;32m      4\u001b[0m     \u001b[1;31m# \"Speed cannot be equal to 0!\"\u001b[0m\u001b[1;33m\u001b[0m\u001b[1;33m\u001b[0m\u001b[0m\n\u001b[0;32m      5\u001b[0m     \u001b[1;32mif\u001b[0m \u001b[0mspeed\u001b[0m \u001b[1;33m==\u001b[0m \u001b[1;36m0\u001b[0m\u001b[1;33m:\u001b[0m\u001b[1;33m\u001b[0m\u001b[1;33m\u001b[0m\u001b[0m\n\u001b[1;32m----> 6\u001b[1;33m         \u001b[1;32mraise\u001b[0m \u001b[0mValueError\u001b[0m\u001b[1;33m(\u001b[0m\u001b[1;34m\"Speed id not 0\"\u001b[0m\u001b[1;33m)\u001b[0m\u001b[1;33m\u001b[0m\u001b[1;33m\u001b[0m\u001b[0m\n\u001b[0m\u001b[0;32m      7\u001b[0m     \u001b[1;32mif\u001b[0m \u001b[0mdistance\u001b[0m \u001b[1;33m<\u001b[0m \u001b[1;36m0\u001b[0m \u001b[1;32mor\u001b[0m \u001b[0mspeed\u001b[0m \u001b[1;33m<\u001b[0m \u001b[1;36m0\u001b[0m\u001b[1;33m:\u001b[0m\u001b[1;33m\u001b[0m\u001b[1;33m\u001b[0m\u001b[0m\n\u001b[0;32m      8\u001b[0m        \u001b[1;32mraise\u001b[0m \u001b[0mValueError\u001b[0m\u001b[1;33m(\u001b[0m\u001b[1;34m\"Distance or speed cannot be below 0!\"\u001b[0m\u001b[1;33m)\u001b[0m\u001b[1;33m\u001b[0m\u001b[1;33m\u001b[0m\u001b[0m\n",
      "\u001b[1;31mValueError\u001b[0m: Speed id not 0"
     ]
    }
   ],
   "source": [
    "get_time(100, 0)"
   ]
  },
  {
   "cell_type": "code",
   "execution_count": 26,
   "id": "130cdb83",
   "metadata": {},
   "outputs": [
    {
     "ename": "SyntaxError",
     "evalue": "invalid syntax (Temp/ipykernel_12756/2165938382.py, line 1)",
     "output_type": "error",
     "traceback": [
      "\u001b[1;36m  File \u001b[1;32m\"C:\\Users\\tanya\\AppData\\Local\\Temp/ipykernel_12756/2165938382.py\"\u001b[1;36m, line \u001b[1;32m1\u001b[0m\n\u001b[1;33m    Попробуйте добавить в новую функцию get_time из примера выше проверку скорости на равенство нулю.\u001b[0m\n\u001b[1;37m               ^\u001b[0m\n\u001b[1;31mSyntaxError\u001b[0m\u001b[1;31m:\u001b[0m invalid syntax\n"
     ]
    }
   ],
   "source": [
    "Попробуйте добавить в новую функцию get_time из примера выше проверку скорости на равенство нулю. \n",
    "Если скорость равна нулю, верните ValueError с сообщением \"Speed cannot be equal to 0!\".\n",
    "\n",
    "Вы можете проверить своё решение, вызвав функцию get_time:\n",
    "\n",
    "get_time(100, 0)\n",
    "# Вы молодец, если на экране появилось:\n",
    "# ValueError: Speed cannot be equal to 0!"
   ]
  },
  {
   "cell_type": "code",
   "execution_count": 27,
   "id": "b7c91328",
   "metadata": {},
   "outputs": [],
   "source": [
    "def get_time(distance, speed):\n",
    "    # Добавьте проверку скорости на равенство 0\n",
    "    # Верните ошибку ValueError с текстом\n",
    "    # \"Speed cannot be equal to 0!\"\n",
    "    if speed == 0:\n",
    "        raise ValueError(\"Speed id not 0\")\n",
    "    if distance < 0 or speed < 0:\n",
    "       raise ValueError(\"Distance or speed cannot be below 0!\")\n",
    "    result = distance / speed\n",
    "    return result\n",
    "\n",
    "\n",
    "#попытка вызвать функцию с некорректными аргументами\n"
   ]
  },
  {
   "cell_type": "code",
   "execution_count": 109,
   "id": "1f86cc99",
   "metadata": {},
   "outputs": [
    {
     "name": "stdout",
     "output_type": "stream",
     "text": [
      "Speed id not 0\n"
     ]
    }
   ],
   "source": [
    "try:\n",
    "    print(get_time(100, 0))\n",
    "#должна завершиться с ошибкой ValueError, которую мы выведем в блоке except\n",
    "except ValueError as e:\n",
    "    print(e)"
   ]
  },
  {
   "cell_type": "code",
   "execution_count": 108,
   "id": "78a45b66",
   "metadata": {},
   "outputs": [
    {
     "ename": "ValueError",
     "evalue": "Distance or speed cannot be below 0!",
     "output_type": "error",
     "traceback": [
      "\u001b[1;31m---------------------------------------------------------------------------\u001b[0m",
      "\u001b[1;31mValueError\u001b[0m                                Traceback (most recent call last)",
      "\u001b[1;32m~\\AppData\\Local\\Temp/ipykernel_1600/2930675010.py\u001b[0m in \u001b[0;36m<module>\u001b[1;34m\u001b[0m\n\u001b[1;32m----> 1\u001b[1;33m \u001b[0mget_time\u001b[0m\u001b[1;33m(\u001b[0m\u001b[1;33m-\u001b[0m\u001b[1;36m100\u001b[0m\u001b[1;33m,\u001b[0m\u001b[1;36m25\u001b[0m\u001b[1;33m)\u001b[0m\u001b[1;33m\u001b[0m\u001b[1;33m\u001b[0m\u001b[0m\n\u001b[0m",
      "\u001b[1;32m~\\AppData\\Local\\Temp/ipykernel_1600/3033236109.py\u001b[0m in \u001b[0;36mget_time\u001b[1;34m(distance, speed)\u001b[0m\n\u001b[0;32m      6\u001b[0m         \u001b[1;32mraise\u001b[0m \u001b[0mValueError\u001b[0m\u001b[1;33m(\u001b[0m\u001b[1;34m\"Speed id not 0\"\u001b[0m\u001b[1;33m)\u001b[0m\u001b[1;33m\u001b[0m\u001b[1;33m\u001b[0m\u001b[0m\n\u001b[0;32m      7\u001b[0m     \u001b[1;32mif\u001b[0m \u001b[0mdistance\u001b[0m \u001b[1;33m<\u001b[0m \u001b[1;36m0\u001b[0m \u001b[1;32mor\u001b[0m \u001b[0mspeed\u001b[0m \u001b[1;33m<\u001b[0m \u001b[1;36m0\u001b[0m\u001b[1;33m:\u001b[0m\u001b[1;33m\u001b[0m\u001b[1;33m\u001b[0m\u001b[0m\n\u001b[1;32m----> 8\u001b[1;33m        \u001b[1;32mraise\u001b[0m \u001b[0mValueError\u001b[0m\u001b[1;33m(\u001b[0m\u001b[1;34m\"Distance or speed cannot be below 0!\"\u001b[0m\u001b[1;33m)\u001b[0m\u001b[1;33m\u001b[0m\u001b[1;33m\u001b[0m\u001b[0m\n\u001b[0m\u001b[0;32m      9\u001b[0m     \u001b[0mresult\u001b[0m \u001b[1;33m=\u001b[0m \u001b[0mdistance\u001b[0m \u001b[1;33m/\u001b[0m \u001b[0mspeed\u001b[0m\u001b[1;33m\u001b[0m\u001b[1;33m\u001b[0m\u001b[0m\n\u001b[0;32m     10\u001b[0m     \u001b[1;32mreturn\u001b[0m \u001b[0mresult\u001b[0m\u001b[1;33m\u001b[0m\u001b[1;33m\u001b[0m\u001b[0m\n",
      "\u001b[1;31mValueError\u001b[0m: Distance or speed cannot be below 0!"
     ]
    }
   ],
   "source": [
    "get_time(-100,25)"
   ]
  },
  {
   "cell_type": "code",
   "execution_count": 17,
   "id": "70543dbb",
   "metadata": {},
   "outputs": [],
   "source": [
    "def add_mark(name, mark, journal=None):\n",
    "    if mark not in range(2,6):\n",
    "        raise ValueError (\"invalid mark\")\n",
    "    if journal is None:\n",
    "        journal={}\n",
    "    journal[name]=mark\n",
    "    return journal\n",
    "\n",
    "\n",
    "Q=add_mark(\"GGl;ll\",5,Q)"
   ]
  },
  {
   "cell_type": "code",
   "execution_count": 18,
   "id": "f77d05f5",
   "metadata": {},
   "outputs": [],
   "source": [
    "Q=add_mark(\"GGss\",5,Q)"
   ]
  },
  {
   "cell_type": "code",
   "execution_count": 19,
   "id": "e16a62b2",
   "metadata": {},
   "outputs": [
    {
     "data": {
      "text/plain": [
       "{'GGss': 5, 'GGl;ll': 5}"
      ]
     },
     "execution_count": 19,
     "metadata": {},
     "output_type": "execute_result"
    }
   ],
   "source": [
    "Q"
   ]
  },
  {
   "cell_type": "code",
   "execution_count": null,
   "id": "210af804",
   "metadata": {},
   "outputs": [],
   "source": []
  },
  {
   "cell_type": "markdown",
   "id": "0b213731",
   "metadata": {},
   "source": [
    "# end \n",
    "Этот аргумент задаёт символ, которым заканчивается печатаемая строка (по умолчанию это перенос на новую строку — символ \\n)"
   ]
  },
  {
   "cell_type": "code",
   "execution_count": 22,
   "id": "f3b8abfb",
   "metadata": {},
   "outputs": [
    {
     "name": "stdout",
     "output_type": "stream",
     "text": [
      "Shopping list: bread,butter,eggs\n"
     ]
    }
   ],
   "source": [
    "print(\"Shopping list:\", end=' ')\n",
    "print(\"bread\", \"butter\", \"eggs\", sep=',')\n",
    "# Будет напечатано:\n",
    "# Shopping list: bread butter eggs"
   ]
  },
  {
   "cell_type": "markdown",
   "id": "54ad8c5d",
   "metadata": {},
   "source": [
    "# sep\n",
    "\n",
    "Этот аргумент задаёт строку, которая будет разделять позиционные аргументы, переданные на печать (по умолчанию это пробел)."
   ]
  },
  {
   "cell_type": "code",
   "execution_count": 21,
   "id": "660f7674",
   "metadata": {},
   "outputs": [
    {
     "name": "stdout",
     "output_type": "stream",
     "text": [
      "25, 125, 625\n"
     ]
    }
   ],
   "source": [
    "print(25, 125, 625, sep=', ')\n",
    "# Будет напечатано:\n",
    "# 25, 125, 625"
   ]
  },
  {
   "cell_type": "code",
   "execution_count": null,
   "id": "bedb4c0f",
   "metadata": {},
   "outputs": [],
   "source": []
  }
 ],
 "metadata": {
  "kernelspec": {
   "display_name": "Python 3.9.10 64-bit",
   "language": "python",
   "name": "python3"
  },
  "language_info": {
   "codemirror_mode": {
    "name": "ipython",
    "version": 3
   },
   "file_extension": ".py",
   "mimetype": "text/x-python",
   "name": "python",
   "nbconvert_exporter": "python",
   "pygments_lexer": "ipython3",
   "version": "3.9.10"
  },
  "vscode": {
   "interpreter": {
    "hash": "3e20e8f24bd79d047f2db5bfb3f476e2e22892f53c68e86beee9ba154507af63"
   }
  }
 },
 "nbformat": 4,
 "nbformat_minor": 5
}
