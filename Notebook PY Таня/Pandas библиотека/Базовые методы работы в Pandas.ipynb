{
 "cells": [
  {
   "cell_type": "markdown",
   "metadata": {},
   "source": [
    "# _________________________________________Библиотека Pandas__________________"
   ]
  },
  {
   "cell_type": "code",
   "execution_count": 2,
   "metadata": {},
   "outputs": [
    {
     "name": "stdout",
     "output_type": "stream",
     "text": [
      "1.5.1\n",
      "pandas\n"
     ]
    }
   ],
   "source": [
    "\n",
    "#для работы с данными, представленными в виде таблиц\n",
    "import pandas as pd\n",
    "print(pd.__version__)\n",
    "print(pd.__name__)\n"
   ]
  },
  {
   "cell_type": "code",
   "execution_count": 3,
   "metadata": {},
   "outputs": [
    {
     "name": "stdout",
     "output_type": "stream",
     "text": [
      "Collecting pandas\n",
      "  Downloading pandas-1.5.1-cp39-cp39-win_amd64.whl (10.9 MB)\n",
      "Requirement already satisfied: python-dateutil>=2.8.1 in c:\\users\\tanya\\appdata\\roaming\\python\\python39\\site-packages (from pandas) (2.8.2)\n",
      "Requirement already satisfied: numpy>=1.20.3 in c:\\users\\tanya\\appdata\\local\\programs\\python\\python39\\lib\\site-packages (from pandas) (1.23.0)\n",
      "Collecting pytz>=2020.1\n",
      "  Downloading pytz-2022.6-py2.py3-none-any.whl (498 kB)\n",
      "Requirement already satisfied: six>=1.5 in c:\\users\\tanya\\appdata\\roaming\\python\\python39\\site-packages (from python-dateutil>=2.8.1->pandas) (1.16.0)\n",
      "Installing collected packages: pytz, pandas\n",
      "Successfully installed pandas-1.5.1 pytz-2022.6\n",
      "Note: you may need to restart the kernel to use updated packages.\n"
     ]
    },
    {
     "name": "stderr",
     "output_type": "stream",
     "text": [
      "WARNING: You are using pip version 21.2.4; however, version 22.3.1 is available.\n",
      "You should consider upgrading via the 'c:\\Users\\tanya\\AppData\\Local\\Programs\\Python\\Python39\\python.exe -m pip install --upgrade pip' command.\n"
     ]
    }
   ],
   "source": [
    "pip install pandas"
   ]
  },
  {
   "cell_type": "markdown",
   "metadata": {},
   "source": [
    "# pandas.Series - структура данных (серия, ряд)"
   ]
  },
  {
   "cell_type": "code",
   "execution_count": null,
   "metadata": {},
   "outputs": [],
   "source": [
    "# Series — это упорядоченная изменяемая коллекция объектов, имеющая так называемые ассоциативные метки (индексы). "
   ]
  },
  {
   "cell_type": "code",
   "execution_count": 12,
   "metadata": {},
   "outputs": [
    {
     "data": {
      "text/plain": [
       "яблоко    200\n",
       "малина    300\n",
       "груша     400\n",
       "Name: eat, dtype: int64"
      ]
     },
     "metadata": {},
     "output_type": "display_data"
    },
    {
     "data": {
      "text/plain": [
       "0    table\n",
       "1     door\n",
       "2      bed\n",
       "dtype: object"
      ]
     },
     "metadata": {},
     "output_type": "display_data"
    },
    {
     "data": {
      "text/plain": [
       "UK       Англия\n",
       "CA       Канада\n",
       "US          США\n",
       "RU       Россия\n",
       "UA      Украина\n",
       "BY     Беларусь\n",
       "KZ    Казахстан\n",
       "Name: countries, dtype: object"
      ]
     },
     "metadata": {},
     "output_type": "display_data"
    }
   ],
   "source": [
    "# Создание Series:\n",
    "s = pd.Series(\n",
    "    data = [200, 300, 400],  #массив данных, Iterable, dict или скалярное значение, Содержит данные, хранящиеся в Series. \n",
    "                             # Если данные являются словарем, порядок аргументов сохраняется и индексом становятся ключи словаряБ если индекс None (не указан).\n",
    "    index = ['яблоко', 'малина', 'груша'], #массив или индекс 1d (если не указан, то присвояься автоматически 0,1,2,..n). Значения должны быть хешируемыми и иметь ту же длину, что и данные. \n",
    "    \n",
    "    name = 'eat'          \n",
    "              )\n",
    "display(s)\n",
    "# яблоко    200\n",
    "# малина    300\n",
    "# груша     400\n",
    "# Name: eat, dtype: int64\n",
    "\n",
    "\n",
    "\n",
    "#  с готовым массивом одномерным\n",
    "import numpy as np\n",
    "things = np.array(['table', 'door', 'bed'])\n",
    "\n",
    "s2 = pd.Series(things) #присвоили только data, индексы присвоились автоматически, имя не присваивали\n",
    "display(s2)\n",
    "#  0    table\n",
    "#  1     door\n",
    "#  2      bed\n",
    "#  dtype: object\n",
    "\n",
    " # \n",
    " # из словаря, в котором ключами являются будущие метки, а значениями — будущие значения Series, при этом использование параметра name также возможно:\n",
    "\n",
    "countries = pd.Series({\n",
    "    'UK': 'Англия',\n",
    "    'CA': 'Канада',\n",
    "    'US' : 'США',\n",
    "    'RU': 'Россия',\n",
    "    'UA': 'Украина',\n",
    "    'BY': 'Беларусь',\n",
    "    'KZ': 'Казахстан'},\n",
    "    name = 'countries'\n",
    ")\n",
    "display(countries)"
   ]
  },
  {
   "cell_type": "markdown",
   "metadata": {},
   "source": [
    "### Обращение к значениям\n",
    "### .loc[индекс]   или .loc[[несколько индексов]] - добавляем еще скобки, получае м список, а на выходе объект Series\n",
    "### .iloc[порядковый номер элемента или срез]"
   ]
  },
  {
   "cell_type": "code",
   "execution_count": 60,
   "metadata": {},
   "outputs": [
    {
     "data": {
      "text/plain": [
       "UK       Англия\n",
       "CA       Канада\n",
       "US          США\n",
       "RU       Россия\n",
       "UA      Украина\n",
       "BY     Беларусь\n",
       "KZ    Казахстан\n",
       "Name: countries, dtype: object"
      ]
     },
     "metadata": {},
     "output_type": "display_data"
    },
    {
     "name": "stdout",
     "output_type": "stream",
     "text": [
      "UK    Англия\n",
      "CA    Канада\n",
      "Name: countries, dtype: object\n",
      "Канада\n",
      "CA    Канада\n",
      "US       США\n",
      "Name: countries, dtype: object\n",
      "CA    Канада\n",
      "RU    Россия\n",
      "Name: countries, dtype: object\n"
     ]
    },
    {
     "data": {
      "text/plain": [
       "UK    Англия\n",
       "CA    Канада\n",
       "Name: countries, dtype: object"
      ]
     },
     "execution_count": 60,
     "metadata": {},
     "output_type": "execute_result"
    }
   ],
   "source": [
    "countries = pd.Series(\n",
    "    data = ['Англия', 'Канада', 'США', 'Россия', 'Украина', 'Беларусь', 'Казахстан'],\n",
    "    index = ['UK', 'CA', 'US', 'RU', 'UA', 'BY', 'KZ'],\n",
    "    name = 'countries'\n",
    ")\n",
    "display(countries)\n",
    "\n",
    "countries.loc['UK']  \n",
    " #' Англия'\n",
    " \n",
    "#Для того чтобы достать информацию по нескольким индексам, необходимо обернуть интересующие индексы в список:\n",
    "print(countries.loc[['UK', 'CA']])  \n",
    "#  UK    Англия\n",
    "#  CA    Канада\n",
    "#  Name: countries, dtype: object\n",
    "\n",
    "#Обратите внимание, что в случае обращения по одному индексу возвращается строка. Если же обратиться по нескольким элементам, возвращается объект Series.\n",
    "\n",
    "\n",
    "# .iloc также вызывается с квадратными скобками и принимает на вход порядковые номера элементов Series (нумерация начинаются с 0). \n",
    "#В него можно так же передавать как один индекс, так и диапазон чисел.\n",
    "print(countries.iloc[1])  #Канада\n",
    "print(countries.iloc[1:3]) #  CA    Канада\n",
    "#                             US       США\n",
    "#                             Name: countries, dtype: objec\n",
    "print(countries.iloc[[1,3]]) \n",
    "\n",
    "#На самом деле loc и iloc можно опустить и обращаться к элементам Series напрямую по индексам, например countries[‘UK’, 'US', ‘UA’] или countries[0, 2, 4]. \n",
    "countries[[0,1]]"
   ]
  },
  {
   "cell_type": "code",
   "execution_count": null,
   "metadata": {},
   "outputs": [],
   "source": []
  },
  {
   "cell_type": "code",
   "execution_count": null,
   "metadata": {},
   "outputs": [],
   "source": []
  },
  {
   "cell_type": "code",
   "execution_count": null,
   "metadata": {},
   "outputs": [],
   "source": []
  }
 ],
 "metadata": {
  "kernelspec": {
   "display_name": "Python 3.9.10 64-bit",
   "language": "python",
   "name": "python3"
  },
  "language_info": {
   "codemirror_mode": {
    "name": "ipython",
    "version": 3
   },
   "file_extension": ".py",
   "mimetype": "text/x-python",
   "name": "python",
   "nbconvert_exporter": "python",
   "pygments_lexer": "ipython3",
   "version": "3.9.10"
  },
  "orig_nbformat": 4,
  "vscode": {
   "interpreter": {
    "hash": "3e20e8f24bd79d047f2db5bfb3f476e2e22892f53c68e86beee9ba154507af63"
   }
  }
 },
 "nbformat": 4,
 "nbformat_minor": 2
}
