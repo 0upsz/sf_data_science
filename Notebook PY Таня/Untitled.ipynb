{
 "cells": [
  {
   "cell_type": "code",
   "execution_count": 10,
   "id": "b33e5796",
   "metadata": {},
   "outputs": [
    {
     "ename": "KeyboardInterrupt",
     "evalue": "Interrupted by user",
     "output_type": "error",
     "traceback": [
      "\u001b[1;31m---------------------------------------------------------------------------\u001b[0m",
      "\u001b[1;31mKeyboardInterrupt\u001b[0m                         Traceback (most recent call last)",
      "\u001b[1;32m~\\AppData\\Local\\Temp/ipykernel_15520/255094492.py\u001b[0m in \u001b[0;36m<module>\u001b[1;34m\u001b[0m\n\u001b[0;32m      4\u001b[0m \u001b[1;32mwhile\u001b[0m \u001b[1;32mTrue\u001b[0m\u001b[1;33m:\u001b[0m\u001b[1;33m\u001b[0m\u001b[1;33m\u001b[0m\u001b[0m\n\u001b[0;32m      5\u001b[0m     \u001b[0mcount\u001b[0m \u001b[1;33m+=\u001b[0m \u001b[1;36m1\u001b[0m\u001b[1;33m\u001b[0m\u001b[1;33m\u001b[0m\u001b[0m\n\u001b[1;32m----> 6\u001b[1;33m     \u001b[0mpredict_number\u001b[0m \u001b[1;33m=\u001b[0m \u001b[0mint\u001b[0m\u001b[1;33m(\u001b[0m\u001b[0minput\u001b[0m\u001b[1;33m(\u001b[0m\u001b[1;34m\"Угадай число от 1 от 100:\"\u001b[0m\u001b[1;33m)\u001b[0m\u001b[1;33m)\u001b[0m\u001b[1;33m\u001b[0m\u001b[1;33m\u001b[0m\u001b[0m\n\u001b[0m\u001b[0;32m      7\u001b[0m \u001b[1;33m\u001b[0m\u001b[0m\n\u001b[0;32m      8\u001b[0m     \u001b[1;32mif\u001b[0m \u001b[0mpredict_number\u001b[0m \u001b[1;33m>\u001b[0m \u001b[0mnumber\u001b[0m\u001b[1;33m:\u001b[0m\u001b[1;33m\u001b[0m\u001b[1;33m\u001b[0m\u001b[0m\n",
      "\u001b[1;32m~\\anaconda3\\lib\\site-packages\\ipykernel\\kernelbase.py\u001b[0m in \u001b[0;36mraw_input\u001b[1;34m(self, prompt)\u001b[0m\n\u001b[0;32m   1004\u001b[0m                 \u001b[1;34m\"raw_input was called, but this frontend does not support input requests.\"\u001b[0m\u001b[1;33m\u001b[0m\u001b[1;33m\u001b[0m\u001b[0m\n\u001b[0;32m   1005\u001b[0m             )\n\u001b[1;32m-> 1006\u001b[1;33m         return self._input_request(\n\u001b[0m\u001b[0;32m   1007\u001b[0m             \u001b[0mstr\u001b[0m\u001b[1;33m(\u001b[0m\u001b[0mprompt\u001b[0m\u001b[1;33m)\u001b[0m\u001b[1;33m,\u001b[0m\u001b[1;33m\u001b[0m\u001b[1;33m\u001b[0m\u001b[0m\n\u001b[0;32m   1008\u001b[0m             \u001b[0mself\u001b[0m\u001b[1;33m.\u001b[0m\u001b[0m_parent_ident\u001b[0m\u001b[1;33m[\u001b[0m\u001b[1;34m\"shell\"\u001b[0m\u001b[1;33m]\u001b[0m\u001b[1;33m,\u001b[0m\u001b[1;33m\u001b[0m\u001b[1;33m\u001b[0m\u001b[0m\n",
      "\u001b[1;32m~\\anaconda3\\lib\\site-packages\\ipykernel\\kernelbase.py\u001b[0m in \u001b[0;36m_input_request\u001b[1;34m(self, prompt, ident, parent, password)\u001b[0m\n\u001b[0;32m   1049\u001b[0m             \u001b[1;32mexcept\u001b[0m \u001b[0mKeyboardInterrupt\u001b[0m\u001b[1;33m:\u001b[0m\u001b[1;33m\u001b[0m\u001b[1;33m\u001b[0m\u001b[0m\n\u001b[0;32m   1050\u001b[0m                 \u001b[1;31m# re-raise KeyboardInterrupt, to truncate traceback\u001b[0m\u001b[1;33m\u001b[0m\u001b[1;33m\u001b[0m\u001b[0m\n\u001b[1;32m-> 1051\u001b[1;33m                 \u001b[1;32mraise\u001b[0m \u001b[0mKeyboardInterrupt\u001b[0m\u001b[1;33m(\u001b[0m\u001b[1;34m\"Interrupted by user\"\u001b[0m\u001b[1;33m)\u001b[0m \u001b[1;32mfrom\u001b[0m \u001b[1;32mNone\u001b[0m\u001b[1;33m\u001b[0m\u001b[1;33m\u001b[0m\u001b[0m\n\u001b[0m\u001b[0;32m   1052\u001b[0m             \u001b[1;32mexcept\u001b[0m \u001b[0mException\u001b[0m\u001b[1;33m:\u001b[0m\u001b[1;33m\u001b[0m\u001b[1;33m\u001b[0m\u001b[0m\n\u001b[0;32m   1053\u001b[0m                 \u001b[0mself\u001b[0m\u001b[1;33m.\u001b[0m\u001b[0mlog\u001b[0m\u001b[1;33m.\u001b[0m\u001b[0mwarning\u001b[0m\u001b[1;33m(\u001b[0m\u001b[1;34m\"Invalid Message:\"\u001b[0m\u001b[1;33m,\u001b[0m \u001b[0mexc_info\u001b[0m\u001b[1;33m=\u001b[0m\u001b[1;32mTrue\u001b[0m\u001b[1;33m)\u001b[0m\u001b[1;33m\u001b[0m\u001b[1;33m\u001b[0m\u001b[0m\n",
      "\u001b[1;31mKeyboardInterrupt\u001b[0m: Interrupted by user"
     ]
    }
   ],
   "source": [
    "import numpy as np\n",
    "number = np.random.randint(1,100)\n",
    "count = 0\n",
    "while True:\n",
    "    count += 1\n",
    "    predict_number = int(input(\"Угадай число от 1 от 100:\"))\n",
    "    \n",
    "    if predict_number > number:\n",
    "        print(\"Число должнл быть меньше\")\n",
    "    \n",
    "    elif predict_number < number:\n",
    "        print(\"Число должнл быть больше\")\n",
    "        \n",
    "    else:\n",
    "        print(f\"Вы угадали  число {number} за {count} раз\")\n",
    "        break"
   ]
  },
  {
   "cell_type": "code",
   "execution_count": 11,
   "id": "0f98b7df",
   "metadata": {},
   "outputs": [
    {
     "name": "stdout",
     "output_type": "stream",
     "text": [
      "Угадай число от 1 до 10090\n",
      "Число должно быть меньше!\n",
      "Угадай число от 1 до 10050\n",
      "Число должно быть больше!\n",
      "Угадай число от 1 до 10060\n",
      "Число должно быть меньше!\n",
      "Угадай число от 1 до 10055\n",
      "Число должно быть больше!\n",
      "Угадай число от 1 до 10056\n",
      "Вы угадали число! Это число = 56, за 5 попыток\n"
     ]
    }
   ],
   "source": [
    "import numpy as np\n",
    "\n",
    "number = np.random.randint(1, 101) # загадываем число\n",
    "count = 0\n",
    "\n",
    "while True:\n",
    "    count += 1\n",
    "    predict_number = int(input(\"Угадай число от 1 до 100\"))\n",
    "\n",
    "    if predict_number > number:\n",
    "        print(\"Число должно быть меньше!\")\n",
    "\n",
    "    elif predict_number < number:\n",
    "        print(\"Число должно быть больше!\")\n",
    "\n",
    "    else:\n",
    "        print(f\"Вы угадали число! Это число = {number}, за {count} попыток\")\n",
    "        break # конец игры, выход из цикла"
   ]
  },
  {
   "cell_type": "code",
   "execution_count": 14,
   "id": "725ba8c3",
   "metadata": {},
   "outputs": [
    {
     "data": {
      "text/plain": [
       "238328"
      ]
     },
     "execution_count": 14,
     "metadata": {},
     "output_type": "execute_result"
    }
   ],
   "source": [
    "python_string = 'Hello! My name is Python. I will help you to analyze some data'\n",
    "(len(python_string))**3"
   ]
  },
  {
   "cell_type": "code",
   "execution_count": 16,
   "id": "79b8cd42",
   "metadata": {},
   "outputs": [
    {
     "data": {
      "text/plain": [
       "18"
      ]
     },
     "execution_count": 16,
     "metadata": {},
     "output_type": "execute_result"
    }
   ],
   "source": [
    "python_string.find(\"Python\")"
   ]
  },
  {
   "cell_type": "code",
   "execution_count": 21,
   "id": "8c36dd9b",
   "metadata": {},
   "outputs": [
    {
     "data": {
      "text/plain": [
       "13"
      ]
     },
     "execution_count": 21,
     "metadata": {},
     "output_type": "execute_result"
    }
   ],
   "source": [
    "text=python_string.replace(\",\", \"\").replace(\".\", \"\").replace(\"?\", \"\").replace(\"!\", \"\")\n",
    "len(text.split(\" \"))"
   ]
  },
  {
   "cell_type": "code",
   "execution_count": 24,
   "id": "b3581e55",
   "metadata": {},
   "outputs": [
    {
     "name": "stdout",
     "output_type": "stream",
     "text": [
      "User Lena changed password to qwerty\n"
     ]
    }
   ],
   "source": [
    "# Напишите свою функцию password_change, которая должна выводить на экран \n",
    "# отформатированную строку в следующем виде: \n",
    "\n",
    "# \"User user_name changed password to new_password\"\n",
    "\n",
    "# Мы уже сделали заготовку функции вам осталось только задать строку\n",
    "# Переменные, которые надо использовать, указаны в круглых скобках после имени функции\n",
    "# user_name - имя пользователя, new_password - новый пароль\n",
    "# запишите форматированную строку вместо знаков вопроса\n",
    "# ! обязательное условие - задача должна быть решена с использованием метода format\n",
    "\n",
    "def change_password(user_name, new_password):\n",
    "    text=(f\"User {user_name} changed password to {new_password}\")\n",
    "    return text\n",
    "\n",
    "print(change_password(\"Lena\", \"qwerty\"))\n"
   ]
  },
  {
   "cell_type": "code",
   "execution_count": 64,
   "id": "a2ad4280",
   "metadata": {},
   "outputs": [],
   "source": [
    "#Напишите функцию get_unique_words(), которая избавляется от знаков препинания в тексте и возвращает упорядоченный список\n",
    "#(слова расположены по алфавиту) из уникальных (неповторяющихся) слов. Учтите, что слова, написанные в разных регистрах \n",
    "#считаются одним и тем же словом.\n",
    "\n",
    "#Можно использовать готовый список со знаками препинания:\n",
    "\n",
    "punctuation_list = ['.', ',', ';', ':', '...', '!', '?', '-', '\"', '(', ')']\n",
    "#Текст, который можно использовать в качестве примера:\n",
    "\n",
    "text_example = \"A beginning is the time for taking the most delicate care that the balances are correct. This every sister of the Bene Gesserit knows. To begin your study of the life of Muad'Dib, then take care that you first place him in his time: born in the 57th year of the Padishah Emperor, Shaddam IV. And take the most special care that you locate Muad'Dib in his place: the planet Arrakis. Do not be deceived by the fact that he was born on Caladan and lived his first fifteen years there. Arrakis, the planet known as Dune, is forever his place.\"\n",
    "def get_unique_words(text):\n",
    "    text=text.lower()\n",
    "   \n",
    "    for znak in punctuation_list:\n",
    "        if znak in text:\n",
    "            text=text.replace(znak,\"\")\n",
    "    text=text.split()\n",
    "    spisok=[]\n",
    "    for i in text:\n",
    "        if i not in spisok:\n",
    "            spisok.append(i)\n",
    "    spisok.sort()\n",
    "    return spisok"
   ]
  },
  {
   "cell_type": "code",
   "execution_count": 66,
   "id": "cf5870f2",
   "metadata": {},
   "outputs": [
    {
     "name": "stdout",
     "output_type": "stream",
     "text": [
      "['57th', 'a', 'and', 'are', 'arrakis', 'as', 'balances', 'be', 'begin', 'beginning', 'bene', 'born', 'by', 'caladan', 'care', 'correct', 'deceived', 'delicate', 'do', 'dune', 'emperor', 'every', 'fact', 'fifteen', 'first', 'for', 'forever', 'gesserit', 'he', 'him', 'his', 'in', 'is', 'iv', 'known', 'knows', 'life', 'lived', 'locate', 'most', \"muad'dib\", 'not', 'of', 'on', 'padishah', 'place', 'planet', 'shaddam', 'sister', 'special', 'study', 'take', 'taking', 'that', 'the', 'then', 'there', 'this', 'time', 'to', 'was', 'year', 'years', 'you', 'your']\n"
     ]
    }
   ],
   "source": [
    "print(get_unique_words(text_example))"
   ]
  },
  {
   "cell_type": "code",
   "execution_count": 67,
   "id": "cb1c6649",
   "metadata": {},
   "outputs": [
    {
     "ename": "SyntaxError",
     "evalue": "invalid syntax (Temp/ipykernel_15520/950047557.py, line 1)",
     "output_type": "error",
     "traceback": [
      "\u001b[1;36m  File \u001b[1;32m\"C:\\Users\\tanya\\AppData\\Local\\Temp/ipykernel_15520/950047557.py\"\u001b[1;36m, line \u001b[1;32m1\u001b[0m\n\u001b[1;33m    Модифицируем предыдущее задание.\u001b[0m\n\u001b[1;37m                 ^\u001b[0m\n\u001b[1;31mSyntaxError\u001b[0m\u001b[1;31m:\u001b[0m invalid syntax\n"
     ]
    }
   ],
   "source": [
    "Модифицируем предыдущее задание.\n",
    "\n",
    "Необходимо написать функцию get_most_frequent_word(), которая возвращает самое часто встречающееся слово в тексте.\n",
    "Не забудьте очистить тест от знаков пунктуации и привести текст к единому регистру (слова в верхнем и нижнем регистре \n",
    "считаются одним и тем же словом).\n",
    "\n",
    "Для решения можно использовать функцию из предыдущего задания."
   ]
  },
  {
   "cell_type": "code",
   "execution_count": 119,
   "id": "13c70cae",
   "metadata": {},
   "outputs": [],
   "source": [
    "def get_most_frequent_word(text):\n",
    "    text=text.lower()\n",
    "   \n",
    "    for znak in punctuation_list:\n",
    "        text=text.replace(znak,\"\")\n",
    "    text=text.split()\n",
    "    \n",
    "    count_word={}\n",
    "   \n",
    "    for i in text:\n",
    "        count=text.count(i) #количество слова в тексе count\n",
    "        count_word[i]=count\n",
    "    print(max(count_word.values()))\n",
    "    \n",
    "    max_values=max(count_word.values())\n",
    "    for x,y in count_word.items():\n",
    "        if y == max_values:\n",
    "            return x\n",
    "        "
   ]
  },
  {
   "cell_type": "code",
   "execution_count": 120,
   "id": "67de33e5",
   "metadata": {},
   "outputs": [
    {
     "name": "stdout",
     "output_type": "stream",
     "text": [
      "11\n",
      "the\n"
     ]
    }
   ],
   "source": [
    "print(get_most_frequent_word(text_example))"
   ]
  },
  {
   "cell_type": "code",
   "execution_count": 125,
   "id": "d86c8a14",
   "metadata": {},
   "outputs": [
    {
     "name": "stdout",
     "output_type": "stream",
     "text": [
      "0\n",
      "8\n"
     ]
    }
   ],
   "source": [
    "# Разработайте функцию holes_count(), которая подсчитывает количество отверстий \n",
    "# в заданном числе. Например, в цифре 8 два отверстия, в цифре 9 - одно. \n",
    "# В числе 146 - два отверстия. \n",
    "# Подсказка: используйте словарь для записи количества отверстий в цифрах\n",
    "\n",
    "def holes_count(number):\n",
    "    hole_list={'1':0, \"2\":0, '3':0, '4':0, '5':0, '6':1, '7':0, '8':2, '9':1, \"0\":1}\n",
    "    number=str(number)\n",
    "    result=0\n",
    "    for i in number:\n",
    "        result+=hole_list[i]\n",
    "    return result\n",
    "\n",
    "print(holes_count(123))\n",
    "print(holes_count(8888))\n"
   ]
  },
  {
   "cell_type": "code",
   "execution_count": null,
   "id": "d9109bc4",
   "metadata": {},
   "outputs": [],
   "source": [
    "# Напишите программу, которая запрашивает у пользователя следующие данные : username, age, email о нескольких пользователях\n",
    "    #и собирает эти данные в структуру:\n",
    "\n",
    "[(1, {'username': user1, 'age': age1, 'email': email1}), \n",
    "(2, {'username': user2, 'age': age2, 'email': email2}), ... ]\n",
    "#Первый элемент каждого кортежа — порядковый номер пользователя, второй элемент — словарь с данными.\n",
    "\n",
    "#В итоге должен получиться список с кортежами.\n",
    "\n",
    "#Далее необходимо провести аналитику (собрать данные о пользователях в словарь)\n",
    "\n",
    "{'username': [user1, user2, ...],\n",
    "'age': [age1, age2, ...],\n",
    "'email': [email1, email2, ...]}\n",
    "#и вывести эту аналитику на экран."
   ]
  },
  {
   "cell_type": "code",
   "execution_count": 216,
   "id": "d8ffcea8",
   "metadata": {},
   "outputs": [],
   "source": [
    "n=0   \n",
    "list_info=[]   \n",
    "dicter={}   \n",
    "list_username=[]\n",
    "list_age=[]\n",
    "list_email=[]\n",
    "def info(list_info=None,dicter=None, list_username=None, list_age=None, list_email=None):\n",
    "    list_info=[]   \n",
    "    dicter={}   \n",
    "    list_username=[]\n",
    "    list_age=[]\n",
    "    list_email=[]\n",
    "    while True:\n",
    "        username=str(input('Введите имяЖ '))\n",
    "        age=int(input('Введите возраст '))\n",
    "        email=str(input('Введите маил '))\n",
    "        global n \n",
    "        n+=1\n",
    "        result = (n,{'username':username, 'age': age, 'email': email})\n",
    "        \n",
    "        list_info.append(result)\n",
    "        \n",
    "        list_username.append(username)\n",
    "        list_age.append(age)\n",
    "        list_email.append(email)\n",
    "        \n",
    "        dicter.update({'username': list_username, 'age':list_age, 'email': list_email})\n",
    "        yield  list_info , dicter\n",
    "            \n",
    "\n",
    "                \n",
    "\n"
   ]
  },
  {
   "cell_type": "code",
   "execution_count": 217,
   "id": "92b9a313",
   "metadata": {
    "scrolled": true
   },
   "outputs": [
    {
     "name": "stdout",
     "output_type": "stream",
     "text": [
      "Введите имяЖ t\n",
      "Введите возраст 4\n",
      "Введите маил g\n",
      "([(1, {'username': 't', 'age': 4, 'email': 'g'})], {'username': ['t'], 'age': [4], 'email': ['g']})\n",
      "Введите имяЖ t\n",
      "Введите возраст y\n"
     ]
    },
    {
     "ename": "ValueError",
     "evalue": "invalid literal for int() with base 10: 'y'",
     "output_type": "error",
     "traceback": [
      "\u001b[1;31m---------------------------------------------------------------------------\u001b[0m",
      "\u001b[1;31mValueError\u001b[0m                                Traceback (most recent call last)",
      "\u001b[1;32m~\\AppData\\Local\\Temp/ipykernel_15520/3960294590.py\u001b[0m in \u001b[0;36m<module>\u001b[1;34m\u001b[0m\n\u001b[0;32m      1\u001b[0m \u001b[0mprint\u001b[0m\u001b[1;33m(\u001b[0m\u001b[0mnext\u001b[0m\u001b[1;33m(\u001b[0m\u001b[0minfo\u001b[0m\u001b[1;33m(\u001b[0m\u001b[0mlist_info\u001b[0m\u001b[1;33m,\u001b[0m \u001b[0mdicter\u001b[0m\u001b[1;33m,\u001b[0m \u001b[0mlist_username\u001b[0m\u001b[1;33m,\u001b[0m \u001b[0mlist_age\u001b[0m\u001b[1;33m,\u001b[0m \u001b[0mlist_email\u001b[0m\u001b[1;33m)\u001b[0m\u001b[1;33m)\u001b[0m\u001b[1;33m)\u001b[0m\u001b[1;33m\u001b[0m\u001b[1;33m\u001b[0m\u001b[0m\n\u001b[1;32m----> 2\u001b[1;33m \u001b[0mprint\u001b[0m\u001b[1;33m(\u001b[0m\u001b[0mnext\u001b[0m\u001b[1;33m(\u001b[0m\u001b[0minfo\u001b[0m\u001b[1;33m(\u001b[0m\u001b[1;33m)\u001b[0m\u001b[1;33m)\u001b[0m\u001b[1;33m)\u001b[0m\u001b[1;33m\u001b[0m\u001b[1;33m\u001b[0m\u001b[0m\n\u001b[0m\u001b[0;32m      3\u001b[0m \u001b[0mprint\u001b[0m\u001b[1;33m(\u001b[0m\u001b[0mnext\u001b[0m\u001b[1;33m(\u001b[0m\u001b[0minfo\u001b[0m\u001b[1;33m(\u001b[0m\u001b[1;33m)\u001b[0m\u001b[1;33m)\u001b[0m\u001b[1;33m)\u001b[0m\u001b[1;33m\u001b[0m\u001b[1;33m\u001b[0m\u001b[0m\n",
      "\u001b[1;32m~\\AppData\\Local\\Temp/ipykernel_15520/3042544993.py\u001b[0m in \u001b[0;36minfo\u001b[1;34m(list_info, dicter, list_username, list_age, list_email)\u001b[0m\n\u001b[0;32m     13\u001b[0m     \u001b[1;32mwhile\u001b[0m \u001b[1;32mTrue\u001b[0m\u001b[1;33m:\u001b[0m\u001b[1;33m\u001b[0m\u001b[1;33m\u001b[0m\u001b[0m\n\u001b[0;32m     14\u001b[0m         \u001b[0musername\u001b[0m\u001b[1;33m=\u001b[0m\u001b[0mstr\u001b[0m\u001b[1;33m(\u001b[0m\u001b[0minput\u001b[0m\u001b[1;33m(\u001b[0m\u001b[1;34m'Введите имяЖ '\u001b[0m\u001b[1;33m)\u001b[0m\u001b[1;33m)\u001b[0m\u001b[1;33m\u001b[0m\u001b[1;33m\u001b[0m\u001b[0m\n\u001b[1;32m---> 15\u001b[1;33m         \u001b[0mage\u001b[0m\u001b[1;33m=\u001b[0m\u001b[0mint\u001b[0m\u001b[1;33m(\u001b[0m\u001b[0minput\u001b[0m\u001b[1;33m(\u001b[0m\u001b[1;34m'Введите возраст '\u001b[0m\u001b[1;33m)\u001b[0m\u001b[1;33m)\u001b[0m\u001b[1;33m\u001b[0m\u001b[1;33m\u001b[0m\u001b[0m\n\u001b[0m\u001b[0;32m     16\u001b[0m         \u001b[0memail\u001b[0m\u001b[1;33m=\u001b[0m\u001b[0mstr\u001b[0m\u001b[1;33m(\u001b[0m\u001b[0minput\u001b[0m\u001b[1;33m(\u001b[0m\u001b[1;34m'Введите маил '\u001b[0m\u001b[1;33m)\u001b[0m\u001b[1;33m)\u001b[0m\u001b[1;33m\u001b[0m\u001b[1;33m\u001b[0m\u001b[0m\n\u001b[0;32m     17\u001b[0m         \u001b[1;32mglobal\u001b[0m \u001b[0mn\u001b[0m\u001b[1;33m\u001b[0m\u001b[1;33m\u001b[0m\u001b[0m\n",
      "\u001b[1;31mValueError\u001b[0m: invalid literal for int() with base 10: 'y'"
     ]
    }
   ],
   "source": [
    "print(next(info(list_info, dicter, list_username, list_age, list_email)))\n",
    "print(next(info()))\n",
    "print(next(info()))"
   ]
  },
  {
   "cell_type": "code",
   "execution_count": 213,
   "id": "e38f2e25",
   "metadata": {},
   "outputs": [
    {
     "name": "stdout",
     "output_type": "stream",
     "text": [
      "{'Smirnov': 3}\n",
      "{'Kuznetsova': 5}\n"
     ]
    }
   ],
   "source": [
    "def add_mark(name, mark, journal=None):\n",
    "    # Если журнал является None\n",
    "    # (напоминание: сравнивать объект с None\n",
    "    # корректнее через оператор is),\n",
    "    # запишем в journal пустой словарь\n",
    "    if journal is None:\n",
    "        journal = {}\n",
    "    journal[name] = mark\n",
    "    return journal\n",
    "\n",
    "\n",
    "group2 = add_mark('Smirnov', 3)\n",
    "print(group2)\n",
    "# Будет напечатано:\n",
    "# {'Smirnov': 3}\n",
    " \n",
    "group3 = add_mark('Kuznetsova', 5)\n",
    "print(group3)\n",
    "# Будет напечатано:\n",
    "# {'Kuznetsova': 5}"
   ]
  },
  {
   "cell_type": "code",
   "execution_count": null,
   "id": "e08a9d37",
   "metadata": {},
   "outputs": [],
   "source": [
    "group2 = add_mark('Sov', 4)"
   ]
  },
  {
   "cell_type": "code",
   "execution_count": 198,
   "id": "c5b1d5f2",
   "metadata": {},
   "outputs": [
    {
     "data": {
      "text/plain": [
       "dict"
      ]
     },
     "execution_count": 198,
     "metadata": {},
     "output_type": "execute_result"
    }
   ],
   "source": [
    "type(group2)"
   ]
  },
  {
   "cell_type": "code",
   "execution_count": 214,
   "id": "4359c217",
   "metadata": {},
   "outputs": [
    {
     "data": {
      "text/plain": [
       "{'Smirnov': 3, 'So4488v': 4588}"
      ]
     },
     "execution_count": 214,
     "metadata": {},
     "output_type": "execute_result"
    }
   ],
   "source": [
    "group2 = add_mark('So4488v', 4588, group2)\n",
    "group2"
   ]
  },
  {
   "cell_type": "code",
   "execution_count": 212,
   "id": "53c82161",
   "metadata": {},
   "outputs": [],
   "source": [
    "journal=None"
   ]
  },
  {
   "cell_type": "code",
   "execution_count": 234,
   "id": "40da20ad",
   "metadata": {},
   "outputs": [
    {
     "name": "stdout",
     "output_type": "stream",
     "text": [
      "7\n"
     ]
    }
   ],
   "source": [
    "# Напишите функция find_min_number(), которая принимает три числа на вход \n",
    "# и возвращает наименьшее из них.\n",
    "\n",
    "# Используйте условия для решения задачи\n",
    "\n",
    "def find_min_number(a, b, c):\n",
    "    return min(a,b,c)\n",
    "\n",
    "print(find_min_number(66, 7, 10))"
   ]
  },
  {
   "cell_type": "code",
   "execution_count": 229,
   "id": "51e0e53e",
   "metadata": {},
   "outputs": [
    {
     "name": "stdout",
     "output_type": "stream",
     "text": [
      "5\n"
     ]
    }
   ],
   "source": [
    "# Напишите функцию sum_min_numbers(), которая также принимает три числа на вход \n",
    "# и возвращает сумму двух наименьших.\n",
    "\n",
    "# Можно использовать функцию из предыдущего задания для поиска минимального числа.\n",
    "\n",
    "def sum_min_numbers(a, b, c):\n",
    "    list_1=(a,b,c)\n",
    "    numbers_sort=sorted(list_1)\n",
    "    result=numbers_sort[0]+numbers_sort[1]\n",
    "    \n",
    "    return result\n",
    "\n",
    "print(sum_min_numbers(1, 5, 4))\n"
   ]
  },
  {
   "cell_type": "code",
   "execution_count": 238,
   "id": "27de9768",
   "metadata": {},
   "outputs": [
    {
     "name": "stdout",
     "output_type": "stream",
     "text": [
      "False\n",
      "True\n"
     ]
    }
   ],
   "source": [
    "# Напишите функцию is_divided_by_six(), которая проверяет, делится ли число на шесть. \n",
    "# При решении воспользуйтесь тернарным оператором!\n",
    "\n",
    "# Функция должна вернуть True, если число делится на шесть или False в обратном случае.\n",
    "\n",
    "# Подсказка: число делится на шесть, если оно делится на 2 и на 3\n",
    "\n",
    "def is_divided_by_six(number):\n",
    "    result=True if number%2==0 and number%3==0 else False\n",
    "    return result\n",
    "\n",
    "print(is_divided_by_six(13))\n",
    "print(is_divided_by_six(6))\n"
   ]
  },
  {
   "cell_type": "code",
   "execution_count": 239,
   "id": "042583d2",
   "metadata": {},
   "outputs": [
    {
     "name": "stdout",
     "output_type": "stream",
     "text": [
      "0\n",
      "1\n",
      "-1\n"
     ]
    }
   ],
   "source": [
    "# Напишите функцию check_number_sign(), которая возвращает 1, если число положительное, \n",
    "# -1, если число отрицательное, 0, если число - 0.\n",
    "\n",
    "# Используйте в коде конструкцию if-elif-else.\n",
    "\n",
    "# Функция принимает на вход одно число.\n",
    "\n",
    "def check_number_sign(x):\n",
    "    if x>0:\n",
    "        return 1\n",
    "    elif x<0:\n",
    "        return -1\n",
    "    else:\n",
    "        return 0\n",
    "\n",
    "\n",
    "print(check_number_sign(0))\n",
    "print(check_number_sign(100))\n",
    "print(check_number_sign(-1))"
   ]
  },
  {
   "cell_type": "code",
   "execution_count": 247,
   "id": "f02bcc14",
   "metadata": {},
   "outputs": [
    {
     "name": "stdout",
     "output_type": "stream",
     "text": [
      "На ноль делить нельзя\n",
      "None\n"
     ]
    }
   ],
   "source": [
    "# Напишите функцию def division(), которая осуществляет деление двух чисел. \n",
    "# Необходимо реализовать внутри функции отлов исключения ZeroDivisionError, \n",
    "# в случае, если пользователь, при вызове функции, пытается поделить на ноль.\n",
    "\n",
    "# Функция принимает на вход два числа - делимое и делитель.\n",
    "\n",
    "def division(a, b):\n",
    "    try:\n",
    "        result=a/b\n",
    "      \n",
    "    except ZeroDivisionError:\n",
    "        print(\"На ноль делить нельзя\")\n",
    "        return \n",
    "    return result\n",
    "\n",
    "print(division(1, 0))\n",
    "#print(division(1, 1))\n"
   ]
  },
  {
   "cell_type": "code",
   "execution_count": 256,
   "id": "180e2d7e",
   "metadata": {},
   "outputs": [
    {
     "name": "stdout",
     "output_type": "stream",
     "text": [
      "True\n",
      "False\n"
     ]
    }
   ],
   "source": [
    "# Напишите функцию lucky_ticket(), которая проверяет, является ли билетик счастливым.\n",
    "\n",
    "# Памятка: билетик счастливый, если сумма первых трех цифр равна сумме последних трех цифр.\n",
    "\n",
    "# На вход функция получает шестизначное число.\n",
    "\n",
    "def lucky_ticket(ticket_number):\n",
    "    ticket_number=str(ticket_number)\n",
    "    first=(ticket_number[0]+ticket_number[1]+ ticket_number[2])\n",
    "    last=(ticket_number[-1]+ticket_number[-2]+ ticket_number[-3])\n",
    "    if first==last:\n",
    "        return True\n",
    "    else:\n",
    "        return False\n",
    "\n",
    "print(lucky_ticket(111111))\n",
    "print(lucky_ticket(123456))\n"
   ]
  },
  {
   "cell_type": "code",
   "execution_count": 254,
   "id": "1490b9bd",
   "metadata": {},
   "outputs": [
    {
     "data": {
      "text/plain": [
       "'123'"
      ]
     },
     "execution_count": 254,
     "metadata": {},
     "output_type": "execute_result"
    }
   ],
   "source": [
    "a=123\n",
    "a=str(a)\n",
    "type(a)\n",
    "a"
   ]
  },
  {
   "cell_type": "code",
   "execution_count": 284,
   "id": "6708170f",
   "metadata": {},
   "outputs": [
    {
     "name": "stdout",
     "output_type": "stream",
     "text": [
      "55\n"
     ]
    }
   ],
   "source": [
    "# Напишите функцию def fib_number(), которая получается на вход некоторое \n",
    "# число n и выводит n-e число Фибоначчи. \n",
    "# Задачу можно решить как с помощью цикла for, так и с помощью цикла while\n",
    "\n",
    "# Примечание: числа Фибоначчи определяются так\n",
    "\n",
    "\n",
    "# ```\n",
    "# a0 = 0, a1 = 1, a2 = a1 + a0 = 1, an = a_n-1 + a_n-2\n",
    "# ```\n",
    "\n",
    "# Примечание: в модуле по функциям уже было задание на вычисление чисел Фибоначчи \n",
    "# с помощью рекурсивных функций. Здесь необходимо реализовать те же вычисления, \n",
    "# но без использования рекурсии.\n",
    "\n",
    "def fib_number(n):\n",
    "    a1=0\n",
    "    a2=1\n",
    "    f=1\n",
    "    if n==0:\n",
    "        return 0\n",
    "    if n==1:\n",
    "        return 1\n",
    "    else:\n",
    "        for i in range(n-1):\n",
    "            f=a1+a2\n",
    "            a1=a2\n",
    "            a2=f\n",
    "        return f\n",
    "\n",
    "\n",
    "print(fib_number(10))\n"
   ]
  },
  {
   "cell_type": "code",
   "execution_count": 283,
   "id": "9ad082e6",
   "metadata": {},
   "outputs": [
    {
     "name": "stdout",
     "output_type": "stream",
     "text": [
      "55\n"
     ]
    }
   ],
   "source": [
    "def fib_number(n):\n",
    "    a_res = None\n",
    "    a0 = 0\n",
    "    a1 = 1\n",
    "    if n == 1:\n",
    "        return a1\n",
    "    if n == 0:\n",
    "        return a0\n",
    "    count = 2\n",
    "    while count <= n:\n",
    "        a_res = a0 + a1\n",
    "        a0 = a1\n",
    "        a1 = a_res\n",
    "        count += 1\n",
    "    return a_res\n",
    "\n",
    "print(fib_number(10))\n"
   ]
  },
  {
   "cell_type": "code",
   "execution_count": 285,
   "id": "800c7864",
   "metadata": {},
   "outputs": [
    {
     "name": "stdout",
     "output_type": "stream",
     "text": [
      "5\n"
     ]
    }
   ],
   "source": [
    "# Напишите функцию def even_numbers_in_matrix(), \n",
    "# которая получает на вход матрицу (список из списков) \n",
    "# и возвращает количество четных чисел в ней.\n",
    "\n",
    "matrix_example = [\n",
    "          [1, 5, 4],\n",
    "          [4, 2, -2],\n",
    "          [7, 65, 88]\n",
    "]\n",
    "\n",
    "def even_numbers_in_matrix(matrix):\n",
    "    count=0\n",
    "    for i in matrix:\n",
    "        for j in i:\n",
    "            if j%2==0:\n",
    "                count+=1\n",
    "    return count\n",
    "\n",
    "print(even_numbers_in_matrix(matrix_example))"
   ]
  },
  {
   "cell_type": "code",
   "execution_count": 318,
   "id": "beba2163",
   "metadata": {},
   "outputs": [
    {
     "name": "stdout",
     "output_type": "stream",
     "text": [
      "[[2, 10, 8], [8, 4, -4], [14, 130, 176]]\n"
     ]
    }
   ],
   "source": [
    "# Напишите функцию def matrix_sum(), которая получает на вход две матрицы \n",
    "# и возвращает их сумму.\n",
    "\n",
    "# Примечание: чтобы найти сумму двух матриц, нужно просуммировать \n",
    "# их соответствующие элементы. Но перед этим необходимо проверить, что размеры \n",
    "# матриц одинаковы (одинаковое количество столбцов и одинаковое количество строк)\n",
    "\n",
    "# Например:\n",
    "\n",
    "# 1 2 3   2 3 4   3 5 7\n",
    "# 2 3 4 + 4 5 6 = 6 8 10\n",
    "# 5 6 7   4 3 2   9 9 9\n",
    "\n",
    "matrix_example = [\n",
    "          [1, 5, 4],\n",
    "          [4, 2, -2],\n",
    "          [7, 65, 88]\n",
    "]\n",
    "\n",
    "def matrix_sum(matrix1, matrix2):\n",
    "  # проверяем размеры матриц - они должны совпадать!\n",
    "    new_matrix=[]\n",
    "    promezh=[]\n",
    "    if len(matrix1)==len(matrix2):\n",
    "      \n",
    "        for n in range(len(matrix1)): # 0 1 2 \n",
    "            if len(matrix1[n])==len(matrix2[n]):\n",
    "    \n",
    "               \n",
    "                promezh=[]\n",
    "                for m in range(len(matrix1[n])):\n",
    "                    promezh.append((matrix1[n][m])+(matrix2[n][m]))\n",
    "                new_matrix.append(promezh)\n",
    "                    \n",
    "                    \n",
    "            else:\n",
    "                print('Error! Matrices dimensions are different!')\n",
    "                return None\n",
    "    return new_matrix\n",
    "\n",
    "print(matrix_sum(matrix_example, matrix_example))\n"
   ]
  },
  {
   "cell_type": "code",
   "execution_count": 319,
   "id": "5ce6547c",
   "metadata": {},
   "outputs": [
    {
     "ename": "SyntaxError",
     "evalue": "invalid syntax (Temp/ipykernel_15520/3563910480.py, line 1)",
     "output_type": "error",
     "traceback": [
      "\u001b[1;36m  File \u001b[1;32m\"C:\\Users\\tanya\\AppData\\Local\\Temp/ipykernel_15520/3563910480.py\"\u001b[1;36m, line \u001b[1;32m1\u001b[0m\n\u001b[1;33m    Реализуйте программу, которая сжимает последовательность символов. На вход подаётся последовательность вида:\u001b[0m\n\u001b[1;37m               ^\u001b[0m\n\u001b[1;31mSyntaxError\u001b[0m\u001b[1;31m:\u001b[0m invalid syntax\n"
     ]
    }
   ],
   "source": [
    "Реализуйте программу, которая сжимает последовательность символов. На вход подаётся последовательность вида:\n",
    "\n",
    "aaabbccccdaa\n",
    "Необходимо вывести строку, состоящую из символов и количества повторений этого символа. Вывод должен выглядеть как:\n",
    "\n",
    "a3b2c4d1a2"
   ]
  },
  {
   "cell_type": "code",
   "execution_count": 364,
   "id": "6704aee8",
   "metadata": {},
   "outputs": [
    {
     "name": "stdout",
     "output_type": "stream",
     "text": [
      "a2 a2\n",
      "a3 a2a3\n",
      "c2 a2a3b1b1c1c1c2\n",
      "c3 a2a3b1b1c1c1c2c3\n",
      "a2a3b1b1c1c1c2c3d1a1a1\n"
     ]
    }
   ],
   "source": [
    "text='aaabbccccdaa'\n",
    "index=1\n",
    "new_text=''\n",
    "indexi=0\n",
    "b=''\n",
    "count=1\n",
    "for i in range(len(text)):\n",
    "   \n",
    "    \n",
    "    if text[i]==text[index]:\n",
    "        count+=1 # счетчик количества повторов 3\n",
    "        \n",
    "        new_text=text[indexi]+str(count)    # новый измененный текс сжатый\n",
    "        indexi+=1  # вместо i 2\n",
    "        index+=1 # следующая буква для сравнения с предыдущей 3\n",
    "        b+=new_text\n",
    "        print(new_text, b)\n",
    "    if text[i]!=text[index]:\n",
    "        count=1\n",
    "        indexi+=1\n",
    "        new_text=text[indexi]+str(count)\n",
    "        index+=1\n",
    "        b+=new_text\n",
    "    if index==len(text):\n",
    "        print(b)\n",
    "        break\n",
    "\n"
   ]
  },
  {
   "cell_type": "code",
   "execution_count": null,
   "id": "ac77c0d0",
   "metadata": {},
   "outputs": [],
   "source": []
  },
  {
   "cell_type": "code",
   "execution_count": 379,
   "id": "f586093c",
   "metadata": {},
   "outputs": [
    {
     "name": "stdout",
     "output_type": "stream",
     "text": [
      "a3b2c4d1a2\n"
     ]
    }
   ],
   "source": [
    "text='aaabbccccdaa'\n",
    "index=1\n",
    "new_text=''\n",
    "pred=text[0]\n",
    "b=''\n",
    "count=0\n",
    "for i in text:\n",
    "    if i==pred:\n",
    "        count+=1 # счетчик количества повторов 3\n",
    "        new_text=i+str(count)\n",
    "    else:\n",
    "        i!=pred\n",
    "        b+=new_text\n",
    "        pred=i\n",
    "        count=1\n",
    "        new_text=i+str(count)\n",
    "b+=new_text   \n",
    "print(b)"
   ]
  },
  {
   "cell_type": "code",
   "execution_count": null,
   "id": "685c2429",
   "metadata": {},
   "outputs": [],
   "source": [
    "апишите функцию def distance_between_dots().\n",
    "Функция должна получать на вход координаты двух точек (в виде четырёх чисел) и возвращать расстояние между ними.\n",
    "Чтобы посчитать расстояние между точками, нужно воспользоваться формулой:"
   ]
  },
  {
   "cell_type": "code",
   "execution_count": 393,
   "id": "fe34ea78",
   "metadata": {},
   "outputs": [],
   "source": [
    "def distance_between_dots(x1,x2,y1,y2):\n",
    "    try:\n",
    "        coord=[x1,x2,y1,y2]\n",
    "        for c in coord:\n",
    "            if (type(c) is not int) and (type(c) is not float):\n",
    "                raise ValueError\n",
    "    except ValueError:\n",
    "        print(\"не число\")\n",
    "        return\n",
    "    result=((x1 - x2)**2 + (y1 - y2)  **2)**1/2\n",
    "    return result\n",
    "    "
   ]
  },
  {
   "cell_type": "code",
   "execution_count": 394,
   "id": "9759aab8",
   "metadata": {},
   "outputs": [
    {
     "name": "stdout",
     "output_type": "stream",
     "text": [
      "0.0\n",
      "не число\n",
      "None\n"
     ]
    }
   ],
   "source": [
    "print(distance_between_dots(1, 1, 2, 2))\n",
    "print(distance_between_dots(\"a\", 1, 2, 3))"
   ]
  },
  {
   "cell_type": "code",
   "execution_count": null,
   "id": "74d26a88",
   "metadata": {},
   "outputs": [],
   "source": []
  },
  {
   "cell_type": "code",
   "execution_count": 402,
   "id": "298fe635",
   "metadata": {},
   "outputs": [],
   "source": [
    "#Напишите функцию, которая вычисляет среднее арифметическое значений списка.\n",
    "#Примечание: среднее арифметическое считается как сумма всех чисел, делённая на их количество.\n",
    "def calculate_average(x):\n",
    "    try:\n",
    "        if type(x) is not list:\n",
    "            raise ValueError\n",
    "    except ValueError:\n",
    "        print(\"not spisok\")\n",
    "        return\n",
    "    try:\n",
    "        result=sum(x)/len(x)\n",
    "    except TypeError:\n",
    "        print('not number')\n",
    "        return\n",
    "    return result"
   ]
  },
  {
   "cell_type": "code",
   "execution_count": 403,
   "id": "edc49a9d",
   "metadata": {},
   "outputs": [
    {
     "name": "stdout",
     "output_type": "stream",
     "text": [
      "2.0\n",
      "not spisok\n",
      "None\n",
      "not number\n",
      "None\n"
     ]
    }
   ],
   "source": [
    "print(calculate_average([1, 2, 3]))\n",
    "print(calculate_average(1))\n",
    "print(calculate_average([\"a\", 1]))"
   ]
  },
  {
   "cell_type": "code",
   "execution_count": 404,
   "id": "9958a817",
   "metadata": {},
   "outputs": [
    {
     "name": "stdout",
     "output_type": "stream",
     "text": [
      "2.0\n"
     ]
    }
   ],
   "source": [
    "calculate_average=lambda x: sum(x)/len(x)\n",
    "print(calculate_average([1, 2, 3]))"
   ]
  },
  {
   "cell_type": "code",
   "execution_count": null,
   "id": "af8f2561",
   "metadata": {},
   "outputs": [],
   "source": [
    "Напишите функцию, которая принимает на вход строку и подсчитывает в ней количество слов начинающихся на каждую букву алфавита.\n",
    "Возвращать функция должна словарь следующего вида:\n",
    "\n",
    "{'a': 10, 'b': 3, 'c': 0, ...}\n",
    "Для задания словаря используйте строку с алфавитом:\n",
    "\n",
    "alphabet_str = 'abcdefghijklmnopqrstuvwxyz'\n",
    "Словарь с буквами создайте с помощью генератора.\n",
    "\n",
    "Не забудьте, что слова в предложении могут начинаться с большой буквы!"
   ]
  },
  {
   "cell_type": "code",
   "execution_count": 461,
   "id": "b6886d03",
   "metadata": {},
   "outputs": [],
   "source": [
    "def text1(a):\n",
    "    count=1\n",
    "    slovar={}\n",
    "    alphabet_str = 'abcdefghijklmnopqrstuvwxyz'\n",
    "    for i in alphabet_str:\n",
    "        slovar[i]=0\n",
    "    a=a.lower()\n",
    "    a=a.replace(\",\", \"\").replace(\".\", \"\").replace(\"?\", \"\").replace(\"!\", \"\").replace(\"''\", \"\")\n",
    "    a=a.split()\n",
    "    a.sort()\n",
    "    for slova in a:\n",
    "        \n",
    "        if slova[0] in slovar:\n",
    "            \n",
    "            slovar[slova[0]]+=1\n",
    "        else:\n",
    "            count=1\n",
    "            slovar[slova[0]]=count\n",
    "    \n",
    "    return slovar"
   ]
  },
  {
   "cell_type": "code",
   "execution_count": 464,
   "id": "3e3858cb",
   "metadata": {},
   "outputs": [
    {
     "name": "stdout",
     "output_type": "stream",
     "text": [
      "{'a': 4, 'b': 1, 'c': 1, 'd': 0, 'e': 1, 'f': 4, 'g': 3, 'h': 0, 'i': 3, 'j': 0, 'k': 0, 'l': 0, 'm': 0, 'n': 6, 'o': 2, 'p': 0, 'q': 0, 'r': 5, 's': 1, 't': 11, 'u': 0, 'v': 0, 'w': 0, 'x': 0, 'y': 0, 'z': 0}\n"
     ]
    }
   ],
   "source": [
    "\n",
    "a=\"Fibonacci numbers are strongly related to the golden ratio: Binet's formula expresses the nth Fibonacci number in terms of n and the golden ratio, and implies that the ratio of two consecutive Fibonacci numbers tends to the golden ratio as n increases.\"\n",
    "print(text1(a))"
   ]
  },
  {
   "cell_type": "code",
   "execution_count": 463,
   "id": "3c77b9db",
   "metadata": {},
   "outputs": [],
   "source": [
    "def text1(a):\n",
    "    alphabet_str = 'abcdefghijklmnopqrstuvwxyz'\n",
    "    slovar={letter:0 for letter in alphabet_str}\n",
    "    \n",
    "    a=a.lower().split()\n",
    "    for i in a:\n",
    "        slovar[i[0]]+=1\n",
    "    return slovar"
   ]
  },
  {
   "cell_type": "code",
   "execution_count": 465,
   "id": "cbff32d5",
   "metadata": {},
   "outputs": [],
   "source": [
    "#Вспомним декораторы.\n",
    "\n",
    "#Дан список пользователей:\n",
    "\n",
    "users_list = ['admin', 'ivan', 'ivan_ivan']\n",
    "#Напишите декоратор, который запрашивает имя пользователя и проверяет, есть ли оно в списке пользователей.\n",
    "#Если да, то мы можем выполнить следующую нашу функцию:\n",
    "\n",
    "def get_data_from_database():\n",
    "    print(\"Super secure data from database\")\n",
    "#Если пользователя нет в списке, нужно вывести об этом сообщение и пропустить выполнение функции get_data_from_database().\n"
   ]
  },
  {
   "cell_type": "code",
   "execution_count": 486,
   "id": "d2429bdc",
   "metadata": {},
   "outputs": [],
   "source": [
    "def get_data_from_database():\n",
    "    print(\"Super secure data from database\")\n",
    "users_list = ['admin', 'ivan', 'ivan_ivan']\n",
    "    \n",
    "def func1(func):\n",
    "    name=input(\"ВВедите имя: \")\n",
    "    if name in users_list:\n",
    "        return func()\n",
    "    else:\n",
    "        print(\"Нет в списке\")\n",
    "        return \n",
    "    "
   ]
  },
  {
   "cell_type": "code",
   "execution_count": 487,
   "id": "5dc297de",
   "metadata": {},
   "outputs": [
    {
     "name": "stdout",
     "output_type": "stream",
     "text": [
      "ВВедите имя: o\n",
      "Нет в списке\n"
     ]
    }
   ],
   "source": [
    "func1(get_data_from_database)"
   ]
  },
  {
   "cell_type": "code",
   "execution_count": null,
   "id": "6d3886eb",
   "metadata": {},
   "outputs": [],
   "source": []
  }
 ],
 "metadata": {
  "kernelspec": {
   "display_name": "Python 3 (ipykernel)",
   "language": "python",
   "name": "python3"
  },
  "language_info": {
   "codemirror_mode": {
    "name": "ipython",
    "version": 3
   },
   "file_extension": ".py",
   "mimetype": "text/x-python",
   "name": "python",
   "nbconvert_exporter": "python",
   "pygments_lexer": "ipython3",
   "version": "3.9.7"
  }
 },
 "nbformat": 4,
 "nbformat_minor": 5
}
