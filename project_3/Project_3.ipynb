{
 "cells": [
  {
   "cell_type": "code",
   "execution_count": 116,
   "metadata": {},
   "outputs": [],
   "source": [
    "import os\n",
    "for dirname, _, filenames in os.walk('/kaggle/input'):\n",
    "    for filename in filenames:\n",
    "        print(os.path.join(dirname, filename))"
   ]
  },
  {
   "attachments": {},
   "cell_type": "markdown",
   "metadata": {},
   "source": [
    "# **Знакомство с данными**"
   ]
  },
  {
   "cell_type": "code",
   "execution_count": 3,
   "metadata": {},
   "outputs": [],
   "source": [
    "import pandas as pd\n",
    "import numpy as np\n",
    "import matplotlib.pyplot as plt\n",
    "import seaborn as sns\n",
    "from sklearn import preprocessing"
   ]
  },
  {
   "cell_type": "code",
   "execution_count": 216,
   "metadata": {},
   "outputs": [],
   "source": [
    "# создадим шаблон файла сабмита\n",
    "submit_data = pd.read_csv('data/submission.csv')"
   ]
  },
  {
   "cell_type": "code",
   "execution_count": 166,
   "metadata": {},
   "outputs": [
    {
     "data": {
      "text/html": [
       "<div>\n",
       "<style scoped>\n",
       "    .dataframe tbody tr th:only-of-type {\n",
       "        vertical-align: middle;\n",
       "    }\n",
       "\n",
       "    .dataframe tbody tr th {\n",
       "        vertical-align: top;\n",
       "    }\n",
       "\n",
       "    .dataframe thead th {\n",
       "        text-align: right;\n",
       "    }\n",
       "</style>\n",
       "<table border=\"1\" class=\"dataframe\">\n",
       "  <thead>\n",
       "    <tr style=\"text-align: right;\">\n",
       "      <th></th>\n",
       "      <th>hotel_address</th>\n",
       "      <th>additional_number_of_scoring</th>\n",
       "      <th>review_date</th>\n",
       "      <th>average_score</th>\n",
       "      <th>hotel_name</th>\n",
       "      <th>reviewer_nationality</th>\n",
       "      <th>negative_review</th>\n",
       "      <th>review_total_negative_word_counts</th>\n",
       "      <th>total_number_of_reviews</th>\n",
       "      <th>positive_review</th>\n",
       "      <th>review_total_positive_word_counts</th>\n",
       "      <th>total_number_of_reviews_reviewer_has_given</th>\n",
       "      <th>reviewer_score</th>\n",
       "      <th>tags</th>\n",
       "      <th>days_since_review</th>\n",
       "      <th>lat</th>\n",
       "      <th>lng</th>\n",
       "      <th>train_feat</th>\n",
       "    </tr>\n",
       "  </thead>\n",
       "  <tbody>\n",
       "    <tr>\n",
       "      <th>0</th>\n",
       "      <td>Stratton Street Mayfair Westminster Borough Lo...</td>\n",
       "      <td>581</td>\n",
       "      <td>2/19/2016</td>\n",
       "      <td>8.4</td>\n",
       "      <td>The May Fair Hotel</td>\n",
       "      <td>United Kingdom</td>\n",
       "      <td>Leaving</td>\n",
       "      <td>3</td>\n",
       "      <td>1994</td>\n",
       "      <td>Staff were amazing</td>\n",
       "      <td>4</td>\n",
       "      <td>7</td>\n",
       "      <td>10.0</td>\n",
       "      <td>[' Leisure trip ', ' Couple ', ' Studio Suite ...</td>\n",
       "      <td>531 day</td>\n",
       "      <td>51.507894</td>\n",
       "      <td>-0.143671</td>\n",
       "      <td>1</td>\n",
       "    </tr>\n",
       "    <tr>\n",
       "      <th>1</th>\n",
       "      <td>130 134 Southampton Row Camden London WC1B 5AF...</td>\n",
       "      <td>299</td>\n",
       "      <td>1/12/2017</td>\n",
       "      <td>8.3</td>\n",
       "      <td>Mercure London Bloomsbury Hotel</td>\n",
       "      <td>United Kingdom</td>\n",
       "      <td>poor breakfast</td>\n",
       "      <td>3</td>\n",
       "      <td>1361</td>\n",
       "      <td>location</td>\n",
       "      <td>2</td>\n",
       "      <td>14</td>\n",
       "      <td>6.3</td>\n",
       "      <td>[' Business trip ', ' Couple ', ' Standard Dou...</td>\n",
       "      <td>203 day</td>\n",
       "      <td>51.521009</td>\n",
       "      <td>-0.123097</td>\n",
       "      <td>1</td>\n",
       "    </tr>\n",
       "    <tr>\n",
       "      <th>2</th>\n",
       "      <td>151 bis Rue de Rennes 6th arr 75006 Paris France</td>\n",
       "      <td>32</td>\n",
       "      <td>10/18/2016</td>\n",
       "      <td>8.9</td>\n",
       "      <td>Legend Saint Germain by Elegancia</td>\n",
       "      <td>China</td>\n",
       "      <td>No kettle in room</td>\n",
       "      <td>6</td>\n",
       "      <td>406</td>\n",
       "      <td>No Positive</td>\n",
       "      <td>0</td>\n",
       "      <td>14</td>\n",
       "      <td>7.5</td>\n",
       "      <td>[' Leisure trip ', ' Solo traveler ', ' Modern...</td>\n",
       "      <td>289 day</td>\n",
       "      <td>48.845377</td>\n",
       "      <td>2.325643</td>\n",
       "      <td>1</td>\n",
       "    </tr>\n",
       "    <tr>\n",
       "      <th>3</th>\n",
       "      <td>216 Avenue Jean Jaures 19th arr 75019 Paris Fr...</td>\n",
       "      <td>34</td>\n",
       "      <td>9/22/2015</td>\n",
       "      <td>7.5</td>\n",
       "      <td>Mercure Paris 19 Philharmonie La Villette</td>\n",
       "      <td>United Kingdom</td>\n",
       "      <td>No Negative</td>\n",
       "      <td>0</td>\n",
       "      <td>607</td>\n",
       "      <td>Friendly staff quiet comfortable room spotles...</td>\n",
       "      <td>11</td>\n",
       "      <td>8</td>\n",
       "      <td>10.0</td>\n",
       "      <td>[' Leisure trip ', ' Solo traveler ', ' Standa...</td>\n",
       "      <td>681 day</td>\n",
       "      <td>48.888697</td>\n",
       "      <td>2.394540</td>\n",
       "      <td>1</td>\n",
       "    </tr>\n",
       "    <tr>\n",
       "      <th>4</th>\n",
       "      <td>Molenwerf 1 1014 AG Amsterdam Netherlands</td>\n",
       "      <td>914</td>\n",
       "      <td>3/5/2016</td>\n",
       "      <td>8.5</td>\n",
       "      <td>Golden Tulip Amsterdam West</td>\n",
       "      <td>Poland</td>\n",
       "      <td>Torn sheets</td>\n",
       "      <td>4</td>\n",
       "      <td>7586</td>\n",
       "      <td>The staff was very friendly and helpful Break...</td>\n",
       "      <td>20</td>\n",
       "      <td>10</td>\n",
       "      <td>9.6</td>\n",
       "      <td>[' Business trip ', ' Couple ', ' Standard Dou...</td>\n",
       "      <td>516 day</td>\n",
       "      <td>52.385601</td>\n",
       "      <td>4.847060</td>\n",
       "      <td>1</td>\n",
       "    </tr>\n",
       "  </tbody>\n",
       "</table>\n",
       "</div>"
      ],
      "text/plain": [
       "                                       hotel_address  \\\n",
       "0  Stratton Street Mayfair Westminster Borough Lo...   \n",
       "1  130 134 Southampton Row Camden London WC1B 5AF...   \n",
       "2   151 bis Rue de Rennes 6th arr 75006 Paris France   \n",
       "3  216 Avenue Jean Jaures 19th arr 75019 Paris Fr...   \n",
       "4          Molenwerf 1 1014 AG Amsterdam Netherlands   \n",
       "\n",
       "   additional_number_of_scoring review_date  average_score  \\\n",
       "0                           581   2/19/2016            8.4   \n",
       "1                           299   1/12/2017            8.3   \n",
       "2                            32  10/18/2016            8.9   \n",
       "3                            34   9/22/2015            7.5   \n",
       "4                           914    3/5/2016            8.5   \n",
       "\n",
       "                                  hotel_name reviewer_nationality  \\\n",
       "0                         The May Fair Hotel      United Kingdom    \n",
       "1            Mercure London Bloomsbury Hotel      United Kingdom    \n",
       "2          Legend Saint Germain by Elegancia               China    \n",
       "3  Mercure Paris 19 Philharmonie La Villette      United Kingdom    \n",
       "4                Golden Tulip Amsterdam West              Poland    \n",
       "\n",
       "       negative_review  review_total_negative_word_counts  \\\n",
       "0             Leaving                                   3   \n",
       "1       poor breakfast                                  3   \n",
       "2   No kettle in room                                   6   \n",
       "3          No Negative                                  0   \n",
       "4         Torn sheets                                   4   \n",
       "\n",
       "   total_number_of_reviews                                    positive_review  \\\n",
       "0                     1994                                 Staff were amazing   \n",
       "1                     1361                                           location   \n",
       "2                      406                                        No Positive   \n",
       "3                      607   Friendly staff quiet comfortable room spotles...   \n",
       "4                     7586   The staff was very friendly and helpful Break...   \n",
       "\n",
       "   review_total_positive_word_counts  \\\n",
       "0                                  4   \n",
       "1                                  2   \n",
       "2                                  0   \n",
       "3                                 11   \n",
       "4                                 20   \n",
       "\n",
       "   total_number_of_reviews_reviewer_has_given  reviewer_score  \\\n",
       "0                                           7            10.0   \n",
       "1                                          14             6.3   \n",
       "2                                          14             7.5   \n",
       "3                                           8            10.0   \n",
       "4                                          10             9.6   \n",
       "\n",
       "                                                tags days_since_review  \\\n",
       "0  [' Leisure trip ', ' Couple ', ' Studio Suite ...           531 day   \n",
       "1  [' Business trip ', ' Couple ', ' Standard Dou...           203 day   \n",
       "2  [' Leisure trip ', ' Solo traveler ', ' Modern...           289 day   \n",
       "3  [' Leisure trip ', ' Solo traveler ', ' Standa...           681 day   \n",
       "4  [' Business trip ', ' Couple ', ' Standard Dou...           516 day   \n",
       "\n",
       "         lat       lng  train_feat  \n",
       "0  51.507894 -0.143671           1  \n",
       "1  51.521009 -0.123097           1  \n",
       "2  48.845377  2.325643           1  \n",
       "3  48.888697  2.394540           1  \n",
       "4  52.385601  4.847060           1  "
      ]
     },
     "execution_count": 166,
     "metadata": {},
     "output_type": "execute_result"
    }
   ],
   "source": [
    "# выгружаем 2 датасета: сразу создадим признак train_feat чтобы различать 2 массива в дальнейшем\n",
    "\n",
    "hotels_train = pd.read_csv('data/hotels_train.csv')\n",
    "hotels_train['train_feat'] = 1\n",
    "\n",
    "# в hotels_test отсутствует целевой признак с оценками - при выгрузке добавим его и установим там значение 0\n",
    "hotels_test = pd.read_csv('data/hotels_test.csv')\n",
    "hotels_test['train_feat'] = 0\n",
    "hotels_test['reviewer_score'] = 0\n",
    "\n",
    "hotels = pd.concat([hotels_train, hotels_test], axis=0)\n",
    "hotels.head()"
   ]
  },
  {
   "cell_type": "code",
   "execution_count": 167,
   "metadata": {},
   "outputs": [
    {
     "name": "stdout",
     "output_type": "stream",
     "text": [
      "<class 'pandas.core.frame.DataFrame'>\n",
      "Int64Index: 515738 entries, 0 to 128934\n",
      "Data columns (total 18 columns):\n",
      " #   Column                                      Non-Null Count   Dtype  \n",
      "---  ------                                      --------------   -----  \n",
      " 0   hotel_address                               515738 non-null  object \n",
      " 1   additional_number_of_scoring                515738 non-null  int64  \n",
      " 2   review_date                                 515738 non-null  object \n",
      " 3   average_score                               515738 non-null  float64\n",
      " 4   hotel_name                                  515738 non-null  object \n",
      " 5   reviewer_nationality                        515738 non-null  object \n",
      " 6   negative_review                             515738 non-null  object \n",
      " 7   review_total_negative_word_counts           515738 non-null  int64  \n",
      " 8   total_number_of_reviews                     515738 non-null  int64  \n",
      " 9   positive_review                             515738 non-null  object \n",
      " 10  review_total_positive_word_counts           515738 non-null  int64  \n",
      " 11  total_number_of_reviews_reviewer_has_given  515738 non-null  int64  \n",
      " 12  reviewer_score                              515738 non-null  float64\n",
      " 13  tags                                        515738 non-null  object \n",
      " 14  days_since_review                           515738 non-null  object \n",
      " 15  lat                                         512470 non-null  float64\n",
      " 16  lng                                         512470 non-null  float64\n",
      " 17  train_feat                                  515738 non-null  int64  \n",
      "dtypes: float64(4), int64(6), object(8)\n",
      "memory usage: 74.8+ MB\n"
     ]
    }
   ],
   "source": [
    "hotels.info()"
   ]
  },
  {
   "attachments": {},
   "cell_type": "markdown",
   "metadata": {},
   "source": [
    "Пропуски данных только в признаках lat/lng. \n",
    "\n",
    "Есть признак с датой, в формате object"
   ]
  },
  {
   "attachments": {},
   "cell_type": "markdown",
   "metadata": {},
   "source": [
    "# **Feature Engineering**\n",
    "\n",
    "## 1. Преобразование существующих признаков"
   ]
  },
  {
   "cell_type": "code",
   "execution_count": 168,
   "metadata": {},
   "outputs": [],
   "source": [
    "# 1.1 Переведем признак review_date в формат datetime\n",
    "\n",
    "hotels['review_date']\n",
    "hotels['review_date'] = pd.to_datetime(hotels['review_date'], errors='coerce')"
   ]
  },
  {
   "cell_type": "code",
   "execution_count": 169,
   "metadata": {},
   "outputs": [
    {
     "data": {
      "text/plain": [
       "0    [Leisure trip, Couple, Studio Suite, Stayed 2 ...\n",
       "1    [Business trip, Couple, Standard Double Room, ...\n",
       "2    [Leisure trip, Solo traveler, Modern Double Ro...\n",
       "3    [Leisure trip, Solo traveler, Standard Room wi...\n",
       "4    [Business trip, Couple, Standard Double or Twi...\n",
       "Name: tags, dtype: object"
      ]
     },
     "execution_count": 169,
     "metadata": {},
     "output_type": "execute_result"
    }
   ],
   "source": [
    "# 1.2 Изменим признак tags, чтобы вместо строковой величины был адекватный список значений\n",
    "\n",
    "hotels['tags'] = hotels['tags'].apply(lambda x: x[3:-3].split(\" ', ' \"))\n",
    "hotels['tags'].head()"
   ]
  },
  {
   "cell_type": "code",
   "execution_count": 170,
   "metadata": {},
   "outputs": [
    {
     "name": "stdout",
     "output_type": "stream",
     "text": [
      "Всего уникальных тегов: 2428\n"
     ]
    },
    {
     "data": {
      "text/plain": [
       "[('Leisure trip', 417778),\n",
       " ('Submitted from a mobile device', 307640),\n",
       " ('Couple', 252294),\n",
       " ('Stayed 1 night', 193645),\n",
       " ('Stayed 2 nights', 133937),\n",
       " ('Solo traveler', 108545),\n",
       " ('Stayed 3 nights', 95821),\n",
       " ('Business trip', 82939),\n",
       " ('Group', 65392),\n",
       " ('Family with young children', 61015),\n",
       " ('Stayed 4 nights', 47817),\n",
       " ('Double Room', 35207),\n",
       " ('Standard Double Room', 32248),\n",
       " ('Superior Double Room', 31393),\n",
       " ('Family with older children', 26349),\n",
       " ('Deluxe Double Room', 24823),\n",
       " ('Double or Twin Room', 22393),\n",
       " ('Stayed 5 nights', 20845),\n",
       " ('Standard Double or Twin Room', 17483),\n",
       " ('Classic Double Room', 16989),\n",
       " ('Superior Double or Twin Room', 13570),\n",
       " ('2 rooms', 12393),\n",
       " ('Stayed 6 nights', 9776),\n",
       " ('Standard Twin Room', 9745),\n",
       " ('Single Room', 9670),\n",
       " ('Twin Room', 8321),\n",
       " ('Stayed 7 nights', 7399),\n",
       " ('Executive Double Room', 6425),\n",
       " ('Classic Double or Twin Room', 6107),\n",
       " ('Superior Twin Room', 6064),\n",
       " ('Deluxe Double or Twin Room', 5998),\n",
       " ('Club Double Room', 5908),\n",
       " ('Queen Room', 5472),\n",
       " ('Deluxe King Room', 5357),\n",
       " ('Superior Queen Room', 4898),\n",
       " ('Standard Single Room', 4615),\n",
       " ('Junior Suite', 4559),\n",
       " ('Triple Room', 4493),\n",
       " ('Superior Room', 4417),\n",
       " ('Classic Room', 4416),\n",
       " ('Superior King Room', 4248),\n",
       " ('Standard Room', 4205),\n",
       " ('Deluxe Room', 3974),\n",
       " ('Standard Queen Room', 3533),\n",
       " ('Double Guest Room', 3437),\n",
       " ('Deluxe Single Room', 3283),\n",
       " ('Small Double Room', 3187),\n",
       " ('Queen Guest Room', 3125),\n",
       " ('Deluxe Twin Room', 3083),\n",
       " ('Basic Double Room', 2851),\n",
       " ('King Room', 2843),\n",
       " ('Comfort Double Room', 2641),\n",
       " ('Executive King Room', 2631),\n",
       " ('Small Queen Room', 2505),\n",
       " ('Stayed 8 nights', 2502),\n",
       " ('Standard Double Room without Window', 2424),\n",
       " ('Comfort Double or Twin Room', 2404),\n",
       " ('Double or Twin Room 1 2 Adults', 2391),\n",
       " ('Classic Twin Room', 2360),\n",
       " ('Twin Guest Room', 2197),\n",
       " ('Family Room', 2165),\n",
       " ('Travelers with friends', 2143),\n",
       " ('Suite', 1897),\n",
       " ('Superior King or Twin Room', 1831),\n",
       " ('Deluxe King or Twin Room', 1650),\n",
       " ('Deluxe Double', 1634),\n",
       " ('King Guest Room', 1630),\n",
       " ('Cosy Double Room', 1604),\n",
       " ('Standard Double Twin Room', 1420),\n",
       " ('With a pet', 1405),\n",
       " ('Club Twin Room', 1401),\n",
       " ('Executive Double or Twin Room', 1395),\n",
       " ('Classic King Room', 1318),\n",
       " ('Standard Triple Room', 1300),\n",
       " ('Double Hilton Guestroom', 1300),\n",
       " ('Stayed 9 nights', 1293),\n",
       " ('Executive Room', 1293),\n",
       " ('Double Room Non Smoking', 1257),\n",
       " ('Standard', 1231),\n",
       " ('Economy Double Room', 1193),\n",
       " ('Large Double Room', 1192),\n",
       " ('Quadruple Room', 1157),\n",
       " ('Luxury Double Room', 1149),\n",
       " ('Superior Single Room', 1120),\n",
       " ('Superior Double Room with Internal View', 1112),\n",
       " ('Classic Single Room', 1090),\n",
       " ('Double Room with Two Double Beds', 1087),\n",
       " ('Executive Twin Room', 1080),\n",
       " ('Dorsett Double Room', 1044),\n",
       " ('Premier Double Room', 996),\n",
       " ('Studio', 986),\n",
       " ('Superior Double or Twin Room 1 2 Adults', 971),\n",
       " ('Twin Hilton Guest Room', 951),\n",
       " ('Family Room 2 Adults 2 Children', 926),\n",
       " ('Studio King Family', 925),\n",
       " ('Compact Double Room', 913),\n",
       " ('City King or Twin Room', 897),\n",
       " ('Stayed 10 nights', 889),\n",
       " ('Standard Room with 1 Double Bed', 879),\n",
       " ('Classic Queen Room', 791),\n",
       " ('Deluxe Queen Room', 748),\n",
       " ('Deluxe Triple Room', 747),\n",
       " ('Comfort Room', 744),\n",
       " ('Queen or Two Double Beds Room', 742),\n",
       " ('City King Room', 739),\n",
       " ('Studio Suite', 728),\n",
       " ('Standard Double', 722),\n",
       " ('Premium Double or Twin Room', 710),\n",
       " ('Superior Triple Room', 706),\n",
       " ('Queen Room Non Smoking', 703),\n",
       " ('Twin Room Non Smoking', 700),\n",
       " ('Superior Twin Room with Internal View', 697),\n",
       " ('One Bedroom Suite', 661),\n",
       " ('Double Room with View', 649),\n",
       " ('King Hilton Guest Room', 646),\n",
       " ('Double Room 1 Adult', 623),\n",
       " ('Art King Room', 610),\n",
       " ('Deluxe Room Barlow Wing', 607),\n",
       " ('Standard King Room', 599),\n",
       " ('Premium Double Room', 594),\n",
       " ('Double Room with Courtyard View', 592),\n",
       " ('Executive King Room with Lounge Access', 585),\n",
       " ('Deluxe King Room with River View', 541),\n",
       " ('Double or Twin Room Non Smoking', 540),\n",
       " ('Queen Room Mobility Access', 515),\n",
       " ('Double Room 1 2 Adults', 508),\n",
       " ('Studio Double Family', 506),\n",
       " ('City Twin Room', 503),\n",
       " ('Double Room with Sofa Bed', 484),\n",
       " ('Cosy Single Room', 476),\n",
       " ('3 rooms', 474),\n",
       " ('Standard Double Room No Window', 470),\n",
       " ('Business Double or Twin Room', 428),\n",
       " ('Room Selected at Check In', 418),\n",
       " ('Stayed 11 nights', 418),\n",
       " ('Superior Shard King', 402),\n",
       " ('Superior Double Room Disability Access', 399),\n",
       " ('Deluxe King Room Balcony with Eiffel Tower View', 399),\n",
       " ('Deluxe with Two Double Beds', 391),\n",
       " ('Double Deluxe Room', 388),\n",
       " ('Comfort Triple Room', 388),\n",
       " ('Superior Room with 2 Single Beds', 385),\n",
       " ('Double Room with Spa Bath', 384),\n",
       " ('Double or Twin Ground Floor', 384),\n",
       " ('Club Single Room', 384),\n",
       " ('Double or Twin Room with Spa Access', 379),\n",
       " ('Deluxe King Room with City View', 375),\n",
       " ('Deluxe King Room with Stadium View', 367),\n",
       " ('Standard Double Room with Bridge View', 360),\n",
       " ('One Bedroom Apartment', 358),\n",
       " ('Double Room with Terrace', 358),\n",
       " ('Deluxe One Bedroom Apartment', 348),\n",
       " ('Standard Room with 1 Single Bed', 348),\n",
       " ('Deluxe Double Room with Two Double Beds', 340),\n",
       " ('Double Room with Single Bed', 339),\n",
       " ('Queen Room with Mobility Access', 338),\n",
       " ('Double Room with City View', 337),\n",
       " ('Basic Single Room', 327),\n",
       " ('Large Twin Room', 319),\n",
       " ('Stayed 12 nights', 316),\n",
       " ('Small Single Room', 312),\n",
       " ('Duplex Double Room', 311),\n",
       " ('Standard Room with Spa access', 310),\n",
       " ('Luxury Room', 308),\n",
       " ('Deluxe Double Room 1 2 Adults', 305),\n",
       " ('Executive Family Room', 304),\n",
       " ('Standard Room with 2 Single Beds', 304),\n",
       " ('Deluxe Double or Twin Room with Canal View', 304),\n",
       " ('Luxury Suite', 303),\n",
       " ('Double Room with Sofa Bed Non Smoking', 299),\n",
       " ('Superior Double or Twin Room with View', 296),\n",
       " ('Standard Room with Queen Bed', 293),\n",
       " ('Superior Double Room with City View', 289),\n",
       " ('Special Offer Double Room', 288),\n",
       " ('Standard Room 1 2 adults', 286),\n",
       " ('Superior Double Twin Room', 286),\n",
       " ('Comfort Twin Double Room', 285),\n",
       " ('Double Room with Balcony', 285),\n",
       " ('Queen Hilton Guest Room', 283),\n",
       " ('Wonderful Double or Twin Room', 280),\n",
       " ('Superior Deluxe Room', 275),\n",
       " ('Superior Double Room with Terrace', 272),\n",
       " ('Executive Double Room River View', 271),\n",
       " ('Superior', 270),\n",
       " ('Classic Triple Room', 270),\n",
       " ('Deluxe Double and Single Room', 270),\n",
       " ('Double Studio', 269),\n",
       " ('Classic Double or Twin Room with Spa Access', 269),\n",
       " ('Standard Quadruple Room', 268),\n",
       " ('Deluxe King Room with Balcony', 264),\n",
       " ('Superior Room with Queen size bed and Sofa Bed', 261),\n",
       " ('Superior Room with Queensize Bed and double couch 2 adults 2 children',\n",
       "  260),\n",
       " ('Queen Guest Room with Sofa Bed', 257),\n",
       " ('Double or Twin Room with Terrace', 256),\n",
       " ('Double Hilton Deluxe Room', 255),\n",
       " ('Double Room with Street View', 251),\n",
       " ('Double or Twin Room with Courtyard View', 250),\n",
       " ('Business Double Room', 248),\n",
       " ('Stayed 14 nights', 247),\n",
       " ('Double or Twin Room with View', 247),\n",
       " ('Stayed 13 nights', 246),\n",
       " ('Standard Family Room', 240),\n",
       " ('Quality Double or Twin Room', 238),\n",
       " ('Deluxe Double Room with View', 237),\n",
       " ('Superior Double or Twin Room with Terrace', 237),\n",
       " ('Superior King Room Barlow Wing', 237),\n",
       " ('Double or Twin Room with City View', 236),\n",
       " ('Superior Double', 236),\n",
       " ('Studio Triple', 230),\n",
       " ('Junior Double Room', 229),\n",
       " ('King Double or Twin Room', 229),\n",
       " ('Privilege Double Room', 228),\n",
       " ('Double or Twin Room with Extra Bed', 227),\n",
       " ('Camper Room', 225),\n",
       " ('Triple Room 2 Adults 1 Child', 225),\n",
       " ('Superior Room with Queen Bed Sofa', 225),\n",
       " ('King Double Room', 224),\n",
       " ('Standard Suite', 223),\n",
       " ('Standard Double or Twin Room with Balcony', 222),\n",
       " ('Chelsea Double Suite', 220),\n",
       " ('Family Suite', 219),\n",
       " ('Large Room', 216),\n",
       " ('Double Room with Eiffel Tower View', 216),\n",
       " ('Urban Double or Twin Room', 214),\n",
       " ('Deluxe King with Balcony', 213),\n",
       " ('Double or Twin Room with Balcony', 212),\n",
       " ('Special Offer Queen Room', 212),\n",
       " ('Double Room with Public Transport Ticket', 209),\n",
       " ('Executive Single Room', 207),\n",
       " ('Classic Room with Courtyard View', 206),\n",
       " ('Prestige Double Room', 204),\n",
       " ('Studio King', 202),\n",
       " ('Double Room with Extra Bed', 202),\n",
       " ('Studio Double Room', 201),\n",
       " ('Superior Double Room with Spa Access', 199),\n",
       " ('Wonderful Room', 198),\n",
       " ('Single Room with Shower', 197),\n",
       " ('Dalston King', 195),\n",
       " ('Junior Suite 2 Adults', 195),\n",
       " ('Cabin Single Room', 195),\n",
       " ('Double Suite', 192),\n",
       " ('Premier King Room with City View', 192),\n",
       " ('Executive Suite', 191),\n",
       " ('Superior Double Room with Balcony', 191),\n",
       " ('Double Room Annex', 187),\n",
       " ('Economy Twin Room', 187),\n",
       " ('Executive Queen Room with Lounge Access', 185),\n",
       " ('Superior Room with Spa access', 185),\n",
       " ('Double Room 2 Adults', 183),\n",
       " ('Standard Twin Room with Bridge View', 183),\n",
       " ('Deluxe Guest Room', 182),\n",
       " ('Family Room 3 Adults', 181),\n",
       " ('Superior Suite with 1 Double Bed and 1 Single Bed', 181),\n",
       " ('Two Bedroom Apartment', 180),\n",
       " ('Superior Room with 1 Queen Bed', 178),\n",
       " ('Double Room Disability Access', 177),\n",
       " ('Queen Double Room', 176),\n",
       " ('Two Connecting Double Rooms', 174),\n",
       " ('Double or Twin Room with Sea View', 173),\n",
       " ('Superior Queen Room with Sofa', 170),\n",
       " ('Superior King Room with Sofa Bed', 170),\n",
       " ('Grand Deluxe Double or Twin Room', 169),\n",
       " ('Club Room', 167),\n",
       " ('Family Room 4 Adults', 167),\n",
       " ('Deluxe Double Studio', 165),\n",
       " ('Comfort Twin Room', 165),\n",
       " ('Deluxe Suite', 164),\n",
       " ('Deluxe Studio', 163),\n",
       " ('Queen Hilton Superior Room', 163),\n",
       " ('Large Comfort Double or Twin Room', 162),\n",
       " ('Classic Double or Twin Room with City View', 160),\n",
       " ('Family Room with sofa bed', 160),\n",
       " ('Executive Studio', 159),\n",
       " ('Superior King Room Eiffel Tower View', 158),\n",
       " ('Superior Double Room with Two Double Beds', 158),\n",
       " ('Family Junior Suite 3 Adults 1 Child', 156),\n",
       " ('Signature Luxury King with Balcony', 156),\n",
       " ('Deluxe Family Room', 155),\n",
       " ('Superior Double Room with 1 Double Bed and 1 Sofa Bed 2 places', 152),\n",
       " ('Twin Room Disability Access', 150),\n",
       " ('Deluxe Double or Twin Room 1 2 Adults', 150),\n",
       " ('Deluxe Junior Suite', 149),\n",
       " ('Executive Club Double Room', 149),\n",
       " ('Classic King Twin Room', 148),\n",
       " ('Queen Room with Sofa Bed', 148),\n",
       " ('Superior Studio with City View', 148),\n",
       " ('Premier Single Room', 148),\n",
       " ('Standard Room with Double Bed and Sofa Bed', 147),\n",
       " ('Deluxe Double or Twin Room with City View', 147),\n",
       " ('Nhow Double or Twin Room', 147),\n",
       " ('Superior Family Room', 146),\n",
       " ('Executive Studio City View Family', 146),\n",
       " ('Junior Suite with Spa Access', 145),\n",
       " ('Standard Queen Room with Sofa Bed', 145),\n",
       " ('Room with Ramblas View', 144),\n",
       " ('City Room', 144),\n",
       " ('Comfort Double or Twin Room 1 2 Adults', 144),\n",
       " ('Two Connecting Rooms', 143),\n",
       " ('Standard Double Room with View Terrace', 142),\n",
       " ('Souterraine Double or Twin Room', 142),\n",
       " ('Club King Room', 142),\n",
       " ('Privilege Room with a double bed upper floors', 142),\n",
       " ('Double Room with River View', 140),\n",
       " ('Souterrain Double Room', 140),\n",
       " ('Deluxe Room with Two Double Beds', 138),\n",
       " ('Superior Twin Room Barlow Wing', 138),\n",
       " ('Superior Queen Suite with Sofa Bed', 138),\n",
       " ('Deluxe Double Room with River View', 138),\n",
       " ('River View Deluxe', 137),\n",
       " ('Family Room 2 Adults 1 Child', 137),\n",
       " ('Economy Single Room', 137),\n",
       " ('King Room Non Smoking', 137),\n",
       " ('Executive Studio Suite', 137),\n",
       " ('Twin Deluxe Room', 136),\n",
       " ('Standard Double Room with Two Single Beds', 136),\n",
       " ('Executive Triple Room', 136),\n",
       " ('One Room Suite with Kitchenette', 135),\n",
       " ('Special Offer Superior Double Room', 134),\n",
       " ('Deluxe One Bedroom Suite', 133),\n",
       " ('Standard Double Room with Park View', 132),\n",
       " ('Junior Suite 1 2 Adults', 130),\n",
       " ('Queen Room Upper Floors', 129),\n",
       " ('Superior Room with Queen Bed', 129),\n",
       " ('Discovery Double Room', 129),\n",
       " ('Single Room Annex', 129),\n",
       " ('Premier Twin Room', 128),\n",
       " ('Compact Double Room with Private Bathroom', 128),\n",
       " ('Apartment', 127),\n",
       " ('Superior Room with 1 kingsize bed', 126),\n",
       " ('King Deluxe Guest Room', 125),\n",
       " ('Classic Double or Twin Room 1 2 Adults', 124),\n",
       " ('Classic Double or Single Room', 124),\n",
       " ('Deluxe Double Room with Terrace', 124),\n",
       " ('Deluxe Double or Twin Room 2 adults 1 child', 123),\n",
       " ('Duplex Room', 123),\n",
       " ('Queen Bed Leisure', 122),\n",
       " ('Double Room Free Wi Fi', 121),\n",
       " ('Executive Double Room with Whirlpool', 120),\n",
       " ('Comfort Single Room', 119),\n",
       " ('Deluxe Double Room with State Opera View', 119),\n",
       " ('Deluxe Double Room with Spa Bath', 118),\n",
       " ('Superior Plus Double Room', 118),\n",
       " ('Single Room with Double Bed', 118),\n",
       " ('Stayed 15 nights', 117),\n",
       " ('Comfort Double or Twin Room Non Smoking', 117),\n",
       " ('Deluxe Double Room with City View', 117),\n",
       " ('Superior Room with Queensize Bed and Single Sofa Bed', 117),\n",
       " ('Deluxe Queen Room with River View', 115),\n",
       " ('King Room with Balcony', 113),\n",
       " ('Queen Guestroom', 112),\n",
       " ('Twin Superior Room', 112),\n",
       " ('Deluxe Single Room with View', 112),\n",
       " ('King Deluxe Room', 112),\n",
       " ('Special Room', 112),\n",
       " ('Double Room Cosy', 112),\n",
       " ('Superior Double Bedroom', 112),\n",
       " ('Special Offer Double or Twin Room', 110),\n",
       " ('Club Double or Twin Room', 109),\n",
       " ('Maisonette', 109),\n",
       " ('Accessible Queen Guest Room', 109),\n",
       " ('Twin Room with Spa Bath', 109),\n",
       " ('Eiffel Tower View King Room', 109),\n",
       " ('Single Guest Room', 109),\n",
       " ('Triple Family Guestroom', 108),\n",
       " ('Executive Queen Room', 108),\n",
       " ('King Executive Room with Lounge Access', 108),\n",
       " ('Standard Room for 1 or 2 people with Kitchenette', 108),\n",
       " ('Superior Double Room with View', 107),\n",
       " ('Marina Double Suite', 107),\n",
       " ('Mini Room', 107),\n",
       " ('Quality Single Room', 106),\n",
       " ('Standard Room with Queensize bed and Single Sofa Bed', 105),\n",
       " ('Small Double or Twin Room', 105),\n",
       " ('Fabulous Double or Twin Room', 105),\n",
       " ('Superior Double Room with free unlimited WIFI', 104),\n",
       " ('Superior Double or Twin Room with Spa Access', 104),\n",
       " ('Standard Double or Twin Room with Extra bed 2 Adults 1 Child', 103),\n",
       " ('Executive Double Room with Air Conditioning', 103),\n",
       " ('Superior Double or Twin Room with Free Wifi', 103),\n",
       " ('Double Family Guestroom', 102),\n",
       " ('Standard Guest Room', 102),\n",
       " ('Executive Club Room', 102),\n",
       " ('Executive Room with City View', 102),\n",
       " ('Junior Double', 101),\n",
       " ('Family Suite 2 Adults 2 Children', 101),\n",
       " ('Corner Suite', 101),\n",
       " ('Art Room with Iconic View', 101),\n",
       " ('Executive Studio City View', 101),\n",
       " ('Double Room Curieuse', 101),\n",
       " ('Executive Twin Room with Lounge Access', 101),\n",
       " ('Superior Double Double', 100),\n",
       " ('Double Room with Garden View', 100),\n",
       " ('Business Single Room', 100),\n",
       " ('Superior M Double Room', 100),\n",
       " ('Classic Guest room 1 King or 2 Twin Single Bed s', 100),\n",
       " ('Twin Room with Public Transport Ticket', 100),\n",
       " ('Standard Room with 1 Double Bed and 1 Sofa Bed', 100),\n",
       " ('Superior Double or Twin Room with City View', 100),\n",
       " ('Executive Double', 99),\n",
       " ('Deluxe Double Room with Eiffel Tower view', 98),\n",
       " ('Cozy Double or Twin Room', 98),\n",
       " ('Double Queen Waterfront', 98),\n",
       " ('Andaz Double Room', 97),\n",
       " ('Triple Hilton Family Room', 97),\n",
       " ('Superior Room with Spa Fitness Access', 96),\n",
       " ('Penthouse Suite with Terrace and City View', 96),\n",
       " ('Deluxe Studio Suite', 96),\n",
       " ('King Guestroom', 96),\n",
       " ('Double Room Intemporelle', 96),\n",
       " ('Secret Double Room', 95),\n",
       " ('Superior Double Room with Queen size bed', 95),\n",
       " ('Duplex Junior Suite with Spa access', 95),\n",
       " ('Superior Double or Twin Room XL', 95),\n",
       " ('Executive King Room Non Smoking', 94),\n",
       " ('Junior Triple Room', 94),\n",
       " ('Double Room with French Bed', 93),\n",
       " ('Duplex Suite', 93),\n",
       " ('Classic Double Room with Garden View', 92),\n",
       " ('Garden King Room', 92),\n",
       " ('Deluxe Room with Courtyard View', 92),\n",
       " ('Superior Room with 1 Queen Bed 1 Sofa Bed', 92),\n",
       " ('Classic Room with Queen Bed', 91),\n",
       " ('Luxury Four Poster', 91),\n",
       " ('Deluxe', 91),\n",
       " ('Business Class Room', 91),\n",
       " ('Executive Queen Room with Sofa', 90),\n",
       " ('Standard Studio', 90),\n",
       " ('X Ordinary Room', 89),\n",
       " ('Royal Mews View Classic Double', 89),\n",
       " ('Family Room 4 guest', 89),\n",
       " ('Superior Room with City View', 89),\n",
       " ('Wonderful Exchange King', 89),\n",
       " ('Superior Room with Double Bed and Sofa Bed', 88),\n",
       " ('Two Bedroom Suite', 88),\n",
       " ('Tradition Double Room', 88),\n",
       " ('Superior Room with 1 Double Bed', 88),\n",
       " ('Apartment 1 2 Adults', 88),\n",
       " ('Junior Suite 3 Adults', 88),\n",
       " ('Souterrain Comfort Room', 87),\n",
       " ('Superior Double Room with Balcony and City View', 87),\n",
       " ('Classique Double Room', 87),\n",
       " ('Double Hilton Deluxe', 87),\n",
       " ('Superior Family Room 2 Adults 1 Child', 86),\n",
       " ('King Hilton Guestroom', 86),\n",
       " ('Family Room with Spa access', 86),\n",
       " ('Double Room with Free Airport Shuttle Service from 5 00am to 00 30am', 86),\n",
       " ('Design Double or Twin Room', 85),\n",
       " ('Deluxe Double Room Canal View', 85),\n",
       " ('Superior Queen Room with Double Sofa', 84),\n",
       " ('Standard Double Room with Queen Bed', 84),\n",
       " ('penta Standard Room', 84),\n",
       " ('Superior Plus Twin Room', 83),\n",
       " ('Luxury Family Room', 83),\n",
       " ('Deluxe King Room with Water View', 83),\n",
       " ('Double Room Attic', 83),\n",
       " ('Executive Queen Room with Balcony', 83),\n",
       " ('Deluxe Double Room with Private Access to Pool and Spa', 82),\n",
       " ('Studio Room', 82),\n",
       " ('One Bed Feature Room', 82),\n",
       " ('Standard Apartment', 82),\n",
       " ('Standard Double Room with View', 81),\n",
       " ('Privilege King Room', 81),\n",
       " ('Superior Queen Room with Single Sofa Bed', 81),\n",
       " ('Double Room with Private Bathroom', 81),\n",
       " ('Premier Room with Balcony', 81),\n",
       " ('Classic Triple Room 3 Adults', 80),\n",
       " ('Standard Room with One Double Bed and Single Sofa Bed', 80),\n",
       " ('Chelsea Twin Suite', 79),\n",
       " ('Standard Double or Twin Room 1 2 Adults', 79),\n",
       " ('Deluxe Double or Twin Room with Terrace', 79),\n",
       " ('Twin Room 1 2 Adults', 79),\n",
       " ('Superior Room with View of Big Ben', 79),\n",
       " ('Twin Hilton Deluxe Room', 79),\n",
       " ('Single Room with Private Bathroom', 79),\n",
       " ('Budget Single Room', 78),\n",
       " ('Family Superior Room', 78),\n",
       " ('Superior Quadruple Room', 77),\n",
       " ('Classic Double Room Loge Classique', 76),\n",
       " ('Superior Twin Room with View', 76),\n",
       " ('Superior Studio', 76),\n",
       " ('Superior Deluxe Double or Twin Room', 76),\n",
       " ('Deluxe Double Twin Room', 76),\n",
       " ('Superior Twin or Double Room', 75),\n",
       " ('Queen Guest Room with River View', 75),\n",
       " ('Double or Twin Room with Extra Bed with Balcony', 75),\n",
       " ('Deluxe Double Room 1 2 adults', 75),\n",
       " ('Queen Deluxe Room', 74),\n",
       " ('Superior Queen Room with 2 Single Sofa Beds', 74),\n",
       " ('Standard Double or Twin Room Annex Building', 74),\n",
       " ('Executive King Room Non Smoking with Executive Lounge Access', 74),\n",
       " ('Deluxe Eiffel Tower King Room', 74),\n",
       " ('Double Room Medium', 73),\n",
       " ('King Superior Room', 73),\n",
       " ('Superior King', 73),\n",
       " ('Superior Double Room with Private Patio', 73),\n",
       " ('Suite with Hot Tub', 73),\n",
       " ('Deluxe Double Room Annex', 72),\n",
       " ('Double or Twin Room 2 Adults', 72),\n",
       " ('Premier King Room Barlow Wing', 72),\n",
       " ('Twin Room with Free Airport Shuttle Service from 5 00am to 00 30am', 72),\n",
       " ('Small Double Room Annex building', 72),\n",
       " ('Classic Double Room with Breakfast', 72),\n",
       " ('Standard Double or Twin Room with Balcony 1 Adult', 72),\n",
       " ('Treat your Partner Package Double Room', 72),\n",
       " ('Cozy Exchange King', 72),\n",
       " ('Single Studio', 72),\n",
       " ('Quintuple Room', 72),\n",
       " ('Triple Studio', 71),\n",
       " ('Privilege Room with Double Bed', 71),\n",
       " ('Aldwych Double Twin Room', 71),\n",
       " ('Special Offer Executive Double Twin Room with Access to Nagomi Health', 70),\n",
       " ('Queen or Twin Room', 70),\n",
       " ('Superior Room with canal view', 70),\n",
       " ('Superior Room with Queensize Bed and Single Sofa Bed 2 Adults 1 Child', 70),\n",
       " ('Superior Twin Room with Two Double Beds', 70),\n",
       " ('Economy Double or Twin Room', 69),\n",
       " ('Special Offer Double Twin Room Stay and Park', 69),\n",
       " ('Double or Twin Room with Extra Bed 3 Adults with Free Airport Shuttle Service from 5 00am to 00 30am',\n",
       "  69),\n",
       " ('Superior Queen Suite with Sofa', 69),\n",
       " ('Privilege Room', 69),\n",
       " ('Deluxe Double Room with Garden View', 69),\n",
       " ('Queen Room with Eiffel Tower View', 69),\n",
       " ('Superior Double or Twin Room with Balcony', 68),\n",
       " ('Basic Double', 68),\n",
       " ('Luxury Double or Twin Room', 68),\n",
       " ('Luxury King Room', 67),\n",
       " ('Deluxe Twin Room with City View', 67),\n",
       " ('Family Room with King Bed', 67),\n",
       " ('Single Hilton Guestroom', 67),\n",
       " ('Standard Room with queen size bed and double sofa bed', 67),\n",
       " ('Double Family Guest Room', 67),\n",
       " ('Grand Superior King or Twin Room', 67),\n",
       " ('Classic Twin Room with Garden View', 66),\n",
       " ('Double or Twin Room 1 or 2 adults', 66),\n",
       " ('Executive Room 2 adults 2 children', 66),\n",
       " ('Classic Double Room with Shower', 66),\n",
       " ('Standard Studio Suite', 66),\n",
       " ('Superior Plus Room', 65),\n",
       " ('Deluxe Double or Twin Room with Spa Access', 65),\n",
       " ('King Guest Room Wheelchair Accessible', 64),\n",
       " ('Large King Room', 64),\n",
       " ('Art Twin Room', 64),\n",
       " ('Delightful Queen Room', 64),\n",
       " ('Standard Queen or Twin Room Lower Ground Floor', 64),\n",
       " ('Comfort Quadruple Room', 64),\n",
       " ('Deluxe Double Room with Bath', 64),\n",
       " ('Double or Twin Room with Terrace and Spa Access', 64),\n",
       " ('Hilton Deluxe King Room', 63),\n",
       " ('Privilege Double Room 2 Adults 1 child', 63),\n",
       " ('Executive King Room with Air Conditioning', 63),\n",
       " ('Grand Deluxe King or Twin Room', 63),\n",
       " ('Superior Family Room 2 Adults 2 Children', 63),\n",
       " ('Twin Hilton Guestroom', 63),\n",
       " ('Double or Twin Room with Extra Bed 3 Adults', 62),\n",
       " ('Family Quadruple Room', 62),\n",
       " ('Executive Double Room with Two Double Beds with Lounge Access', 62),\n",
       " ('Luxury Room 1 Queensize Bed Twin bedded Room On Request', 62),\n",
       " ('Montcalm Club Double Room', 62),\n",
       " ('Superior Double Room with Park View', 61),\n",
       " ('Condal Double or Twin Room', 61),\n",
       " ('Superior Twin Room with Extra Bed', 61),\n",
       " ('Executive Junior Suite', 61),\n",
       " ('Executive Double Room with Lounge Access', 61),\n",
       " ('Royal Room with Ramblas view', 61),\n",
       " ('One Bedroom Studio Suite', 61),\n",
       " ('Deluxe King Room with Terrace', 61),\n",
       " ('King City View Room', 61),\n",
       " ('Executive Double or Twin Room with Spa Access', 61),\n",
       " ('King Room with River View', 60),\n",
       " ('Superior Room with 1 Queensize Bed and Double Sofa bed', 60),\n",
       " ('Superior Room with Queen Bed and Sofa', 60),\n",
       " ('Superior Queen Room with Courtyard Garden or City View', 60),\n",
       " ('Royal Mews View King Room', 59),\n",
       " ('King Hilton Plaza Room', 59),\n",
       " ('Superior Room with Two Double Beds and Balcony', 59),\n",
       " ('Standard Room with Spa Access', 59),\n",
       " ('Standard Double Room with Tea Time Included', 59),\n",
       " ('Queen Hilton Deluxe', 59),\n",
       " ('Club Room with Club Lounge Access Free Wifi', 59),\n",
       " ('Deluxe Double Room with Four Poster Bed', 59),\n",
       " ('Two Adjacent Rooms 6 persons', 59),\n",
       " ('Standard Double or Twin Room Tea Time Wine Tasting Included', 59),\n",
       " ('Twin Deluxe Guest Room', 58),\n",
       " ('Junior King Suite', 58),\n",
       " ('Large Penthouse Suite with Terrace and City View', 58),\n",
       " ('Double Room XL', 58),\n",
       " ('Double Room Single Use', 58),\n",
       " ('Double Room 1 Adult with Free Airport Shuttle Service from 5 00am to 00 30am',\n",
       "  58),\n",
       " ('Small Twin Room', 57),\n",
       " ('Stayed 16 nights', 57),\n",
       " ('Superior Double Room with Garden View', 57),\n",
       " ('Superior Triple Room 3 Adults', 56),\n",
       " ('Deluxe Double or Twin Room with Mountain View', 56),\n",
       " ('Classic Family Room', 56),\n",
       " ('Deluxe King Room with Club Lounge Access', 56),\n",
       " ('Superior Studio Apartment', 56),\n",
       " ('Executive Deluxe Studio Suite', 56),\n",
       " ('Queen Room with Sofa Bed Non Smoking', 56),\n",
       " ('Comfort Double or Twin Room with Extra Bed', 56),\n",
       " ('Deluxe Double with Winter Garden View', 56),\n",
       " ('King Hilton Waterfront', 56),\n",
       " ('Classic Studio', 56),\n",
       " ('Premier Deluxe Double Room', 56),\n",
       " ('Superior Suite with 1 Double Bed and 2 Single Beds', 56),\n",
       " ('Large Triple Room', 55),\n",
       " ('Super Deluxe Double Room', 55),\n",
       " ('Spare Room Double', 55),\n",
       " ('Small Single Room with Balcony', 55),\n",
       " ('Junior Suite with Terrace', 55),\n",
       " ('Park King', 55),\n",
       " ('Kings Junior Suite', 55),\n",
       " ('Twin Room with Extra Bed', 54),\n",
       " ('King or Twin Room with River View', 54),\n",
       " ('Panorama Double Room', 54),\n",
       " ('Queen Room with Two Queen Beds 4 Adults', 54),\n",
       " ('Superior Room Swimming Pool Hammam Access upon reservation', 54),\n",
       " ('Luxury Junior Suite', 54),\n",
       " ('Superior Deluxe Room with Spa Bath', 54),\n",
       " ('Deluxe Contemporary Room', 54),\n",
       " ('Executive Double Room with Spa Access', 53),\n",
       " ('Deluxe Twin Room Balcony with Eiffel Tower View', 53),\n",
       " ('Royal Suite with Canal View', 53),\n",
       " ('Superior Double Room Loge Sup rieure', 53),\n",
       " ('Superior Double or Twin Room with Landmark View', 53),\n",
       " ('Champagne Shopping package Double Room', 53),\n",
       " ('Suite Room', 53),\n",
       " ('Double Room City', 53),\n",
       " ('Large Single Room', 53),\n",
       " ('Montcalm Club Room', 53),\n",
       " ('Interior Facing Double Room With Natural Light', 53),\n",
       " ('Deluxe Queen Room with View', 52),\n",
       " ('Executive Premium Room with a Queen Bed', 52),\n",
       " ('Superior Double Room with Free Access to Steam Bath', 52),\n",
       " ('Executive King or Twin Room with Lounge Access', 52),\n",
       " ('Family Room Two Connecting Rooms', 52),\n",
       " ('Classic Double Room with free pool and hammam access', 52),\n",
       " ('Penthouse Suite', 52),\n",
       " ('Weekend Offer Standard Studio', 51),\n",
       " ('Single Room Lower Ground Floor', 51),\n",
       " ('Superior Junior Suite', 51),\n",
       " ('Triple Room with Spa Bath', 51),\n",
       " ('Luxury Double Room Mezzanine', 51),\n",
       " ('River Double Suite', 51),\n",
       " ('Superior Deluxe Double Room with Canal View', 51),\n",
       " ('Superior Double or Twin Room with Terrace Spa acces', 51),\n",
       " ('Superior Queen Room with Sofa Bed', 51),\n",
       " ('Hypoallergenic Double or Twin Room', 50),\n",
       " ('Standard Room Sopi', 50),\n",
       " ('Double or Twin Room Allergy Free', 50),\n",
       " ('Double Room Baronne', 50),\n",
       " ('Romantic Special Offer', 50),\n",
       " ('Comfort Double Room with Extra Bed', 50),\n",
       " ('Eiffel Tower View Twin Room', 50),\n",
       " ('Premium Double or Twin Room XL', 50),\n",
       " ('Classic Cosy Room', 50),\n",
       " ('Double Room Insolite', 50),\n",
       " ('Iconic King Room With City View', 50),\n",
       " ('Master Bedroom Double', 50),\n",
       " ('Family Room with Balcony', 50),\n",
       " ('Club SuperKing Room', 50),\n",
       " ('Exclusive Double or Twin Room', 50),\n",
       " ('Observatory King', 49),\n",
       " ('Superior Quadruple Room With Balcony', 49),\n",
       " ('Superior King Room with River View', 49),\n",
       " ('Twin Room 1 2 people', 49),\n",
       " ('Deluxe Double Room with City View and Balcony', 49),\n",
       " ('Classic Suite', 49),\n",
       " ('Double Room with Small Double Bed', 49),\n",
       " ('King Grand Deluxe Room', 49),\n",
       " ('Privilege Super King or Twin Room', 49),\n",
       " ('Luxury Suite Patio', 48),\n",
       " ('Family Studio', 48),\n",
       " ('Loft', 48),\n",
       " ('Double or Twin Room 1 Adult', 48),\n",
       " ('Double Superior Room', 48),\n",
       " ('Business Apartment with Public Transport Ticket', 48),\n",
       " ('Premium Triple Room', 48),\n",
       " ('Suite with Spa Access 2 Adults', 48),\n",
       " ('Level Room with Executive Lounge Access', 48),\n",
       " ('Executive Double or Twin Room with No view', 48),\n",
       " ('Deluxe Club Double Room', 47),\n",
       " ('Accessible Twin Room', 47),\n",
       " ('Superior Guest room 1 King or 2 Twin Single Bed s', 47),\n",
       " ('Chambers Junior Suite with Club Lounge Access', 47),\n",
       " ('Comfort Double or Twin Room with Balcony', 47),\n",
       " ('Interior Double or Twin Room', 47),\n",
       " ('Eiffel Tower Junior Suite', 47),\n",
       " ('Standard Double Room with Sofa Bed 3 Adults', 47),\n",
       " ('Privilege Room with 1 Double Bed', 47),\n",
       " ('Standard Double or Twin Room with Extra Bed 3 Adults', 47),\n",
       " ('Standard King Room Non Smoking', 47),\n",
       " ('Premier Double or Twin Room', 47),\n",
       " ('Boudoir Double Room', 46),\n",
       " ('King Grand Premier Room', 46),\n",
       " ('Luxury Room with Spa Access', 46),\n",
       " ('Classic Double Room La Parisienne', 46),\n",
       " ('Standard Room with 1 Kingsize Bed', 46),\n",
       " ('Emperor Suite', 46),\n",
       " ('Quality Double or Twin Room with Extra Bed', 46),\n",
       " ('Special Offer Deluxe Room', 46),\n",
       " ('Twin Guestroom', 46),\n",
       " ('Premier Shard King Room', 46),\n",
       " ('King Room with Courtyard View', 45),\n",
       " ('Tiny Single Room', 45),\n",
       " ('Superior Double Room with Terrace and Private Pool', 45),\n",
       " ('Single Hilton Guest Room', 45),\n",
       " ('Deluxe Garden Room', 45),\n",
       " ('Superior Suite 2 Adults 2 Children', 45),\n",
       " ('Superior Twin Room with City View', 45),\n",
       " ('Deluxe Double Room with Spa Access', 45),\n",
       " ('Suite 3 Adults', 45),\n",
       " ('Premium Deluxe Double Room', 45),\n",
       " ('Double or Twin Room with Bathroom', 44),\n",
       " ('Privilege Room with 1 Kingsize Bed', 44),\n",
       " ('Double or Twin Room with Bath', 44),\n",
       " ('Club Eiffel Tower King Room', 44),\n",
       " ('Twin Executive Room with Lounge Access', 44),\n",
       " ('Executive Club Twin Room', 44),\n",
       " ('Superior Double or Twin Room with Balcony 1 Adult', 44),\n",
       " ('Superior Two Bedroom Apartment', 44),\n",
       " ('King Suite with Lounge Access', 44),\n",
       " ('Twin Room with Cathedral View', 44),\n",
       " ('Superior Room with a shower or a bath', 43),\n",
       " ('Queen Superior Room', 43),\n",
       " ('Standard Double Room Disability Access', 43),\n",
       " ('Superior Premium Queen Room', 42),\n",
       " ('Duplex', 42),\n",
       " ('Stayed 17 nights', 42),\n",
       " ('Double Room Lady Soul', 42),\n",
       " ('Studio Twin', 42),\n",
       " ('Attach Suite', 42),\n",
       " ('Junior Suite with River View and Balcony', 42),\n",
       " ('Deluxe Queen Room with Balcony', 42),\n",
       " ('Duplex Suite with Spa Access', 42),\n",
       " ('Superior Double Room with View Non Smoking', 42),\n",
       " ('Superior Twin Double Room', 42),\n",
       " ('Deluxe Double Room with Gallery View', 42),\n",
       " ('Special Offer Princess Relax', 42),\n",
       " ('Comfort Double Room Courtyard Side', 41),\n",
       " ('Executive King Room with Executive Lounge Access', 41),\n",
       " ('Executive Room with queen size bed and double sofa bed 2 adults 2 children',\n",
       "  41),\n",
       " ('Queen Room Disability Access Non Smoking', 41),\n",
       " ('Classic Room with 1 Queen bed', 41),\n",
       " ('Two Adjoining Superior Suite', 41),\n",
       " ('Exclusive Suite', 41),\n",
       " ('Privilege Double or Twin Room', 41),\n",
       " ('Deluxe Double plus Single Bed', 41),\n",
       " ('Standard Room with 1 Double Bed and 1 Double Sofa bed', 40),\n",
       " ('Canal View Superior Deluxe Room with Spa Bath', 40),\n",
       " ('One Bedroom Suite with Kitchenette', 40),\n",
       " ('Privilege Double Room with Eiffel Tower View', 40),\n",
       " ('Luxury 1 Bed Suite', 40),\n",
       " ('Luxury Twin Room', 40),\n",
       " ('Classic Room with 2 double beds 2 Adults', 39),\n",
       " ('Superior Double Room with Sofa Bed', 39),\n",
       " ('Twin Room with Private Bathroom', 39),\n",
       " ('Deluxe Double Room with Balcony', 39),\n",
       " ('Duplex Twin Room', 39),\n",
       " ('Junior Suite with Lounge Access', 39),\n",
       " ('Twin Hilton Deluxe', 38),\n",
       " ('Double Room Disability Access Non Smoking', 38),\n",
       " ('Intuition Room', 38),\n",
       " ('4 rooms', 38),\n",
       " ('King Accessible Superior Room', 38),\n",
       " ('Double Executive Room with Lounge Access', 38),\n",
       " ('Family Room with King Bed and Sofa Bed', 38),\n",
       " ('Studio 2 Adults', 38),\n",
       " ('King Suite', 38),\n",
       " ('Single Room with Shared Bathroom', 38),\n",
       " ('Superior Double Room with Free Pool Access', 38),\n",
       " ('Suite with Balcony', 37),\n",
       " ('Camper Suite', 37),\n",
       " ('Executive Double or Twin Room with Harbour View', 37),\n",
       " ('Superior Queen Room with Pool Access', 37),\n",
       " ('Loft Suite', 37),\n",
       " ('Junior Suite with Extra Bed', 37),\n",
       " ('Comfort Double or Twin Room for Single Use', 37),\n",
       " ('Executive Double or Twin Room La Ravissante', 37),\n",
       " ('Business Room', 37),\n",
       " ('Double Room Marquise', 37),\n",
       " ('Cosy Room', 37),\n",
       " ('Budget Double Room Second Floor', 37),\n",
       " ('Standard Duplex Room 1 2 Adults', 37),\n",
       " ('Standard Compact Double Room', 36),\n",
       " ('Paseo de Gracia Double or Twin Room', 36),\n",
       " ('Standard Quad Room', 36),\n",
       " ('Family Apartment', 36),\n",
       " ('penta Plus Room', 36),\n",
       " ('Grand Suite', 36),\n",
       " ('Executive Double Room with Double Bed and Sofa Bed', 36),\n",
       " ('Park Deluxe King', 36),\n",
       " ('Standard Room with Queen Bed and Sofa', 36),\n",
       " ('Superior Suite', 36),\n",
       " ('Deluxe L Double Room', 36),\n",
       " ('Grand Deluxe Double Room', 36),\n",
       " ('Privilege Room with King bed', 36),\n",
       " ('Standard Double Room with Sea View', 35),\n",
       " ('Superior Double or Twin Room with Extra Bed', 35),\n",
       " ('Executive Double Room Eiffel Studio D Artiste with view of Paris', 35),\n",
       " ('Twin Room with City View 1 2 Adults', 35),\n",
       " ('Queensgate Double Room', 35),\n",
       " ('Spring Package Deluxe Double or Twin Room', 35),\n",
       " ('Small Double Room Canal View', 35),\n",
       " ('Budget Double Room', 35),\n",
       " ('Superior Double Room La S duisante', 35),\n",
       " ('Premium Double or Twin Room with View', 34),\n",
       " ('Apartment for 3 to 4 People with Kitchenette', 34),\n",
       " ('Deluxe Double Room without Window', 34),\n",
       " ('Executive Room with Two Double Beds', 34),\n",
       " ('Luxury Suite with whirlpool', 34),\n",
       " ('Twin Room with Courtyard View', 34),\n",
       " ('Grand Deluxe Room', 34),\n",
       " ('Corner Double Room', 34),\n",
       " ('Junior Suite with Executive Lounge Access', 34),\n",
       " ('Deluxe Double or Twin Room with Sea View', 34),\n",
       " ('Executive King Room with Panoramic View', 34),\n",
       " ('Superior Room with 1 Queensize Bed Canal view', 34),\n",
       " ('Premium King Room', 33),\n",
       " ('King Corner Room', 33),\n",
       " ('Deluxe Barcelona city View', 33),\n",
       " ('Double Room Crash Pad Under 30s', 33),\n",
       " ('Stayed 18 nights', 33),\n",
       " ('Garden Room', 33),\n",
       " ('Residence Suite', 33),\n",
       " ('Luxury Double Room Small', 33),\n",
       " ('One Bedroom Suite with City View', 33),\n",
       " ('Superior Double Twin Room with Free Parking', 33),\n",
       " ('Double Double Room', 33),\n",
       " ('Superior Double or Twin Room with Pool Spa Access', 33),\n",
       " ('Standard room with 1 queen bed and sofa', 33),\n",
       " ('Superior Queen Room 2 adults', 33),\n",
       " ('Deluxe Duplex Room', 32),\n",
       " ('Classic Double or Twin Room with extra bed', 32),\n",
       " ('Apartment 4 Adults', 32),\n",
       " ('Business Double Room with WiFi and Breakfast', 32),\n",
       " ('Triple Room with Spa Access', 32),\n",
       " ('Superior Executive Room', 32),\n",
       " ('Suite with Terrace', 32),\n",
       " ('Single Cabin Room', 32),\n",
       " ('Double Room GWR Tower', 32),\n",
       " ('Superior Room with 1 Double Bed and 1 Sofa Bed 3 Adults', 32),\n",
       " ('Twin Room with Extra Bed 3 Adults', 31),\n",
       " ('Double Room L', 31),\n",
       " ('King Deluxe Room with Canal View', 31),\n",
       " ('Standard Double or Twin with view', 31),\n",
       " ('Grande Suite', 31),\n",
       " ('Sextuple Room', 31),\n",
       " ('Superior Triple Room XL', 31),\n",
       " ('Executive Room with River View', 31),\n",
       " ('Small Double Room without Window', 31),\n",
       " ('Superior Double Room with Saint Germain des Pr s Church View', 31),\n",
       " ('Panorama Suite', 31),\n",
       " ('Spectacular Room', 31),\n",
       " ('Junior Deluxe Double Room', 31),\n",
       " ('Superior Double Room with Terrace and Cathedral View', 31),\n",
       " ('Comfort Double Room with Terrace', 31),\n",
       " ('Family Queen Room', 31),\n",
       " ('Superior Capucines Room', 31),\n",
       " ('Privilege Double or Twin Room with Spa Access', 31),\n",
       " ('Superior Room with 1 Double bed and Sofa 3 adults', 30),\n",
       " ('Executive Family Room 2 Adults and 2 Children', 30),\n",
       " ('Panoramic Room', 30),\n",
       " ('Premier Twin Room with City View', 30),\n",
       " ('Elegance Double or Twin Room', 30),\n",
       " ('Deluxe Double Room with Courtyard View', 30),\n",
       " ('Triple Room 3 Adults', 30),\n",
       " ('Classic Double Room with View', 30),\n",
       " ('Family Two Bedroom Suite', 30),\n",
       " ('Junior Suite with Balcony', 30),\n",
       " ('Superior Room with Balcony with Spa Access', 30),\n",
       " ('Superior Double or Twin Room with Canal View', 30),\n",
       " ('Superior Double Room with Terrace and City View', 30),\n",
       " ('Double or Twin Room with Park View', 30),\n",
       " ('Executive Room with 1 Queen bed', 30),\n",
       " ('King Room Second Floor', 30),\n",
       " ('Prestige Suite', 30),\n",
       " ('Luxury Twin Room Solarium', 30),\n",
       " ('Double Room with Extra Bed 2 Adults 1 Child', 29),\n",
       " ('Stayed 19 nights', 29),\n",
       " ('Apartment 3 Adults', 29),\n",
       " ('Deluxe Family Room with 1 Double and 2 Single Beds 4 Adults', 29),\n",
       " ('Economy Single Room basement no window', 29),\n",
       " ('Superior Room with 1 Double Bed and 1 Sofa Bed 1 place', 29),\n",
       " ('Deluxe Room with view', 29),\n",
       " ('Classic Double Room with Free Access to Hamman', 29),\n",
       " ('Top Deluxe Room', 29),\n",
       " ('Classic Room with One Queen Bed', 29),\n",
       " ('Executive Room with Canal View', 29),\n",
       " ('Standard Guestroom', 29),\n",
       " ('Superior Queen Suite with Sofa Bed 2 Adults', 29),\n",
       " ('Superior One Bedroom Apartment', 29),\n",
       " ('Room with View', 29),\n",
       " ('Saint Honor Double Suite', 29),\n",
       " ('One Bedroom Queen Suite', 28),\n",
       " ('Superior Deluxe Double Room', 28),\n",
       " ('Executive Queen Room with Two Queen Beds with lounge Access', 28),\n",
       " ('Garden View King', 28),\n",
       " ('Delightful King Twin Room', 28),\n",
       " ('Executive Deluxe Room', 28),\n",
       " ('Executive King Room with City View', 28),\n",
       " ('Premier Double or Twin Room with Extra Bed', 28),\n",
       " ('Hyatt Queen Room', 28),\n",
       " ('Chambers Grand Junior Suite with Club Lounge Access', 28),\n",
       " ('Superior Room with 2 Double Beds', 28),\n",
       " ('Small Double Room with Terrace', 28),\n",
       " ('Special Offer Only For Cruise Passengers', 28),\n",
       " ('King Junior Suite', 28),\n",
       " ('One Bedroom Apartment with City View', 28),\n",
       " ('King Room Mobility Accessible', 28),\n",
       " ('Hyatt King Room', 28),\n",
       " ('Comfort King or Twin Room', 28),\n",
       " ('Traditional Double Room', 28),\n",
       " ('Romantic Double Room', 28),\n",
       " ('Double Twin Superior Room', 27),\n",
       " ('Garden Twin Room', 27),\n",
       " ('Deluxe Queen Guestroom', 27),\n",
       " ('One Bedroom King Suite with Sofa Bed', 27),\n",
       " ('Cool Corner Suite', 27),\n",
       " ('Comfort Double or Twin Room with Rambla View', 27),\n",
       " ('Imperial Club Double Room with access to the Club Lounge', 27),\n",
       " ('Amiral Single Room', 27),\n",
       " ('Junior Suite with City View', 27),\n",
       " ('Deluxe Family Room with View', 27),\n",
       " ('Family Room 2 Adults 2 Children with Access to Nagomi Health', 27),\n",
       " ('Superior Premium Room with Queen Bed Sofa', 27),\n",
       " ('Superior Double or Twin Room with Courtyard view', 27),\n",
       " ('King Room with Sofa Bed and Balcony', 27),\n",
       " ('King Room with View', 27),\n",
       " ('1 King Bed Guest Room', 27),\n",
       " ('Suite with City View', 27),\n",
       " ('Classique Square', 27),\n",
       " ('Executive Suite with View', 27),\n",
       " ('Premium Double or Twin Room with Terrace and Spa Access', 27),\n",
       " ('Superior Twin Room with Park View', 27),\n",
       " ('Triple Room Free Wi Fi', 27),\n",
       " ('Deluxe Double Room with Canal View', 27),\n",
       " ('Exclusive Double Room', 27),\n",
       " ('Executive Double Room with Access to Executive Lounge', 27),\n",
       " ('Double Deluxe Plus Room', 26),\n",
       " ('Superior Double Room with Sea View', 26),\n",
       " ('Luxury Quadruple Room', 26),\n",
       " ('Budget Single Room Non Smoking', 26),\n",
       " ('Business Double Room with Courtyard View and Public Transport Ticket', 26),\n",
       " ('2 Adjacent Non Communicating Rooms', 26),\n",
       " ('Double Room for Single Use', 26),\n",
       " ('Junior Suite with Spa Access Free Wifi', 26),\n",
       " ('Park Studio King', 26),\n",
       " ('Deluxe Room with City View', 26),\n",
       " ('Standard Room with Double Bed', 26),\n",
       " ('Wonderful Sky Room', 26),\n",
       " ('Premium Double Room with Garden View', 26),\n",
       " ('Queensgate Twin Room', 26),\n",
       " ('Premium Superior Double Room', 25),\n",
       " ('Luxury Triple Room', 25),\n",
       " ('Double Room with Shower', 25),\n",
       " ('Deluxe Two Bedroom Apartment', 25),\n",
       " ('Classic Junior Suite', 25),\n",
       " ('Double Room with Four Poster Bed', 25),\n",
       " ('Double Room Crash Pad', 25),\n",
       " ('Triple Room Disability Access', 25),\n",
       " ('Canal View King', 25),\n",
       " ('Quadruple Room with Shower', 25),\n",
       " ('Executive Double Room with Eiffel Tower View', 25),\n",
       " ('Standard Room with 1 Queen Bed', 25),\n",
       " ('Superior Duplex Room', 25),\n",
       " ('Double Room with Extra Bed 2 Adults 1 Child with Ramblas View', 25),\n",
       " ('Twin Suite', 25),\n",
       " ('Superior Deluxe King or Double Room', 25),\n",
       " ('City Twin Room with Surprise Package', 25),\n",
       " ('Superior Room Queen Bed', 25),\n",
       " ('Single Room with Courtyard View', 25),\n",
       " ('Superior Suite 3 Adults 1 Child', 25),\n",
       " ('Superior Metropolitan Park Double Room', 25),\n",
       " ('Souterrain Triple Room', 25),\n",
       " ('Deluxe Metropolitan City Double Room', 25),\n",
       " ('Superior Double Room Single use', 24),\n",
       " ('Two Bedroom Suite with Two Bathrooms', 24),\n",
       " ('Deluxe King Guestroom', 24),\n",
       " ('Deluxe Guest room 1 King or 2 Twin Single Bed s', 24),\n",
       " ('Comfort Room with Extra Bed', 24),\n",
       " ('Studio with Courtyard View', 24),\n",
       " ('Deluxe with Garden', 24),\n",
       " ('Double or Twin Room 2 Adult 1 Children', 24),\n",
       " ('King Premier Room', 24),\n",
       " ('Falconers Two Bedroom Suite', 24),\n",
       " ('Junior Suite with access to the Club Lounge', 24),\n",
       " ('Superior room with Queen bed and sofa', 24),\n",
       " ('Classic Double Room with Courtyard View', 24),\n",
       " ('King Studio', 24),\n",
       " ('Deluxe Double Room or Twin Room', 24),\n",
       " ('Twin Studio', 24),\n",
       " ('REN Room Free Wifi', 24),\n",
       " ('Interconnecting Double Rooms', 24),\n",
       " ('Superior Suite Junior', 24),\n",
       " ('Queen Suite with Lounge Access', 24),\n",
       " ('Single Room with Free Airport Shuttle Service from 5 00am to 00 30am', 24),\n",
       " ('Room with Dock View Main Deck', 23),\n",
       " ('Family Room with View', 23),\n",
       " ('King Junior Suite City View with Access to Executive Lounge', 23),\n",
       " ('Junior Suite with Private Pool', 23),\n",
       " ...]"
      ]
     },
     "execution_count": 170,
     "metadata": {},
     "output_type": "execute_result"
    }
   ],
   "source": [
    "# посчитаем кол-во уникальных и самые популярные теги\n",
    "\n",
    "tags_unique = {} # задаем пустой словарь для тегов\n",
    "\n",
    "# функция для наполнения словаря тегами\n",
    "\n",
    "def get_tags_count(row, tag_dict):\n",
    "    \n",
    "    for tag in row:\n",
    "        if tag not in tag_dict:\n",
    "            tag_dict[tag] = 1\n",
    "        else:\n",
    "            tag_dict[tag] +=1\n",
    "    return tag_dict\n",
    "\n",
    "# применяем на датасете\n",
    "\n",
    "for row in hotels['tags']:\n",
    "    get_tags_count(row, tags_unique)\n",
    "    \n",
    "print(f'Всего уникальных тегов: {len(tags_unique)}')\n",
    "\n",
    "sorted(tags_unique.items(), key=lambda x: x[1], reverse=True) # отразим по убыванию самые популярные"
   ]
  },
  {
   "cell_type": "code",
   "execution_count": 171,
   "metadata": {},
   "outputs": [],
   "source": [
    "# 1.3 Переводим столбец с количеством дней с момента отзыва в числовой формат\n",
    "\n",
    "hotels['days_since_review'] = hotels['days_since_review'].apply(lambda x: x.split()[0])"
   ]
  },
  {
   "cell_type": "code",
   "execution_count": 172,
   "metadata": {},
   "outputs": [],
   "source": [
    "hotels['days_since_review'] = hotels['days_since_review'].astype(np.int64) # переводим из object в int64"
   ]
  },
  {
   "cell_type": "code",
   "execution_count": 174,
   "metadata": {},
   "outputs": [],
   "source": [
    "# 1.4 Уберем пробелы в строке со страной рецензента в начале и в конце\n",
    "hotels['reviewer_nationality'] = hotels['reviewer_nationality'].apply(lambda x: x[1:-1])"
   ]
  },
  {
   "attachments": {},
   "cell_type": "markdown",
   "metadata": {},
   "source": [
    "---\n",
    "\n",
    "## 2. Создание новых признаков "
   ]
  },
  {
   "cell_type": "code",
   "execution_count": 175,
   "metadata": {},
   "outputs": [
    {
     "data": {
      "text/plain": [
       "United Kingdom    262301\n",
       "Spain              60149\n",
       "France             59928\n",
       "Netherlands        57214\n",
       "Austria            38939\n",
       "Italy              37207\n",
       "Name: hotel_country, dtype: int64"
      ]
     },
     "execution_count": 175,
     "metadata": {},
     "output_type": "execute_result"
    }
   ],
   "source": [
    "# 1. Выделим признак страны отеля из текстового признака адреса и с помощью этого столбца заполним пропуски в стобцах lat/lng\n",
    "\n",
    "hotels['hotel_country'] = hotels['hotel_address'].apply(lambda x: x.split()[-1])\n",
    "hotels['hotel_country'] = hotels['hotel_country'].apply(lambda x: 'United Kingdom' if x == 'Kingdom' else x)\n",
    "hotels['hotel_country'].value_counts()"
   ]
  },
  {
   "cell_type": "code",
   "execution_count": 176,
   "metadata": {},
   "outputs": [
    {
     "name": "stdout",
     "output_type": "stream",
     "text": [
      "Austria    2679\n",
      "France      382\n",
      "Spain       207\n",
      "Name: hotel_country, dtype: int64\n",
      "\n",
      "Austria    2679\n",
      "France      382\n",
      "Spain       207\n",
      "Name: hotel_country, dtype: int64\n"
     ]
    }
   ],
   "source": [
    "# 1.1 Заполняем пропуски в столбца lat/lng\n",
    "\n",
    "# проверяем в каких странах есть пропуски ширины/долготы\n",
    "\n",
    "print(hotels[hotels['lat'].isnull()]['hotel_country'].value_counts())\n",
    "print()\n",
    "print(hotels[hotels['lng'].isnull()]['hotel_country'].value_counts()) \n",
    "\n",
    "# пропуски есть в 3х странах и точно совпадает количество, т.е. пропуски парные"
   ]
  },
  {
   "cell_type": "code",
   "execution_count": 177,
   "metadata": {},
   "outputs": [],
   "source": [
    "# найдем моды координат для каждой страны\n",
    "\n",
    "aus_mode = hotels[hotels['hotel_country'] == 'Austria'][['lat', 'lng']].mode()\n",
    "fr_mode = hotels[hotels['hotel_country'] == 'France'][['lat', 'lng']].mode()\n",
    "spain_mode = hotels[hotels['hotel_country'] == 'Spain'][['lat', 'lng']].mode()\n",
    "\n",
    "# заполним пропуски данных модой для каждой страны \n",
    "\n",
    "# Австрия\n",
    "mask = (hotels['hotel_country'] == 'Austria') & (hotels['lat'].isnull() == True) # создаем маску по стране + пропуски\n",
    "aus_values = hotels.loc[mask, ['lat', 'lng']].fillna({'lat': aus_mode.iloc[0][0], # создаем промежуточный датафрейм с заполненными модами пропусками ширины/долготы для этой страны\n",
    "                                                    'lng': aus_mode.iloc[0][1]}) # заменяем значения в оригинальном датафрейме промежуточныем\n",
    "hotels.loc[mask, ['lat', 'lng']] = aus_values\n",
    "\n",
    "# Франция\n",
    "mask = (hotels['hotel_country'] == 'France') & (hotels['lat'].isnull() == True)\n",
    "france_values = hotels.loc[mask, ['lat', 'lng']].fillna({'lat': fr_mode.iloc[0][0],\n",
    "                                                        'lng': fr_mode.iloc[0][1]})\n",
    "hotels.loc[mask, ['lat', 'lng']] = france_values\n",
    "\n",
    "# Испания\n",
    "mask = (hotels['hotel_country'] == 'Spain') & (hotels['lat'].isnull() == True)\n",
    "spain_values = hotels.loc[mask, ['lat', 'lng']].fillna({'lat': spain_mode.iloc[0][0],\n",
    "                                                        'lng': spain_mode.iloc[0][1]})\n",
    "hotels.loc[mask, ['lat', 'lng']] = spain_values"
   ]
  },
  {
   "cell_type": "code",
   "execution_count": 178,
   "metadata": {},
   "outputs": [
    {
     "name": "stdout",
     "output_type": "stream",
     "text": [
      "<class 'pandas.core.frame.DataFrame'>\n",
      "Int64Index: 515738 entries, 0 to 128934\n",
      "Data columns (total 19 columns):\n",
      " #   Column                                      Non-Null Count   Dtype         \n",
      "---  ------                                      --------------   -----         \n",
      " 0   hotel_address                               515738 non-null  object        \n",
      " 1   additional_number_of_scoring                515738 non-null  int64         \n",
      " 2   review_date                                 515738 non-null  datetime64[ns]\n",
      " 3   average_score                               515738 non-null  float64       \n",
      " 4   hotel_name                                  515738 non-null  object        \n",
      " 5   reviewer_nationality                        515738 non-null  object        \n",
      " 6   negative_review                             515738 non-null  object        \n",
      " 7   review_total_negative_word_counts           515738 non-null  int64         \n",
      " 8   total_number_of_reviews                     515738 non-null  int64         \n",
      " 9   positive_review                             515738 non-null  object        \n",
      " 10  review_total_positive_word_counts           515738 non-null  int64         \n",
      " 11  total_number_of_reviews_reviewer_has_given  515738 non-null  int64         \n",
      " 12  reviewer_score                              515738 non-null  float64       \n",
      " 13  tags                                        515738 non-null  object        \n",
      " 14  days_since_review                           515738 non-null  int64         \n",
      " 15  lat                                         515738 non-null  float64       \n",
      " 16  lng                                         515738 non-null  float64       \n",
      " 17  train_feat                                  515738 non-null  int64         \n",
      " 18  hotel_country                               515738 non-null  object        \n",
      "dtypes: datetime64[ns](1), float64(4), int64(7), object(7)\n",
      "memory usage: 78.7+ MB\n"
     ]
    }
   ],
   "source": [
    "# удостоверяемся, что пропуски ушли\n",
    "\n",
    "hotels.info()"
   ]
  },
  {
   "cell_type": "code",
   "execution_count": 179,
   "metadata": {},
   "outputs": [],
   "source": [
    "# 2.1 Создадим бинарный признак совпадения страны рецензента и страны отеля.\n",
    "\n",
    "hotels['same_country'] = hotels.apply(lambda x: 1 if x['reviewer_nationality'] == x['hotel_country'] else 0, axis=1)"
   ]
  },
  {
   "cell_type": "code",
   "execution_count": 180,
   "metadata": {},
   "outputs": [],
   "source": [
    "# 2.2 Методом OHE закодируем отдельными признаками страны\n",
    "\n",
    "countries_df = pd.get_dummies(hotels['hotel_country'], prefix='hotel_country')\n",
    "hotels = pd.concat([hotels, countries_df], axis=1)"
   ]
  },
  {
   "cell_type": "code",
   "execution_count": 181,
   "metadata": {},
   "outputs": [
    {
     "data": {
      "text/html": [
       "<div>\n",
       "<style scoped>\n",
       "    .dataframe tbody tr th:only-of-type {\n",
       "        vertical-align: middle;\n",
       "    }\n",
       "\n",
       "    .dataframe tbody tr th {\n",
       "        vertical-align: top;\n",
       "    }\n",
       "\n",
       "    .dataframe thead th {\n",
       "        text-align: right;\n",
       "    }\n",
       "</style>\n",
       "<table border=\"1\" class=\"dataframe\">\n",
       "  <thead>\n",
       "    <tr style=\"text-align: right;\">\n",
       "      <th></th>\n",
       "      <th>hotel_address</th>\n",
       "      <th>additional_number_of_scoring</th>\n",
       "      <th>review_date</th>\n",
       "      <th>average_score</th>\n",
       "      <th>hotel_name</th>\n",
       "      <th>reviewer_nationality</th>\n",
       "      <th>negative_review</th>\n",
       "      <th>review_total_negative_word_counts</th>\n",
       "      <th>total_number_of_reviews</th>\n",
       "      <th>positive_review</th>\n",
       "      <th>...</th>\n",
       "      <th>Couple</th>\n",
       "      <th>Family with young children</th>\n",
       "      <th>Group</th>\n",
       "      <th>Stayed 1 night</th>\n",
       "      <th>Stayed 2 nights</th>\n",
       "      <th>Stayed 3 nights</th>\n",
       "      <th>Stayed 4 nights</th>\n",
       "      <th>Stayed 5 nights</th>\n",
       "      <th>Stayed 6 nights</th>\n",
       "      <th>Stayed 7 nights</th>\n",
       "    </tr>\n",
       "  </thead>\n",
       "  <tbody>\n",
       "    <tr>\n",
       "      <th>0</th>\n",
       "      <td>Stratton Street Mayfair Westminster Borough Lo...</td>\n",
       "      <td>581</td>\n",
       "      <td>2016-02-19</td>\n",
       "      <td>8.4</td>\n",
       "      <td>The May Fair Hotel</td>\n",
       "      <td>United Kingdom</td>\n",
       "      <td>Leaving</td>\n",
       "      <td>3</td>\n",
       "      <td>1994</td>\n",
       "      <td>Staff were amazing</td>\n",
       "      <td>...</td>\n",
       "      <td>1</td>\n",
       "      <td>0</td>\n",
       "      <td>0</td>\n",
       "      <td>0</td>\n",
       "      <td>1</td>\n",
       "      <td>0</td>\n",
       "      <td>0</td>\n",
       "      <td>0</td>\n",
       "      <td>0</td>\n",
       "      <td>0</td>\n",
       "    </tr>\n",
       "    <tr>\n",
       "      <th>1</th>\n",
       "      <td>130 134 Southampton Row Camden London WC1B 5AF...</td>\n",
       "      <td>299</td>\n",
       "      <td>2017-01-12</td>\n",
       "      <td>8.3</td>\n",
       "      <td>Mercure London Bloomsbury Hotel</td>\n",
       "      <td>United Kingdom</td>\n",
       "      <td>poor breakfast</td>\n",
       "      <td>3</td>\n",
       "      <td>1361</td>\n",
       "      <td>location</td>\n",
       "      <td>...</td>\n",
       "      <td>1</td>\n",
       "      <td>0</td>\n",
       "      <td>0</td>\n",
       "      <td>1</td>\n",
       "      <td>0</td>\n",
       "      <td>0</td>\n",
       "      <td>0</td>\n",
       "      <td>0</td>\n",
       "      <td>0</td>\n",
       "      <td>0</td>\n",
       "    </tr>\n",
       "    <tr>\n",
       "      <th>2</th>\n",
       "      <td>151 bis Rue de Rennes 6th arr 75006 Paris France</td>\n",
       "      <td>32</td>\n",
       "      <td>2016-10-18</td>\n",
       "      <td>8.9</td>\n",
       "      <td>Legend Saint Germain by Elegancia</td>\n",
       "      <td>China</td>\n",
       "      <td>No kettle in room</td>\n",
       "      <td>6</td>\n",
       "      <td>406</td>\n",
       "      <td>No Positive</td>\n",
       "      <td>...</td>\n",
       "      <td>0</td>\n",
       "      <td>0</td>\n",
       "      <td>0</td>\n",
       "      <td>0</td>\n",
       "      <td>0</td>\n",
       "      <td>1</td>\n",
       "      <td>0</td>\n",
       "      <td>0</td>\n",
       "      <td>0</td>\n",
       "      <td>0</td>\n",
       "    </tr>\n",
       "    <tr>\n",
       "      <th>3</th>\n",
       "      <td>216 Avenue Jean Jaures 19th arr 75019 Paris Fr...</td>\n",
       "      <td>34</td>\n",
       "      <td>2015-09-22</td>\n",
       "      <td>7.5</td>\n",
       "      <td>Mercure Paris 19 Philharmonie La Villette</td>\n",
       "      <td>United Kingdom</td>\n",
       "      <td>No Negative</td>\n",
       "      <td>0</td>\n",
       "      <td>607</td>\n",
       "      <td>Friendly staff quiet comfortable room spotles...</td>\n",
       "      <td>...</td>\n",
       "      <td>0</td>\n",
       "      <td>0</td>\n",
       "      <td>0</td>\n",
       "      <td>1</td>\n",
       "      <td>0</td>\n",
       "      <td>0</td>\n",
       "      <td>0</td>\n",
       "      <td>0</td>\n",
       "      <td>0</td>\n",
       "      <td>0</td>\n",
       "    </tr>\n",
       "    <tr>\n",
       "      <th>4</th>\n",
       "      <td>Molenwerf 1 1014 AG Amsterdam Netherlands</td>\n",
       "      <td>914</td>\n",
       "      <td>2016-03-05</td>\n",
       "      <td>8.5</td>\n",
       "      <td>Golden Tulip Amsterdam West</td>\n",
       "      <td>Poland</td>\n",
       "      <td>Torn sheets</td>\n",
       "      <td>4</td>\n",
       "      <td>7586</td>\n",
       "      <td>The staff was very friendly and helpful Break...</td>\n",
       "      <td>...</td>\n",
       "      <td>1</td>\n",
       "      <td>0</td>\n",
       "      <td>0</td>\n",
       "      <td>0</td>\n",
       "      <td>0</td>\n",
       "      <td>0</td>\n",
       "      <td>0</td>\n",
       "      <td>0</td>\n",
       "      <td>1</td>\n",
       "      <td>0</td>\n",
       "    </tr>\n",
       "  </tbody>\n",
       "</table>\n",
       "<p>5 rows × 39 columns</p>\n",
       "</div>"
      ],
      "text/plain": [
       "                                       hotel_address  \\\n",
       "0  Stratton Street Mayfair Westminster Borough Lo...   \n",
       "1  130 134 Southampton Row Camden London WC1B 5AF...   \n",
       "2   151 bis Rue de Rennes 6th arr 75006 Paris France   \n",
       "3  216 Avenue Jean Jaures 19th arr 75019 Paris Fr...   \n",
       "4          Molenwerf 1 1014 AG Amsterdam Netherlands   \n",
       "\n",
       "   additional_number_of_scoring review_date  average_score  \\\n",
       "0                           581  2016-02-19            8.4   \n",
       "1                           299  2017-01-12            8.3   \n",
       "2                            32  2016-10-18            8.9   \n",
       "3                            34  2015-09-22            7.5   \n",
       "4                           914  2016-03-05            8.5   \n",
       "\n",
       "                                  hotel_name reviewer_nationality  \\\n",
       "0                         The May Fair Hotel       United Kingdom   \n",
       "1            Mercure London Bloomsbury Hotel       United Kingdom   \n",
       "2          Legend Saint Germain by Elegancia                China   \n",
       "3  Mercure Paris 19 Philharmonie La Villette       United Kingdom   \n",
       "4                Golden Tulip Amsterdam West               Poland   \n",
       "\n",
       "       negative_review  review_total_negative_word_counts  \\\n",
       "0             Leaving                                   3   \n",
       "1       poor breakfast                                  3   \n",
       "2   No kettle in room                                   6   \n",
       "3          No Negative                                  0   \n",
       "4         Torn sheets                                   4   \n",
       "\n",
       "   total_number_of_reviews                                    positive_review  \\\n",
       "0                     1994                                 Staff were amazing   \n",
       "1                     1361                                           location   \n",
       "2                      406                                        No Positive   \n",
       "3                      607   Friendly staff quiet comfortable room spotles...   \n",
       "4                     7586   The staff was very friendly and helpful Break...   \n",
       "\n",
       "   ...  Couple  Family with young children  Group Stayed 1 night  \\\n",
       "0  ...       1                           0      0              0   \n",
       "1  ...       1                           0      0              1   \n",
       "2  ...       0                           0      0              0   \n",
       "3  ...       0                           0      0              1   \n",
       "4  ...       1                           0      0              0   \n",
       "\n",
       "   Stayed 2 nights  Stayed 3 nights  Stayed 4 nights  Stayed 5 nights  \\\n",
       "0                1                0                0                0   \n",
       "1                0                0                0                0   \n",
       "2                0                1                0                0   \n",
       "3                0                0                0                0   \n",
       "4                0                0                0                0   \n",
       "\n",
       "  Stayed 6 nights  Stayed 7 nights  \n",
       "0               0                0  \n",
       "1               0                0  \n",
       "2               0                0  \n",
       "3               0                0  \n",
       "4               1                0  \n",
       "\n",
       "[5 rows x 39 columns]"
      ]
     },
     "metadata": {},
     "output_type": "display_data"
    }
   ],
   "source": [
    "# 3. Методом OHE закодируем отдельными признаками самые популярные теги из словаря tags_unique\n",
    "# отберем наиболее релевантные: кол-во ночей в отеле (до 7), тип поездки (деловая/отдых), количество персон (одиночный/пара/семья с детьми/группа)\n",
    "\n",
    "# создадим список отобранных тегов\n",
    "best_tags = ['Leisure trip', 'Business trip', 'Solo traveler', 'Couple', 'Family with young children', 'Group', 'Stayed 1 night', 'Stayed 2 nights', 'Stayed 3 nights', 'Stayed 4 nights', 'Stayed 5 nights', 'Stayed 6 nights', 'Stayed 7 nights']\n",
    "\n",
    "# добавляем признаки в датафрейм\n",
    "for tag in best_tags:\n",
    "    hotels[tag] = hotels['tags'].apply(lambda x: 1 if tag in x else 0)\n",
    "    \n",
    "display(hotels.head())"
   ]
  },
  {
   "cell_type": "code",
   "execution_count": 220,
   "metadata": {},
   "outputs": [],
   "source": [
    "# 4.1 Для анализа эмоционального тона отзыва сначала визуализируем зависмость средней оценки от кол-ва слов в отзыве\n",
    "\n",
    "# создадим фильтр для тренировочной и тестовой части с оценками\n",
    "train_mask = hotels['train_feat'] == 1\n",
    "test_mask = hotels['train_feat'] == 0\n",
    "\n",
    "negative_data = hotels[train_mask].groupby('review_total_negative_word_counts', as_index=False)['reviewer_score'].mean()\n",
    "positive_data = hotels[train_mask].groupby('review_total_positive_word_counts', as_index=False)['reviewer_score'].mean()"
   ]
  },
  {
   "cell_type": "code",
   "execution_count": 196,
   "metadata": {},
   "outputs": [
    {
     "data": {
      "application/vnd.plotly.v1+json": {
       "config": {
        "plotlyServerURL": "https://plot.ly"
       },
       "data": [
        {
         "hovertemplate": "review_total_negative_word_counts=%{x}<br>reviewer_score=%{y}<extra></extra>",
         "legendgroup": "",
         "marker": {
          "color": "#636efa",
          "symbol": "circle"
         },
         "mode": "markers",
         "name": "",
         "orientation": "v",
         "showlegend": false,
         "type": "scatter",
         "x": [
          0,
          2,
          3,
          4,
          5,
          6,
          7,
          8,
          9,
          10,
          11,
          12,
          13,
          14,
          15,
          16,
          17,
          18,
          19,
          20,
          21,
          22,
          23,
          24,
          25,
          26,
          27,
          28,
          29,
          30,
          31,
          32,
          33,
          34,
          35,
          36,
          37,
          38,
          39,
          40,
          41,
          42,
          43,
          44,
          45,
          46,
          47,
          48,
          49,
          50,
          51,
          52,
          53,
          54,
          55,
          56,
          57,
          58,
          59,
          60,
          61,
          62,
          63,
          64,
          65,
          66,
          67,
          68,
          69,
          70,
          71,
          72,
          73,
          74,
          75,
          76,
          77,
          78,
          79,
          80,
          81,
          82,
          83,
          84,
          85,
          86,
          87,
          88,
          89,
          90,
          91,
          92,
          93,
          94,
          95,
          96,
          97,
          98,
          99,
          100,
          101,
          102,
          103,
          104,
          105,
          106,
          107,
          108,
          109,
          110,
          111,
          112,
          113,
          114,
          115,
          116,
          117,
          118,
          119,
          120,
          121,
          122,
          123,
          124,
          125,
          126,
          127,
          128,
          129,
          130,
          131,
          132,
          133,
          134,
          135,
          136,
          137,
          138,
          139,
          140,
          141,
          142,
          143,
          144,
          145,
          146,
          147,
          148,
          149,
          150,
          151,
          152,
          153,
          154,
          155,
          156,
          157,
          158,
          159,
          160,
          161,
          162,
          163,
          164,
          165,
          166,
          167,
          168,
          169,
          170,
          171,
          172,
          173,
          174,
          175,
          176,
          177,
          178,
          179,
          180,
          181,
          182,
          183,
          184,
          185,
          186,
          187,
          188,
          189,
          190,
          191,
          192,
          193,
          194,
          195,
          196,
          197,
          198,
          199,
          200,
          201,
          202,
          203,
          204,
          205,
          206,
          207,
          208,
          209,
          210,
          211,
          212,
          213,
          214,
          215,
          216,
          217,
          218,
          219,
          220,
          221,
          222,
          223,
          224,
          225,
          226,
          227,
          228,
          229,
          230,
          231,
          232,
          233,
          234,
          235,
          236,
          237,
          238,
          239,
          240,
          241,
          242,
          243,
          244,
          245,
          246,
          247,
          248,
          249,
          250,
          251,
          252,
          253,
          254,
          255,
          256,
          257,
          258,
          259,
          260,
          261,
          262,
          263,
          264,
          265,
          266,
          267,
          268,
          269,
          270,
          271,
          272,
          273,
          274,
          275,
          276,
          277,
          278,
          279,
          280,
          281,
          282,
          283,
          284,
          285,
          286,
          287,
          288,
          289,
          290,
          291,
          292,
          293,
          294,
          295,
          296,
          297,
          298,
          299,
          300,
          301,
          302,
          303,
          304,
          305,
          306,
          307,
          308,
          309,
          310,
          311,
          312,
          313,
          314,
          315,
          316,
          317,
          318,
          319,
          320,
          321,
          322,
          323,
          324,
          325,
          326,
          327,
          328,
          329,
          330,
          331,
          332,
          333,
          334,
          335,
          336,
          337,
          338,
          339,
          340,
          341,
          342,
          343,
          344,
          345,
          346,
          347,
          348,
          349,
          350,
          351,
          352,
          353,
          354,
          355,
          356,
          357,
          358,
          359,
          360,
          361,
          362,
          363,
          364,
          365,
          366,
          367,
          368,
          369,
          370,
          371,
          372,
          373,
          374,
          375,
          376,
          377,
          378,
          379,
          380,
          381,
          382,
          383,
          384,
          385,
          386,
          387,
          388,
          389,
          390,
          391,
          392,
          393,
          395,
          397,
          398,
          399,
          400,
          401,
          402,
          403,
          408
         ],
         "xaxis": "x",
         "y": [
          9.338730228241943,
          9.193121549951293,
          8.801252747252748,
          8.497064285082677,
          8.51503682001742,
          8.496771523178808,
          8.422800658978584,
          8.381262930646757,
          8.336213869981256,
          8.317503788698852,
          8.270464819751941,
          8.231120636864667,
          8.185982971152624,
          8.19012576933369,
          8.184075691411936,
          8.160335279149827,
          8.093784860557768,
          8.122019117893677,
          8.104318513119534,
          8.06970111349873,
          8.051238830219335,
          8.029789496066341,
          7.960682768230376,
          8.018451080359311,
          7.951231649664096,
          7.9537890832008475,
          7.908293098551548,
          7.851716992303137,
          7.8756859035004725,
          7.798446417247939,
          7.794111498257839,
          7.811234294161124,
          7.8149208741522225,
          7.718062524121961,
          7.709263157894737,
          7.639964317573595,
          7.690581068416121,
          7.594060840173829,
          7.5629414865577225,
          7.648915401301519,
          7.594969256567915,
          7.560091480846198,
          7.540174672489083,
          7.4471888818698675,
          7.495991706979959,
          7.536965811965811,
          7.392702312138728,
          7.435034013605443,
          7.4735738255033555,
          7.392844974446338,
          7.441302408563783,
          7.298945349952062,
          7.3374999999999995,
          7.333472367049009,
          7.282483370288248,
          7.293899782135076,
          7.237780401416765,
          7.230853658536586,
          7.160684931506849,
          7.1649538866930165,
          7.216666666666666,
          7.1567567567567565,
          7.142459736456808,
          7.177547770700637,
          7.077476038338658,
          7.2115992970123015,
          7.062895174708819,
          7.090996168582375,
          7.060700389105058,
          6.946138996138996,
          7.031567328918323,
          6.94637964774951,
          7.037093275488069,
          7.005973451327433,
          6.837608695652174,
          6.881578947368421,
          6.931524547803617,
          6.923650385604113,
          6.910979228486647,
          6.847570332480819,
          6.918156424581005,
          6.90117994100295,
          6.95619335347432,
          6.850139275766016,
          6.94,
          6.701079136690648,
          6.764583333333333,
          6.844202898550725,
          6.626377952755905,
          6.862909090909091,
          6.8603703703703705,
          6.767857142857143,
          6.555274261603375,
          6.976442307692308,
          6.5954773869346734,
          6.774881516587678,
          6.83109243697479,
          6.737558685446009,
          6.513526570048309,
          6.562371134020618,
          6.795454545454546,
          6.652688172043011,
          6.561325966850828,
          6.605649717514124,
          6.605405405405405,
          6.457831325301205,
          6.5493902439024385,
          6.429375,
          6.477215189873418,
          6.805405405405406,
          6.601470588235294,
          6.364238410596027,
          6.6262773722627735,
          6.3040816326530615,
          6.390625,
          6.297841726618705,
          6.418487394957983,
          6.357943925233644,
          6.453333333333333,
          6.390151515151516,
          6.536440677966103,
          6.668333333333334,
          6.741237113402062,
          6.43298969072165,
          6.447916666666667,
          6.395061728395062,
          6.692,
          6.557647058823529,
          6.343877551020409,
          6.3931818181818185,
          6.3100000000000005,
          6.524096385542169,
          6.429268292682927,
          6.2216867469879515,
          6.477142857142857,
          6.56043956043956,
          6.437313432835821,
          6.127586206896552,
          5.976543209876543,
          6.389705882352941,
          6.3641791044776115,
          6.605660377358491,
          6.338461538461538,
          6.107462686567164,
          6.069999999999999,
          6.048214285714286,
          6.413333333333333,
          6.491666666666666,
          6.45,
          6.274545454545455,
          6.598076923076923,
          5.968965517241379,
          5.965,
          5.757407407407407,
          6.51,
          5.969491525423728,
          5.912765957446808,
          6.489795918367347,
          6.546875,
          6.1692307692307695,
          6.659523809523809,
          6.125641025641026,
          6.331707317073171,
          6.511363636363637,
          6.276315789473684,
          6.430909090909091,
          6.118604651162792,
          5.993181818181818,
          5.877777777777777,
          5.961904761904762,
          6.203703703703703,
          5.892592592592592,
          6.102127659574468,
          6.590625,
          5.593548387096774,
          5.835294117647059,
          6.033333333333333,
          5.845945945945946,
          5.968000000000001,
          6.4818181818181815,
          5.692,
          6.74,
          5.8125,
          5.68125,
          6.146666666666666,
          5.656521739130435,
          5.962962962962963,
          5.635714285714286,
          6.338095238095238,
          5.761904761904762,
          6.113793103448276,
          6.378947368421053,
          6.734999999999999,
          6.111111111111111,
          5.534375,
          5.84,
          6.448387096774193,
          6.04,
          5.927777777777778,
          6.252380952380953,
          5.3304347826086955,
          6.866666666666666,
          5.286666666666666,
          5.838461538461539,
          5.888235294117647,
          6.063157894736842,
          6.085714285714285,
          5.808695652173912,
          6.056521739130435,
          6.3,
          5.886956521739131,
          6.2,
          5.5600000000000005,
          5.708333333333333,
          5.8136363636363635,
          5.207692307692308,
          5.6375,
          5.592307692307693,
          5.570588235294117,
          6.015000000000001,
          5.760000000000001,
          5.947058823529411,
          4.935714285714285,
          5.741666666666667,
          5.230769230769231,
          4.894117647058824,
          5.292307692307692,
          6.1909090909090905,
          6.322222222222222,
          5.93,
          5.5200000000000005,
          6.26,
          5.1000000000000005,
          6.3,
          5.847058823529412,
          6.177777777777778,
          6.418181818181818,
          4.6000000000000005,
          6.125,
          5.57,
          5.977777777777778,
          5.8875,
          5.918181818181818,
          5.609090909090909,
          6.459999999999999,
          6.183333333333334,
          4.544444444444444,
          5.061538461538461,
          5.653846153846154,
          6.6125,
          5.875,
          5.3375,
          5.536363636363636,
          5.74,
          6.575,
          5.877777777777777,
          5.216666666666667,
          5.466666666666666,
          5.699999999999999,
          7.220000000000001,
          6.683333333333334,
          5.625,
          5.3,
          5.542857142857144,
          5.614285714285714,
          7.4399999999999995,
          5.7,
          5.671428571428572,
          6.1,
          5.5125,
          5.3,
          5.5,
          5.885714285714286,
          5.611111111111111,
          4.866666666666666,
          6.58,
          5.809090909090909,
          4.866666666666666,
          5.525,
          6,
          5.575,
          6.16,
          4.583333333333333,
          6.766666666666667,
          6.628571428571428,
          4.5,
          5.042857142857143,
          5.91,
          5.414285714285714,
          4.84,
          5.128571428571428,
          6.375,
          5.85,
          4.828571428571428,
          6.58,
          5.75,
          5,
          6.7375,
          6.45,
          7.9,
          5.2,
          5.283333333333333,
          5.733333333333333,
          2.9,
          7.1,
          5.8999999999999995,
          5.083333333333333,
          4.7,
          6.35,
          5.2444444444444445,
          3.7600000000000002,
          7.325,
          7.366666666666667,
          4.8,
          4.84,
          5.76,
          5.199999999999999,
          5.833333333333333,
          3.35,
          4.866666666666667,
          6.7,
          5,
          6.266666666666667,
          5.1,
          4.733333333333333,
          4.866666666666666,
          5.75,
          5.133333333333333,
          7.1,
          6.7,
          4.2,
          8.3,
          5.771428571428571,
          5.8428571428571425,
          6.68,
          5.166666666666667,
          4.316666666666666,
          5,
          5.96,
          6.3999999999999995,
          5.65,
          4,
          6.933333333333334,
          4.6,
          4.7,
          4.779999999999999,
          4.9,
          5.022222222222222,
          4.233333333333333,
          4.05,
          4.166666666666667,
          4.35,
          6.075,
          5.722222222222222,
          5,
          5.6875,
          3.3499999999999996,
          5.322222222222222,
          5.2375,
          4.522222222222222,
          6.05,
          5.728571428571429,
          4.566666666666666,
          4.6571428571428575,
          4.672727272727273,
          5.977777777777778,
          4.5285714285714285,
          6.593333333333334,
          6.857142857142857,
          6.2,
          5.75,
          5.08,
          4.8,
          5.9399999999999995,
          4.675,
          3.7399999999999998,
          3.5,
          6.3,
          4.933333333333334,
          2.5,
          6.699999999999999,
          5.216666666666667,
          5.716666666666666,
          6.533333333333334,
          5.400000000000001,
          4.34,
          8.95,
          5,
          6.340000000000001,
          6.699999999999999,
          6.7,
          7.1,
          4.6,
          7.9,
          2.9,
          8.8,
          6.25,
          6.3,
          2.5,
          3.8,
          5.65,
          5.4
         ],
         "yaxis": "y"
        }
       ],
       "layout": {
        "legend": {
         "tracegroupgap": 0
        },
        "template": {
         "data": {
          "bar": [
           {
            "error_x": {
             "color": "#2a3f5f"
            },
            "error_y": {
             "color": "#2a3f5f"
            },
            "marker": {
             "line": {
              "color": "#E5ECF6",
              "width": 0.5
             },
             "pattern": {
              "fillmode": "overlay",
              "size": 10,
              "solidity": 0.2
             }
            },
            "type": "bar"
           }
          ],
          "barpolar": [
           {
            "marker": {
             "line": {
              "color": "#E5ECF6",
              "width": 0.5
             },
             "pattern": {
              "fillmode": "overlay",
              "size": 10,
              "solidity": 0.2
             }
            },
            "type": "barpolar"
           }
          ],
          "carpet": [
           {
            "aaxis": {
             "endlinecolor": "#2a3f5f",
             "gridcolor": "white",
             "linecolor": "white",
             "minorgridcolor": "white",
             "startlinecolor": "#2a3f5f"
            },
            "baxis": {
             "endlinecolor": "#2a3f5f",
             "gridcolor": "white",
             "linecolor": "white",
             "minorgridcolor": "white",
             "startlinecolor": "#2a3f5f"
            },
            "type": "carpet"
           }
          ],
          "choropleth": [
           {
            "colorbar": {
             "outlinewidth": 0,
             "ticks": ""
            },
            "type": "choropleth"
           }
          ],
          "contour": [
           {
            "colorbar": {
             "outlinewidth": 0,
             "ticks": ""
            },
            "colorscale": [
             [
              0,
              "#0d0887"
             ],
             [
              0.1111111111111111,
              "#46039f"
             ],
             [
              0.2222222222222222,
              "#7201a8"
             ],
             [
              0.3333333333333333,
              "#9c179e"
             ],
             [
              0.4444444444444444,
              "#bd3786"
             ],
             [
              0.5555555555555556,
              "#d8576b"
             ],
             [
              0.6666666666666666,
              "#ed7953"
             ],
             [
              0.7777777777777778,
              "#fb9f3a"
             ],
             [
              0.8888888888888888,
              "#fdca26"
             ],
             [
              1,
              "#f0f921"
             ]
            ],
            "type": "contour"
           }
          ],
          "contourcarpet": [
           {
            "colorbar": {
             "outlinewidth": 0,
             "ticks": ""
            },
            "type": "contourcarpet"
           }
          ],
          "heatmap": [
           {
            "colorbar": {
             "outlinewidth": 0,
             "ticks": ""
            },
            "colorscale": [
             [
              0,
              "#0d0887"
             ],
             [
              0.1111111111111111,
              "#46039f"
             ],
             [
              0.2222222222222222,
              "#7201a8"
             ],
             [
              0.3333333333333333,
              "#9c179e"
             ],
             [
              0.4444444444444444,
              "#bd3786"
             ],
             [
              0.5555555555555556,
              "#d8576b"
             ],
             [
              0.6666666666666666,
              "#ed7953"
             ],
             [
              0.7777777777777778,
              "#fb9f3a"
             ],
             [
              0.8888888888888888,
              "#fdca26"
             ],
             [
              1,
              "#f0f921"
             ]
            ],
            "type": "heatmap"
           }
          ],
          "heatmapgl": [
           {
            "colorbar": {
             "outlinewidth": 0,
             "ticks": ""
            },
            "colorscale": [
             [
              0,
              "#0d0887"
             ],
             [
              0.1111111111111111,
              "#46039f"
             ],
             [
              0.2222222222222222,
              "#7201a8"
             ],
             [
              0.3333333333333333,
              "#9c179e"
             ],
             [
              0.4444444444444444,
              "#bd3786"
             ],
             [
              0.5555555555555556,
              "#d8576b"
             ],
             [
              0.6666666666666666,
              "#ed7953"
             ],
             [
              0.7777777777777778,
              "#fb9f3a"
             ],
             [
              0.8888888888888888,
              "#fdca26"
             ],
             [
              1,
              "#f0f921"
             ]
            ],
            "type": "heatmapgl"
           }
          ],
          "histogram": [
           {
            "marker": {
             "pattern": {
              "fillmode": "overlay",
              "size": 10,
              "solidity": 0.2
             }
            },
            "type": "histogram"
           }
          ],
          "histogram2d": [
           {
            "colorbar": {
             "outlinewidth": 0,
             "ticks": ""
            },
            "colorscale": [
             [
              0,
              "#0d0887"
             ],
             [
              0.1111111111111111,
              "#46039f"
             ],
             [
              0.2222222222222222,
              "#7201a8"
             ],
             [
              0.3333333333333333,
              "#9c179e"
             ],
             [
              0.4444444444444444,
              "#bd3786"
             ],
             [
              0.5555555555555556,
              "#d8576b"
             ],
             [
              0.6666666666666666,
              "#ed7953"
             ],
             [
              0.7777777777777778,
              "#fb9f3a"
             ],
             [
              0.8888888888888888,
              "#fdca26"
             ],
             [
              1,
              "#f0f921"
             ]
            ],
            "type": "histogram2d"
           }
          ],
          "histogram2dcontour": [
           {
            "colorbar": {
             "outlinewidth": 0,
             "ticks": ""
            },
            "colorscale": [
             [
              0,
              "#0d0887"
             ],
             [
              0.1111111111111111,
              "#46039f"
             ],
             [
              0.2222222222222222,
              "#7201a8"
             ],
             [
              0.3333333333333333,
              "#9c179e"
             ],
             [
              0.4444444444444444,
              "#bd3786"
             ],
             [
              0.5555555555555556,
              "#d8576b"
             ],
             [
              0.6666666666666666,
              "#ed7953"
             ],
             [
              0.7777777777777778,
              "#fb9f3a"
             ],
             [
              0.8888888888888888,
              "#fdca26"
             ],
             [
              1,
              "#f0f921"
             ]
            ],
            "type": "histogram2dcontour"
           }
          ],
          "mesh3d": [
           {
            "colorbar": {
             "outlinewidth": 0,
             "ticks": ""
            },
            "type": "mesh3d"
           }
          ],
          "parcoords": [
           {
            "line": {
             "colorbar": {
              "outlinewidth": 0,
              "ticks": ""
             }
            },
            "type": "parcoords"
           }
          ],
          "pie": [
           {
            "automargin": true,
            "type": "pie"
           }
          ],
          "scatter": [
           {
            "fillpattern": {
             "fillmode": "overlay",
             "size": 10,
             "solidity": 0.2
            },
            "type": "scatter"
           }
          ],
          "scatter3d": [
           {
            "line": {
             "colorbar": {
              "outlinewidth": 0,
              "ticks": ""
             }
            },
            "marker": {
             "colorbar": {
              "outlinewidth": 0,
              "ticks": ""
             }
            },
            "type": "scatter3d"
           }
          ],
          "scattercarpet": [
           {
            "marker": {
             "colorbar": {
              "outlinewidth": 0,
              "ticks": ""
             }
            },
            "type": "scattercarpet"
           }
          ],
          "scattergeo": [
           {
            "marker": {
             "colorbar": {
              "outlinewidth": 0,
              "ticks": ""
             }
            },
            "type": "scattergeo"
           }
          ],
          "scattergl": [
           {
            "marker": {
             "colorbar": {
              "outlinewidth": 0,
              "ticks": ""
             }
            },
            "type": "scattergl"
           }
          ],
          "scattermapbox": [
           {
            "marker": {
             "colorbar": {
              "outlinewidth": 0,
              "ticks": ""
             }
            },
            "type": "scattermapbox"
           }
          ],
          "scatterpolar": [
           {
            "marker": {
             "colorbar": {
              "outlinewidth": 0,
              "ticks": ""
             }
            },
            "type": "scatterpolar"
           }
          ],
          "scatterpolargl": [
           {
            "marker": {
             "colorbar": {
              "outlinewidth": 0,
              "ticks": ""
             }
            },
            "type": "scatterpolargl"
           }
          ],
          "scatterternary": [
           {
            "marker": {
             "colorbar": {
              "outlinewidth": 0,
              "ticks": ""
             }
            },
            "type": "scatterternary"
           }
          ],
          "surface": [
           {
            "colorbar": {
             "outlinewidth": 0,
             "ticks": ""
            },
            "colorscale": [
             [
              0,
              "#0d0887"
             ],
             [
              0.1111111111111111,
              "#46039f"
             ],
             [
              0.2222222222222222,
              "#7201a8"
             ],
             [
              0.3333333333333333,
              "#9c179e"
             ],
             [
              0.4444444444444444,
              "#bd3786"
             ],
             [
              0.5555555555555556,
              "#d8576b"
             ],
             [
              0.6666666666666666,
              "#ed7953"
             ],
             [
              0.7777777777777778,
              "#fb9f3a"
             ],
             [
              0.8888888888888888,
              "#fdca26"
             ],
             [
              1,
              "#f0f921"
             ]
            ],
            "type": "surface"
           }
          ],
          "table": [
           {
            "cells": {
             "fill": {
              "color": "#EBF0F8"
             },
             "line": {
              "color": "white"
             }
            },
            "header": {
             "fill": {
              "color": "#C8D4E3"
             },
             "line": {
              "color": "white"
             }
            },
            "type": "table"
           }
          ]
         },
         "layout": {
          "annotationdefaults": {
           "arrowcolor": "#2a3f5f",
           "arrowhead": 0,
           "arrowwidth": 1
          },
          "autotypenumbers": "strict",
          "coloraxis": {
           "colorbar": {
            "outlinewidth": 0,
            "ticks": ""
           }
          },
          "colorscale": {
           "diverging": [
            [
             0,
             "#8e0152"
            ],
            [
             0.1,
             "#c51b7d"
            ],
            [
             0.2,
             "#de77ae"
            ],
            [
             0.3,
             "#f1b6da"
            ],
            [
             0.4,
             "#fde0ef"
            ],
            [
             0.5,
             "#f7f7f7"
            ],
            [
             0.6,
             "#e6f5d0"
            ],
            [
             0.7,
             "#b8e186"
            ],
            [
             0.8,
             "#7fbc41"
            ],
            [
             0.9,
             "#4d9221"
            ],
            [
             1,
             "#276419"
            ]
           ],
           "sequential": [
            [
             0,
             "#0d0887"
            ],
            [
             0.1111111111111111,
             "#46039f"
            ],
            [
             0.2222222222222222,
             "#7201a8"
            ],
            [
             0.3333333333333333,
             "#9c179e"
            ],
            [
             0.4444444444444444,
             "#bd3786"
            ],
            [
             0.5555555555555556,
             "#d8576b"
            ],
            [
             0.6666666666666666,
             "#ed7953"
            ],
            [
             0.7777777777777778,
             "#fb9f3a"
            ],
            [
             0.8888888888888888,
             "#fdca26"
            ],
            [
             1,
             "#f0f921"
            ]
           ],
           "sequentialminus": [
            [
             0,
             "#0d0887"
            ],
            [
             0.1111111111111111,
             "#46039f"
            ],
            [
             0.2222222222222222,
             "#7201a8"
            ],
            [
             0.3333333333333333,
             "#9c179e"
            ],
            [
             0.4444444444444444,
             "#bd3786"
            ],
            [
             0.5555555555555556,
             "#d8576b"
            ],
            [
             0.6666666666666666,
             "#ed7953"
            ],
            [
             0.7777777777777778,
             "#fb9f3a"
            ],
            [
             0.8888888888888888,
             "#fdca26"
            ],
            [
             1,
             "#f0f921"
            ]
           ]
          },
          "colorway": [
           "#636efa",
           "#EF553B",
           "#00cc96",
           "#ab63fa",
           "#FFA15A",
           "#19d3f3",
           "#FF6692",
           "#B6E880",
           "#FF97FF",
           "#FECB52"
          ],
          "font": {
           "color": "#2a3f5f"
          },
          "geo": {
           "bgcolor": "white",
           "lakecolor": "white",
           "landcolor": "#E5ECF6",
           "showlakes": true,
           "showland": true,
           "subunitcolor": "white"
          },
          "hoverlabel": {
           "align": "left"
          },
          "hovermode": "closest",
          "mapbox": {
           "style": "light"
          },
          "paper_bgcolor": "white",
          "plot_bgcolor": "#E5ECF6",
          "polar": {
           "angularaxis": {
            "gridcolor": "white",
            "linecolor": "white",
            "ticks": ""
           },
           "bgcolor": "#E5ECF6",
           "radialaxis": {
            "gridcolor": "white",
            "linecolor": "white",
            "ticks": ""
           }
          },
          "scene": {
           "xaxis": {
            "backgroundcolor": "#E5ECF6",
            "gridcolor": "white",
            "gridwidth": 2,
            "linecolor": "white",
            "showbackground": true,
            "ticks": "",
            "zerolinecolor": "white"
           },
           "yaxis": {
            "backgroundcolor": "#E5ECF6",
            "gridcolor": "white",
            "gridwidth": 2,
            "linecolor": "white",
            "showbackground": true,
            "ticks": "",
            "zerolinecolor": "white"
           },
           "zaxis": {
            "backgroundcolor": "#E5ECF6",
            "gridcolor": "white",
            "gridwidth": 2,
            "linecolor": "white",
            "showbackground": true,
            "ticks": "",
            "zerolinecolor": "white"
           }
          },
          "shapedefaults": {
           "line": {
            "color": "#2a3f5f"
           }
          },
          "ternary": {
           "aaxis": {
            "gridcolor": "white",
            "linecolor": "white",
            "ticks": ""
           },
           "baxis": {
            "gridcolor": "white",
            "linecolor": "white",
            "ticks": ""
           },
           "bgcolor": "#E5ECF6",
           "caxis": {
            "gridcolor": "white",
            "linecolor": "white",
            "ticks": ""
           }
          },
          "title": {
           "x": 0.05
          },
          "xaxis": {
           "automargin": true,
           "gridcolor": "white",
           "linecolor": "white",
           "ticks": "",
           "title": {
            "standoff": 15
           },
           "zerolinecolor": "white",
           "zerolinewidth": 2
          },
          "yaxis": {
           "automargin": true,
           "gridcolor": "white",
           "linecolor": "white",
           "ticks": "",
           "title": {
            "standoff": 15
           },
           "zerolinecolor": "white",
           "zerolinewidth": 2
          }
         }
        },
        "title": {
         "text": "Зависимость средней оценки от кол-ва слов в отрицательном отзыве"
        },
        "xaxis": {
         "anchor": "y",
         "domain": [
          0,
          1
         ],
         "title": {
          "text": "review_total_negative_word_counts"
         }
        },
        "yaxis": {
         "anchor": "x",
         "domain": [
          0,
          1
         ],
         "title": {
          "text": "reviewer_score"
         }
        }
       }
      }
     },
     "metadata": {},
     "output_type": "display_data"
    },
    {
     "data": {
      "application/vnd.plotly.v1+json": {
       "config": {
        "plotlyServerURL": "https://plot.ly"
       },
       "data": [
        {
         "hovertemplate": "review_total_positive_word_counts=%{x}<br>reviewer_score=%{y}<extra></extra>",
         "legendgroup": "",
         "marker": {
          "color": "#636efa",
          "symbol": "circle"
         },
         "mode": "markers",
         "name": "",
         "orientation": "v",
         "showlegend": false,
         "type": "scatter",
         "x": [
          0,
          2,
          3,
          4,
          5,
          6,
          7,
          8,
          9,
          10,
          11,
          12,
          13,
          14,
          15,
          16,
          17,
          18,
          19,
          20,
          21,
          22,
          23,
          24,
          25,
          26,
          27,
          28,
          29,
          30,
          31,
          32,
          33,
          34,
          35,
          36,
          37,
          38,
          39,
          40,
          41,
          42,
          43,
          44,
          45,
          46,
          47,
          48,
          49,
          50,
          51,
          52,
          53,
          54,
          55,
          56,
          57,
          58,
          59,
          60,
          61,
          62,
          63,
          64,
          65,
          66,
          67,
          68,
          69,
          70,
          71,
          72,
          73,
          74,
          75,
          76,
          77,
          78,
          79,
          80,
          81,
          82,
          83,
          84,
          85,
          86,
          87,
          88,
          89,
          90,
          91,
          92,
          93,
          94,
          95,
          96,
          97,
          98,
          99,
          100,
          101,
          102,
          103,
          104,
          105,
          106,
          107,
          108,
          109,
          110,
          111,
          112,
          113,
          114,
          115,
          116,
          117,
          118,
          119,
          120,
          121,
          122,
          123,
          124,
          125,
          126,
          127,
          128,
          129,
          130,
          131,
          132,
          133,
          134,
          135,
          136,
          137,
          138,
          139,
          140,
          141,
          142,
          143,
          144,
          145,
          146,
          147,
          148,
          149,
          150,
          151,
          152,
          153,
          154,
          155,
          156,
          157,
          158,
          159,
          160,
          161,
          162,
          163,
          164,
          165,
          166,
          167,
          168,
          169,
          170,
          171,
          172,
          173,
          174,
          175,
          176,
          177,
          178,
          179,
          180,
          181,
          182,
          183,
          184,
          185,
          186,
          187,
          188,
          189,
          190,
          191,
          192,
          193,
          194,
          195,
          196,
          197,
          198,
          199,
          200,
          201,
          202,
          203,
          204,
          205,
          206,
          207,
          208,
          209,
          210,
          211,
          212,
          213,
          214,
          215,
          216,
          217,
          218,
          219,
          220,
          221,
          222,
          223,
          224,
          225,
          226,
          227,
          228,
          229,
          230,
          231,
          232,
          233,
          234,
          235,
          236,
          237,
          238,
          239,
          240,
          241,
          242,
          243,
          244,
          245,
          246,
          247,
          248,
          249,
          250,
          251,
          252,
          253,
          254,
          255,
          256,
          257,
          258,
          259,
          260,
          262,
          263,
          264,
          265,
          266,
          267,
          268,
          269,
          270,
          271,
          272,
          273,
          274,
          275,
          276,
          277,
          279,
          280,
          281,
          283,
          284,
          285,
          286,
          287,
          288,
          289,
          291,
          292,
          295,
          296,
          297,
          298,
          300,
          301,
          303,
          304,
          305,
          306,
          307,
          308,
          309,
          310,
          313,
          314,
          316,
          319,
          323,
          324,
          326,
          327,
          328,
          329,
          330,
          331,
          332,
          333,
          334,
          335,
          338,
          339,
          341,
          342,
          343,
          344,
          345,
          346,
          348,
          349,
          350,
          351,
          352,
          353,
          354,
          355,
          358,
          359,
          360,
          364,
          365,
          366,
          367,
          368,
          369,
          371,
          372,
          373,
          375,
          377,
          378,
          380,
          383,
          384,
          386,
          395
         ],
         "xaxis": "x",
         "y": [
          6.88889343500093,
          7.253824908471963,
          7.722233436238423,
          7.973197271546123,
          8.11171847799055,
          8.223458318886522,
          8.338591732667897,
          8.421530167469603,
          8.458732952045754,
          8.508038388238498,
          8.55723915592028,
          8.566128506197,
          8.618695313176818,
          8.631748046875,
          8.675454930173508,
          8.701619058633051,
          8.743297169223094,
          8.733284496537028,
          8.739874321622393,
          8.752832839082254,
          8.80621985697655,
          8.801586170023167,
          8.840075901328273,
          8.852160619649409,
          8.856324531516185,
          8.856981566820277,
          8.861317694035439,
          8.92463768115942,
          8.921969696969697,
          8.942156564118184,
          8.971160572337043,
          8.918236674488769,
          8.943721095695482,
          8.993939393939394,
          8.95642683912692,
          8.98868092691622,
          8.954049217002236,
          9.018644859813085,
          8.997967479674797,
          9.029339065018807,
          8.98002225932109,
          9.013875305623472,
          9.01414913957935,
          9.02979152656355,
          8.992629340892984,
          9.049882168106834,
          9.043471337579618,
          9.081834215167548,
          9.003986135181975,
          9.038827098078867,
          9.052727272727273,
          9.009225874867445,
          9.059911894273128,
          9.033333333333333,
          9.045264452644526,
          9.061842105263157,
          9.032928475033737,
          8.986585365853658,
          9.0068669527897,
          9.02700964630225,
          9.098260869565218,
          9.04165170556553,
          9.169622641509433,
          9.079793814432989,
          9.053470919324578,
          9.057227722772277,
          9.176851851851852,
          9.130786516853933,
          9.0011655011655,
          9.19058524173028,
          9.202917771883289,
          9.01025,
          9.078125,
          9.174571428571427,
          8.944126984126985,
          9.154347826086957,
          9.076296296296295,
          9.143636363636364,
          9.073703703703703,
          9.210408921933086,
          8.957777777777778,
          9.1544061302682,
          9.171615720524018,
          9.221576763485478,
          9.201895734597157,
          9.249775784753362,
          9.129381443298968,
          9.13956043956044,
          9.148850574712645,
          9.174999999999999,
          8.942245989304814,
          9.052287581699346,
          9.182122905027933,
          9.212328767123287,
          9.044520547945206,
          9.229605263157895,
          9.17716535433071,
          9.172093023255814,
          9.166176470588235,
          9.159420289855072,
          9.111578947368422,
          9.337894736842106,
          9.090566037735849,
          8.857017543859648,
          8.98936170212766,
          9.350442477876106,
          9.448936170212766,
          9.298823529411765,
          9.285106382978723,
          9.085393258426967,
          9.244318181818182,
          9.212676056338028,
          9.277272727272727,
          8.95593220338983,
          9.29468085106383,
          9.387671232876711,
          9.054666666666668,
          9.098360655737705,
          9.19375,
          9.080392156862745,
          9.054285714285713,
          9.21206896551724,
          8.949295774647887,
          9.327272727272728,
          9.291304347826086,
          9.125423728813558,
          8.910204081632653,
          9.08,
          9.272916666666667,
          9.21304347826087,
          8.932608695652174,
          9.279629629629628,
          9.326315789473684,
          8.875,
          8.986666666666666,
          9.32857142857143,
          9.214285714285714,
          9.397674418604652,
          9.132432432432433,
          9.036585365853659,
          9.314285714285715,
          9.406060606060606,
          8.799999999999999,
          9.108333333333333,
          8.988888888888889,
          9.007407407407406,
          9.255172413793103,
          9.22,
          9.624137931034484,
          9.185714285714285,
          9.233333333333333,
          9.35,
          9.057142857142857,
          9.082608695652175,
          9.35,
          9.118181818181817,
          9.32,
          9.191304347826087,
          8.936842105263159,
          9.15263157894737,
          9.28888888888889,
          9.120000000000001,
          8.685714285714287,
          9.658333333333333,
          9.221052631578948,
          9.2625,
          9.136363636363637,
          9.427272727272728,
          9.15,
          9.266666666666667,
          9.314285714285715,
          9.588888888888889,
          8.986666666666668,
          9.149999999999999,
          9.557142857142859,
          9.129999999999999,
          9.153846153846153,
          9.126666666666667,
          9.658333333333333,
          9.327272727272726,
          8.52,
          8.633333333333333,
          8.94375,
          8.672727272727272,
          8.971428571428572,
          8.946666666666665,
          8.875,
          9.516666666666667,
          9.508333333333333,
          9.799999999999999,
          9.450000000000001,
          9.215384615384615,
          8.799999999999999,
          8.633333333333333,
          9.299999999999999,
          9.046153846153846,
          9.51,
          8.84,
          8.47,
          9.26,
          8.645454545454545,
          9.6,
          9.077777777777778,
          8.925,
          9.2,
          9.088888888888889,
          9.5375,
          8.81111111111111,
          9.466666666666667,
          10,
          8.879999999999999,
          9.76,
          9.063636363636364,
          6.566666666666666,
          9.6,
          8.26,
          9.4,
          9.5875,
          8.4375,
          9.475,
          8.875,
          8.757142857142856,
          9.666666666666666,
          9.411111111111111,
          10,
          9.42,
          9.822222222222223,
          10,
          9.5,
          7.5,
          9.28,
          9.475,
          9.114285714285714,
          9.433333333333334,
          8.457142857142857,
          8.200000000000001,
          8.4,
          8.9,
          9.333333333333334,
          8.5,
          9.5,
          9.733333333333333,
          9.175,
          10,
          9.7,
          9.6,
          7.659999999999999,
          9.9,
          9.6,
          9.6,
          8.125,
          5.4,
          9.122222222222222,
          6.3,
          8.633333333333333,
          8.3,
          9.6,
          9.6,
          9.066666666666666,
          9.033333333333333,
          8.55,
          10,
          9.399999999999999,
          9.166666666666666,
          9.533333333333333,
          9.7,
          9.375,
          9.9,
          9.433333333333334,
          9.8,
          9.9,
          10,
          7.8,
          8.55,
          8.75,
          8.466666666666667,
          9.7,
          8.95,
          9.7,
          9.8,
          9.6,
          10,
          10,
          8.3,
          10,
          10,
          10,
          10,
          6.65,
          10,
          8.9,
          8.683333333333334,
          10,
          10,
          10,
          9.6,
          7.9,
          8.55,
          9.866666666666667,
          10,
          9.6,
          10,
          9.2,
          9.6,
          8.75,
          7.3,
          9.6,
          9.6,
          8.3,
          9.2,
          8.8,
          10,
          10,
          10,
          9.6,
          10,
          10,
          10,
          10,
          9.2,
          8.333333333333334,
          10,
          8.95,
          9.6,
          9.6,
          8.35,
          9.6,
          9.8,
          9.4,
          2.5,
          4.2,
          9.4,
          9.6,
          9.8,
          2.5,
          10,
          9.8,
          10,
          8.3,
          8.15,
          7.1,
          7.5,
          9.299999999999999,
          7.9,
          6.05,
          8.3,
          9.15,
          9.6,
          10,
          10,
          10,
          8.35,
          3.3,
          5.4
         ],
         "yaxis": "y"
        }
       ],
       "layout": {
        "legend": {
         "tracegroupgap": 0
        },
        "template": {
         "data": {
          "bar": [
           {
            "error_x": {
             "color": "#2a3f5f"
            },
            "error_y": {
             "color": "#2a3f5f"
            },
            "marker": {
             "line": {
              "color": "#E5ECF6",
              "width": 0.5
             },
             "pattern": {
              "fillmode": "overlay",
              "size": 10,
              "solidity": 0.2
             }
            },
            "type": "bar"
           }
          ],
          "barpolar": [
           {
            "marker": {
             "line": {
              "color": "#E5ECF6",
              "width": 0.5
             },
             "pattern": {
              "fillmode": "overlay",
              "size": 10,
              "solidity": 0.2
             }
            },
            "type": "barpolar"
           }
          ],
          "carpet": [
           {
            "aaxis": {
             "endlinecolor": "#2a3f5f",
             "gridcolor": "white",
             "linecolor": "white",
             "minorgridcolor": "white",
             "startlinecolor": "#2a3f5f"
            },
            "baxis": {
             "endlinecolor": "#2a3f5f",
             "gridcolor": "white",
             "linecolor": "white",
             "minorgridcolor": "white",
             "startlinecolor": "#2a3f5f"
            },
            "type": "carpet"
           }
          ],
          "choropleth": [
           {
            "colorbar": {
             "outlinewidth": 0,
             "ticks": ""
            },
            "type": "choropleth"
           }
          ],
          "contour": [
           {
            "colorbar": {
             "outlinewidth": 0,
             "ticks": ""
            },
            "colorscale": [
             [
              0,
              "#0d0887"
             ],
             [
              0.1111111111111111,
              "#46039f"
             ],
             [
              0.2222222222222222,
              "#7201a8"
             ],
             [
              0.3333333333333333,
              "#9c179e"
             ],
             [
              0.4444444444444444,
              "#bd3786"
             ],
             [
              0.5555555555555556,
              "#d8576b"
             ],
             [
              0.6666666666666666,
              "#ed7953"
             ],
             [
              0.7777777777777778,
              "#fb9f3a"
             ],
             [
              0.8888888888888888,
              "#fdca26"
             ],
             [
              1,
              "#f0f921"
             ]
            ],
            "type": "contour"
           }
          ],
          "contourcarpet": [
           {
            "colorbar": {
             "outlinewidth": 0,
             "ticks": ""
            },
            "type": "contourcarpet"
           }
          ],
          "heatmap": [
           {
            "colorbar": {
             "outlinewidth": 0,
             "ticks": ""
            },
            "colorscale": [
             [
              0,
              "#0d0887"
             ],
             [
              0.1111111111111111,
              "#46039f"
             ],
             [
              0.2222222222222222,
              "#7201a8"
             ],
             [
              0.3333333333333333,
              "#9c179e"
             ],
             [
              0.4444444444444444,
              "#bd3786"
             ],
             [
              0.5555555555555556,
              "#d8576b"
             ],
             [
              0.6666666666666666,
              "#ed7953"
             ],
             [
              0.7777777777777778,
              "#fb9f3a"
             ],
             [
              0.8888888888888888,
              "#fdca26"
             ],
             [
              1,
              "#f0f921"
             ]
            ],
            "type": "heatmap"
           }
          ],
          "heatmapgl": [
           {
            "colorbar": {
             "outlinewidth": 0,
             "ticks": ""
            },
            "colorscale": [
             [
              0,
              "#0d0887"
             ],
             [
              0.1111111111111111,
              "#46039f"
             ],
             [
              0.2222222222222222,
              "#7201a8"
             ],
             [
              0.3333333333333333,
              "#9c179e"
             ],
             [
              0.4444444444444444,
              "#bd3786"
             ],
             [
              0.5555555555555556,
              "#d8576b"
             ],
             [
              0.6666666666666666,
              "#ed7953"
             ],
             [
              0.7777777777777778,
              "#fb9f3a"
             ],
             [
              0.8888888888888888,
              "#fdca26"
             ],
             [
              1,
              "#f0f921"
             ]
            ],
            "type": "heatmapgl"
           }
          ],
          "histogram": [
           {
            "marker": {
             "pattern": {
              "fillmode": "overlay",
              "size": 10,
              "solidity": 0.2
             }
            },
            "type": "histogram"
           }
          ],
          "histogram2d": [
           {
            "colorbar": {
             "outlinewidth": 0,
             "ticks": ""
            },
            "colorscale": [
             [
              0,
              "#0d0887"
             ],
             [
              0.1111111111111111,
              "#46039f"
             ],
             [
              0.2222222222222222,
              "#7201a8"
             ],
             [
              0.3333333333333333,
              "#9c179e"
             ],
             [
              0.4444444444444444,
              "#bd3786"
             ],
             [
              0.5555555555555556,
              "#d8576b"
             ],
             [
              0.6666666666666666,
              "#ed7953"
             ],
             [
              0.7777777777777778,
              "#fb9f3a"
             ],
             [
              0.8888888888888888,
              "#fdca26"
             ],
             [
              1,
              "#f0f921"
             ]
            ],
            "type": "histogram2d"
           }
          ],
          "histogram2dcontour": [
           {
            "colorbar": {
             "outlinewidth": 0,
             "ticks": ""
            },
            "colorscale": [
             [
              0,
              "#0d0887"
             ],
             [
              0.1111111111111111,
              "#46039f"
             ],
             [
              0.2222222222222222,
              "#7201a8"
             ],
             [
              0.3333333333333333,
              "#9c179e"
             ],
             [
              0.4444444444444444,
              "#bd3786"
             ],
             [
              0.5555555555555556,
              "#d8576b"
             ],
             [
              0.6666666666666666,
              "#ed7953"
             ],
             [
              0.7777777777777778,
              "#fb9f3a"
             ],
             [
              0.8888888888888888,
              "#fdca26"
             ],
             [
              1,
              "#f0f921"
             ]
            ],
            "type": "histogram2dcontour"
           }
          ],
          "mesh3d": [
           {
            "colorbar": {
             "outlinewidth": 0,
             "ticks": ""
            },
            "type": "mesh3d"
           }
          ],
          "parcoords": [
           {
            "line": {
             "colorbar": {
              "outlinewidth": 0,
              "ticks": ""
             }
            },
            "type": "parcoords"
           }
          ],
          "pie": [
           {
            "automargin": true,
            "type": "pie"
           }
          ],
          "scatter": [
           {
            "fillpattern": {
             "fillmode": "overlay",
             "size": 10,
             "solidity": 0.2
            },
            "type": "scatter"
           }
          ],
          "scatter3d": [
           {
            "line": {
             "colorbar": {
              "outlinewidth": 0,
              "ticks": ""
             }
            },
            "marker": {
             "colorbar": {
              "outlinewidth": 0,
              "ticks": ""
             }
            },
            "type": "scatter3d"
           }
          ],
          "scattercarpet": [
           {
            "marker": {
             "colorbar": {
              "outlinewidth": 0,
              "ticks": ""
             }
            },
            "type": "scattercarpet"
           }
          ],
          "scattergeo": [
           {
            "marker": {
             "colorbar": {
              "outlinewidth": 0,
              "ticks": ""
             }
            },
            "type": "scattergeo"
           }
          ],
          "scattergl": [
           {
            "marker": {
             "colorbar": {
              "outlinewidth": 0,
              "ticks": ""
             }
            },
            "type": "scattergl"
           }
          ],
          "scattermapbox": [
           {
            "marker": {
             "colorbar": {
              "outlinewidth": 0,
              "ticks": ""
             }
            },
            "type": "scattermapbox"
           }
          ],
          "scatterpolar": [
           {
            "marker": {
             "colorbar": {
              "outlinewidth": 0,
              "ticks": ""
             }
            },
            "type": "scatterpolar"
           }
          ],
          "scatterpolargl": [
           {
            "marker": {
             "colorbar": {
              "outlinewidth": 0,
              "ticks": ""
             }
            },
            "type": "scatterpolargl"
           }
          ],
          "scatterternary": [
           {
            "marker": {
             "colorbar": {
              "outlinewidth": 0,
              "ticks": ""
             }
            },
            "type": "scatterternary"
           }
          ],
          "surface": [
           {
            "colorbar": {
             "outlinewidth": 0,
             "ticks": ""
            },
            "colorscale": [
             [
              0,
              "#0d0887"
             ],
             [
              0.1111111111111111,
              "#46039f"
             ],
             [
              0.2222222222222222,
              "#7201a8"
             ],
             [
              0.3333333333333333,
              "#9c179e"
             ],
             [
              0.4444444444444444,
              "#bd3786"
             ],
             [
              0.5555555555555556,
              "#d8576b"
             ],
             [
              0.6666666666666666,
              "#ed7953"
             ],
             [
              0.7777777777777778,
              "#fb9f3a"
             ],
             [
              0.8888888888888888,
              "#fdca26"
             ],
             [
              1,
              "#f0f921"
             ]
            ],
            "type": "surface"
           }
          ],
          "table": [
           {
            "cells": {
             "fill": {
              "color": "#EBF0F8"
             },
             "line": {
              "color": "white"
             }
            },
            "header": {
             "fill": {
              "color": "#C8D4E3"
             },
             "line": {
              "color": "white"
             }
            },
            "type": "table"
           }
          ]
         },
         "layout": {
          "annotationdefaults": {
           "arrowcolor": "#2a3f5f",
           "arrowhead": 0,
           "arrowwidth": 1
          },
          "autotypenumbers": "strict",
          "coloraxis": {
           "colorbar": {
            "outlinewidth": 0,
            "ticks": ""
           }
          },
          "colorscale": {
           "diverging": [
            [
             0,
             "#8e0152"
            ],
            [
             0.1,
             "#c51b7d"
            ],
            [
             0.2,
             "#de77ae"
            ],
            [
             0.3,
             "#f1b6da"
            ],
            [
             0.4,
             "#fde0ef"
            ],
            [
             0.5,
             "#f7f7f7"
            ],
            [
             0.6,
             "#e6f5d0"
            ],
            [
             0.7,
             "#b8e186"
            ],
            [
             0.8,
             "#7fbc41"
            ],
            [
             0.9,
             "#4d9221"
            ],
            [
             1,
             "#276419"
            ]
           ],
           "sequential": [
            [
             0,
             "#0d0887"
            ],
            [
             0.1111111111111111,
             "#46039f"
            ],
            [
             0.2222222222222222,
             "#7201a8"
            ],
            [
             0.3333333333333333,
             "#9c179e"
            ],
            [
             0.4444444444444444,
             "#bd3786"
            ],
            [
             0.5555555555555556,
             "#d8576b"
            ],
            [
             0.6666666666666666,
             "#ed7953"
            ],
            [
             0.7777777777777778,
             "#fb9f3a"
            ],
            [
             0.8888888888888888,
             "#fdca26"
            ],
            [
             1,
             "#f0f921"
            ]
           ],
           "sequentialminus": [
            [
             0,
             "#0d0887"
            ],
            [
             0.1111111111111111,
             "#46039f"
            ],
            [
             0.2222222222222222,
             "#7201a8"
            ],
            [
             0.3333333333333333,
             "#9c179e"
            ],
            [
             0.4444444444444444,
             "#bd3786"
            ],
            [
             0.5555555555555556,
             "#d8576b"
            ],
            [
             0.6666666666666666,
             "#ed7953"
            ],
            [
             0.7777777777777778,
             "#fb9f3a"
            ],
            [
             0.8888888888888888,
             "#fdca26"
            ],
            [
             1,
             "#f0f921"
            ]
           ]
          },
          "colorway": [
           "#636efa",
           "#EF553B",
           "#00cc96",
           "#ab63fa",
           "#FFA15A",
           "#19d3f3",
           "#FF6692",
           "#B6E880",
           "#FF97FF",
           "#FECB52"
          ],
          "font": {
           "color": "#2a3f5f"
          },
          "geo": {
           "bgcolor": "white",
           "lakecolor": "white",
           "landcolor": "#E5ECF6",
           "showlakes": true,
           "showland": true,
           "subunitcolor": "white"
          },
          "hoverlabel": {
           "align": "left"
          },
          "hovermode": "closest",
          "mapbox": {
           "style": "light"
          },
          "paper_bgcolor": "white",
          "plot_bgcolor": "#E5ECF6",
          "polar": {
           "angularaxis": {
            "gridcolor": "white",
            "linecolor": "white",
            "ticks": ""
           },
           "bgcolor": "#E5ECF6",
           "radialaxis": {
            "gridcolor": "white",
            "linecolor": "white",
            "ticks": ""
           }
          },
          "scene": {
           "xaxis": {
            "backgroundcolor": "#E5ECF6",
            "gridcolor": "white",
            "gridwidth": 2,
            "linecolor": "white",
            "showbackground": true,
            "ticks": "",
            "zerolinecolor": "white"
           },
           "yaxis": {
            "backgroundcolor": "#E5ECF6",
            "gridcolor": "white",
            "gridwidth": 2,
            "linecolor": "white",
            "showbackground": true,
            "ticks": "",
            "zerolinecolor": "white"
           },
           "zaxis": {
            "backgroundcolor": "#E5ECF6",
            "gridcolor": "white",
            "gridwidth": 2,
            "linecolor": "white",
            "showbackground": true,
            "ticks": "",
            "zerolinecolor": "white"
           }
          },
          "shapedefaults": {
           "line": {
            "color": "#2a3f5f"
           }
          },
          "ternary": {
           "aaxis": {
            "gridcolor": "white",
            "linecolor": "white",
            "ticks": ""
           },
           "baxis": {
            "gridcolor": "white",
            "linecolor": "white",
            "ticks": ""
           },
           "bgcolor": "#E5ECF6",
           "caxis": {
            "gridcolor": "white",
            "linecolor": "white",
            "ticks": ""
           }
          },
          "title": {
           "x": 0.05
          },
          "xaxis": {
           "automargin": true,
           "gridcolor": "white",
           "linecolor": "white",
           "ticks": "",
           "title": {
            "standoff": 15
           },
           "zerolinecolor": "white",
           "zerolinewidth": 2
          },
          "yaxis": {
           "automargin": true,
           "gridcolor": "white",
           "linecolor": "white",
           "ticks": "",
           "title": {
            "standoff": 15
           },
           "zerolinecolor": "white",
           "zerolinewidth": 2
          }
         }
        },
        "title": {
         "text": "Зависимость средней оценки от кол-ва слов в положительном отзыве"
        },
        "xaxis": {
         "anchor": "y",
         "domain": [
          0,
          1
         ],
         "title": {
          "text": "review_total_positive_word_counts"
         }
        },
        "yaxis": {
         "anchor": "x",
         "domain": [
          0,
          1
         ],
         "title": {
          "text": "reviewer_score"
         }
        }
       }
      }
     },
     "metadata": {},
     "output_type": "display_data"
    }
   ],
   "source": [
    "import plotly\n",
    "import plotly.express as px\n",
    "\n",
    "negative_scatter = px.scatter(data_frame = negative_data,\n",
    "                 x='review_total_negative_word_counts',\n",
    "                 y='reviewer_score',\n",
    "                 title='Зависимость средней оценки от кол-ва слов в отрицательном отзыве')\n",
    "\n",
    "positive_scatter = px.scatter(data_frame = positive_data,\n",
    "                 x='review_total_positive_word_counts',\n",
    "                 y='reviewer_score',\n",
    "                 title='Зависимость средней оценки от кол-ва слов в положительном отзыве')\n",
    "\n",
    "negative_scatter.show()\n",
    "positive_scatter.show()\n",
    "\n"
   ]
  },
  {
   "attachments": {},
   "cell_type": "markdown",
   "metadata": {},
   "source": [
    "**Выводы по графикам:** на графиках наблюдается 2 вида трендов. \n",
    "Отмечаем сильную линейную связь количества слов в повышением оценки и такую же для пары отрицательное количество слов/ухудшение оценки\n",
    "\n",
    "Анализировать будем отзывы в строках, где значение количества слов в отзыве больше 0"
   ]
  },
  {
   "cell_type": "code",
   "execution_count": 267,
   "metadata": {},
   "outputs": [
    {
     "name": "stderr",
     "output_type": "stream",
     "text": [
      "[nltk_data] Downloading package vader_lexicon to\n",
      "[nltk_data]     C:\\Users\\tanya\\AppData\\Roaming\\nltk_data...\n",
      "[nltk_data]   Package vader_lexicon is already up-to-date!\n"
     ]
    }
   ],
   "source": [
    "# 4.2 Проанализируем эмоциональный фон отзыва с помощью библиотеки nltk\n",
    "\n",
    "# импорт библиотек\n",
    "import nltk\n",
    "from nltk.sentiment.vader import SentimentIntensityAnalyzer\n",
    "import time\n",
    "nltk.downloader.download('vader_lexicon')\n",
    "\n",
    "sent_analyzer = SentimentIntensityAnalyzer()\n",
    "\n",
    "\n",
    "# метод polarity_scores возвращает словарь из 4х значений, будем использовать агрегатное значение compound и на его основе создадим новые признаки:\n",
    "\n",
    "\n",
    "hotels['compound_positive'] = hotels.apply(lambda x: sent_analyzer.polarity_scores(x['positive_review'])['compound'] if x['review_total_positive_word_counts'] > 0 else 0, axis=1)\n",
    "hotels['good_review_pos'] = hotels.apply(lambda x: sent_analyzer.polarity_scores(x['positive_review'])['pos'] if x['review_total_positive_word_counts'] > 0 else 0, axis=1)\n",
    "hotels['good_review_neg'] = hotels.apply(lambda x: sent_analyzer.polarity_scores(x['positive_review'])['neg'] if x['review_total_positive_word_counts'] > 0 else 0, axis=1)\n",
    "hotels['good_review_neu'] = hotels.apply(lambda x: sent_analyzer.polarity_scores(x['positive_review'])['neu'] if x['review_total_positive_word_counts'] > 0 else 0, axis=1)\n",
    "\n",
    "hotels['compound_negative'] = hotels.apply(lambda x: sent_analyzer.polarity_scores(x['negative_review'])['compound'] if x['review_total_negative_word_counts'] > 0 else 0, axis=1)\n",
    "hotels['bad_review_pos'] = hotels.apply(lambda x: sent_analyzer.polarity_scores(x['negative_review'])['pos'] if x['review_total_negative_word_counts'] > 0 else 0, axis=1)\n",
    "hotels['bad_review_neg'] = hotels.apply(lambda x: sent_analyzer.polarity_scores(x['negative_review'])['neg'] if x['review_total_negative_word_counts'] > 0 else 0, axis=1)\n",
    "hotels['bad_review_neu'] = hotels.apply(lambda x: sent_analyzer.polarity_scores(x['negative_review'])['neu'] if x['review_total_negative_word_counts'] > 0 else 0, axis=1)"
   ]
  },
  {
   "cell_type": "code",
   "execution_count": 201,
   "metadata": {},
   "outputs": [
    {
     "data": {
      "image/png": "[encoded data removed]",
      "text/plain": [
       "<Figure size 600x300 with 1 Axes>"
      ]
     },
     "metadata": {},
     "output_type": "display_data"
    }
   ],
   "source": [
    "# 5.1 Проанализируем зависимость оценки от месяца пребывания\n",
    "\n",
    "month_score = hotels[train_mask].groupby(hotels[train_mask]['review_date'].dt.month)['reviewer_score'].mean().reset_index() # проверим среднюю оценку от месяца\n",
    "\n",
    "fig, axes = plt.subplots(figsize=(6, 3))\n",
    "\n",
    "sns.barplot(month_score, \n",
    "            x=month_score['review_date'], \n",
    "            y=month_score['reviewer_score'])\n",
    "\n",
    "axes.set(ylim=(8, 8.6))\n",
    "axes.yaxis.set_ticks(np.arange(8, 8.7, 0.1));\n",
    "\n",
    "plt.title('Зависимость оценки от месяца отзыва')\n",
    "axes.yaxis.set_label_text('Средняя оценка пользователя')\n",
    "axes.xaxis.set_label_text('Месяц оценки')\n",
    "plt.grid()\n",
    "\n",
    "# в теории какое-то влияние наблюдается, закодируем месяц методом OHE"
   ]
  },
  {
   "cell_type": "code",
   "execution_count": 202,
   "metadata": {},
   "outputs": [],
   "source": [
    "# 5.2 Добавляем признаки месяца в датафрейм\n",
    "\n",
    "month_df = pd.get_dummies(hotels['review_date'].dt.month)\n",
    "keys = ['December', 'January', 'February', 'March', 'April', 'May', 'June', 'July', 'August', 'September', 'October', 'November']\n",
    "month_df.columns = keys # переименовываем столбцы для наглядности\n",
    "\n",
    "hotels = pd.concat([hotels, month_df], axis=1)"
   ]
  },
  {
   "attachments": {},
   "cell_type": "markdown",
   "metadata": {},
   "source": [
    "---"
   ]
  },
  {
   "cell_type": "code",
   "execution_count": 203,
   "metadata": {},
   "outputs": [
    {
     "data": {
      "text/plain": [
       "United Kingdom    262301\n",
       "Spain              60149\n",
       "France             59928\n",
       "Netherlands        57214\n",
       "Austria            38939\n",
       "Italy              37207\n",
       "Name: hotel_country, dtype: int64"
      ]
     },
     "metadata": {},
     "output_type": "display_data"
    },
    {
     "data": {
      "text/plain": [
       "London       262301\n",
       "Barcelona     60149\n",
       "Paris         59928\n",
       "Amsterdam     57214\n",
       "Vienna        38939\n",
       "Milan         37207\n",
       "Name: hotel_address, dtype: int64"
      ]
     },
     "metadata": {},
     "output_type": "display_data"
    }
   ],
   "source": [
    "# Примечание: Выделение города не дает повышения информативности, т.к. значения совпадают со значениям в аналогичном столбце со странами стран. Пропускаем этот шаг\n",
    "display(hotels['hotel_country'].value_counts())\n",
    "display(hotels['hotel_address'].apply(lambda x: x.split()[-5] if x.split()[-1] =='Kingdom' else x.split()[-2]).value_counts())"
   ]
  },
  {
   "cell_type": "code",
   "execution_count": null,
   "metadata": {},
   "outputs": [
    {
     "data": {
      "text/plain": [
       "Text(0.5, 0, 'Средняя оценка пользователя')"
      ]
     },
     "execution_count": 205,
     "metadata": {},
     "output_type": "execute_result"
    },
    {
     "data": {
      "image/png": "[encoded data removed]",
      "text/plain": [
       "<Figure size 2000x800 with 1 Axes>"
      ]
     },
     "metadata": {},
     "output_type": "display_data"
    }
   ],
   "source": [
    "# график ниже - scatterplot отношения средней оценки пользователя и доли незаполненных отзывыов. По графику не прослеживается никаких закономерностей или явного тренда, чтобы выдвинуть какую-либо гипотезу\n",
    "# признак additional_number_of_scoring в дальнейшем удалим, чтобы не засорять обучение модели лишними данными\n",
    "test = hotels[train_mask].groupby('hotel_name')[['total_number_of_reviews', 'additional_number_of_scoring', 'reviewer_score']].agg({'total_number_of_reviews': 'last', \n",
    "                                                                                                                        'additional_number_of_scoring' : 'last', \n",
    "                                                                                                                        'reviewer_score' : 'mean'})\n",
    "                                                                                                        \n",
    "test['percent'] = test['additional_number_of_scoring']/test['total_number_of_reviews']\n",
    "test[['reviewer_score', 'percent']]\n",
    "\n",
    "fig = plt.figure(figsize=(20,8)) \n",
    "axes = fig.add_axes([0,0,1,1]) \n",
    "\n",
    "axes.scatter(\n",
    "    x=test['percent'], \n",
    "    y=test['reviewer_score'], \n",
    "    s=25, \n",
    "    marker='x', \n",
    "    c='blue',\n",
    ")\n",
    "\n",
    "plt.title('График распределения средней оценки и доли оценки без текстового отзыва')\n",
    "axes.set_xlabel('Доля оценок без отзыва')\n",
    "axes.set_xlabel('Средняя оценка пользователя')"
   ]
  },
  {
   "attachments": {},
   "cell_type": "markdown",
   "metadata": {},
   "source": [
    "---\n",
    "# **Анализ корреляции и значимостиь**"
   ]
  },
  {
   "cell_type": "code",
   "execution_count": 317,
   "metadata": {},
   "outputs": [],
   "source": [
    "# Cоздаем списки категориальных и непрерывных переменных. \n",
    "\n",
    "num_cols = ['additional_number_of_scoring', 'review_total_negative_word_counts', 'total_number_of_reviews', 'review_total_positive_word_counts', 'total_number_of_reviews_reviewer_has_given', 'days_since_review', 'compound_positive', 'good_review_pos', 'good_review_neg', 'good_review_neu', 'compound_negative', 'bad_review_pos', 'bad_review_neg', 'bad_review_neu']\n",
    "cat_cols = ['average_score', 'lat', 'same_country', 'Leisure trip', 'Business trip', 'Solo traveler', 'Couple', 'Family with young children', 'Group', 'Stayed 1 night', 'Stayed 2 nights', 'Stayed 3 nights', 'Stayed 4 nights', 'Stayed 5 nights', 'Stayed 6 nights', 'Stayed 7 nights', 'hotel_country_Austria', 'hotel_country_France', 'hotel_country_Italy', 'hotel_country_Netherlands', 'hotel_country_Spain', 'hotel_country_United Kingdom', 'December', 'January', 'February', 'March', 'April', 'May', 'June', 'July', 'August', 'September', 'October', 'November']"
   ]
  },
  {
   "cell_type": "code",
   "execution_count": 236,
   "metadata": {},
   "outputs": [
    {
     "data": {
      "text/plain": [
       "Text(0.5, 1.0, 'Тепловая карта корреляции категориальных признаков')"
      ]
     },
     "execution_count": 236,
     "metadata": {},
     "output_type": "execute_result"
    },
    {
     "data": {
      "image/png": "[encoded data removed]",
      "text/plain": [
       "<Figure size 1500x1000 with 2 Axes>"
      ]
     },
     "metadata": {},
     "output_type": "display_data"
    }
   ],
   "source": [
    "# Проверяем на корреляцию категориальные признаки:\n",
    "\n",
    "fig, axes = plt.subplots(figsize=(15,10))\n",
    "\n",
    "sns.heatmap(X[cat_cols].corr(method='spearman'), annot=True, annot_kws={\"size\":8}, fmt=\".1f\") # строим тепловую карту\n",
    "plt.title('Тепловая карта корреляции категориальных признаков')"
   ]
  },
  {
   "attachments": {},
   "cell_type": "markdown",
   "metadata": {},
   "source": [
    "**Вывод по корреляции категориальных признаков**: по тепловой карте в категориальных признаках практически нет высоко скоррелированных, максимальный коэффициент 0.7 между признаком *same_country* И *hotel_country_United_Kingdom*, но логически они отвечают за разные показатели => удалять не будем"
   ]
  },
  {
   "cell_type": "code",
   "execution_count": 245,
   "metadata": {},
   "outputs": [
    {
     "data": {
      "text/plain": [
       "Text(0.5, 1.0, 'Тепловая карта корреляции неприрывных признаков')"
      ]
     },
     "execution_count": 245,
     "metadata": {},
     "output_type": "execute_result"
    },
    {
     "data": {
      "image/png": "[encoded data removed]",
      "text/plain": [
       "<Figure size 1500x1000 with 2 Axes>"
      ]
     },
     "metadata": {},
     "output_type": "display_data"
    }
   ],
   "source": [
    "# Проверяем на корреляцию неприрывные признаки:\n",
    "\n",
    "fig, axes = plt.subplots(figsize=(15,10))\n",
    "\n",
    "sns.heatmap(hotels[num_cols].corr(method='spearman'), annot=True, annot_kws={\"size\":8}, fmt=\".1f\") # строим тепловую карту\n",
    "plt.title('Тепловая карта корреляции неприрывных признаков')"
   ]
  },
  {
   "attachments": {},
   "cell_type": "markdown",
   "metadata": {},
   "source": [
    "**Вывод по корреляции непрерывных признаков**: по тепловой карте в непрерывных признаках скоррелированы *additional_number_of_scoring* и *total_number_of_reviews*. \n",
    "\n",
    "*additional_number_of_scoring* - кандидат на удаление, т.к. в дальнейшем и в тесте значимости anova он показывает низкое влияние на целевую переменную"
   ]
  },
  {
   "cell_type": "code",
   "execution_count": 326,
   "metadata": {},
   "outputs": [
    {
     "data": {
      "text/plain": [
       "<AxesSubplot: >"
      ]
     },
     "execution_count": 326,
     "metadata": {},
     "output_type": "execute_result"
    },
    {
     "data": {
      "image/png": "[encoded data removed]",
      "text/plain": [
       "<Figure size 640x480 with 1 Axes>"
      ]
     },
     "metadata": {},
     "output_type": "display_data"
    }
   ],
   "source": [
    "# тестируем значимость категориальных признаков\n",
    "\n",
    "from sklearn.feature_selection import chi2 # хи-квадрат\n",
    "\n",
    "y = y.astype('int')\n",
    "\n",
    "imp_cat = pd.Series(chi2(X[cat_cols], y)[0], index=cat_cols)\n",
    "imp_cat.sort_values(inplace = True)\n",
    "imp_cat.plot(kind = 'barh')"
   ]
  },
  {
   "attachments": {},
   "cell_type": "markdown",
   "metadata": {},
   "source": [
    "**Вывод по значимости категориальных признаков**: Признаки July, May, April - оказывают минимальное влияние. Возможно, стоит их удалить"
   ]
  },
  {
   "cell_type": "code",
   "execution_count": 321,
   "metadata": {},
   "outputs": [
    {
     "data": {
      "text/plain": [
       "<AxesSubplot: >"
      ]
     },
     "execution_count": 321,
     "metadata": {},
     "output_type": "execute_result"
    },
    {
     "data": {
      "image/png": "[encoded data removed]",
      "text/plain": [
       "<Figure size 640x480 with 1 Axes>"
      ]
     },
     "metadata": {},
     "output_type": "display_data"
    }
   ],
   "source": [
    "# тестируем значимость непрерывных признаков\n",
    "\n",
    "from sklearn.feature_selection import f_classif # anova\n",
    "\n",
    "imp_num = pd.Series(f_classif(X[num_cols], y)[0], index = num_cols)\n",
    "imp_num.sort_values(inplace = True)\n",
    "imp_num.plot(kind = 'barh')"
   ]
  },
  {
   "attachments": {},
   "cell_type": "markdown",
   "metadata": {},
   "source": [
    "**Вывод по значимости непрерывных признаков**: Признаки *days_since_review* оказывает очень низкое влияние, а additional_number_of_scoring имеет высокий к корреляции с total_number_of_reviews. Возможно, стоит удалить эти 2 признака"
   ]
  },
  {
   "attachments": {},
   "cell_type": "markdown",
   "metadata": {},
   "source": [
    "---\n",
    "\n",
    "# **Проектирование модели**\n"
   ]
  },
  {
   "cell_type": "code",
   "execution_count": 379,
   "metadata": {},
   "outputs": [],
   "source": [
    "from sklearn.ensemble import RandomForestRegressor # инструмент для создания и обучения модели  \n",
    "from sklearn import metrics # инструменты для оценки точности модели  \n",
    "\n",
    "# Создаём объект модели\n",
    "regr = RandomForestRegressor(n_estimators=100)\n",
    "\n",
    "# удаляем столбцы с типом object и datetime\n",
    "drop_cols = hotels[train_mask].select_dtypes(['object', 'datetime64']).columns\n",
    "hotels_cl = hotels[train_mask].drop(drop_cols, axis=1) \n",
    "\n",
    "# отделяем целевой показатель от остальной выборки\n",
    "X = hotels_cl.drop(['reviewer_score'], axis = 1)  \n",
    "y = hotels_cl['reviewer_score']\n",
    "\n",
    "# разделяем выборку на тренировочную и тестовую с фиксированным сидом методом train_test_split\n",
    "from sklearn.model_selection import train_test_split  \n",
    "\n",
    "X_train, X_test, y_train, y_test = train_test_split(X, y, test_size=0.25, random_state=42)"
   ]
  },
  {
   "attachments": {},
   "cell_type": "markdown",
   "metadata": {},
   "source": [
    "## Ver.1 - без изменений"
   ]
  },
  {
   "cell_type": "code",
   "execution_count": 240,
   "metadata": {},
   "outputs": [
    {
     "data": {
      "text/html": [
       "<style>#sk-container-id-8 {color: black;background-color: white;}#sk-container-id-8 pre{padding: 0;}#sk-container-id-8 div.sk-toggleable {background-color: white;}#sk-container-id-8 label.sk-toggleable__label {cursor: pointer;display: block;width: 100%;margin-bottom: 0;padding: 0.3em;box-sizing: border-box;text-align: center;}#sk-container-id-8 label.sk-toggleable__label-arrow:before {content: \"▸\";float: left;margin-right: 0.25em;color: #696969;}#sk-container-id-8 label.sk-toggleable__label-arrow:hover:before {color: black;}#sk-container-id-8 div.sk-estimator:hover label.sk-toggleable__label-arrow:before {color: black;}#sk-container-id-8 div.sk-toggleable__content {max-height: 0;max-width: 0;overflow: hidden;text-align: left;background-color: #f0f8ff;}#sk-container-id-8 div.sk-toggleable__content pre {margin: 0.2em;color: black;border-radius: 0.25em;background-color: #f0f8ff;}#sk-container-id-8 input.sk-toggleable__control:checked~div.sk-toggleable__content {max-height: 200px;max-width: 100%;overflow: auto;}#sk-container-id-8 input.sk-toggleable__control:checked~label.sk-toggleable__label-arrow:before {content: \"▾\";}#sk-container-id-8 div.sk-estimator input.sk-toggleable__control:checked~label.sk-toggleable__label {background-color: #d4ebff;}#sk-container-id-8 div.sk-label input.sk-toggleable__control:checked~label.sk-toggleable__label {background-color: #d4ebff;}#sk-container-id-8 input.sk-hidden--visually {border: 0;clip: rect(1px 1px 1px 1px);clip: rect(1px, 1px, 1px, 1px);height: 1px;margin: -1px;overflow: hidden;padding: 0;position: absolute;width: 1px;}#sk-container-id-8 div.sk-estimator {font-family: monospace;background-color: #f0f8ff;border: 1px dotted black;border-radius: 0.25em;box-sizing: border-box;margin-bottom: 0.5em;}#sk-container-id-8 div.sk-estimator:hover {background-color: #d4ebff;}#sk-container-id-8 div.sk-parallel-item::after {content: \"\";width: 100%;border-bottom: 1px solid gray;flex-grow: 1;}#sk-container-id-8 div.sk-label:hover label.sk-toggleable__label {background-color: #d4ebff;}#sk-container-id-8 div.sk-serial::before {content: \"\";position: absolute;border-left: 1px solid gray;box-sizing: border-box;top: 0;bottom: 0;left: 50%;z-index: 0;}#sk-container-id-8 div.sk-serial {display: flex;flex-direction: column;align-items: center;background-color: white;padding-right: 0.2em;padding-left: 0.2em;position: relative;}#sk-container-id-8 div.sk-item {position: relative;z-index: 1;}#sk-container-id-8 div.sk-parallel {display: flex;align-items: stretch;justify-content: center;background-color: white;position: relative;}#sk-container-id-8 div.sk-item::before, #sk-container-id-8 div.sk-parallel-item::before {content: \"\";position: absolute;border-left: 1px solid gray;box-sizing: border-box;top: 0;bottom: 0;left: 50%;z-index: -1;}#sk-container-id-8 div.sk-parallel-item {display: flex;flex-direction: column;z-index: 1;position: relative;background-color: white;}#sk-container-id-8 div.sk-parallel-item:first-child::after {align-self: flex-end;width: 50%;}#sk-container-id-8 div.sk-parallel-item:last-child::after {align-self: flex-start;width: 50%;}#sk-container-id-8 div.sk-parallel-item:only-child::after {width: 0;}#sk-container-id-8 div.sk-dashed-wrapped {border: 1px dashed gray;margin: 0 0.4em 0.5em 0.4em;box-sizing: border-box;padding-bottom: 0.4em;background-color: white;}#sk-container-id-8 div.sk-label label {font-family: monospace;font-weight: bold;display: inline-block;line-height: 1.2em;}#sk-container-id-8 div.sk-label-container {text-align: center;}#sk-container-id-8 div.sk-container {/* jupyter's `normalize.less` sets `[hidden] { display: none; }` but bootstrap.min.css set `[hidden] { display: none !important; }` so we also need the `!important` here to be able to override the default hidden behavior on the sphinx rendered scikit-learn.org. See: https://github.com/scikit-learn/scikit-learn/issues/21755 */display: inline-block !important;position: relative;}#sk-container-id-8 div.sk-text-repr-fallback {display: none;}</style><div id=\"sk-container-id-8\" class=\"sk-top-container\"><div class=\"sk-text-repr-fallback\"><pre>RandomForestRegressor()</pre><b>In a Jupyter environment, please rerun this cell to show the HTML representation or trust the notebook. <br />On GitHub, the HTML representation is unable to render, please try loading this page with nbviewer.org.</b></div><div class=\"sk-container\" hidden><div class=\"sk-item\"><div class=\"sk-estimator sk-toggleable\"><input class=\"sk-toggleable__control sk-hidden--visually\" id=\"sk-estimator-id-8\" type=\"checkbox\" checked><label for=\"sk-estimator-id-8\" class=\"sk-toggleable__label sk-toggleable__label-arrow\">RandomForestRegressor</label><div class=\"sk-toggleable__content\"><pre>RandomForestRegressor()</pre></div></div></div></div></div>"
      ],
      "text/plain": [
       "RandomForestRegressor()"
      ]
     },
     "execution_count": 240,
     "metadata": {},
     "output_type": "execute_result"
    }
   ],
   "source": [
    "# Для первого обучения не будем очищать модель ни от каких признаков\n",
    "# Обучаем модель на тестовом наборе данных  \n",
    "\n",
    "regr.fit(X_train, y_train) "
   ]
  },
  {
   "cell_type": "code",
   "execution_count": 241,
   "metadata": {},
   "outputs": [],
   "source": [
    "# предсказываем целевую переменную\n",
    "y_pred = regr.predict(X_test)"
   ]
  },
  {
   "cell_type": "code",
   "execution_count": 242,
   "metadata": {},
   "outputs": [
    {
     "name": "stdout",
     "output_type": "stream",
     "text": [
      "MAPE: 0.12572813658788595\n"
     ]
    }
   ],
   "source": [
    "# оцениваем среднее абсолютное отклонение\n",
    "print('MAPE:', metrics.mean_absolute_percentage_error(y_test, y_pred)) "
   ]
  },
  {
   "attachments": {},
   "cell_type": "markdown",
   "metadata": {},
   "source": [
    "---"
   ]
  },
  {
   "attachments": {},
   "cell_type": "markdown",
   "metadata": {},
   "source": [
    "## Ver.2\n",
    "Опытным путем установил, что при удалении на первый взгляд малозначимых признаков точность модели все равно падает.\n",
    "\n",
    "Перебором вышел на то, что сочетание удаления признака additional_number_of_scoring + стандартизация 2х признаков с количеством слов в отзывах дает маржинально лучший результат\n",
    "\n",
    "На этом этапе вряд ли получится добиться ощутимо бОльшей точности без дополнительного преобразования исходных признаков и/или создания новых"
   ]
  },
  {
   "cell_type": "code",
   "execution_count": 381,
   "metadata": {},
   "outputs": [],
   "source": [
    "# удалим только столбец additional_number_of_scoring \n",
    "\n",
    "del_cols = ['additional_number_of_scoring']"
   ]
  },
  {
   "cell_type": "code",
   "execution_count": 380,
   "metadata": {},
   "outputs": [],
   "source": [
    "# импортируем стандартизатор\n",
    "from sklearn.preprocessing import StandardScaler\n",
    "ss = StandardScaler()\n",
    "\n",
    "# удаляем ненужные признаки\n",
    "hotels_cl_2 = hotels_cl.drop(del_cols, axis=1)\n",
    "\n",
    "# стандартизация признаков\n",
    "hotels_cl_2[['review_total_negative_word_counts', 'review_total_positive_word_counts']] = ss.fit_transform(hotels_cl_2[['review_total_negative_word_counts', 'review_total_positive_word_counts']])\n",
    "\n",
    "X = hotels_cl_2.drop(['reviewer_score'], axis = 1)  \n",
    "y = hotels_cl_2['reviewer_score']\n",
    "\n",
    "from sklearn.model_selection import train_test_split  \n",
    "\n",
    "X_train, X_test, y_train, y_test = train_test_split(X, y, test_size=0.25, random_state=42)"
   ]
  },
  {
   "cell_type": "code",
   "execution_count": 387,
   "metadata": {},
   "outputs": [
    {
     "data": {
      "text/html": [
       "<style>#sk-container-id-28 {color: black;background-color: white;}#sk-container-id-28 pre{padding: 0;}#sk-container-id-28 div.sk-toggleable {background-color: white;}#sk-container-id-28 label.sk-toggleable__label {cursor: pointer;display: block;width: 100%;margin-bottom: 0;padding: 0.3em;box-sizing: border-box;text-align: center;}#sk-container-id-28 label.sk-toggleable__label-arrow:before {content: \"▸\";float: left;margin-right: 0.25em;color: #696969;}#sk-container-id-28 label.sk-toggleable__label-arrow:hover:before {color: black;}#sk-container-id-28 div.sk-estimator:hover label.sk-toggleable__label-arrow:before {color: black;}#sk-container-id-28 div.sk-toggleable__content {max-height: 0;max-width: 0;overflow: hidden;text-align: left;background-color: #f0f8ff;}#sk-container-id-28 div.sk-toggleable__content pre {margin: 0.2em;color: black;border-radius: 0.25em;background-color: #f0f8ff;}#sk-container-id-28 input.sk-toggleable__control:checked~div.sk-toggleable__content {max-height: 200px;max-width: 100%;overflow: auto;}#sk-container-id-28 input.sk-toggleable__control:checked~label.sk-toggleable__label-arrow:before {content: \"▾\";}#sk-container-id-28 div.sk-estimator input.sk-toggleable__control:checked~label.sk-toggleable__label {background-color: #d4ebff;}#sk-container-id-28 div.sk-label input.sk-toggleable__control:checked~label.sk-toggleable__label {background-color: #d4ebff;}#sk-container-id-28 input.sk-hidden--visually {border: 0;clip: rect(1px 1px 1px 1px);clip: rect(1px, 1px, 1px, 1px);height: 1px;margin: -1px;overflow: hidden;padding: 0;position: absolute;width: 1px;}#sk-container-id-28 div.sk-estimator {font-family: monospace;background-color: #f0f8ff;border: 1px dotted black;border-radius: 0.25em;box-sizing: border-box;margin-bottom: 0.5em;}#sk-container-id-28 div.sk-estimator:hover {background-color: #d4ebff;}#sk-container-id-28 div.sk-parallel-item::after {content: \"\";width: 100%;border-bottom: 1px solid gray;flex-grow: 1;}#sk-container-id-28 div.sk-label:hover label.sk-toggleable__label {background-color: #d4ebff;}#sk-container-id-28 div.sk-serial::before {content: \"\";position: absolute;border-left: 1px solid gray;box-sizing: border-box;top: 0;bottom: 0;left: 50%;z-index: 0;}#sk-container-id-28 div.sk-serial {display: flex;flex-direction: column;align-items: center;background-color: white;padding-right: 0.2em;padding-left: 0.2em;position: relative;}#sk-container-id-28 div.sk-item {position: relative;z-index: 1;}#sk-container-id-28 div.sk-parallel {display: flex;align-items: stretch;justify-content: center;background-color: white;position: relative;}#sk-container-id-28 div.sk-item::before, #sk-container-id-28 div.sk-parallel-item::before {content: \"\";position: absolute;border-left: 1px solid gray;box-sizing: border-box;top: 0;bottom: 0;left: 50%;z-index: -1;}#sk-container-id-28 div.sk-parallel-item {display: flex;flex-direction: column;z-index: 1;position: relative;background-color: white;}#sk-container-id-28 div.sk-parallel-item:first-child::after {align-self: flex-end;width: 50%;}#sk-container-id-28 div.sk-parallel-item:last-child::after {align-self: flex-start;width: 50%;}#sk-container-id-28 div.sk-parallel-item:only-child::after {width: 0;}#sk-container-id-28 div.sk-dashed-wrapped {border: 1px dashed gray;margin: 0 0.4em 0.5em 0.4em;box-sizing: border-box;padding-bottom: 0.4em;background-color: white;}#sk-container-id-28 div.sk-label label {font-family: monospace;font-weight: bold;display: inline-block;line-height: 1.2em;}#sk-container-id-28 div.sk-label-container {text-align: center;}#sk-container-id-28 div.sk-container {/* jupyter's `normalize.less` sets `[hidden] { display: none; }` but bootstrap.min.css set `[hidden] { display: none !important; }` so we also need the `!important` here to be able to override the default hidden behavior on the sphinx rendered scikit-learn.org. See: https://github.com/scikit-learn/scikit-learn/issues/21755 */display: inline-block !important;position: relative;}#sk-container-id-28 div.sk-text-repr-fallback {display: none;}</style><div id=\"sk-container-id-28\" class=\"sk-top-container\"><div class=\"sk-text-repr-fallback\"><pre>RandomForestRegressor()</pre><b>In a Jupyter environment, please rerun this cell to show the HTML representation or trust the notebook. <br />On GitHub, the HTML representation is unable to render, please try loading this page with nbviewer.org.</b></div><div class=\"sk-container\" hidden><div class=\"sk-item\"><div class=\"sk-estimator sk-toggleable\"><input class=\"sk-toggleable__control sk-hidden--visually\" id=\"sk-estimator-id-28\" type=\"checkbox\" checked><label for=\"sk-estimator-id-28\" class=\"sk-toggleable__label sk-toggleable__label-arrow\">RandomForestRegressor</label><div class=\"sk-toggleable__content\"><pre>RandomForestRegressor()</pre></div></div></div></div></div>"
      ],
      "text/plain": [
       "RandomForestRegressor()"
      ]
     },
     "execution_count": 387,
     "metadata": {},
     "output_type": "execute_result"
    }
   ],
   "source": [
    "# Заново обучаем модель на измененных входных данных v.2\n",
    "\n",
    "regr.fit(X_train, y_train) "
   ]
  },
  {
   "cell_type": "code",
   "execution_count": 388,
   "metadata": {},
   "outputs": [
    {
     "name": "stdout",
     "output_type": "stream",
     "text": [
      "MAPE: 0.12518647852771653\n"
     ]
    }
   ],
   "source": [
    "# предсказываем на переобученной модели\n",
    "\n",
    "y_pred = regr.predict(X_test)\n",
    "\n",
    "# оцениваем MAPE измененной модели v.2\n",
    "print('MAPE:', metrics.mean_absolute_percentage_error(y_test, y_pred)) "
   ]
  },
  {
   "cell_type": "code",
   "execution_count": 386,
   "metadata": {},
   "outputs": [],
   "source": [
    "drop_cols = hotels[test_mask].select_dtypes(['object', 'datetime64']).columns\n",
    "test_data = hotels[test_mask].drop(drop_cols, axis=1) \n",
    "test_data = test_data.drop(del_cols, axis=1)\n",
    "\n",
    "test_data[['review_total_negative_word_counts', 'review_total_positive_word_counts']] = ss.fit_transform(test_data[['review_total_negative_word_counts', 'review_total_positive_word_counts']])\n",
    "test_data = test_data.drop(['reviewer_score'], axis = 1)  \n",
    "\n",
    "submit_data['reviewer_score'] = regr.predict(test_data)\n",
    "submit_data.to_csv('data/submit_14.csv', index=False)"
   ]
  },
  {
   "attachments": {},
   "cell_type": "markdown",
   "metadata": {},
   "source": [
    "---"
   ]
  },
  {
   "attachments": {},
   "cell_type": "markdown",
   "metadata": {},
   "source": [
    "# **Создаем файл submission**"
   ]
  },
  {
   "cell_type": "code",
   "execution_count": 313,
   "metadata": {},
   "outputs": [
    {
     "data": {
      "text/html": [
       "<style>#sk-container-id-16 {color: black;background-color: white;}#sk-container-id-16 pre{padding: 0;}#sk-container-id-16 div.sk-toggleable {background-color: white;}#sk-container-id-16 label.sk-toggleable__label {cursor: pointer;display: block;width: 100%;margin-bottom: 0;padding: 0.3em;box-sizing: border-box;text-align: center;}#sk-container-id-16 label.sk-toggleable__label-arrow:before {content: \"▸\";float: left;margin-right: 0.25em;color: #696969;}#sk-container-id-16 label.sk-toggleable__label-arrow:hover:before {color: black;}#sk-container-id-16 div.sk-estimator:hover label.sk-toggleable__label-arrow:before {color: black;}#sk-container-id-16 div.sk-toggleable__content {max-height: 0;max-width: 0;overflow: hidden;text-align: left;background-color: #f0f8ff;}#sk-container-id-16 div.sk-toggleable__content pre {margin: 0.2em;color: black;border-radius: 0.25em;background-color: #f0f8ff;}#sk-container-id-16 input.sk-toggleable__control:checked~div.sk-toggleable__content {max-height: 200px;max-width: 100%;overflow: auto;}#sk-container-id-16 input.sk-toggleable__control:checked~label.sk-toggleable__label-arrow:before {content: \"▾\";}#sk-container-id-16 div.sk-estimator input.sk-toggleable__control:checked~label.sk-toggleable__label {background-color: #d4ebff;}#sk-container-id-16 div.sk-label input.sk-toggleable__control:checked~label.sk-toggleable__label {background-color: #d4ebff;}#sk-container-id-16 input.sk-hidden--visually {border: 0;clip: rect(1px 1px 1px 1px);clip: rect(1px, 1px, 1px, 1px);height: 1px;margin: -1px;overflow: hidden;padding: 0;position: absolute;width: 1px;}#sk-container-id-16 div.sk-estimator {font-family: monospace;background-color: #f0f8ff;border: 1px dotted black;border-radius: 0.25em;box-sizing: border-box;margin-bottom: 0.5em;}#sk-container-id-16 div.sk-estimator:hover {background-color: #d4ebff;}#sk-container-id-16 div.sk-parallel-item::after {content: \"\";width: 100%;border-bottom: 1px solid gray;flex-grow: 1;}#sk-container-id-16 div.sk-label:hover label.sk-toggleable__label {background-color: #d4ebff;}#sk-container-id-16 div.sk-serial::before {content: \"\";position: absolute;border-left: 1px solid gray;box-sizing: border-box;top: 0;bottom: 0;left: 50%;z-index: 0;}#sk-container-id-16 div.sk-serial {display: flex;flex-direction: column;align-items: center;background-color: white;padding-right: 0.2em;padding-left: 0.2em;position: relative;}#sk-container-id-16 div.sk-item {position: relative;z-index: 1;}#sk-container-id-16 div.sk-parallel {display: flex;align-items: stretch;justify-content: center;background-color: white;position: relative;}#sk-container-id-16 div.sk-item::before, #sk-container-id-16 div.sk-parallel-item::before {content: \"\";position: absolute;border-left: 1px solid gray;box-sizing: border-box;top: 0;bottom: 0;left: 50%;z-index: -1;}#sk-container-id-16 div.sk-parallel-item {display: flex;flex-direction: column;z-index: 1;position: relative;background-color: white;}#sk-container-id-16 div.sk-parallel-item:first-child::after {align-self: flex-end;width: 50%;}#sk-container-id-16 div.sk-parallel-item:last-child::after {align-self: flex-start;width: 50%;}#sk-container-id-16 div.sk-parallel-item:only-child::after {width: 0;}#sk-container-id-16 div.sk-dashed-wrapped {border: 1px dashed gray;margin: 0 0.4em 0.5em 0.4em;box-sizing: border-box;padding-bottom: 0.4em;background-color: white;}#sk-container-id-16 div.sk-label label {font-family: monospace;font-weight: bold;display: inline-block;line-height: 1.2em;}#sk-container-id-16 div.sk-label-container {text-align: center;}#sk-container-id-16 div.sk-container {/* jupyter's `normalize.less` sets `[hidden] { display: none; }` but bootstrap.min.css set `[hidden] { display: none !important; }` so we also need the `!important` here to be able to override the default hidden behavior on the sphinx rendered scikit-learn.org. See: https://github.com/scikit-learn/scikit-learn/issues/21755 */display: inline-block !important;position: relative;}#sk-container-id-16 div.sk-text-repr-fallback {display: none;}</style><div id=\"sk-container-id-16\" class=\"sk-top-container\"><div class=\"sk-text-repr-fallback\"><pre>RandomForestRegressor()</pre><b>In a Jupyter environment, please rerun this cell to show the HTML representation or trust the notebook. <br />On GitHub, the HTML representation is unable to render, please try loading this page with nbviewer.org.</b></div><div class=\"sk-container\" hidden><div class=\"sk-item\"><div class=\"sk-estimator sk-toggleable\"><input class=\"sk-toggleable__control sk-hidden--visually\" id=\"sk-estimator-id-16\" type=\"checkbox\" checked><label for=\"sk-estimator-id-16\" class=\"sk-toggleable__label sk-toggleable__label-arrow\">RandomForestRegressor</label><div class=\"sk-toggleable__content\"><pre>RandomForestRegressor()</pre></div></div></div></div></div>"
      ],
      "text/plain": [
       "RandomForestRegressor()"
      ]
     },
     "execution_count": 313,
     "metadata": {},
     "output_type": "execute_result"
    }
   ],
   "source": [
    "# дополнительно переобучим модель на всем датасете без разделения на train/test\n",
    "\n",
    "regr.fit(X, y) "
   ]
  },
  {
   "cell_type": "code",
   "execution_count": 315,
   "metadata": {},
   "outputs": [],
   "source": [
    "# приводим контрольный датасет к параметрам датасета, на котором проводилось обучение\n",
    "\n",
    "drop_cols = hotels[test_mask].select_dtypes(['object', 'datetime64']).columns # удаляем не числовые признаки\n",
    "test_data = hotels[test_mask].drop(drop_cols, axis=1) \n",
    "\n",
    "# удаляем additional_number_of_scoring и стандартизируем признаки с кол-вом слов + удаляем столбец с 0 оценками\n",
    "test_data = test_data.drop(del_cols, axis=1) \n",
    "test_data[['review_total_negative_word_counts', 'review_total_positive_word_counts']] = ss.fit_transform(test_data[['review_total_negative_word_counts', 'review_total_positive_word_counts']])\n",
    "test_data = test_data.drop(['reviewer_score'], axis = 1)  \n",
    "\n",
    "# сохраняем результат и записываем в файл\n",
    "submit_data['reviewer_score'] = regr.predict(test_data)\n",
    "submit_data.to_csv('data/submit_14.csv', index=False)"
   ]
  }
 ],
 "metadata": {
  "kernelspec": {
   "display_name": "Python 3",
   "language": "python",
   "name": "python3"
  },
  "language_info": {
   "codemirror_mode": {
    "name": "ipython",
    "version": 3
   },
   "file_extension": ".py",
   "mimetype": "text/x-python",
   "name": "python",
   "nbconvert_exporter": "python",
   "pygments_lexer": "ipython3",
   "version": "3.9.10"
  },
  "orig_nbformat": 4
 },
 "nbformat": 4,
 "nbformat_minor": 2
}
