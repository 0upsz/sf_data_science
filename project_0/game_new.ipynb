{
 "cells": [
  {
   "cell_type": "code",
   "execution_count": 56,
   "metadata": {},
   "outputs": [],
   "source": [
    "def random_predict(number:int=1) -> int:\n",
    "    \"\"\"Угадываем число от 1 до 100 за наименьшее количество попыток\n",
    "\n",
    "    Args:\n",
    "        number (int, optional): Загаданное число. Defaults to 1.\n",
    "\n",
    "    Returns:\n",
    "        int: Число попыток \n",
    "    \"\"\"\n",
    "    \n",
    "    count = 0 #количество попыток\n",
    "    number_for_operations = 50      # число для увеличения или уменьшения диапазона\n",
    "    middle = 50 # число, которое ограничивает диапазон угалываемых чисел\n",
    "    \n",
    "    while True:\n",
    "        count+=1\n",
    "       \n",
    "        if number > middle: \n",
    "            number_for_operations = number_for_operations // 2\n",
    "            if number_for_operations == 0:\n",
    "                number_for_operations = 1 \n",
    "            middle = number_for_operations + middle   \n",
    "            \n",
    "        elif number < middle:  \n",
    "            number_for_operations = number_for_operations // 2  \n",
    "            if number_for_operations == 0:\n",
    "                number_for_operations = 1 \n",
    "            middle = middle - number_for_operations   \n",
    "        else:\n",
    "            print(count)\n",
    "            break\n",
    "        \n",
    "    return count"
   ]
  },
  {
   "cell_type": "code",
   "execution_count": 57,
   "metadata": {},
   "outputs": [
    {
     "name": "stdout",
     "output_type": "stream",
     "text": [
      "9\n"
     ]
    },
    {
     "data": {
      "text/plain": [
       "9"
      ]
     },
     "execution_count": 57,
     "metadata": {},
     "output_type": "execute_result"
    }
   ],
   "source": [
    "random_predict(100)"
   ]
  },
  {
   "cell_type": "code",
   "execution_count": null,
   "metadata": {},
   "outputs": [],
   "source": []
  },
  {
   "cell_type": "code",
   "execution_count": null,
   "metadata": {},
   "outputs": [],
   "source": []
  }
 ],
 "metadata": {
  "kernelspec": {
   "display_name": "Python 3.9.10 64-bit",
   "language": "python",
   "name": "python3"
  },
  "language_info": {
   "codemirror_mode": {
    "name": "ipython",
    "version": 3
   },
   "file_extension": ".py",
   "mimetype": "text/x-python",
   "name": "python",
   "nbconvert_exporter": "python",
   "pygments_lexer": "ipython3",
   "version": "3.9.10"
  },
  "orig_nbformat": 4,
  "vscode": {
   "interpreter": {
    "hash": "3e20e8f24bd79d047f2db5bfb3f476e2e22892f53c68e86beee9ba154507af63"
   }
  }
 },
 "nbformat": 4,
 "nbformat_minor": 2
}
